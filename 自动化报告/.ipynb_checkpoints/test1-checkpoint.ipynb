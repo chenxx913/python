{
 "cells": [
  {
   "cell_type": "code",
   "execution_count": 2,
   "id": "29a7c433",
   "metadata": {},
   "outputs": [],
   "source": [
    "import tempfile\n",
    "from reportlab.lib import colors\n",
    "from reportlab.pdfbase import pdfmetrics\n",
    "from reportlab.pdfbase.pdfmetrics import registerFontFamily\n",
    "from reportlab.pdfbase.ttfonts import TTFont\n",
    "from reportlab.platypus import Paragraph, SimpleDocTemplate, Table, LongTable, Image, Spacer\n",
    "from reportlab.lib.styles import getSampleStyleSheet, ParagraphStyle\n",
    "from reportlab.lib.enums import TA_JUSTIFY\n",
    "from io import BytesIO\n",
    "from reportlab.lib.units import cm"
   ]
  },
  {
   "cell_type": "code",
   "execution_count": 3,
   "id": "4c56112e",
   "metadata": {},
   "outputs": [],
   "source": [
    "import json"
   ]
  },
  {
   "cell_type": "code",
   "execution_count": 4,
   "id": "d78447be",
   "metadata": {},
   "outputs": [],
   "source": [
    "pdfmetrics.registerFont(TTFont('SimSun', 'SimSun.ttf'))  # 默认不支持中文，需要注册字体\n",
    "pdfmetrics.registerFont(TTFont('SimSunBd', 'SimSun-bold.ttf'))"
   ]
  },
  {
   "cell_type": "code",
   "execution_count": 5,
   "id": "ae917222",
   "metadata": {},
   "outputs": [],
   "source": [
    "personal_information = open(r'C:\\Users\\chen\\Desktop\\data.json',encoding='utf-8')\n",
    "\n",
    "information_table = personal_information.read()\n",
    "data = json.loads(information_table)\n",
    "\n",
    "personal_information.close\n",
    "\n",
    "story = []"
   ]
  },
  {
   "cell_type": "code",
   "execution_count": 6,
   "id": "4c2ba355",
   "metadata": {},
   "outputs": [],
   "source": [
    "table_data1 = [[data[\"dataDict\"][\"code\"][\"zhName\"], data[\"dataDict\"][\"code\"][\"value\"], data[\"dataDict\"][\"name\"][\"zhName\"],data[\"dataDict\"][\"name\"][\"value\"]],\n",
    "            [data[\"dataDict\"][\"sex\"][\"zhName\"],data[\"dataDict\"][\"sex\"][\"value\"], data[\"dataDict\"][\"age\"][\"zhName\"], data[\"dataDict\"][\"age\"][\"value\"]],\n",
    "            [data[\"dataDict\"][\"sample_source\"][\"zhName\"], data[\"dataDict\"][\"sample_source\"][\"value\"],data[\"dataDict\"][\"sample_type\"][\"zhName\"], data[\"dataDict\"][\"sample_type\"][\"value\"]],\n",
    "            [data[\"dataDict\"][\"test_method\"][\"zhName\"], data[\"dataDict\"][\"test_method\"][\"value\"], data[\"dataDict\"][\"test_organization\"][\"zhName\"],data[\"dataDict\"][\"test_organization\"][\"value\"]],\n",
    "            [data[\"dataDict\"][\"time\"][\"zhName\"],data[\"dataDict\"][\"time\"][\"value\"] , '', ''],\n",
    "            ]"
   ]
  },
  {
   "cell_type": "code",
   "execution_count": 7,
   "id": "8e351c7e",
   "metadata": {},
   "outputs": [
    {
     "data": {
      "text/plain": [
       "[['编号:', 'xxxxxxx', '姓名:', '小红'],\n",
       " ['性别:', '女', '年龄:', '20'],\n",
       " ['样本来源:', 'XX省XX市XX区XX街道XX社区居委会', '样本类型:', '粪便'],\n",
       " ['检测方法:', '下一代高通量测序技术 \\n（Illumina）', '检测机构:', 'XX医院检验医学部'],\n",
       " ['检测时间:2022.2', '2022.2', '', '']]"
      ]
     },
     "execution_count": 7,
     "metadata": {},
     "output_type": "execute_result"
    }
   ],
   "source": [
    "table_data1"
   ]
  },
  {
   "cell_type": "code",
   "execution_count": 8,
   "id": "f5ca4e34",
   "metadata": {},
   "outputs": [],
   "source": [
    "table_style1 = [\n",
    "    ('FONTNAME', (0, 0), (-1, -1), 'SimSun'),  # 字体\n",
    "    ('FONTSIZE', (0, 0), (-1, -1), 10),  # 字体大小\n",
    "\n",
    "    ('BACKGROUND', (0, 0), (0, -2), colors.gainsboro),  # 设置第一列背景颜色\n",
    "    ('BACKGROUND', (1, 0), (1, -2), colors.whitesmoke),  # 设置第二列背景颜色\n",
    "    ('BACKGROUND', (2, 0), (2, -2), colors.gainsboro),  # 设置第三列背景颜色\n",
    "    ('BACKGROUND', (3, 0), (3, -2), colors.whitesmoke),  # 设置第四列背景颜色\n",
    "    ('BACKGROUND', (0, -1), (3, -1), colors.gainsboro),  # 设置最后一行背景颜色\n",
    "    ('SPAN', (0, -1),(3, -1)),  # 最后一列合并\n",
    "    ('TEXTCOLOR', (0, -1), (0, -1), colors.black),  # 设置表格内文字颜色\n",
    "    ('ALIGN', (0, 0), (3, 3), 'CENTER'),  # 表格左右中间对齐\n",
    "    ('ALIGN', (0, -1), (-1, -1), 'RIGHT'),  # 最后一行右对齐\n",
    "    ('VALIGN', (0, 0), (-1, -1), 'MIDDLE'),  # 所有表格居中对齐\n",
    "    ('GRID', (0, 0), (-1, -1), 0.2, colors.white),  # 设置表格框线为白色，线宽为0.2\n",
    "    ]"
   ]
  },
  {
   "cell_type": "code",
   "execution_count": 9,
   "id": "37f15304",
   "metadata": {},
   "outputs": [],
   "source": [
    "table1 = Table(data=table_data1, style=table_style1, colWidths= (2.5*cm , 7*cm , 2.5*cm , 4*cm))"
   ]
  },
  {
   "cell_type": "code",
   "execution_count": 10,
   "id": "6a103d1c",
   "metadata": {
    "scrolled": true
   },
   "outputs": [],
   "source": [
    "story.append(table1)"
   ]
  },
  {
   "cell_type": "code",
   "execution_count": 11,
   "id": "c644396b",
   "metadata": {
    "scrolled": true
   },
   "outputs": [
    {
     "data": {
      "text/plain": [
       "[Table(\n",
       "  rowHeights=[None, None, None, None, None],\n",
       "  colWidths=(70.86614173228347, 198.4251968503937, 70.86614173228347, 113.38582677165354),\n",
       " [['编号:', 'xxxxxxx', '姓名:', '小红'],\n",
       "    ['性别:', '女', '年龄:', '20'],\n",
       "    ['样本来源:', 'XX省XX市XX区XX街道XX社区居委会', '样本类型:', '粪便'],\n",
       "    ['检测方法:', '下一代高通量测序技术 \\n（Illumina）', '检测机构:', 'XX医院检验医学部'],\n",
       "    ['检测时间:2022.2', '2022.2', '', '']]\n",
       " ) # end table]"
      ]
     },
     "execution_count": 11,
     "metadata": {},
     "output_type": "execute_result"
    }
   ],
   "source": [
    "story"
   ]
  },
  {
   "cell_type": "code",
   "execution_count": 12,
   "id": "59dff283",
   "metadata": {},
   "outputs": [],
   "source": [
    "doc = SimpleDocTemplate('333.pdf')"
   ]
  },
  {
   "cell_type": "code",
   "execution_count": 13,
   "id": "885b6b91",
   "metadata": {},
   "outputs": [],
   "source": [
    "doc.build(story)"
   ]
  },
  {
   "cell_type": "code",
   "execution_count": 39,
   "id": "1be35435",
   "metadata": {},
   "outputs": [],
   "source": [
    "stylesheet = getSampleStyleSheet()  # 获取样式集\n",
    "\n",
    "# 获取reportlab自带样式\n",
    "Normal = stylesheet['Normal']\n",
    "BodyText = stylesheet['BodyText']\n",
    "Italic = stylesheet['Italic']\n",
    "Title = stylesheet['Title']\n",
    "Heading1 = stylesheet['Heading1']\n",
    "Heading2 = stylesheet['Heading2']\n",
    "Heading3 = stylesheet['Heading3']\n",
    "Heading4 = stylesheet['Heading4']\n",
    "Heading5 = stylesheet['Heading5']\n",
    "Heading6 = stylesheet['Heading6']\n",
    "Bullet = stylesheet['Bullet']\n",
    "Definition = stylesheet['Definition']\n",
    "Code = stylesheet['Code']\n",
    "# 添加自定义样式\n",
    "stylesheet.add(\n",
    "    ParagraphStyle(name='body',\n",
    "                   fontName=\"SimSun\",\n",
    "                   fontSize=10,\n",
    "                   textColor='black',\n",
    "                   leading=20,  # 行间距\n",
    "                   spaceBefore=10,  # 段前间距\n",
    "                   spaceAfter=10,  # 段后间距\n",
    "                   leftIndent=0,  # 左缩进\n",
    "                   rightIndent=0,  # 右缩进\n",
    "                   firstLineIndent=20,  # 首行缩进，每个汉字为10\n",
    "                   alignment=TA_JUSTIFY,  # 对齐方式\n",
    "                   )\n",
    ")\n",
    "body = stylesheet['body']\n",
    "table_data = [['编号:', 'XXXXXXXX', '姓名:', 'XXX'],\n",
    "              ['性别:', '男/女', '年龄:', 'XX'],\n",
    "              ['样本来源:', Paragraph('XX省XX市XX区XXX街道\\nXX社区居委会\\n', body), '样本类型:', '粪便'],\n",
    "              ['检测方法:', Paragraph('下一代高通量测序技术\\n（Illumina)\\n', body), '检测单位:', Paragraph('XX医院检验医学部', body)],\n",
    "              ['检测日期：2021.11','', '', ''],\n",
    "              ]\n",
    "table_style = [\n",
    "    ('FONTNAME', (0, 0), (-1, -1), 'SimSun'),  # 字体\n",
    "    ('FONTSIZE', (0, 0), (-1, -1), 10),  # 字体大小\n",
    "\n",
    "    ('BACKGROUND', (0, 0), (0, -2), colors.gainsboro),  # 设置第一列背景颜色\n",
    "    ('BACKGROUND', (1, 0), (1, -2), colors.whitesmoke),  # 设置第二列背景颜色\n",
    "    ('BACKGROUND', (2, 0), (2, -2), colors.gainsboro),  # 设置第三列背景颜色\n",
    "    ('BACKGROUND', (3, 0), (3, -2), colors.whitesmoke),  # 设置第四列背景颜色\n",
    "    ('BACKGROUND', (0, -1), (3, -1), colors.gainsboro),  # 设置最后一行背景颜色\n",
    "    ('SPAN', (0, -1),(3, -1)),  # 最后一列合并\n",
    "    ('TEXTCOLOR', (0, -1), (0, -1), colors.black),  # 设置表格内文字颜色\n",
    "    ('ALIGN', (0, 0), (3, 3), 'CENTER'),  # 表格左右中间对齐\n",
    "    ('ALIGN', (0, -1), (-1, -1), 'RIGHT'),  # 最后一行右对齐\n",
    "    ('VALIGN', (0, 0), (-1, -1), 'MIDDLE'),  # 所有表格居中对齐\n",
    "    ('GRID', (0, 0), (-1, -1), 0.2, colors.white),  # 设置表格框线为白色，线宽为0.2\n",
    "]\n",
    "table = Table(data=table_data1, style=table_style, colWidths= (2.5*cm , 7*cm , 2.5*cm , 4*cm))\n",
    "\n",
    "#表格2\n",
    "\n",
    "\n",
    "table_data2 = [[\" ▲ 尽快调整生活习惯,改善自身肠道健康\"],\n",
    "               [\" ▲ 保持一定的锻炼频率\"],\n",
    "               [\" ▲ 多选择粗杂粮和含糖少的蔬菜,蛋白质来源可选择大豆及豆制品\"],\n",
    "               [\" ▲ 减少钠盐的摄入,合理调整饮食结构,戒烟及限制饮酒\"],\n",
    "               [\" ▲ 减少饱和脂肪酸和胆固醇的摄入\"],\n",
    "]\n",
    "table_style2 = [\n",
    "    ('FONTNAME', (0, 0), (-1, -1), 'SimSun'),  # 字体\n",
    "    ('FONTSIZE', (0, 0), (-1, -1), 10),  # 字体大小\n",
    "    ('BACKGROUND', (0, 0), (-1, -1), colors.whitesmoke),  # 设置背景颜色\n",
    "    ('GRID', (0, 0), (-1, -1),  colors.whitesmoke),  # 设置表格框线\n",
    "    ('TEXTCOLOR', (0, 0), (-1, -1), colors.black),  # 设置表格内文字颜色\n",
    "]\n",
    "# 段落\n",
    "content1 = \"<font fontname=SimSunBd>评价：</font>高于4.36%的人群——您的微生态多样性属于中等偏低水平,\"\\\n",
    "           \"提示您的肠道菌群多样性不高。肠道菌群丰富度高,是健康肠道菌群的重要特征。\"\n",
    "\n",
    "content2 = \"有益菌，也称之为益生菌，如双歧杆菌，乳酸杆菌等能合成多种人体生长发育必须的维生素，如B族维生素（维生素B1、B2、B6、B12），\"\\\n",
    "           \"维生素K，烟酸、泛酸等，还能利用蛋白质残渣合成必需氨基酸，如天门冬氨酸、苯丙氨酸、缬氨酸和苏氨酸等，并参与糖类和蛋白质的代谢，\"\\\n",
    "           \"同时还能促进铁、镁、锌等矿物元素的吸收。这些营养物质对人类的健康有着重要作用，一旦缺少会引起多种疾病。<br/>&nbsp&nbsp 有害菌\"\\\n",
    "           \"，数量一旦失控大量生长，就会引发多种疾病，产生致癌物等有害物质，或者影响免疫系统的功能。<br/>&nbsp&nbsp中性菌，即具有双重作\"\\\n",
    "           \"用的细菌，如大肠杆菌、肠球菌等，在正常情况下对健康有益，一旦增殖失控，或从肠道转移到身体其他部位，就可能引发许多问题。<br/>&nbsp&nbsp\"\\\n",
    "           \"<font fontname=SimSunBd>评价：</font>肠道菌群处于健康的平衡状态（大肠内的益生菌数量是有害菌的1千倍到1万倍），致病菌或者条件\"\\\n",
    "           \"致病菌以很少的数目存在，它们产生的有毒代谢物不足以对人体的健康产生危害。\"\n",
    "\n",
    "content3 =\"<br/>&nbsp&nbsp ▲ 尽快调整生活习惯,改善自身肠道健康<br/>&nbsp&nbsp ▲ 保持一定的锻炼频率<br/>&nbsp&nbsp ▲ 多选择粗杂粮和含糖少的蔬菜,\"\\\n",
    "          \"蛋白质来源可选择大豆及豆制品<br/>&nbsp&nbsp ▲ 减少钠盐的摄入,合理调整饮食结构,戒烟及限制饮酒减少饱和脂肪酸和胆固醇的摄入\"\n",
    "\n",
    "content4 = \"*注意:本报告仅作为健康研究结果供参考,不作为临床诊断依据。本检测仅对本样品负责。\"\n",
    "\n",
    "\n",
    "\n",
    "story.append(Paragraph(\"肠道菌群检测报告\", Title))\n",
    "story.append(table)\n",
    "story.append(Spacer(240, 20))  #添加空白行\n",
    "\n",
    "story.append(Paragraph(content1, body))\n",
    "story.append(Spacer(240, 20))\n",
    "\n",
    "\n",
    "story.append(Paragraph(content2, body))\n",
    "\n",
    "story.append(Paragraph(content4, body))\n"
   ]
  },
  {
   "cell_type": "code",
   "execution_count": 40,
   "id": "d7d4c016",
   "metadata": {},
   "outputs": [
    {
     "ename": "AttributeError",
     "evalue": "'str' object has no attribute 'wrapOn'",
     "output_type": "error",
     "traceback": [
      "\u001b[1;31m---------------------------------------------------------------------------\u001b[0m",
      "\u001b[1;31mAttributeError\u001b[0m                            Traceback (most recent call last)",
      "Input \u001b[1;32mIn [40]\u001b[0m, in \u001b[0;36m<cell line: 2>\u001b[1;34m()\u001b[0m\n\u001b[0;32m      1\u001b[0m doc \u001b[38;5;241m=\u001b[39m SimpleDocTemplate(\u001b[38;5;124m'\u001b[39m\u001b[38;5;124m20200408.pdf\u001b[39m\u001b[38;5;124m'\u001b[39m)\n\u001b[1;32m----> 2\u001b[0m \u001b[43mdoc\u001b[49m\u001b[38;5;241;43m.\u001b[39;49m\u001b[43mbuild\u001b[49m\u001b[43m(\u001b[49m\u001b[43mstory\u001b[49m\u001b[43m)\u001b[49m\n",
      "File \u001b[1;32m~\\.conda\\envs\\autoreport\\lib\\site-packages\\reportlab\\platypus\\doctemplate.py:1314\u001b[0m, in \u001b[0;36mSimpleDocTemplate.build\u001b[1;34m(self, flowables, onFirstPage, onLaterPages, canvasmaker)\u001b[0m\n\u001b[0;32m   1312\u001b[0m \u001b[38;5;28;01mif\u001b[39;00m onLaterPages \u001b[38;5;129;01mis\u001b[39;00m _doNothing \u001b[38;5;129;01mand\u001b[39;00m \u001b[38;5;28mhasattr\u001b[39m(\u001b[38;5;28mself\u001b[39m,\u001b[38;5;124m'\u001b[39m\u001b[38;5;124monLaterPages\u001b[39m\u001b[38;5;124m'\u001b[39m):\n\u001b[0;32m   1313\u001b[0m     \u001b[38;5;28mself\u001b[39m\u001b[38;5;241m.\u001b[39mpageTemplates[\u001b[38;5;241m1\u001b[39m]\u001b[38;5;241m.\u001b[39mbeforeDrawPage \u001b[38;5;241m=\u001b[39m \u001b[38;5;28mself\u001b[39m\u001b[38;5;241m.\u001b[39monLaterPages\n\u001b[1;32m-> 1314\u001b[0m \u001b[43mBaseDocTemplate\u001b[49m\u001b[38;5;241;43m.\u001b[39;49m\u001b[43mbuild\u001b[49m\u001b[43m(\u001b[49m\u001b[38;5;28;43mself\u001b[39;49m\u001b[43m,\u001b[49m\u001b[43mflowables\u001b[49m\u001b[43m,\u001b[49m\u001b[43m \u001b[49m\u001b[43mcanvasmaker\u001b[49m\u001b[38;5;241;43m=\u001b[39;49m\u001b[43mcanvasmaker\u001b[49m\u001b[43m)\u001b[49m\n",
      "File \u001b[1;32m~\\.conda\\envs\\autoreport\\lib\\site-packages\\reportlab\\platypus\\doctemplate.py:1079\u001b[0m, in \u001b[0;36mBaseDocTemplate.build\u001b[1;34m(self, flowables, filename, canvasmaker)\u001b[0m\n\u001b[0;32m   1077\u001b[0m \u001b[38;5;28;01mtry\u001b[39;00m:\n\u001b[0;32m   1078\u001b[0m     first \u001b[38;5;241m=\u001b[39m flowables[\u001b[38;5;241m0\u001b[39m]\n\u001b[1;32m-> 1079\u001b[0m     \u001b[38;5;28;43mself\u001b[39;49m\u001b[38;5;241;43m.\u001b[39;49m\u001b[43mhandle_flowable\u001b[49m\u001b[43m(\u001b[49m\u001b[43mflowables\u001b[49m\u001b[43m)\u001b[49m\n\u001b[0;32m   1080\u001b[0m     handled \u001b[38;5;241m+\u001b[39m\u001b[38;5;241m=\u001b[39m \u001b[38;5;241m1\u001b[39m\n\u001b[0;32m   1081\u001b[0m \u001b[38;5;28;01mexcept\u001b[39;00m:\n\u001b[0;32m   1082\u001b[0m     \u001b[38;5;66;03m#if it has trace info, add it to the traceback message.\u001b[39;00m\n",
      "File \u001b[1;32m~\\.conda\\envs\\autoreport\\lib\\site-packages\\reportlab\\platypus\\doctemplate.py:928\u001b[0m, in \u001b[0;36mBaseDocTemplate.handle_flowable\u001b[1;34m(self, flowables)\u001b[0m\n\u001b[0;32m    926\u001b[0m canv \u001b[38;5;241m=\u001b[39m \u001b[38;5;28mself\u001b[39m\u001b[38;5;241m.\u001b[39mcanv\n\u001b[0;32m    927\u001b[0m \u001b[38;5;66;03m#try to fit it then draw it\u001b[39;00m\n\u001b[1;32m--> 928\u001b[0m \u001b[38;5;28;01mif\u001b[39;00m \u001b[43mframe\u001b[49m\u001b[38;5;241;43m.\u001b[39;49m\u001b[43madd\u001b[49m\u001b[43m(\u001b[49m\u001b[43mf\u001b[49m\u001b[43m,\u001b[49m\u001b[43m \u001b[49m\u001b[43mcanv\u001b[49m\u001b[43m,\u001b[49m\u001b[43m \u001b[49m\u001b[43mtrySplit\u001b[49m\u001b[38;5;241;43m=\u001b[39;49m\u001b[38;5;28;43mself\u001b[39;49m\u001b[38;5;241;43m.\u001b[39;49m\u001b[43mallowSplitting\u001b[49m\u001b[43m)\u001b[49m:\n\u001b[0;32m    929\u001b[0m     \u001b[38;5;28;01mif\u001b[39;00m \u001b[38;5;129;01mnot\u001b[39;00m \u001b[38;5;28misinstance\u001b[39m(f,FrameActionFlowable):\n\u001b[0;32m    930\u001b[0m         \u001b[38;5;28mself\u001b[39m\u001b[38;5;241m.\u001b[39m_curPageFlowableCount \u001b[38;5;241m+\u001b[39m\u001b[38;5;241m=\u001b[39m \u001b[38;5;241m1\u001b[39m\n",
      "File \u001b[1;32m~\\.conda\\envs\\autoreport\\lib\\site-packages\\reportlab\\platypus\\frames.py:169\u001b[0m, in \u001b[0;36mFrame._add\u001b[1;34m(self, flowable, canv, trySplit)\u001b[0m\n\u001b[0;32m    167\u001b[0m h \u001b[38;5;241m=\u001b[39m y \u001b[38;5;241m-\u001b[39m p \u001b[38;5;241m-\u001b[39m s\n\u001b[0;32m    168\u001b[0m \u001b[38;5;28;01mif\u001b[39;00m h\u001b[38;5;241m>\u001b[39m\u001b[38;5;241m0\u001b[39m \u001b[38;5;129;01mor\u001b[39;00m zeroSize:\n\u001b[1;32m--> 169\u001b[0m     w, h \u001b[38;5;241m=\u001b[39m \u001b[43mflowable\u001b[49m\u001b[38;5;241;43m.\u001b[39;49m\u001b[43mwrap\u001b[49m\u001b[43m(\u001b[49m\u001b[43maW\u001b[49m\u001b[43m,\u001b[49m\u001b[43m \u001b[49m\u001b[43mh\u001b[49m\u001b[43m)\u001b[49m\n\u001b[0;32m    170\u001b[0m \u001b[38;5;28;01melse\u001b[39;00m:\n\u001b[0;32m    171\u001b[0m     \u001b[38;5;28;01mreturn\u001b[39;00m \u001b[38;5;241m0\u001b[39m\n",
      "File \u001b[1;32m~\\.conda\\envs\\autoreport\\lib\\site-packages\\reportlab\\platypus\\tables.py:1288\u001b[0m, in \u001b[0;36mTable.wrap\u001b[1;34m(self, availWidth, availHeight)\u001b[0m\n\u001b[0;32m   1287\u001b[0m \u001b[38;5;28;01mdef\u001b[39;00m \u001b[38;5;21mwrap\u001b[39m(\u001b[38;5;28mself\u001b[39m, availWidth, availHeight):\n\u001b[1;32m-> 1288\u001b[0m     \u001b[38;5;28;43mself\u001b[39;49m\u001b[38;5;241;43m.\u001b[39;49m\u001b[43m_calc\u001b[49m\u001b[43m(\u001b[49m\u001b[43mavailWidth\u001b[49m\u001b[43m,\u001b[49m\u001b[43m \u001b[49m\u001b[43mavailHeight\u001b[49m\u001b[43m)\u001b[49m\n\u001b[0;32m   1289\u001b[0m     \u001b[38;5;28mself\u001b[39m\u001b[38;5;241m.\u001b[39mavailWidth \u001b[38;5;241m=\u001b[39m availWidth\n\u001b[0;32m   1290\u001b[0m     \u001b[38;5;28;01mreturn\u001b[39;00m (\u001b[38;5;28mself\u001b[39m\u001b[38;5;241m.\u001b[39m_width, \u001b[38;5;28mself\u001b[39m\u001b[38;5;241m.\u001b[39m_height)\n",
      "File \u001b[1;32m~\\.conda\\envs\\autoreport\\lib\\site-packages\\reportlab\\platypus\\tables.py:710\u001b[0m, in \u001b[0;36mTable._calc\u001b[1;34m(self, availWidth, availHeight)\u001b[0m\n\u001b[0;32m    707\u001b[0m     \u001b[38;5;28mself\u001b[39m\u001b[38;5;241m.\u001b[39m_calcNoSplitRanges()\n\u001b[0;32m    709\u001b[0m \u001b[38;5;66;03m# calculate the full table height\u001b[39;00m\n\u001b[1;32m--> 710\u001b[0m \u001b[38;5;28;43mself\u001b[39;49m\u001b[38;5;241;43m.\u001b[39;49m\u001b[43m_calc_height\u001b[49m\u001b[43m(\u001b[49m\u001b[43mavailHeight\u001b[49m\u001b[43m,\u001b[49m\u001b[43mavailWidth\u001b[49m\u001b[43m,\u001b[49m\u001b[43mW\u001b[49m\u001b[38;5;241;43m=\u001b[39;49m\u001b[43mW\u001b[49m\u001b[43m)\u001b[49m\n\u001b[0;32m    712\u001b[0m \u001b[38;5;66;03m# calculate the full table width\u001b[39;00m\n\u001b[0;32m    713\u001b[0m \u001b[38;5;28mself\u001b[39m\u001b[38;5;241m.\u001b[39m_calc_width(availWidth,W\u001b[38;5;241m=\u001b[39mW)\n",
      "File \u001b[1;32m~\\.conda\\envs\\autoreport\\lib\\site-packages\\reportlab\\platypus\\tables.py:634\u001b[0m, in \u001b[0;36mTable._calc_height\u001b[1;34m(self, availHeight, availWidth, H, W)\u001b[0m\n\u001b[0;32m    632\u001b[0m     \u001b[38;5;28;01mif\u001b[39;00m \u001b[38;5;129;01mnot\u001b[39;00m span: \u001b[38;5;28;01mcontinue\u001b[39;00m\n\u001b[0;32m    633\u001b[0m     w \u001b[38;5;241m=\u001b[39m \u001b[38;5;28mmax\u001b[39m(colpositions[span[\u001b[38;5;241m2\u001b[39m]\u001b[38;5;241m+\u001b[39m\u001b[38;5;241m1\u001b[39m]\u001b[38;5;241m-\u001b[39mcolpositions[span[\u001b[38;5;241m0\u001b[39m]],w \u001b[38;5;129;01mor\u001b[39;00m \u001b[38;5;241m0\u001b[39m)\n\u001b[1;32m--> 634\u001b[0m dW,t \u001b[38;5;241m=\u001b[39m \u001b[38;5;28;43mself\u001b[39;49m\u001b[38;5;241;43m.\u001b[39;49m\u001b[43m_listCellGeom\u001b[49m\u001b[43m(\u001b[49m\u001b[43mv\u001b[49m\u001b[43m,\u001b[49m\u001b[43mw\u001b[49m\u001b[43m \u001b[49m\u001b[38;5;129;43;01mor\u001b[39;49;00m\u001b[43m \u001b[49m\u001b[38;5;28;43mself\u001b[39;49m\u001b[38;5;241;43m.\u001b[39;49m\u001b[43m_listValueWidth\u001b[49m\u001b[43m(\u001b[49m\u001b[43mv\u001b[49m\u001b[43m)\u001b[49m\u001b[43m,\u001b[49m\u001b[43ms\u001b[49m\u001b[43m)\u001b[49m\n\u001b[0;32m    635\u001b[0m \u001b[38;5;28;01mif\u001b[39;00m canv: canv\u001b[38;5;241m.\u001b[39m_fontname, canv\u001b[38;5;241m.\u001b[39m_fontsize, canv\u001b[38;5;241m.\u001b[39m_leading \u001b[38;5;241m=\u001b[39m saved\n\u001b[0;32m    636\u001b[0m dW \u001b[38;5;241m=\u001b[39m dW \u001b[38;5;241m+\u001b[39m s\u001b[38;5;241m.\u001b[39mleftPadding \u001b[38;5;241m+\u001b[39m s\u001b[38;5;241m.\u001b[39mrightPadding\n",
      "File \u001b[1;32m~\\.conda\\envs\\autoreport\\lib\\site-packages\\reportlab\\platypus\\tables.py:468\u001b[0m, in \u001b[0;36mTable._listCellGeom\u001b[1;34m(self, V, w, s, W, H, aH)\u001b[0m\n\u001b[0;32m    466\u001b[0m sb0 \u001b[38;5;241m=\u001b[39m \u001b[38;5;28;01mNone\u001b[39;00m\n\u001b[0;32m    467\u001b[0m \u001b[38;5;28;01mfor\u001b[39;00m v \u001b[38;5;129;01min\u001b[39;00m V:\n\u001b[1;32m--> 468\u001b[0m     vw, vh \u001b[38;5;241m=\u001b[39m \u001b[43mv\u001b[49m\u001b[38;5;241;43m.\u001b[39;49m\u001b[43mwrapOn\u001b[49m(canv, aW, aH)\n\u001b[0;32m    469\u001b[0m     sb \u001b[38;5;241m=\u001b[39m v\u001b[38;5;241m.\u001b[39mgetSpaceBefore()\n\u001b[0;32m    470\u001b[0m     sa \u001b[38;5;241m=\u001b[39m v\u001b[38;5;241m.\u001b[39mgetSpaceAfter()\n",
      "\u001b[1;31mAttributeError\u001b[0m: 'str' object has no attribute 'wrapOn'"
     ]
    }
   ],
   "source": [
    "doc = SimpleDocTemplate('20200408.pdf')\n",
    "doc.build(story)"
   ]
  },
  {
   "cell_type": "code",
   "execution_count": null,
   "id": "b2acdf8d",
   "metadata": {},
   "outputs": [],
   "source": []
  }
 ],
 "metadata": {
  "kernelspec": {
   "display_name": "Python 3 (ipykernel)",
   "language": "python",
   "name": "python3"
  },
  "language_info": {
   "codemirror_mode": {
    "name": "ipython",
    "version": 3
   },
   "file_extension": ".py",
   "mimetype": "text/x-python",
   "name": "python",
   "nbconvert_exporter": "python",
   "pygments_lexer": "ipython3",
   "version": "3.8.12"
  }
 },
 "nbformat": 4,
 "nbformat_minor": 5
}
