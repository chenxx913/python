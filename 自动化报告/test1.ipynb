{
 "cells": [
  {
   "cell_type": "code",
   "execution_count": 10,
   "id": "29a7c433",
   "metadata": {},
   "outputs": [],
   "source": [
    "import tempfile\n",
    "from reportlab.lib import colors\n",
    "from reportlab.pdfbase import pdfmetrics\n",
    "from reportlab.pdfbase.pdfmetrics import registerFontFamily\n",
    "from reportlab.pdfbase.ttfonts import TTFont\n",
    "from reportlab.platypus import Paragraph, SimpleDocTemplate, Table, LongTable, Image, Spacer\n",
    "from reportlab.lib.styles import getSampleStyleSheet, ParagraphStyle\n",
    "from reportlab.lib.enums import TA_JUSTIFY\n",
    "from io import BytesIO\n",
    "from reportlab.lib.units import cm"
   ]
  },
  {
   "cell_type": "code",
   "execution_count": 11,
   "id": "4c56112e",
   "metadata": {},
   "outputs": [],
   "source": [
    "import json"
   ]
  },
  {
   "cell_type": "code",
   "execution_count": 12,
   "id": "d78447be",
   "metadata": {},
   "outputs": [],
   "source": [
    "pdfmetrics.registerFont(TTFont('SimSun', 'SimSun.ttf'))  # 默认不支持中文，需要注册字体\n",
    "pdfmetrics.registerFont(TTFont('SimSunBd', 'SimSun-bold.ttf'))"
   ]
  },
  {
   "cell_type": "code",
   "execution_count": 13,
   "id": "9439131f",
   "metadata": {},
   "outputs": [],
   "source": [
    "class ReportLabClass(object):\n",
    "    \"\"\"自动化报告模板\"\"\"\n",
    "\n",
    "    def __init__(self):\n",
    "        self.stylesheet = getSampleStyleSheet()  # 获取样式集\n",
    "        parmeter = {\"name\": \"aaa\"}\n",
    "\n",
    "        Normal = self.stylesheet['Normal']  # 获取reportlab自带样式\n",
    "        BodyText = self.stylesheet['BodyText']\n",
    "        Italic = self.stylesheet['Italic']\n",
    "        Title = self.stylesheet['Title']\n",
    "        Heading1 = self.stylesheet['Heading1']\n",
    "        Heading2 = self.stylesheet['Heading2']\n",
    "        Heading3 = self.stylesheet['Heading3']\n",
    "        Heading4 = self.stylesheet['Heading4']\n",
    "        Heading5 = self.stylesheet['Heading5']\n",
    "        Heading6 = self.stylesheet['Heading6']\n",
    "        Bullet = self.stylesheet['Bullet']\n",
    "        Definition = self.stylesheet['Definition']\n",
    "        Code = self.stylesheet['Code']\n",
    "\n",
    "        Normal.fontName = 'SimSun'\n",
    "        Italic.fontName = 'SimSun'\n",
    "        BodyText.fontName = 'SimSun'\n",
    "        Title.fontName = 'SimSunBd'\n",
    "        Heading1.fontName = 'SimSun'\n",
    "        Heading2.fontName = 'SimSun'\n",
    "        Heading3.fontName = 'SimSun'\n",
    "        Heading4.fontName = 'SimSun'\n",
    "        Heading5.fontName = 'SimSun'\n",
    "        Heading6.fontName = 'SimSun'\n",
    "        Bullet.fontName = 'SimSun'\n",
    "        Definition.fontName = 'SimSun'\n",
    "        Code.fontName = 'SimSun'\n",
    "\n",
    "        self.genero_paragraphStyle(**parmeter)\n",
    "\n",
    "    def genero_paragraphStyle(self, **kwargs):\n",
    "        \"\"\"\"\"\"\n",
    "        self.stylesheet.add(ParagraphStyle(**kwargs))\n"
   ]
  },
  {
   "cell_type": "code",
   "execution_count": 16,
   "id": "12026926",
   "metadata": {},
   "outputs": [],
   "source": [
    "class ReportLabWorker(ReportLabClass):\n",
    "    \"\"\"自动化报告处理\"\"\"\n",
    "\n",
    "    def __init__(self, frompath):\n",
    "        \"\"\"\n",
    "        param frompath:源文件\n",
    "        \"\"\"\n",
    "        super().__init__()\n",
    "        self.typeDict = {\"YK\": \"yk_process\", \"BY\": \"by_process\"}\n",
    "        self.frompath = frompath\n",
    "\n",
    "    def yk_process(self):\n",
    "        \"\"\"云康模板\"\"\"\n",
    "\n",
    "        # 段落样式\n",
    "        self.stylesheet.add(\n",
    "            ParagraphStyle(name='yk_paragraph',  # 段落\n",
    "                           fontName=\"SimSun\",\n",
    "                           fontSize=10,\n",
    "                           textColor='black',\n",
    "                           leading=20,  # 行间距\n",
    "                           spaceBefore=10,  # 段前间距\n",
    "                           spaceAfter=10,  # 段后间距\n",
    "                           leftIndent=0,  # 左缩进\n",
    "                           rightIndent=0,  # 右缩进\n",
    "                           firstLineIndent=20,  # 首行缩进，每个汉字为10\n",
    "                           alignment=TA_JUSTIFY,  # 对齐方式\n",
    "                           )\n",
    "        )\n",
    "\n",
    "        self.stylesheet.add(\n",
    "            ParagraphStyle(name='yk_background',  # 有背景颜色的段落\n",
    "                           fontName=\"SimSun\",\n",
    "                           fontSize=10,\n",
    "                           textColor='black',  # 字体颜色\n",
    "                           backColor='#DCDCDC',  # 背景色\n",
    "                           leading=20,  # 行间距\n",
    "                           spaceBefore=20,  # 段前间距\n",
    "                           spaceAfter=40,  # 段后间距\n",
    "                           leftIndent=0,  # 左缩进\n",
    "                           rightIndent=0,  # 右缩进\n",
    "                           firstLineIndent=0,  # 首行缩进，每个汉字为10\n",
    "                           alignment=TA_JUSTIFY,  # 对齐方式\n",
    "                           borderWidth=0.2,  # 边框粗细\n",
    "                           borderColor='#A9A9A9',  # 边框颜色\n",
    "                           )\n",
    "        )\n",
    "\n",
    "        self.table_style1 = [\n",
    "            ('FONTNAME', (0, 0), (-1, -1), 'SimSun'),  # 字体\n",
    "            ('FONTSIZE', (0, 0), (-1, -1), 10),  # 字体大小\n",
    "\n",
    "            ('BACKGROUND', (0, 0), (0, -2), colors.gainsboro),  # 设置第一列背景颜色\n",
    "            ('BACKGROUND', (1, 0), (1, -2), colors.whitesmoke),  # 设置第二列背景颜色\n",
    "            ('BACKGROUND', (2, 0), (2, -2), colors.gainsboro),  # 设置第三列背景颜色\n",
    "            ('BACKGROUND', (3, 0), (3, -2), colors.whitesmoke),  # 设置第四列背景颜色\n",
    "            ('BACKGROUND', (0, -1), (3, -1), colors.gainsboro),  # 设置最后一行背景颜色\n",
    "            ('SPAN', (0, -1), (3, -1)),  # 最后一列合并\n",
    "            ('TEXTCOLOR', (0, -1), (0, -1), colors.black),  # 设置表格内文字颜色\n",
    "            ('ALIGN', (0, 0), (3, 3), 'CENTER'),  # 表格左右中间对齐\n",
    "            ('ALIGN', (0, -1), (-1, -1), 'RIGHT'),  # 最后一行右对齐\n",
    "            ('VALIGN', (0, 0), (-1, -1), 'MIDDLE'),  # 所有表格居中对齐\n",
    "            ('GRID', (0, 0), (-1, -1), 0.2, colors.white),  # 设置表格框线为白色，线宽为0.2\n",
    "        ]\n",
    "\n",
    "        style1 = self.stylesheet['yk_paragraph']\n",
    "        style2 = self.stylesheet['yk_background']\n",
    "\n",
    "        # def genero_table(self, **kwargs):\n",
    "\n",
    "        personal_information = open(frompath, encoding='utf-8')\n",
    "\n",
    "        information_table = personal_information.read()\n",
    "        data = json.loads(information_table)\n",
    "\n",
    "        personal_information.close\n",
    "\n",
    "        self.story = []\n",
    "\n",
    "        self.table_data1 = [\n",
    "            [data[\"dataDict\"][\"code\"][\"zhName\"], data[\"dataDict\"][\"code\"][\"value\"], data[\"dataDict\"][\"name\"][\"zhName\"],\n",
    "             data[\"dataDict\"][\"name\"][\"value\"]],\n",
    "            [data[\"dataDict\"][\"sex\"][\"zhName\"], data[\"dataDict\"][\"sex\"][\"value\"], data[\"dataDict\"][\"age\"][\"zhName\"],\n",
    "             data[\"dataDict\"][\"age\"][\"value\"]],\n",
    "            [data[\"dataDict\"][\"sample_source\"][\"zhName\"], data[\"dataDict\"][\"sample_source\"][\"value\"],\n",
    "             data[\"dataDict\"][\"sample_type\"][\"zhName\"], data[\"dataDict\"][\"sample_type\"][\"value\"]],\n",
    "            [data[\"dataDict\"][\"test_method\"][\"zhName\"], data[\"dataDict\"][\"test_method\"][\"value\"],\n",
    "             data[\"dataDict\"][\"test_organization\"][\"zhName\"], data[\"dataDict\"][\"test_organization\"][\"value\"]],\n",
    "            [data[\"dataDict\"][\"time\"][\"zhName\"], data[\"dataDict\"][\"time\"][\"value\"], '', ''],\n",
    "        ]\n",
    "\n",
    "        table1 = Table(data=self.table_data1, style=self.table_style1,\n",
    "                       colWidths=(2.5 * cm, 7 * cm, 2.5 * cm, 4 * cm))\n",
    "\n",
    "        # 段落\n",
    "        content1 = \"<font fontname=SimSunBd>评价：</font>高于4.36%的人群——您的微生态多样性属于中等偏低水平,\" \\\n",
    "                   \"提示您的肠道菌群多样性不高。肠道菌群丰富度高,是健康肠道菌群的重要特征。\"\n",
    "\n",
    "        content2 = \"有益菌，也称之为益生菌，如双歧杆菌，乳酸杆菌等能合成多种人体生长发育必须的维生素，如B族维生素（维生素B1、B2、B6、B12），\" \\\n",
    "                   \"维生素K，烟酸、泛酸等，还能利用蛋白质残渣合成必需氨基酸，如天门冬氨酸、苯丙氨酸、缬氨酸和苏氨酸等，并参与糖类和蛋白质的代谢，\" \\\n",
    "                   \"同时还能促进铁、镁、锌等矿物元素的吸收。这些营养物质对人类的健康有着重要作用，一旦缺少会引起多种疾病。<br/>&nbsp&nbsp 有害菌\" \\\n",
    "                   \"，数量一旦失控大量生长，就会引发多种疾病，产生致癌物等有害物质，或者影响免疫系统的功能。<br/>&nbsp&nbsp中性菌，即具有双重作\" \\\n",
    "                   \"用的细菌，如大肠杆菌、肠球菌等，在正常情况下对健康有益，一旦增殖失控，或从肠道转移到身体其他部位，就可能引发许多问题。<br/>&nbsp&nbsp\" \\\n",
    "                   \"<font fontname=SimSunBd>评价：</font>肠道菌群处于健康的平衡状态（大肠内的益生菌数量是有害菌的1千倍到1万倍），致病菌或者条件\" \\\n",
    "                   \"致病菌以很少的数目存在，它们产生的有毒代谢物不足以对人体的健康产生危害。\"\n",
    "\n",
    "        content3 = \"<br/>&nbsp&nbsp ▲ 尽快调整生活习惯,改善自身肠道健康<br/>&nbsp&nbsp ▲ 保持一定的锻炼频率<br/>&nbsp&nbsp ▲ 多选择粗杂粮和含糖少的蔬菜,\" \\\n",
    "                   \"蛋白质来源可选择大豆及豆制品<br/>&nbsp&nbsp ▲ 减少钠盐的摄入,合理调整饮食结构,戒烟及限制饮酒减少饱和脂肪酸和胆固醇的摄入\"\n",
    "\n",
    "        content4 = \"*注意:本报告仅作为健康研究结果供参考,不作为临床诊断依据。本检测仅对本样品负责。\"\n",
    "\n",
    "        story.append(Paragraph(\"肠道菌群检测报告\", self.Title))\n",
    "        story.append(table1)\n",
    "        story.append(Spacer(240, 20))  # 添加空白行\n",
    "        story.append(Paragraph(content1, style1))\n",
    "        story.append(Spacer(240, 20))\n",
    "        story.append(Paragraph(content2, style1))\n",
    "        story.append(Paragraph(content3, style2))\n",
    "        story.append(Paragraph(content4, style1))\n",
    "        \n",
    "        \n",
    "        \n",
    "        \n",
    "        parameter = {}\n",
    "        self.genero_paragraphStyle(parameter)\n",
    "        pass\n",
    "\n",
    "    def process(self, typeName):\n",
    "        \"\"\"\n",
    "        :type: 模板类型\n",
    "        :return: doc\n",
    "        \"\"\"\n",
    "        type_process = self.typeDict.get(typeName)\n",
    "        if type_process:\n",
    "            raise ValueError(\"该模板不存在\")\n",
    "        process = getattr(self, type_process)\n",
    "        return process()\n",
    "\n",
    "    def run(self, file_path):\n",
    "        \"\"\"启动化报告\"\"\"\n",
    "        pass\n"
   ]
  },
  {
   "cell_type": "code",
   "execution_count": 20,
   "id": "a6200f40",
   "metadata": {},
   "outputs": [
    {
     "ename": "NameError",
     "evalue": "name 'self' is not defined",
     "output_type": "error",
     "traceback": [
      "\u001b[1;31m---------------------------------------------------------------------------\u001b[0m",
      "\u001b[1;31mNameError\u001b[0m                                 Traceback (most recent call last)",
      "Input \u001b[1;32mIn [20]\u001b[0m, in \u001b[0;36m<cell line: 1>\u001b[1;34m()\u001b[0m\n\u001b[0;32m      3\u001b[0m rpc \u001b[38;5;241m=\u001b[39m ReportLabWorker(frompath)\n\u001b[0;32m      4\u001b[0m doc \u001b[38;5;241m=\u001b[39m SimpleDocTemplate(\u001b[38;5;124m'\u001b[39m\u001b[38;5;124m111.pdf\u001b[39m\u001b[38;5;124m'\u001b[39m)\n\u001b[1;32m----> 5\u001b[0m file_path \u001b[38;5;241m=\u001b[39m doc\u001b[38;5;241m.\u001b[39mbuild(\u001b[38;5;28;43mself\u001b[39;49m\u001b[38;5;241m.\u001b[39mstory)\n\u001b[0;32m      6\u001b[0m rpc\u001b[38;5;241m.\u001b[39mrun(file_path)\n",
      "\u001b[1;31mNameError\u001b[0m: name 'self' is not defined"
     ]
    }
   ],
   "source": [
    "if __name__ == '__main__':\n",
    "    frompath = (r\"C:\\Users\\chen\\Desktop\\data.json\")\n",
    "    rpc = ReportLabWorker(frompath)\n",
    "    doc = SimpleDocTemplate('111.pdf')\n",
    "    file_path = doc.build(self.story)\n",
    "    rpc.run(file_path)"
   ]
  },
  {
   "cell_type": "code",
   "execution_count": null,
   "id": "49e8232f",
   "metadata": {},
   "outputs": [],
   "source": []
  },
  {
   "cell_type": "code",
   "execution_count": null,
   "id": "88430092",
   "metadata": {},
   "outputs": [],
   "source": []
  },
  {
   "cell_type": "code",
   "execution_count": null,
   "id": "f5f5cac1",
   "metadata": {},
   "outputs": [],
   "source": []
  },
  {
   "cell_type": "code",
   "execution_count": null,
   "id": "e2c36eb8",
   "metadata": {},
   "outputs": [],
   "source": []
  },
  {
   "cell_type": "code",
   "execution_count": 5,
   "id": "ae917222",
   "metadata": {},
   "outputs": [],
   "source": [
    "personal_information = open(r'C:\\Users\\chen\\Desktop\\data.json',encoding='utf-8')\n",
    "\n",
    "information_table = personal_information.read()\n",
    "data = json.loads(information_table)\n",
    "\n",
    "personal_information.close\n",
    "\n",
    "story = []"
   ]
  },
  {
   "cell_type": "code",
   "execution_count": null,
   "id": "0c3b241e",
   "metadata": {},
   "outputs": [],
   "source": []
  },
  {
   "cell_type": "code",
   "execution_count": 6,
   "id": "4c2ba355",
   "metadata": {},
   "outputs": [],
   "source": [
    "table_data1 = [[data[\"dataDict\"][\"code\"][\"zhName\"], data[\"dataDict\"][\"code\"][\"value\"], data[\"dataDict\"][\"name\"][\"zhName\"],data[\"dataDict\"][\"name\"][\"value\"]],\n",
    "            [data[\"dataDict\"][\"sex\"][\"zhName\"],data[\"dataDict\"][\"sex\"][\"value\"], data[\"dataDict\"][\"age\"][\"zhName\"], data[\"dataDict\"][\"age\"][\"value\"]],\n",
    "            [data[\"dataDict\"][\"sample_source\"][\"zhName\"], data[\"dataDict\"][\"sample_source\"][\"value\"],data[\"dataDict\"][\"sample_type\"][\"zhName\"], data[\"dataDict\"][\"sample_type\"][\"value\"]],\n",
    "            [data[\"dataDict\"][\"test_method\"][\"zhName\"], data[\"dataDict\"][\"test_method\"][\"value\"], data[\"dataDict\"][\"test_organization\"][\"zhName\"],data[\"dataDict\"][\"test_organization\"][\"value\"]],\n",
    "            [data[\"dataDict\"][\"time\"][\"zhName\"],data[\"dataDict\"][\"time\"][\"value\"] , '', ''],\n",
    "            ]"
   ]
  },
  {
   "cell_type": "code",
   "execution_count": 7,
   "id": "8e351c7e",
   "metadata": {},
   "outputs": [
    {
     "data": {
      "text/plain": [
       "[['编号:', 'xxxxxxx', '姓名:', '小红'],\n",
       " ['性别:', '女', '年龄:', '20'],\n",
       " ['样本来源:', 'XX省XX市XX区XX街道XX社区居委会', '样本类型:', '粪便'],\n",
       " ['检测方法:', '下一代高通量测序技术 \\n（Illumina）', '检测机构:', 'XX医院检验医学部'],\n",
       " ['检测时间:2022.2', '2022.2', '', '']]"
      ]
     },
     "execution_count": 7,
     "metadata": {},
     "output_type": "execute_result"
    }
   ],
   "source": [
    "table_data1"
   ]
  },
  {
   "cell_type": "code",
   "execution_count": 8,
   "id": "f5ca4e34",
   "metadata": {},
   "outputs": [],
   "source": [
    "table_style1 = [\n",
    "    ('FONTNAME', (0, 0), (-1, -1), 'SimSun'),  # 字体\n",
    "    ('FONTSIZE', (0, 0), (-1, -1), 10),  # 字体大小\n",
    "\n",
    "    ('BACKGROUND', (0, 0), (0, -2), colors.gainsboro),  # 设置第一列背景颜色\n",
    "    ('BACKGROUND', (1, 0), (1, -2), colors.whitesmoke),  # 设置第二列背景颜色\n",
    "    ('BACKGROUND', (2, 0), (2, -2), colors.gainsboro),  # 设置第三列背景颜色\n",
    "    ('BACKGROUND', (3, 0), (3, -2), colors.whitesmoke),  # 设置第四列背景颜色\n",
    "    ('BACKGROUND', (0, -1), (3, -1), colors.gainsboro),  # 设置最后一行背景颜色\n",
    "    ('SPAN', (0, -1),(3, -1)),  # 最后一列合并\n",
    "    ('TEXTCOLOR', (0, -1), (0, -1), colors.black),  # 设置表格内文字颜色\n",
    "    ('ALIGN', (0, 0), (3, 3), 'CENTER'),  # 表格左右中间对齐\n",
    "    ('ALIGN', (0, -1), (-1, -1), 'RIGHT'),  # 最后一行右对齐\n",
    "    ('VALIGN', (0, 0), (-1, -1), 'MIDDLE'),  # 所有表格居中对齐\n",
    "    ('GRID', (0, 0), (-1, -1), 0.2, colors.white),  # 设置表格框线为白色，线宽为0.2\n",
    "    ]"
   ]
  },
  {
   "cell_type": "code",
   "execution_count": 9,
   "id": "37f15304",
   "metadata": {},
   "outputs": [],
   "source": [
    "table1 = Table(data=table_data1, style=table_style1, colWidths= (2.5*cm , 7*cm , 2.5*cm , 4*cm))"
   ]
  },
  {
   "cell_type": "code",
   "execution_count": 10,
   "id": "6a103d1c",
   "metadata": {
    "scrolled": true
   },
   "outputs": [],
   "source": [
    "story.append(table1)"
   ]
  },
  {
   "cell_type": "code",
   "execution_count": 11,
   "id": "c644396b",
   "metadata": {
    "scrolled": true
   },
   "outputs": [
    {
     "data": {
      "text/plain": [
       "[Table(\n",
       "  rowHeights=[None, None, None, None, None],\n",
       "  colWidths=(70.86614173228347, 198.4251968503937, 70.86614173228347, 113.38582677165354),\n",
       " [['编号:', 'xxxxxxx', '姓名:', '小红'],\n",
       "    ['性别:', '女', '年龄:', '20'],\n",
       "    ['样本来源:', 'XX省XX市XX区XX街道XX社区居委会', '样本类型:', '粪便'],\n",
       "    ['检测方法:', '下一代高通量测序技术 \\n（Illumina）', '检测机构:', 'XX医院检验医学部'],\n",
       "    ['检测时间:2022.2', '2022.2', '', '']]\n",
       " ) # end table]"
      ]
     },
     "execution_count": 11,
     "metadata": {},
     "output_type": "execute_result"
    }
   ],
   "source": [
    "story"
   ]
  },
  {
   "cell_type": "code",
   "execution_count": 12,
   "id": "59dff283",
   "metadata": {},
   "outputs": [],
   "source": [
    "doc = SimpleDocTemplate('333.pdf')"
   ]
  },
  {
   "cell_type": "code",
   "execution_count": 13,
   "id": "885b6b91",
   "metadata": {},
   "outputs": [],
   "source": [
    "doc.build(story)"
   ]
  },
  {
   "cell_type": "code",
   "execution_count": 39,
   "id": "1be35435",
   "metadata": {},
   "outputs": [],
   "source": [
    "\n"
   ]
  },
  {
   "cell_type": "code",
   "execution_count": null,
   "id": "b2acdf8d",
   "metadata": {},
   "outputs": [],
   "source": []
  }
 ],
 "metadata": {
  "kernelspec": {
   "display_name": "Python 3 (ipykernel)",
   "language": "python",
   "name": "python3"
  },
  "language_info": {
   "codemirror_mode": {
    "name": "ipython",
    "version": 3
   },
   "file_extension": ".py",
   "mimetype": "text/x-python",
   "name": "python",
   "nbconvert_exporter": "python",
   "pygments_lexer": "ipython3",
   "version": "3.8.12"
  }
 },
 "nbformat": 4,
 "nbformat_minor": 5
}
