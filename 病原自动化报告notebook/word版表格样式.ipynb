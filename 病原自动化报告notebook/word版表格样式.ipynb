{
 "cells": [
  {
   "cell_type": "code",
   "execution_count": 1,
   "id": "ebd11d08",
   "metadata": {},
   "outputs": [],
   "source": [
    "from docx import Document\n",
    "from docx.oxml.ns import nsdecls\n",
    "from docx.oxml import parse_xml\n",
    "import time\n",
    "from docx.table import _Cell\n",
    "from docx.oxml import OxmlElement\n",
    "from docx.oxml.ns import qn"
   ]
  },
  {
   "cell_type": "code",
   "execution_count": 2,
   "id": "dcb278a6",
   "metadata": {},
   "outputs": [],
   "source": [
    "# 表格首行背景色设置\n",
    " \n",
    "def tabBgColor(table,cols,colorStr):\n",
    "    shading_list = locals()\n",
    "    for i in range(cols):\n",
    "        shading_list['shading_elm_'+str(i)] = parse_xml(r'<w:shd {} w:fill=\"{bgColor}\"/>'.format(nsdecls('w'),bgColor = colorStr))\n",
    "        table.rows[0].cells[i]._tc.get_or_add_tcPr().append(shading_list['shading_elm_'+str(i)])\n",
    " \n",
    " \n",
    "# 新建表行数\n",
    "rowsNum = 3\n",
    "# 新建表列数\n",
    "colsNum = 3\n",
    "# 背景色，根据需要调整，可参考站长之家选色 http://tool.chinaz.com/Tools/PageColor.aspx\n",
    "colorStr = '6495ED'\n",
    " \n",
    "doc = Document()\n",
    "tableDemo = doc.add_table(rows=rowsNum, cols=colsNum, style='Table Grid')\n",
    " \n",
    "tabBgColor(tableDemo, colsNum, colorStr)"
   ]
  },
  {
   "cell_type": "code",
   "execution_count": 3,
   "id": "ab8e93f7",
   "metadata": {},
   "outputs": [
    {
     "name": "stderr",
     "output_type": "stream",
     "text": [
      "C:\\Users\\chen\\.conda\\envs\\autoreport\\lib\\site-packages\\docx\\styles\\styles.py:139: UserWarning: style lookup by style_id is deprecated. Use style name as key instead.\n",
      "  return self._get_style_id_from_style(self[style_name], style_type)\n"
     ]
    }
   ],
   "source": [
    "table = doc.add_table(3, 4)\n",
    "table.style = 'TableGrid'"
   ]
  },
  {
   "cell_type": "code",
   "execution_count": 4,
   "id": "575ad976",
   "metadata": {},
   "outputs": [],
   "source": [
    "def set_cell_border(cell: _Cell, **kwargs):\n",
    "    \"\"\"\n",
    "    Set cell`s border\n",
    "    Usage:\n",
    "\n",
    "    set_cell_border(\n",
    "        cell,\n",
    "        top={\"sz\": 12, \"val\": \"single\", \"color\": \"#FF0000\", \"space\": \"0\"},\n",
    "        bottom={\"sz\": 12, \"color\": \"#00FF00\", \"val\": \"single\"},\n",
    "        start={\"sz\": 24, \"val\": \"dashed\", \"shadow\": \"true\"},\n",
    "        end={\"sz\": 12, \"val\": \"dashed\"},\n",
    "    )\n",
    "    \"\"\"\n",
    "    tc = cell._tc\n",
    "    tcPr = tc.get_or_add_tcPr()\n",
    "\n",
    "    # check for tag existnace, if none found, then create one\n",
    "    tcBorders = tcPr.first_child_found_in(\"w:tcBorders\")\n",
    "    if tcBorders is None:\n",
    "        tcBorders = OxmlElement('w:tcBorders')\n",
    "        tcPr.append(tcBorders)\n",
    "\n",
    "    # list over all available tags\n",
    "    for edge in ('start', 'top', 'end', 'bottom', 'insideH', 'insideV'):\n",
    "        edge_data = kwargs.get(edge)\n",
    "        if edge_data:\n",
    "            tag = 'w:{}'.format(edge)\n",
    "\n",
    "            # check for tag existnace, if none found, then create one\n",
    "            element = tcBorders.find(qn(tag))\n",
    "            if element is None:\n",
    "                element = OxmlElement(tag)\n",
    "                tcBorders.append(element)\n",
    "\n",
    "            # looks like order of attributes is important\n",
    "            for key in [\"sz\", \"val\", \"color\", \"space\", \"shadow\"]:\n",
    "                if key in edge_data:\n",
    "                    element.set(qn('w:{}'.format(key)), str(edge_data[key]))"
   ]
  },
  {
   "cell_type": "code",
   "execution_count": 5,
   "id": "97917354",
   "metadata": {},
   "outputs": [],
   "source": [
    "cell = table.cell(1,1)"
   ]
  },
  {
   "cell_type": "code",
   "execution_count": 36,
   "id": "d14961ea",
   "metadata": {},
   "outputs": [],
   "source": [
    "set_cell_border(cell,bottom={\"sz\": 10, \"color\": \"#FFFFFF\", \"val\": \"single\"})"
   ]
  },
  {
   "cell_type": "code",
   "execution_count": 37,
   "id": "9b501005",
   "metadata": {},
   "outputs": [],
   "source": [
    "name = str(int(time.time()))"
   ]
  },
  {
   "cell_type": "code",
   "execution_count": 38,
   "id": "8812f9fa",
   "metadata": {},
   "outputs": [],
   "source": [
    "doc.save('{}.docx'.format(name))"
   ]
  },
  {
   "cell_type": "code",
   "execution_count": null,
   "id": "535d54c3",
   "metadata": {},
   "outputs": [],
   "source": []
  },
  {
   "cell_type": "code",
   "execution_count": null,
   "id": "e3cd1e61",
   "metadata": {},
   "outputs": [],
   "source": []
  }
 ],
 "metadata": {
  "kernelspec": {
   "display_name": "Python 3 (ipykernel)",
   "language": "python",
   "name": "python3"
  },
  "language_info": {
   "codemirror_mode": {
    "name": "ipython",
    "version": 3
   },
   "file_extension": ".py",
   "mimetype": "text/x-python",
   "name": "python",
   "nbconvert_exporter": "python",
   "pygments_lexer": "ipython3",
   "version": "3.8.12"
  }
 },
 "nbformat": 4,
 "nbformat_minor": 5
}
