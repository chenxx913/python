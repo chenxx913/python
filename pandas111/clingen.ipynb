{
 "cells": [
  {
   "cell_type": "code",
   "execution_count": 1,
   "id": "9717b02b",
   "metadata": {},
   "outputs": [],
   "source": [
    "import os\n",
    "import pandas as pd\n",
    "import numpy as np\n",
    "from html2text  import html2text\n",
    "import re "
   ]
  },
  {
   "cell_type": "code",
   "execution_count": 2,
   "id": "b53295c1",
   "metadata": {},
   "outputs": [],
   "source": [
    "dosage_path = os.path.join(r\"C:\\Users\\chen\\Desktop\\reqData\\dosage\")"
   ]
  },
  {
   "cell_type": "code",
   "execution_count": 3,
   "id": "eea8f9ca",
   "metadata": {},
   "outputs": [],
   "source": [
    "home_df = pd.read_excel(r\"C:\\Users\\chen\\Desktop\\clingen.xlsx\")"
   ]
  },
  {
   "cell_type": "code",
   "execution_count": 4,
   "id": "c880692b",
   "metadata": {},
   "outputs": [
    {
     "data": {
      "text/html": [
       "<div>\n",
       "<style scoped>\n",
       "    .dataframe tbody tr th:only-of-type {\n",
       "        vertical-align: middle;\n",
       "    }\n",
       "\n",
       "    .dataframe tbody tr th {\n",
       "        vertical-align: top;\n",
       "    }\n",
       "\n",
       "    .dataframe thead th {\n",
       "        text-align: right;\n",
       "    }\n",
       "</style>\n",
       "<table border=\"1\" class=\"dataframe\">\n",
       "  <thead>\n",
       "    <tr style=\"text-align: right;\">\n",
       "      <th></th>\n",
       "      <th>type</th>\n",
       "      <th>hgnc_id</th>\n",
       "      <th>symbol</th>\n",
       "      <th>location</th>\n",
       "      <th>grch37</th>\n",
       "      <th>grch38</th>\n",
       "      <th>Dosage Sensitivity Summary (Region)-Description</th>\n",
       "      <th>Dosage Sensitivity Summary (Region)-Haploinsufficiency</th>\n",
       "      <th>Dosage Sensitivity Summary (Region)-Triplosensitivity</th>\n",
       "      <th>Haploinsufficiency (HI) Score Details-HI Evidence Comments</th>\n",
       "      <th>Triplosensitivity (TS) Score Details-TS Evidence Comments</th>\n",
       "    </tr>\n",
       "  </thead>\n",
       "  <tbody>\n",
       "    <tr>\n",
       "      <th>0</th>\n",
       "      <td>1</td>\n",
       "      <td>ISCA-46302</td>\n",
       "      <td>Xp21.2 region (includes NR0B1)</td>\n",
       "      <td>Xp21.2</td>\n",
       "      <td>chrX:30195000-30355000</td>\n",
       "      <td>chrX:30176883 -30336883</td>\n",
       "      <td>NaN</td>\n",
       "      <td>NaN</td>\n",
       "      <td>NaN</td>\n",
       "      <td>NaN</td>\n",
       "      <td>NaN</td>\n",
       "    </tr>\n",
       "    <tr>\n",
       "      <th>1</th>\n",
       "      <td>1</td>\n",
       "      <td>ISCA-46300</td>\n",
       "      <td>15q24 recurrent region (LCR C-LCR D) (includes...</td>\n",
       "      <td>15q24</td>\n",
       "      <td>chr15: 75631787-75972909</td>\n",
       "      <td>chr15:75339446-75680568</td>\n",
       "      <td>NaN</td>\n",
       "      <td>NaN</td>\n",
       "      <td>NaN</td>\n",
       "      <td>NaN</td>\n",
       "      <td>NaN</td>\n",
       "    </tr>\n",
       "    <tr>\n",
       "      <th>2</th>\n",
       "      <td>1</td>\n",
       "      <td>ISCA-46299</td>\n",
       "      <td>Xp11.22 region (includes HUWE1)</td>\n",
       "      <td>Xp11.22</td>\n",
       "      <td>chrX:53363456-53793054</td>\n",
       "      <td>chrX:53334251 -53766556</td>\n",
       "      <td>NaN</td>\n",
       "      <td>NaN</td>\n",
       "      <td>NaN</td>\n",
       "      <td>NaN</td>\n",
       "      <td>NaN</td>\n",
       "    </tr>\n",
       "    <tr>\n",
       "      <th>3</th>\n",
       "      <td>1</td>\n",
       "      <td>ISCA-46297</td>\n",
       "      <td>16p12.2 recurrent region (distal)(includes OTOA)</td>\n",
       "      <td>16p12.2</td>\n",
       "      <td>chr16:21570113-21740423</td>\n",
       "      <td>chr16:21558792-21729102</td>\n",
       "      <td>NaN</td>\n",
       "      <td>NaN</td>\n",
       "      <td>NaN</td>\n",
       "      <td>NaN</td>\n",
       "      <td>NaN</td>\n",
       "    </tr>\n",
       "    <tr>\n",
       "      <th>4</th>\n",
       "      <td>1</td>\n",
       "      <td>ISCA-46296</td>\n",
       "      <td>15q24 recurrent region (LCR A-LCR C)</td>\n",
       "      <td>15q24.1-q24.2</td>\n",
       "      <td>chr15:72963715-75508312</td>\n",
       "      <td>chr15:72671374-75215971</td>\n",
       "      <td>NaN</td>\n",
       "      <td>NaN</td>\n",
       "      <td>NaN</td>\n",
       "      <td>NaN</td>\n",
       "      <td>NaN</td>\n",
       "    </tr>\n",
       "  </tbody>\n",
       "</table>\n",
       "</div>"
      ],
      "text/plain": [
       "   type     hgnc_id                                             symbol  \\\n",
       "0     1  ISCA-46302                     Xp21.2 region (includes NR0B1)   \n",
       "1     1  ISCA-46300  15q24 recurrent region (LCR C-LCR D) (includes...   \n",
       "2     1  ISCA-46299                    Xp11.22 region (includes HUWE1)   \n",
       "3     1  ISCA-46297   16p12.2 recurrent region (distal)(includes OTOA)   \n",
       "4     1  ISCA-46296               15q24 recurrent region (LCR A-LCR C)   \n",
       "\n",
       "        location                    grch37                   grch38  \\\n",
       "0         Xp21.2    chrX:30195000-30355000  chrX:30176883 -30336883   \n",
       "1          15q24  chr15: 75631787-75972909  chr15:75339446-75680568   \n",
       "2        Xp11.22    chrX:53363456-53793054  chrX:53334251 -53766556   \n",
       "3        16p12.2   chr16:21570113-21740423  chr16:21558792-21729102   \n",
       "4  15q24.1-q24.2   chr15:72963715-75508312  chr15:72671374-75215971   \n",
       "\n",
       "   Dosage Sensitivity Summary (Region)-Description  \\\n",
       "0                                              NaN   \n",
       "1                                              NaN   \n",
       "2                                              NaN   \n",
       "3                                              NaN   \n",
       "4                                              NaN   \n",
       "\n",
       "   Dosage Sensitivity Summary (Region)-Haploinsufficiency  \\\n",
       "0                                                NaN        \n",
       "1                                                NaN        \n",
       "2                                                NaN        \n",
       "3                                                NaN        \n",
       "4                                                NaN        \n",
       "\n",
       "   Dosage Sensitivity Summary (Region)-Triplosensitivity  \\\n",
       "0                                                NaN       \n",
       "1                                                NaN       \n",
       "2                                                NaN       \n",
       "3                                                NaN       \n",
       "4                                                NaN       \n",
       "\n",
       "   Haploinsufficiency (HI) Score Details-HI Evidence Comments  \\\n",
       "0                                                NaN            \n",
       "1                                                NaN            \n",
       "2                                                NaN            \n",
       "3                                                NaN            \n",
       "4                                                NaN            \n",
       "\n",
       "   Triplosensitivity (TS) Score Details-TS Evidence Comments  \n",
       "0                                                NaN          \n",
       "1                                                NaN          \n",
       "2                                                NaN          \n",
       "3                                                NaN          \n",
       "4                                                NaN          "
      ]
     },
     "execution_count": 4,
     "metadata": {},
     "output_type": "execute_result"
    }
   ],
   "source": [
    "home_df.head()"
   ]
  },
  {
   "cell_type": "code",
   "execution_count": 5,
   "id": "2dbc916f",
   "metadata": {},
   "outputs": [],
   "source": [
    "def get_dosage_des(info):\n",
    "    if not info or info == np.nan:\n",
    "        return\n",
    "    \n",
    "    try:\n",
    "        path = os.path.join(dosage_path, f\"\"+ str(info) + \".html\")\n",
    "        with open(path,encoding='UTF-8') as f:\n",
    "            text = f.read()\n",
    "        ntext = html2text(text)\n",
    "\n",
    "        Dosage_Des = r\"Description:\\n\\n([.\\s\\S]*?)\\n\\n\"\n",
    "        des = re.findall(Dosage_Des,str(ntext))\n",
    "       \n",
    "#         if des.empty:\n",
    "#             return\n",
    "    except Exception as e:\n",
    "        print(e.__str__())\n",
    "        return\n",
    "    return des"
   ]
  },
  {
   "cell_type": "code",
   "execution_count": 6,
   "id": "779ac861",
   "metadata": {},
   "outputs": [
    {
     "name": "stdout",
     "output_type": "stream",
     "text": [
      "[Errno 2] No such file or directory: 'C:\\\\Users\\\\chen\\\\Desktop\\\\reqData\\\\dosage\\\\ISCA-46556.html'\n",
      "[Errno 2] No such file or directory: 'C:\\\\Users\\\\chen\\\\Desktop\\\\reqData\\\\dosage\\\\ISCA-46306.html'\n"
     ]
    }
   ],
   "source": [
    "home_df[\"Dosage Sensitivity Summary (Region)-Description\"] = home_df[\"hgnc_id\"].apply(lambda x:get_dosage_des(x))"
   ]
  },
  {
   "cell_type": "code",
   "execution_count": 7,
   "id": "6fc241b6",
   "metadata": {
    "scrolled": true
   },
   "outputs": [
    {
     "data": {
      "text/html": [
       "<div>\n",
       "<style scoped>\n",
       "    .dataframe tbody tr th:only-of-type {\n",
       "        vertical-align: middle;\n",
       "    }\n",
       "\n",
       "    .dataframe tbody tr th {\n",
       "        vertical-align: top;\n",
       "    }\n",
       "\n",
       "    .dataframe thead th {\n",
       "        text-align: right;\n",
       "    }\n",
       "</style>\n",
       "<table border=\"1\" class=\"dataframe\">\n",
       "  <thead>\n",
       "    <tr style=\"text-align: right;\">\n",
       "      <th></th>\n",
       "      <th>type</th>\n",
       "      <th>hgnc_id</th>\n",
       "      <th>symbol</th>\n",
       "      <th>location</th>\n",
       "      <th>grch37</th>\n",
       "      <th>grch38</th>\n",
       "      <th>Dosage Sensitivity Summary (Region)-Description</th>\n",
       "      <th>Dosage Sensitivity Summary (Region)-Haploinsufficiency</th>\n",
       "      <th>Dosage Sensitivity Summary (Region)-Triplosensitivity</th>\n",
       "      <th>Haploinsufficiency (HI) Score Details-HI Evidence Comments</th>\n",
       "      <th>Triplosensitivity (TS) Score Details-TS Evidence Comments</th>\n",
       "    </tr>\n",
       "  </thead>\n",
       "  <tbody>\n",
       "    <tr>\n",
       "      <th>0</th>\n",
       "      <td>1</td>\n",
       "      <td>ISCA-46302</td>\n",
       "      <td>Xp21.2 region (includes NR0B1)</td>\n",
       "      <td>Xp21.2</td>\n",
       "      <td>chrX:30195000-30355000</td>\n",
       "      <td>chrX:30176883 -30336883</td>\n",
       "      <td>[]</td>\n",
       "      <td>NaN</td>\n",
       "      <td>NaN</td>\n",
       "      <td>NaN</td>\n",
       "      <td>NaN</td>\n",
       "    </tr>\n",
       "    <tr>\n",
       "      <th>1</th>\n",
       "      <td>1</td>\n",
       "      <td>ISCA-46300</td>\n",
       "      <td>15q24 recurrent region (LCR C-LCR D) (includes...</td>\n",
       "      <td>15q24</td>\n",
       "      <td>chr15: 75631787-75972909</td>\n",
       "      <td>chr15:75339446-75680568</td>\n",
       "      <td>[The 15q24 region contains a cluster of low co...</td>\n",
       "      <td>NaN</td>\n",
       "      <td>NaN</td>\n",
       "      <td>NaN</td>\n",
       "      <td>NaN</td>\n",
       "    </tr>\n",
       "    <tr>\n",
       "      <th>2</th>\n",
       "      <td>1</td>\n",
       "      <td>ISCA-46299</td>\n",
       "      <td>Xp11.22 region (includes HUWE1)</td>\n",
       "      <td>Xp11.22</td>\n",
       "      <td>chrX:53363456-53793054</td>\n",
       "      <td>chrX:53334251 -53766556</td>\n",
       "      <td>[]</td>\n",
       "      <td>NaN</td>\n",
       "      <td>NaN</td>\n",
       "      <td>NaN</td>\n",
       "      <td>NaN</td>\n",
       "    </tr>\n",
       "    <tr>\n",
       "      <th>3</th>\n",
       "      <td>1</td>\n",
       "      <td>ISCA-46297</td>\n",
       "      <td>16p12.2 recurrent region (distal)(includes OTOA)</td>\n",
       "      <td>16p12.2</td>\n",
       "      <td>chr16:21570113-21740423</td>\n",
       "      <td>chr16:21558792-21729102</td>\n",
       "      <td>[The 16p12.2 proximal region contains a cluste...</td>\n",
       "      <td>NaN</td>\n",
       "      <td>NaN</td>\n",
       "      <td>NaN</td>\n",
       "      <td>NaN</td>\n",
       "    </tr>\n",
       "    <tr>\n",
       "      <th>4</th>\n",
       "      <td>1</td>\n",
       "      <td>ISCA-46296</td>\n",
       "      <td>15q24 recurrent region (LCR A-LCR C)</td>\n",
       "      <td>15q24.1-q24.2</td>\n",
       "      <td>chr15:72963715-75508312</td>\n",
       "      <td>chr15:72671374-75215971</td>\n",
       "      <td>[The 15q24 region contains a cluster of low co...</td>\n",
       "      <td>NaN</td>\n",
       "      <td>NaN</td>\n",
       "      <td>NaN</td>\n",
       "      <td>NaN</td>\n",
       "    </tr>\n",
       "    <tr>\n",
       "      <th>...</th>\n",
       "      <td>...</td>\n",
       "      <td>...</td>\n",
       "      <td>...</td>\n",
       "      <td>...</td>\n",
       "      <td>...</td>\n",
       "      <td>...</td>\n",
       "      <td>...</td>\n",
       "      <td>...</td>\n",
       "      <td>...</td>\n",
       "      <td>...</td>\n",
       "      <td>...</td>\n",
       "    </tr>\n",
       "    <tr>\n",
       "      <th>502</th>\n",
       "      <td>1</td>\n",
       "      <td>ISCA-46317</td>\n",
       "      <td>1p36.11 population region (gnomAD-SV_v2.1_DEL_...</td>\n",
       "      <td>1p36.11</td>\n",
       "      <td>chr1:25630899-25636000</td>\n",
       "      <td>chr1:25304408-25309509</td>\n",
       "      <td>[SVTYPE=DEL GENES=RHD COPY_GAIN=NA GNOMAD AF=0...</td>\n",
       "      <td>NaN</td>\n",
       "      <td>NaN</td>\n",
       "      <td>NaN</td>\n",
       "      <td>NaN</td>\n",
       "    </tr>\n",
       "    <tr>\n",
       "      <th>503</th>\n",
       "      <td>1</td>\n",
       "      <td>ISCA-46316</td>\n",
       "      <td>1p36.11 population region (gnomAD-SV_v2.1_DEL_...</td>\n",
       "      <td>1p36.11</td>\n",
       "      <td>chr1:25613999-25621000</td>\n",
       "      <td>chr1:25287508-25294509</td>\n",
       "      <td>[SVTYPE=DEL GENES=RHD COPY_GAIN=NA GNOMAD AF=0...</td>\n",
       "      <td>NaN</td>\n",
       "      <td>NaN</td>\n",
       "      <td>NaN</td>\n",
       "      <td>NaN</td>\n",
       "    </tr>\n",
       "    <tr>\n",
       "      <th>504</th>\n",
       "      <td>1</td>\n",
       "      <td>ISCA-46314</td>\n",
       "      <td>1p36.11 population region (gnomAD-SV_v2.1_DEL_...</td>\n",
       "      <td>1p36.11</td>\n",
       "      <td>chr1:25592799-25651000</td>\n",
       "      <td>chr1:25266308-25324509</td>\n",
       "      <td>[SVTYPE=DEL GENES=RHD COPY_GAIN=NA GNOMAD AF=0...</td>\n",
       "      <td>NaN</td>\n",
       "      <td>NaN</td>\n",
       "      <td>NaN</td>\n",
       "      <td>NaN</td>\n",
       "    </tr>\n",
       "    <tr>\n",
       "      <th>505</th>\n",
       "      <td>1</td>\n",
       "      <td>ISCA-46487</td>\n",
       "      <td>16p13.11 population region (gnomAD-SV_v2.1_DEL...</td>\n",
       "      <td>16p13.11</td>\n",
       "      <td>chr16:16329599-16364350</td>\n",
       "      <td>chr16:16235742-16270493</td>\n",
       "      <td>[SVTYPE=DEL GENES=NOMO3 COPY_GAIN=NA GNOMAD AF...</td>\n",
       "      <td>NaN</td>\n",
       "      <td>NaN</td>\n",
       "      <td>NaN</td>\n",
       "      <td>NaN</td>\n",
       "    </tr>\n",
       "    <tr>\n",
       "      <th>506</th>\n",
       "      <td>1</td>\n",
       "      <td>ISCA-46742</td>\n",
       "      <td>7p22.1 region (includes ACTB)</td>\n",
       "      <td>7p22.1</td>\n",
       "      <td>chr7:5536848-5799722</td>\n",
       "      <td>chr7:5497217-5760091</td>\n",
       "      <td>[]</td>\n",
       "      <td>NaN</td>\n",
       "      <td>NaN</td>\n",
       "      <td>NaN</td>\n",
       "      <td>NaN</td>\n",
       "    </tr>\n",
       "  </tbody>\n",
       "</table>\n",
       "<p>507 rows × 11 columns</p>\n",
       "</div>"
      ],
      "text/plain": [
       "     type     hgnc_id                                             symbol  \\\n",
       "0       1  ISCA-46302                     Xp21.2 region (includes NR0B1)   \n",
       "1       1  ISCA-46300  15q24 recurrent region (LCR C-LCR D) (includes...   \n",
       "2       1  ISCA-46299                    Xp11.22 region (includes HUWE1)   \n",
       "3       1  ISCA-46297   16p12.2 recurrent region (distal)(includes OTOA)   \n",
       "4       1  ISCA-46296               15q24 recurrent region (LCR A-LCR C)   \n",
       "..    ...         ...                                                ...   \n",
       "502     1  ISCA-46317  1p36.11 population region (gnomAD-SV_v2.1_DEL_...   \n",
       "503     1  ISCA-46316  1p36.11 population region (gnomAD-SV_v2.1_DEL_...   \n",
       "504     1  ISCA-46314  1p36.11 population region (gnomAD-SV_v2.1_DEL_...   \n",
       "505     1  ISCA-46487  16p13.11 population region (gnomAD-SV_v2.1_DEL...   \n",
       "506     1  ISCA-46742                      7p22.1 region (includes ACTB)   \n",
       "\n",
       "          location                    grch37                   grch38  \\\n",
       "0           Xp21.2    chrX:30195000-30355000  chrX:30176883 -30336883   \n",
       "1            15q24  chr15: 75631787-75972909  chr15:75339446-75680568   \n",
       "2          Xp11.22    chrX:53363456-53793054  chrX:53334251 -53766556   \n",
       "3          16p12.2   chr16:21570113-21740423  chr16:21558792-21729102   \n",
       "4    15q24.1-q24.2   chr15:72963715-75508312  chr15:72671374-75215971   \n",
       "..             ...                       ...                      ...   \n",
       "502        1p36.11    chr1:25630899-25636000   chr1:25304408-25309509   \n",
       "503        1p36.11    chr1:25613999-25621000   chr1:25287508-25294509   \n",
       "504        1p36.11    chr1:25592799-25651000   chr1:25266308-25324509   \n",
       "505       16p13.11   chr16:16329599-16364350  chr16:16235742-16270493   \n",
       "506         7p22.1      chr7:5536848-5799722     chr7:5497217-5760091   \n",
       "\n",
       "       Dosage Sensitivity Summary (Region)-Description  \\\n",
       "0                                                   []   \n",
       "1    [The 15q24 region contains a cluster of low co...   \n",
       "2                                                   []   \n",
       "3    [The 16p12.2 proximal region contains a cluste...   \n",
       "4    [The 15q24 region contains a cluster of low co...   \n",
       "..                                                 ...   \n",
       "502  [SVTYPE=DEL GENES=RHD COPY_GAIN=NA GNOMAD AF=0...   \n",
       "503  [SVTYPE=DEL GENES=RHD COPY_GAIN=NA GNOMAD AF=0...   \n",
       "504  [SVTYPE=DEL GENES=RHD COPY_GAIN=NA GNOMAD AF=0...   \n",
       "505  [SVTYPE=DEL GENES=NOMO3 COPY_GAIN=NA GNOMAD AF...   \n",
       "506                                                 []   \n",
       "\n",
       "     Dosage Sensitivity Summary (Region)-Haploinsufficiency  \\\n",
       "0                                                  NaN        \n",
       "1                                                  NaN        \n",
       "2                                                  NaN        \n",
       "3                                                  NaN        \n",
       "4                                                  NaN        \n",
       "..                                                 ...        \n",
       "502                                                NaN        \n",
       "503                                                NaN        \n",
       "504                                                NaN        \n",
       "505                                                NaN        \n",
       "506                                                NaN        \n",
       "\n",
       "     Dosage Sensitivity Summary (Region)-Triplosensitivity  \\\n",
       "0                                                  NaN       \n",
       "1                                                  NaN       \n",
       "2                                                  NaN       \n",
       "3                                                  NaN       \n",
       "4                                                  NaN       \n",
       "..                                                 ...       \n",
       "502                                                NaN       \n",
       "503                                                NaN       \n",
       "504                                                NaN       \n",
       "505                                                NaN       \n",
       "506                                                NaN       \n",
       "\n",
       "     Haploinsufficiency (HI) Score Details-HI Evidence Comments  \\\n",
       "0                                                  NaN            \n",
       "1                                                  NaN            \n",
       "2                                                  NaN            \n",
       "3                                                  NaN            \n",
       "4                                                  NaN            \n",
       "..                                                 ...            \n",
       "502                                                NaN            \n",
       "503                                                NaN            \n",
       "504                                                NaN            \n",
       "505                                                NaN            \n",
       "506                                                NaN            \n",
       "\n",
       "     Triplosensitivity (TS) Score Details-TS Evidence Comments  \n",
       "0                                                  NaN          \n",
       "1                                                  NaN          \n",
       "2                                                  NaN          \n",
       "3                                                  NaN          \n",
       "4                                                  NaN          \n",
       "..                                                 ...          \n",
       "502                                                NaN          \n",
       "503                                                NaN          \n",
       "504                                                NaN          \n",
       "505                                                NaN          \n",
       "506                                                NaN          \n",
       "\n",
       "[507 rows x 11 columns]"
      ]
     },
     "execution_count": 7,
     "metadata": {},
     "output_type": "execute_result"
    }
   ],
   "source": [
    "home_df"
   ]
  },
  {
   "cell_type": "code",
   "execution_count": 18,
   "id": "a406f833",
   "metadata": {},
   "outputs": [],
   "source": [
    "def get_dosage_hap(info):\n",
    "    if not info or info == np.nan:\n",
    "        return\n",
    "    \n",
    "    try:\n",
    "        path = os.path.join(dosage_path, f\"\"+ str(info) + \".html\")\n",
    "        with open(path,encoding='UTF-8') as f:\n",
    "            text = f.read()\n",
    "        ntext = html2text(text)\n",
    "        Dosage_Hap = r\"Haploinsufficiency:\\n\\n([.\\s\\S]*?)\\n\\nRead full\"\n",
    "        hap = re.findall(Dosage_Hap,str(ntext))\n",
    "       \n",
    "#         if des.empty:\n",
    "#             return\n",
    "    except Exception as e:\n",
    "        print(e.__str__())\n",
    "        return\n",
    "    return hap"
   ]
  },
  {
   "cell_type": "code",
   "execution_count": 19,
   "id": "db735a27",
   "metadata": {},
   "outputs": [
    {
     "name": "stdout",
     "output_type": "stream",
     "text": [
      "[Errno 2] No such file or directory: 'C:\\\\Users\\\\chen\\\\Desktop\\\\reqData\\\\dosage\\\\ISCA-46556.html'\n",
      "[Errno 2] No such file or directory: 'C:\\\\Users\\\\chen\\\\Desktop\\\\reqData\\\\dosage\\\\ISCA-46306.html'\n"
     ]
    }
   ],
   "source": [
    "home_df[\"Dosage Sensitivity Summary (Region)-Haploinsufficiency\"] = home_df[\"hgnc_id\"].apply(lambda x:get_dosage_hap(x))"
   ]
  },
  {
   "cell_type": "code",
   "execution_count": 20,
   "id": "1e058a50",
   "metadata": {},
   "outputs": [],
   "source": [
    "def get_dosage_tir(info):\n",
    "    if not info or info == np.nan:\n",
    "        return\n",
    "    \n",
    "    try:\n",
    "        path = os.path.join(dosage_path, f\"\"+ str(info) + \".html\")\n",
    "        with open(path,encoding='UTF-8') as f:\n",
    "            text = f.read()\n",
    "        ntext = html2text(text)\n",
    "        Dosage_Tir = r\"Triplosensitivity:\\n\\n([.\\s\\S]*?)\\n\\nRead full\"\n",
    "        tir = re.findall(Dosage_Tir,str(ntext))\n",
    "       \n",
    "#         if des.empty:\n",
    "#             return\n",
    "    except Exception as e:\n",
    "        print(e.__str__())\n",
    "        return\n",
    "    return tir"
   ]
  },
  {
   "cell_type": "code",
   "execution_count": 21,
   "id": "f88860ba",
   "metadata": {},
   "outputs": [
    {
     "name": "stdout",
     "output_type": "stream",
     "text": [
      "[Errno 2] No such file or directory: 'C:\\\\Users\\\\chen\\\\Desktop\\\\reqData\\\\dosage\\\\ISCA-46556.html'\n",
      "[Errno 2] No such file or directory: 'C:\\\\Users\\\\chen\\\\Desktop\\\\reqData\\\\dosage\\\\ISCA-46306.html'\n"
     ]
    }
   ],
   "source": [
    "home_df[\"Dosage Sensitivity Summary (Region)-Triplosensitivity\"] = home_df[\"hgnc_id\"].apply(lambda x:get_dosage_tir(x))"
   ]
  },
  {
   "cell_type": "code",
   "execution_count": 22,
   "id": "ac091a3f",
   "metadata": {},
   "outputs": [],
   "source": [
    "def get_hi_comments(info):\n",
    "    if not info or info == np.nan:\n",
    "        return\n",
    "    \n",
    "    try:\n",
    "        path = os.path.join(dosage_path, f\"\"+ str(info) + \".html\")\n",
    "        with open(path,encoding='UTF-8') as f:\n",
    "            text = f.read()\n",
    "        ntext = html2text(text)\n",
    "        HI_Comments = r\"HI Evidence Comments:\\n\\n([.\\s\\S]*?).\\n\\n\"\n",
    "        hi_comments = re.findall(HI_Comments,str(ntext))\n",
    "       \n",
    "#         if des.empty:\n",
    "#             return\n",
    "    except Exception as e:\n",
    "        print(e.__str__())\n",
    "        return\n",
    "    return hi_comments"
   ]
  },
  {
   "cell_type": "code",
   "execution_count": 23,
   "id": "02f16a5d",
   "metadata": {},
   "outputs": [
    {
     "name": "stdout",
     "output_type": "stream",
     "text": [
      "[Errno 2] No such file or directory: 'C:\\\\Users\\\\chen\\\\Desktop\\\\reqData\\\\dosage\\\\ISCA-46556.html'\n",
      "[Errno 2] No such file or directory: 'C:\\\\Users\\\\chen\\\\Desktop\\\\reqData\\\\dosage\\\\ISCA-46306.html'\n"
     ]
    }
   ],
   "source": [
    "home_df[\"Haploinsufficiency (HI) Score Details-HI Evidence Comments\"] = home_df[\"hgnc_id\"].apply(lambda x:get_hi_comments(x))"
   ]
  },
  {
   "cell_type": "code",
   "execution_count": 24,
   "id": "b3358dd1",
   "metadata": {},
   "outputs": [],
   "source": [
    "def get_ts_comments(info):\n",
    "    if not info or info == np.nan:\n",
    "        return\n",
    "    \n",
    "    try:\n",
    "        path = os.path.join(dosage_path, f\"\"+ str(info) + \".html\")\n",
    "        with open(path,encoding='UTF-8') as f:\n",
    "            text = f.read()\n",
    "        ntext = html2text(text)\n",
    "        TS_Comments = r\"TS Evidence Comments:\\n\\n([.\\s\\S]*?).\\n\\n\"\n",
    "        ts_comments = re.findall(TS_Comments,str(ntext))\n",
    "       \n",
    "#         if des.empty:\n",
    "#             return\n",
    "    except Exception as e:\n",
    "        print(e.__str__())\n",
    "        return\n",
    "    return ts_comments"
   ]
  },
  {
   "cell_type": "code",
   "execution_count": 25,
   "id": "c54188ac",
   "metadata": {},
   "outputs": [
    {
     "name": "stdout",
     "output_type": "stream",
     "text": [
      "[Errno 2] No such file or directory: 'C:\\\\Users\\\\chen\\\\Desktop\\\\reqData\\\\dosage\\\\ISCA-46556.html'\n",
      "[Errno 2] No such file or directory: 'C:\\\\Users\\\\chen\\\\Desktop\\\\reqData\\\\dosage\\\\ISCA-46306.html'\n"
     ]
    }
   ],
   "source": [
    "home_df[\"Triplosensitivity (TS) Score Details-TS Evidence Comments\"] = home_df[\"hgnc_id\"].apply(lambda x:get_ts_comments(x))"
   ]
  },
  {
   "cell_type": "code",
   "execution_count": 26,
   "id": "d18d6350",
   "metadata": {},
   "outputs": [
    {
     "data": {
      "text/html": [
       "<div>\n",
       "<style scoped>\n",
       "    .dataframe tbody tr th:only-of-type {\n",
       "        vertical-align: middle;\n",
       "    }\n",
       "\n",
       "    .dataframe tbody tr th {\n",
       "        vertical-align: top;\n",
       "    }\n",
       "\n",
       "    .dataframe thead th {\n",
       "        text-align: right;\n",
       "    }\n",
       "</style>\n",
       "<table border=\"1\" class=\"dataframe\">\n",
       "  <thead>\n",
       "    <tr style=\"text-align: right;\">\n",
       "      <th></th>\n",
       "      <th>type</th>\n",
       "      <th>hgnc_id</th>\n",
       "      <th>symbol</th>\n",
       "      <th>location</th>\n",
       "      <th>grch37</th>\n",
       "      <th>grch38</th>\n",
       "      <th>Dosage Sensitivity Summary (Region)-Description</th>\n",
       "      <th>Dosage Sensitivity Summary (Region)-Haploinsufficiency</th>\n",
       "      <th>Dosage Sensitivity Summary (Region)-Triplosensitivity</th>\n",
       "      <th>Haploinsufficiency (HI) Score Details-HI Evidence Comments</th>\n",
       "      <th>Triplosensitivity (TS) Score Details-TS Evidence Comments</th>\n",
       "    </tr>\n",
       "  </thead>\n",
       "  <tbody>\n",
       "    <tr>\n",
       "      <th>0</th>\n",
       "      <td>1</td>\n",
       "      <td>ISCA-46302</td>\n",
       "      <td>Xp21.2 region (includes NR0B1)</td>\n",
       "      <td>Xp21.2</td>\n",
       "      <td>chrX:30195000-30355000</td>\n",
       "      <td>chrX:30176883 -30336883</td>\n",
       "      <td>[]</td>\n",
       "      <td>[No Evidence for Haploinsufficiency (0)]</td>\n",
       "      <td>[Sufficient Evidence for Triplosensitivity (3)]</td>\n",
       "      <td>[Loss of the NR0B1 gene alone has been associa...</td>\n",
       "      <td>[This region was created to capture the variou...</td>\n",
       "    </tr>\n",
       "    <tr>\n",
       "      <th>1</th>\n",
       "      <td>1</td>\n",
       "      <td>ISCA-46300</td>\n",
       "      <td>15q24 recurrent region (LCR C-LCR D) (includes...</td>\n",
       "      <td>15q24</td>\n",
       "      <td>chr15: 75631787-75972909</td>\n",
       "      <td>chr15:75339446-75680568</td>\n",
       "      <td>[The 15q24 region contains a cluster of low co...</td>\n",
       "      <td>[Sufficient Evidence for Haploinsufficiency (3)]</td>\n",
       "      <td>[No Evidence for Triplosensitivity (0)]</td>\n",
       "      <td>[Deletion of the 15q24 recurrent region (C-D) ...</td>\n",
       "      <td>[Duplications of this region which do not exte...</td>\n",
       "    </tr>\n",
       "    <tr>\n",
       "      <th>2</th>\n",
       "      <td>1</td>\n",
       "      <td>ISCA-46299</td>\n",
       "      <td>Xp11.22 region (includes HUWE1)</td>\n",
       "      <td>Xp11.22</td>\n",
       "      <td>chrX:53363456-53793054</td>\n",
       "      <td>chrX:53334251 -53766556</td>\n",
       "      <td>[]</td>\n",
       "      <td>[No Evidence for Haploinsufficiency (0)]</td>\n",
       "      <td>[Sufficient Evidence for Triplosensitivity (3)]</td>\n",
       "      <td>[No published descriptions of deletions of thi...</td>\n",
       "      <td>[Froyen 2012 paper is the major resource for c...</td>\n",
       "    </tr>\n",
       "    <tr>\n",
       "      <th>3</th>\n",
       "      <td>1</td>\n",
       "      <td>ISCA-46297</td>\n",
       "      <td>16p12.2 recurrent region (distal)(includes OTOA)</td>\n",
       "      <td>16p12.2</td>\n",
       "      <td>chr16:21570113-21740423</td>\n",
       "      <td>chr16:21558792-21729102</td>\n",
       "      <td>[The 16p12.2 proximal region contains a cluste...</td>\n",
       "      <td>[Gene Associated with Autosomal Recessive Phen...</td>\n",
       "      <td>[Dosage Sensitivity Unlikely (40)]</td>\n",
       "      <td>[Deletions of this region have been reported i...</td>\n",
       "      <td>[At this time there is no data to support that...</td>\n",
       "    </tr>\n",
       "    <tr>\n",
       "      <th>4</th>\n",
       "      <td>1</td>\n",
       "      <td>ISCA-46296</td>\n",
       "      <td>15q24 recurrent region (LCR A-LCR C)</td>\n",
       "      <td>15q24.1-q24.2</td>\n",
       "      <td>chr15:72963715-75508312</td>\n",
       "      <td>chr15:72671374-75215971</td>\n",
       "      <td>[The 15q24 region contains a cluster of low co...</td>\n",
       "      <td>[Sufficient Evidence for Haploinsufficiency (3)]</td>\n",
       "      <td>[Little Evidence for Triplosensitivity (1)]</td>\n",
       "      <td>[Deletion of the 15q24 recurrent region (A-C)*...</td>\n",
       "      <td>[Duplication of the 15q24 recurrent region (A-...</td>\n",
       "    </tr>\n",
       "    <tr>\n",
       "      <th>...</th>\n",
       "      <td>...</td>\n",
       "      <td>...</td>\n",
       "      <td>...</td>\n",
       "      <td>...</td>\n",
       "      <td>...</td>\n",
       "      <td>...</td>\n",
       "      <td>...</td>\n",
       "      <td>...</td>\n",
       "      <td>...</td>\n",
       "      <td>...</td>\n",
       "      <td>...</td>\n",
       "    </tr>\n",
       "    <tr>\n",
       "      <th>502</th>\n",
       "      <td>1</td>\n",
       "      <td>ISCA-46317</td>\n",
       "      <td>1p36.11 population region (gnomAD-SV_v2.1_DEL_...</td>\n",
       "      <td>1p36.11</td>\n",
       "      <td>chr1:25630899-25636000</td>\n",
       "      <td>chr1:25304408-25309509</td>\n",
       "      <td>[SVTYPE=DEL GENES=RHD COPY_GAIN=NA GNOMAD AF=0...</td>\n",
       "      <td>[Dosage Sensitivity Unlikely (40)]</td>\n",
       "      <td>[No Evidence for Triplosensitivity (0)]</td>\n",
       "      <td>[As part of an effort to identify genomic regi...</td>\n",
       "      <td>[]</td>\n",
       "    </tr>\n",
       "    <tr>\n",
       "      <th>503</th>\n",
       "      <td>1</td>\n",
       "      <td>ISCA-46316</td>\n",
       "      <td>1p36.11 population region (gnomAD-SV_v2.1_DEL_...</td>\n",
       "      <td>1p36.11</td>\n",
       "      <td>chr1:25613999-25621000</td>\n",
       "      <td>chr1:25287508-25294509</td>\n",
       "      <td>[SVTYPE=DEL GENES=RHD COPY_GAIN=NA GNOMAD AF=0...</td>\n",
       "      <td>[Dosage Sensitivity Unlikely (40)]</td>\n",
       "      <td>[No Evidence for Triplosensitivity (0)]</td>\n",
       "      <td>[As part of an effort to identify genomic regi...</td>\n",
       "      <td>[]</td>\n",
       "    </tr>\n",
       "    <tr>\n",
       "      <th>504</th>\n",
       "      <td>1</td>\n",
       "      <td>ISCA-46314</td>\n",
       "      <td>1p36.11 population region (gnomAD-SV_v2.1_DEL_...</td>\n",
       "      <td>1p36.11</td>\n",
       "      <td>chr1:25592799-25651000</td>\n",
       "      <td>chr1:25266308-25324509</td>\n",
       "      <td>[SVTYPE=DEL GENES=RHD COPY_GAIN=NA GNOMAD AF=0...</td>\n",
       "      <td>[Dosage Sensitivity Unlikely (40)]</td>\n",
       "      <td>[No Evidence for Triplosensitivity (0)]</td>\n",
       "      <td>[As part of an effort to identify genomic regi...</td>\n",
       "      <td>[]</td>\n",
       "    </tr>\n",
       "    <tr>\n",
       "      <th>505</th>\n",
       "      <td>1</td>\n",
       "      <td>ISCA-46487</td>\n",
       "      <td>16p13.11 population region (gnomAD-SV_v2.1_DEL...</td>\n",
       "      <td>16p13.11</td>\n",
       "      <td>chr16:16329599-16364350</td>\n",
       "      <td>chr16:16235742-16270493</td>\n",
       "      <td>[SVTYPE=DEL GENES=NOMO3 COPY_GAIN=NA GNOMAD AF...</td>\n",
       "      <td>[Dosage Sensitivity Unlikely (40)]</td>\n",
       "      <td>[No Evidence for Triplosensitivity (0)]</td>\n",
       "      <td>[As part of an effort to identify genomic regi...</td>\n",
       "      <td>[]</td>\n",
       "    </tr>\n",
       "    <tr>\n",
       "      <th>506</th>\n",
       "      <td>1</td>\n",
       "      <td>ISCA-46742</td>\n",
       "      <td>7p22.1 region (includes ACTB)</td>\n",
       "      <td>7p22.1</td>\n",
       "      <td>chr7:5536848-5799722</td>\n",
       "      <td>chr7:5497217-5760091</td>\n",
       "      <td>[]</td>\n",
       "      <td>[Sufficient Evidence for Haploinsufficiency (3)]</td>\n",
       "      <td>[Little Evidence for Triplosensitivity (1)]</td>\n",
       "      <td>[Many of the deletions used for this curation ...</td>\n",
       "      <td>[Many of the duplications used for this curati...</td>\n",
       "    </tr>\n",
       "  </tbody>\n",
       "</table>\n",
       "<p>507 rows × 11 columns</p>\n",
       "</div>"
      ],
      "text/plain": [
       "     type     hgnc_id                                             symbol  \\\n",
       "0       1  ISCA-46302                     Xp21.2 region (includes NR0B1)   \n",
       "1       1  ISCA-46300  15q24 recurrent region (LCR C-LCR D) (includes...   \n",
       "2       1  ISCA-46299                    Xp11.22 region (includes HUWE1)   \n",
       "3       1  ISCA-46297   16p12.2 recurrent region (distal)(includes OTOA)   \n",
       "4       1  ISCA-46296               15q24 recurrent region (LCR A-LCR C)   \n",
       "..    ...         ...                                                ...   \n",
       "502     1  ISCA-46317  1p36.11 population region (gnomAD-SV_v2.1_DEL_...   \n",
       "503     1  ISCA-46316  1p36.11 population region (gnomAD-SV_v2.1_DEL_...   \n",
       "504     1  ISCA-46314  1p36.11 population region (gnomAD-SV_v2.1_DEL_...   \n",
       "505     1  ISCA-46487  16p13.11 population region (gnomAD-SV_v2.1_DEL...   \n",
       "506     1  ISCA-46742                      7p22.1 region (includes ACTB)   \n",
       "\n",
       "          location                    grch37                   grch38  \\\n",
       "0           Xp21.2    chrX:30195000-30355000  chrX:30176883 -30336883   \n",
       "1            15q24  chr15: 75631787-75972909  chr15:75339446-75680568   \n",
       "2          Xp11.22    chrX:53363456-53793054  chrX:53334251 -53766556   \n",
       "3          16p12.2   chr16:21570113-21740423  chr16:21558792-21729102   \n",
       "4    15q24.1-q24.2   chr15:72963715-75508312  chr15:72671374-75215971   \n",
       "..             ...                       ...                      ...   \n",
       "502        1p36.11    chr1:25630899-25636000   chr1:25304408-25309509   \n",
       "503        1p36.11    chr1:25613999-25621000   chr1:25287508-25294509   \n",
       "504        1p36.11    chr1:25592799-25651000   chr1:25266308-25324509   \n",
       "505       16p13.11   chr16:16329599-16364350  chr16:16235742-16270493   \n",
       "506         7p22.1      chr7:5536848-5799722     chr7:5497217-5760091   \n",
       "\n",
       "       Dosage Sensitivity Summary (Region)-Description  \\\n",
       "0                                                   []   \n",
       "1    [The 15q24 region contains a cluster of low co...   \n",
       "2                                                   []   \n",
       "3    [The 16p12.2 proximal region contains a cluste...   \n",
       "4    [The 15q24 region contains a cluster of low co...   \n",
       "..                                                 ...   \n",
       "502  [SVTYPE=DEL GENES=RHD COPY_GAIN=NA GNOMAD AF=0...   \n",
       "503  [SVTYPE=DEL GENES=RHD COPY_GAIN=NA GNOMAD AF=0...   \n",
       "504  [SVTYPE=DEL GENES=RHD COPY_GAIN=NA GNOMAD AF=0...   \n",
       "505  [SVTYPE=DEL GENES=NOMO3 COPY_GAIN=NA GNOMAD AF...   \n",
       "506                                                 []   \n",
       "\n",
       "    Dosage Sensitivity Summary (Region)-Haploinsufficiency  \\\n",
       "0             [No Evidence for Haploinsufficiency (0)]       \n",
       "1     [Sufficient Evidence for Haploinsufficiency (3)]       \n",
       "2             [No Evidence for Haploinsufficiency (0)]       \n",
       "3    [Gene Associated with Autosomal Recessive Phen...       \n",
       "4     [Sufficient Evidence for Haploinsufficiency (3)]       \n",
       "..                                                 ...       \n",
       "502                 [Dosage Sensitivity Unlikely (40)]       \n",
       "503                 [Dosage Sensitivity Unlikely (40)]       \n",
       "504                 [Dosage Sensitivity Unlikely (40)]       \n",
       "505                 [Dosage Sensitivity Unlikely (40)]       \n",
       "506   [Sufficient Evidence for Haploinsufficiency (3)]       \n",
       "\n",
       "    Dosage Sensitivity Summary (Region)-Triplosensitivity  \\\n",
       "0      [Sufficient Evidence for Triplosensitivity (3)]      \n",
       "1              [No Evidence for Triplosensitivity (0)]      \n",
       "2      [Sufficient Evidence for Triplosensitivity (3)]      \n",
       "3                   [Dosage Sensitivity Unlikely (40)]      \n",
       "4          [Little Evidence for Triplosensitivity (1)]      \n",
       "..                                                 ...      \n",
       "502            [No Evidence for Triplosensitivity (0)]      \n",
       "503            [No Evidence for Triplosensitivity (0)]      \n",
       "504            [No Evidence for Triplosensitivity (0)]      \n",
       "505            [No Evidence for Triplosensitivity (0)]      \n",
       "506        [Little Evidence for Triplosensitivity (1)]      \n",
       "\n",
       "    Haploinsufficiency (HI) Score Details-HI Evidence Comments  \\\n",
       "0    [Loss of the NR0B1 gene alone has been associa...           \n",
       "1    [Deletion of the 15q24 recurrent region (C-D) ...           \n",
       "2    [No published descriptions of deletions of thi...           \n",
       "3    [Deletions of this region have been reported i...           \n",
       "4    [Deletion of the 15q24 recurrent region (A-C)*...           \n",
       "..                                                 ...           \n",
       "502  [As part of an effort to identify genomic regi...           \n",
       "503  [As part of an effort to identify genomic regi...           \n",
       "504  [As part of an effort to identify genomic regi...           \n",
       "505  [As part of an effort to identify genomic regi...           \n",
       "506  [Many of the deletions used for this curation ...           \n",
       "\n",
       "    Triplosensitivity (TS) Score Details-TS Evidence Comments  \n",
       "0    [This region was created to capture the variou...         \n",
       "1    [Duplications of this region which do not exte...         \n",
       "2    [Froyen 2012 paper is the major resource for c...         \n",
       "3    [At this time there is no data to support that...         \n",
       "4    [Duplication of the 15q24 recurrent region (A-...         \n",
       "..                                                 ...         \n",
       "502                                                 []         \n",
       "503                                                 []         \n",
       "504                                                 []         \n",
       "505                                                 []         \n",
       "506  [Many of the duplications used for this curati...         \n",
       "\n",
       "[507 rows x 11 columns]"
      ]
     },
     "execution_count": 26,
     "metadata": {},
     "output_type": "execute_result"
    }
   ],
   "source": [
    "home_df"
   ]
  },
  {
   "cell_type": "code",
   "execution_count": 27,
   "id": "bda8d6b1",
   "metadata": {},
   "outputs": [],
   "source": [
    "home_df.to_excel('clingen_整理.xlsx')"
   ]
  },
  {
   "cell_type": "code",
   "execution_count": null,
   "id": "b417da80",
   "metadata": {},
   "outputs": [],
   "source": []
  },
  {
   "cell_type": "code",
   "execution_count": null,
   "id": "e0b48da6",
   "metadata": {},
   "outputs": [],
   "source": []
  },
  {
   "cell_type": "code",
   "execution_count": null,
   "id": "032844bb",
   "metadata": {},
   "outputs": [],
   "source": []
  },
  {
   "cell_type": "code",
   "execution_count": 44,
   "id": "9be877ab",
   "metadata": {},
   "outputs": [],
   "source": [
    "from html2text  import html2text\n",
    "import re "
   ]
  },
  {
   "cell_type": "code",
   "execution_count": 45,
   "id": "1adec56e",
   "metadata": {},
   "outputs": [],
   "source": [
    "with open(\"C:/Users/chen/Desktop/reqData/dosage/ISCA-46300.html\",\"r\") as f:\n",
    "    text2 = f.read()"
   ]
  },
  {
   "cell_type": "code",
   "execution_count": 46,
   "id": "121591bd",
   "metadata": {
    "scrolled": false
   },
   "outputs": [],
   "source": [
    "ntext2 = html2text(text2)"
   ]
  },
  {
   "cell_type": "code",
   "execution_count": 47,
   "id": "c88ae573",
   "metadata": {},
   "outputs": [
    {
     "data": {
      "text/plain": [
       "\"  * [ Data Sharing Resources ](https://www.clinicalgenome.org/share-your-data/)\\n  * [GenomeConnect](https://www.clinicalgenome.org/genomeconnect/)\\n  * [Events](https://www.clinicalgenome.org/about/events/)\\n  * [Contact](https://www.clinicalgenome.org/about/contact-clingen/)\\n  * __ Member \\n    * [__Dashboard](/dashboard)\\n    *     * [ __Logout](https://search.clinicalgenome.org/logout)\\n  * Login\\n\\nToggle navigation Navigation __ [![Responsive image](/brand/logo/logo-\\nclinical-genome-logo-vector.svg)](https://www.clinicalgenome.org/)\\n\\n  * [Get Started](https://www.clinicalgenome.org/start/)\\n  * [About Us](https://www.clinicalgenome.org/about/)\\n    * [ClinGen & ClinVar Collaboration](https://www.clinicalgenome.org/about/clingen-clinvar-collaboration/)\\n    * [ClinGen, CPIC and PharmGKB Partnership ](https://www.clinicalgenome.org/about/clingen-cpic-pharmgkb/)\\n    * [ClinGen Terms of Use](https://www.clinicalgenome.org/about/terms-of-use/)\\n    * [Collaborations](https://www.clinicalgenome.org/about/clingen-collaborations/)\\n    * [Contact ClinGen](https://www.clinicalgenome.org/about/contact-clingen/)\\n    * [Events & Conferences](https://www.clinicalgenome.org/about/events/)\\n    * [Leadership](https://www.clinicalgenome.org/about/clingen-leadership/)\\n    * [Member Directory](https://www.clinicalgenome.org/about/people/)\\n    * [Policies](https://www.clinicalgenome.org/about/clingen-policies/)\\n    * [Website SiteMap](https://www.clinicalgenome.org/about/sitemap/)\\n  * [Curation Activities](https://www.clinicalgenome.org/curation-activities/)\\n    * [ Gene-Disease Validity](https://www.clinicalgenome.org/curation-activities/gene-disease-validity/)\\n    * [__Training Materials](https://www.clinicalgenome.org/curation-activities/gene-disease-validity/training-materials/)\\n    * [__Browse Curations](http://search.clinicalgenome.org/kb/gene-validity)\\n    * [ Variant Pathogenicity](https://www.clinicalgenome.org/curation-activities/variant-pathogenicity/)\\n    * [__Training Materials](https://www.clinicalgenome.org/curation-activities/variant-pathogenicity/training-materials/)\\n    * [__Browse Curations](https://erepo.clinicalgenome.org/evrepo/)\\n    * [ Clinical Actionability](https://www.clinicalgenome.org/curation-activities/clinical-actionability/)\\n    * [__Training Materials](https://www.clinicalgenome.org/curation-activities/clinical-actionability/training-materials/)\\n    * [__Browse Curations](http://search.clinicalgenome.org/kb/actionability)\\n    * [ Dosage Sensitivity](https://www.clinicalgenome.org/curation-activities/dosage-sensitivity/)\\n    * [__Training Materials](https://www.clinicalgenome.org/curation-activities/dosage-sensitivity/training-materials/)\\n    * [__Browse Curations](http://search.clinicalgenome.org/kb/gene-dosage)\\n    *     * [ Browse All ClinGen's Curated Genes](https://www.clinicalgenome.org/curation-activities/results/)\\n  * [Working Groups](https://www.clinicalgenome.org/working-groups/)\\n  * [Expert Panels](https://www.clinicalgenome.org/affiliation/)\\n  * [Documents  & Annoucements](https://www.clinicalgenome.org/docs/)\\n  * [Tools](https://www.clinicalgenome.org/tools/)\\n  * __\\n\\n__\\n\\nGene\\n\\n  * Gene Symbol\\n  * Disease Name\\n  * Drug Name\\n  * Region (GRCh37)\\n  * Region (GRCh38)\\n  *   * [Variant __](http://reg.clinicalgenome.org)\\n  * [ Website Content __](https://clinicalgenome.org/search/)\\n\\nSearch\\n\\n  * [ All Curated Genes ](https://search.clinicalgenome.org/kb/genes/curations)\\n  * [ Gene-Disease Validity ](https://search.clinicalgenome.org/kb/gene-validity)\\n    * [All Curations](https://search.clinicalgenome.org/kb/gene-validity)\\n    * [Curations by Expert Panel](https://search.clinicalgenome.org/kb/affiliate)\\n    *     * [__File Downloads](https://search.clinicalgenome.org/kb/downloads/#section_gene-disease-validity)\\n  * [ Dosage Sensitivity ](https://search.clinicalgenome.org/kb/gene-dosage)\\n    * [All Curations](https://search.clinicalgenome.org/kb/gene-dosage)\\n    * [Recurrent CNV](https://search.clinicalgenome.org/kb/gene-dosage/cnv)\\n    *     * [__FTP File Downloads (CSV, BED, TSV)](https://search.clinicalgenome.org/kb/downloads/#section_dosage)\\n  * [ Clinical Actionability ](https://search.clinicalgenome.org/kb/actionability)\\n    * [All Curations __](https://search.clinicalgenome.org/kb/actionability)\\n    * [Curations in Adult Context __](https://actionability.clinicalgenome.org/ac/Adult/ui/summ)\\n    * [Curations in Pediatric Context __](https://actionability.clinicalgenome.org/ac/Pediatric/ui/summ)\\n    * [Scoring Metric __](https://www.clinicalgenome.org/docs/semi-quantitative-scoring-metric/)\\n    *     * [__File Downloads & APIs](https://search.clinicalgenome.org/kb/downloads/#section_actionability)\\n  * [ Curated Variants ](https://search.clinicalgenome.org/kb/variant-pathogenicity/all)\\n    * [All Curations __](https://search.clinicalgenome.org/kb/variant-pathogenicity/all)\\n    *     *     * [__File Downloads & APIs](https://search.clinicalgenome.org/kb/downloads#section_variant)\\n  * [ Statistics ](https://search.clinicalgenome.org/kb/reports/stats)\\n  * [ Downloads ](https://search.clinicalgenome.org/kb/downloads)\\n  * More \\n    * [All Genes](https://search.clinicalgenome.org/kb/genes)\\n    * [All Disease](https://search.clinicalgenome.org/kb/conditions)\\n    * [All Drugs & Medications](https://search.clinicalgenome.org/kb/drugs)\\n    *     * [__File Downloads & APIs](https://search.clinicalgenome.org/kb/downloads)\\n  * __\\n    * [About ClinGen's Website](https://clinicalgenome.org/tools/clingen-website-faq/)\\n    * [Learn About New Features](https://clinicalgenome.org/tools/clingen-website-faq/)\\n    * [How To Cite ClinGen](https://clinicalgenome.org/tools/clingen-website-faq/how-to-cite/)\\n    * [External Data Attribution](https://clinicalgenome.org/tools/clingen-website-faq/attribution/)\\n    * [Contact Us](https://clinicalgenome.org/about/contact-clingen/)\\n\\n![](/images/dosageSensitivity-on.png) |\\n\\n#  15q24 recurrent region (LCR C-LCR D) (includes SIN3A)\\n\\n__Region Facts  \\n  \\n---|---  \\n  \\n  * 3  \\nHaplo  \\nScore\\n\\n  * 0  \\nTriplo  \\nScore\\n\\n#### Region Facts\\n\\nRegion Name\\n\\n    15q24 recurrent region (LCR C-LCR D) (includes SIN3A) \\nCytoband\\n\\n     15q24 \\nGenomic Coordinates\\n\\n     GRCh37/hg19 | chr15: 75631787-75972909 [__NCBI](https://www.ncbi.nlm.nih.gov/nuccore/?report=graph&from= 75631787-&to=75972909) [__Ensembl](https://www.ensembl.org/Homo_sapiens/Location/View?r=15: 75631787-75972909) [__UCSC](https://genome.ucsc.edu/cgi-bin/hgTracks?clade=mammal&org=Human&db=hg19&position=chr15: 75631787-75972909&knownGene=pack)  \\n---|---  \\nGRCh38/hg38 | chr15:75339446-75680568\\n[__NCBI](https://www.ncbi.nlm.nih.gov/nuccore/?report=graph&from=75339446-&to=75680568)\\n[__Ensembl](https://www.ensembl.org/Homo_sapiens/Location/View?r=15:75339446-75680568)\\n[__UCSC](https://genome.ucsc.edu/cgi-\\nbin/hgTracks?clade=mammal&org=Human&db=hg38&position=chr15:75339446-75680568&knownGene=pack)  \\n  \\n### Dosage Sensitivity Summary (Region)\\n\\nDosage ID:\\n\\nISCA-46300\\n\\n[View legacy\\nreport...](https://dosage.clinicalgenome.org/clingen_gene.cgi?sym=)\\n\\nCuration Status:\\n\\nComplete\\n\\nIssue Type:\\n\\nDosage Curation - Region\\n\\nDescription:\\n\\nThe 15q24 region contains a cluster of low copy repeats (LCRs) that mediate\\nrecurrent copy number changes through non-allelic homologous recombination.\\nThis review refers to nested CNVs involving recurrent breakpoint regions LCR C\\nand LCR D. Note that genes used as landmarks are not necessarily causative of\\nthe phenotype(s) associated with the region.\\n\\nHaploinsufficiency:\\n\\nSufficient Evidence for Haploinsufficiency (3)\\n\\nRead full report...\\n\\nTriplosensitivity:\\n\\nNo Evidence for Triplosensitivity (0)\\n\\nRead full report...\\n\\nRelated Links:\\n\\n[SIN3A](/kb/gene-dosage/SIN3A)\\n\\n[15q24 recurrent region (LCR A-LCR D) (includes SIN3A)](/kb/gene-\\ndosage/region/ISCA-37396)\\n\\nLast Evaluated:\\n\\n01/13/2020  \\n\\n### Haploinsufficiency (HI) Score Details\\n\\nHI Score:\\n\\n3\\n\\nHI Evidence Strength:\\n\\nSufficient Evidence for Haploinsufficiency (Disclaimer)\\n\\nHI Disease:\\n\\n  * chromosome 15q24 deletion syndrome [Monarch __](https://monarchinitiative.org/disease/MONDO:0013256)\\n\\nHI Evidence:\\n\\n  * [PUBMED: 27399968](https://pubmed.ncbi.nlm.nih.gov/27399968)\\n\\nWitteveen et al. (2016), reported 3 patients with 15q24 LCRC-D deletions.\\nThese patients presented with developmental delay, intellectual disability,\\nstructural brain anomalies, microcephaly, dysmorphic craniofacial features,\\nthin hair, hypermobile joints, and additional clinical findings. The\\ndysmorphic craniofacial features were variable, with the recurrent features\\nincluding downslanting palpebral fissures, deep set eyes, small mouth, and a\\npointed chin. Parental testing showed that each of these deletions was de\\nnovo. A fourth individual with a deletion in this region was reported by this\\ngroup (Patient 4); however, the distal breakpoint for that patient's deletion\\nwas proximal to 15q24 LCRD. The clinical findings in Patient 4 were similar to\\nthose with breakpoints in LCRD including developmental delay, downslanting\\npalpebral fissures, small mouth, and a pointed chin. The deletion in patient 4\\nwas also found to be de novo. The authors of this paper also report nine\\npatients (from five families) with loss-of-function type variants in SIN3A,\\nwhich lies within the 15q24 LCRC-D region. These patients presented with\\nsimilar clinical findings to the patients with 15q24 LCRC-D deletions.\\n\\n  * [PUBMED: 22180641](https://pubmed.ncbi.nlm.nih.gov/22180641)\\n\\nMefford et al. (2012) reported one patient (Patient 14) with a 15q24 LCRC-D\\ndeletion. This patient presented with borderline mild intellectual disability,\\nshort stature, structural brain abnormalities, possible Asperger, telecanthus,\\nbilateral epicanthi, hypermobile joints, and bilateral short 5th fingers. The\\ndeletion in this patient was found to represent a de novo event. The authors\\nalso reported a second individual (Patient 13) with a smaller de novo deletion\\nwithin the 15q24 LCRC-D region; however, the distal breakpoint for that\\npatient鈥檚 deletion was proximal to 15q24 LCRD. That patient was reported to\\nhave mild intellectual disability, developmental delay (speech and motor),\\nobsessive compulsive behaviors, microcephaly, a round face, short 5th\\nmetacarpals, toe syndactyly, and additional clinical findings.\\n\\nHI Evidence Comments:\\n\\nDeletion of the 15q24 recurrent region (C-D) has been reported in at least 4\\npatients in association with a syndromic clinical phenotype characterized by\\ndevelopmental delays (speech and motor), intellectual disability, brain\\nanomalies, craniofacial abnormalities, hypermobile joints, digital findings,\\nand other variable clinical features. Two additional patients have also been\\nreported with atypical deletions in this region (PMID: 27399968 and 27399968).\\nThese patients were found to have a similar clinical presentation to patients\\nwith the typical 15q24 LCRC-D deletion. Parental studies have been performed\\non each of the deletions in this region (6 total), and in each case it was\\nfound to be de novo. Additional relevant literature is cited and summarized\\nbelow: Additional paper supporting the significance of SIN3A: PMID: 30267900 -\\nNarumi-Kishimoto et al. (2018), report a single individual with a frameshift\\nmutation (p.His283fs) in the in the SIN3A gene. Case-control studies: PMID\\n25217958: Coe et al. (2014) In a large-scale case-control comparison study of\\nthe relative prevalence of copy number variants in children with ID/DD, MCA,\\nand other developmental phenotypes compared to presumably unaffected adult\\ncontrols, the 15q24 LCRC-D deletion was not observed in any cases (n=29,085)\\nor controls (n=19,584).\\n\\n### Triplosensitivity (TS) Score Details\\n\\nTS Score:\\n\\n0\\n\\nTS Evidence Strength:\\n\\nNo Evidence for Triplosensitivity (Disclaimer)\\n\\nTS Evidence Comments:\\n\\nDuplications of this region which do not extend beyond LCRC and LCRD have not\\nbeen reported. Therefore, the triplosensitivity score for this region is 0.\\nCase-control studies: PMID 25217958: Coe et al. (2014) In a large-scale case-\\ncontrol comparison study of the relative prevalence of copy number variants in\\nchildren with ID/DD, MCA, and other developmental phenotypes compared to\\npresumably unaffected adult controls, the 15q24 LCRC-D duplication was\\nobserved in 1/29,085 cases versus 0/19,584 controls (p=0.6; LR: Inf, CI: 0.364\\nto Inf).\\n\\n### Genomic View\\n\\nSelect assembly:  GRCh37/hg19 chr15: 75631787-75972909 GRCh38/hg38\\nchr15:75339446-75680568 ([](https://www.ncbi.nlm.nih.gov/nuccore/))\\n([](https://www.ncbi.nlm.nih.gov/nuccore/))\\n\\n[](?embedded=true&appname=isca_public&assm_context=GCF_000001405.25&id=&from=75597674.7&to=76007021.3&tracks=\\\\[key:sequence_track\\\\]\\\\[key:gene_model_track,name:NCBI,display_name:NCBI%20Genes,annots:Unnamed,Options:ShowAll\\\\]\\\\[key:dbvar_track,name:dbVar_nstd45,display_name:ISCA%20Curated%20Regions,annots:NA000002000.2,rendering:Default\\\\])\\n\\nThe loss of function score should be used to evaluate deletions, and the\\ntriplosensitivity score should be used to evaluated duplications. CNVs\\nencompassing more than one gene must be evaluated in their totality (e.g.\\noverall size, gain vs. loss, presence of other genes, etc). The rating of a\\nsingle gene within the CNV should not necessarily be the only criteria by\\nwhich one defines a clinical interpretation. Individual interpretations must\\ntake into account the phenotype described for the patient as well as issues of\\npenetrance and expressivity of the disorder. ACMG has published guidelines for\\nthe characterization of postnatal CNVs, and these recommendations should be\\nutilized [(Genet Med (2011)13:\\n680-685)](https://www.ncbi.nlm.nih.gov/pubmed/21681106). Exceptions to these\\ninterpretive correlations will occur, and clinical judgment should always be\\nexercised.\\n\\n![login](/assets/images/dna_spiral.jpg)\\n\\n__\\n\\n![logo](/assets/images/clingen_logo.png)\\n\\n**My Account**\\n\\nEmail\\n\\nPassword\\n\\nRemember Me\\n\\nForgot password?\\n\\nLogin\\n\\nDon't have a ClinGen account? **_Register Here_**\\n\\n![login](/assets/images/dna_spiral.jpg)\\n\\n__\\n\\n![logo](/assets/images/clingen_logo.png)\\n\\n**Create Acount**\\n\\nFirst Name\\n\\nLast Name\\n\\nOrganization (Optional)\\n\\nEmail\\n\\nPassword\\n\\nConfirm Password\\n\\nRegister\\n\\nAlready have an account? **_Login Here_**\\n\\n![login](/assets/images/dna_spiral.jpg)\\n\\n__\\n\\n![logo](/assets/images/clingen_logo.png)\\n\\n**Forgot Password**\\n\\nEmail\\n\\nSend Reset Link\\n\\nReturn to _Login Page here_\\n\\n__ Back To Top\\n\\n[ __ Send Feedback ](https://www.clinicalgenome.org/contact/share-\\nfeedback/?title=Curation%20Activities&page=https%3A%2F%2Fwww.clinicalgenome.org%2Fcuration-\\nactivities%2F&ref=edwg)\\n\\n* * *\\n\\n__[Click here to lean about how to cite\\nClinGen](https://clinicalgenome.org/tools/clingen-website-faq/how-to-cite/)\\nand to see a list of the [external resources\\nutilized.](https://clinicalgenome.org/tools/clingen-website-faq/attribution/)\\n\\n* * *\\n\\nThe information on this website is not intended for direct diagnostic use or\\nmedical decision-making without review by a genetics professional. Individuals\\nshould not change their health behavior solely on the basis of information\\ncontained on this website. If you have questions about the information\\ncontained on this website, please see a healthcare professional.\\n\\n* * *\\n\\n[ __@ClinGenResource ](https://twitter.com/ClinGenResource)\\n\\n[ __youtube.com ](https://www.youtube.com/channel/UCsn4nEVUTpVQz70rClgMMsQ)\\n\\n* * *\\n\\n[\\n\\n###### Get Started\\n\\n](https://www.clinicalgenome.org/start/)\\n\\n* * *\\n\\n[\\n\\n###### Curation Activities\\n\\n](https://www.clinicalgenome.org/curation-activities/)\\n\\n  * [Gene-Disease Validity](https://www.clinicalgenome.org/curation-activities/gene-disease-validity/)\\n  * [Variant Pathogenicity](https://www.clinicalgenome.org/curation-activities/variant-pathogenicity/)\\n  * [Clinical Actionability](https://www.clinicalgenome.org/curation-activities/clinical-actionability/)\\n  * [Dosage Sensitivity](https://www.clinicalgenome.org/curation-activities/dosage-sensitivity/)\\n  * [Browse All ClinGen's Curated Genes](https://www.clinicalgenome.org/curation-activities/results/)\\n\\n* * *\\n\\n[\\n\\n###### Tools\\n\\n](https://www.clinicalgenome.org/tools/)\\n\\n* * *\\n\\n[\\n\\n###### About Us\\n\\n](https://www.clinicalgenome.org/about/)\\n\\n  * [ClinGen & ClinVar Collaboration](https://www.clinicalgenome.org/about/clingen-clinvar-collaboration/)\\n  * [ClinGen Terms of Use](https://www.clinicalgenome.org/about/terms-of-use/)\\n  * [Collaborations](https://www.clinicalgenome.org/about/clingen-collaborations/)\\n  * [Contact ClinGen](https://www.clinicalgenome.org/about/contact-clingen/)\\n  * [Events & Conferences](https://www.clinicalgenome.org/about/events/)\\n  * [Leadership](https://www.clinicalgenome.org/about/clingen-leadership/)\\n  * [Member Directory](https://www.clinicalgenome.org/about/people/)\\n  * [Policies](https://www.clinicalgenome.org/about/clingen-policies/)\\n  * [Website SiteMap](https://www.clinicalgenome.org/about/sitemap/)\\n\\n[\\n\\n###### Working Groups\\n\\n](https://www.clinicalgenome.org/working-groups/)\\n\\n  * [Actionability](https://www.clinicalgenome.org/working-groups/actionability/)\\n  * [Ancestry and Diversity](https://www.clinicalgenome.org/working-groups/ancestry/)\\n  * [Biocurator](https://www.clinicalgenome.org/working-groups/biocurators/)\\n  * [CADRe (Consent & Disclosure Recommendations)](https://www.clinicalgenome.org/working-groups/elsi/)\\n  * [Clinical Domain Working Groups](https://www.clinicalgenome.org/working-groups/clinical-domain/)\\n  * [Community Curation](https://www.clinicalgenome.org/working-groups/c3/)\\n  * [Complex Disease](https://www.clinicalgenome.org/working-groups/complex-disease/)\\n  * [Copy Number Variant Interpretation Guidelines](https://www.clinicalgenome.org/working-groups/copy-number-variant-interpretation-guidelines/)\\n  * [Data Platform](https://www.clinicalgenome.org/working-groups/data-platform/)\\n  * [Dosage Sensitivity Curation](https://www.clinicalgenome.org/working-groups/dosage-sensitivity-curation/)\\n  * [Education, Coordination and Training](https://www.clinicalgenome.org/working-groups/education-engagement-and-counseling/)\\n  * [EHR](https://www.clinicalgenome.org/working-groups/ehr/)\\n  * [External Scientific Panel](https://www.clinicalgenome.org/working-groups/external-scientific-panel/)\\n  * [Gene Curation](https://www.clinicalgenome.org/working-groups/gene-curation/)\\n  * [Genomic Variant](https://www.clinicalgenome.org/working-groups/genomic-variant-workgroup/)\\n  * [Low Penetrance/Risk Allele Working Group](https://www.clinicalgenome.org/working-groups/low-penetrance-risk-allele-working-group/)\\n  * [Lumping and Splitting](https://www.clinicalgenome.org/working-groups/lumping-and-splitting/)\\n  * [Sequence Variant Inter-Laboratory Discrepancy Resolution](https://www.clinicalgenome.org/working-groups/sequence-variant-inter-laboratory-discrepancy-resolution/)\\n  * [Sequence Variant Interpretation](https://www.clinicalgenome.org/working-groups/sequence-variant-interpretation/)\\n  * [Somatic Cancer](https://www.clinicalgenome.org/working-groups/somatic/)\\n  * [Stakeholder Partnership](https://www.clinicalgenome.org/working-groups/stakeholder-partnership/)\\n  * [Steering Committee](https://www.clinicalgenome.org/working-groups/steering-committee/)\\n\\n* * *\\n\\n[\\n\\n###### Expert Panels\\n\\n](https://clinicalgenome.org/affiliation/)\\n\\n  * [ACADVL Variant Curation Expert Panel](https://clinicalgenome.org/affiliation/50048/)\\n  * [Aminoacidopathy Gene Curation Expert Panel](https://clinicalgenome.org/affiliation/40011/)\\n  * [Arrhythmogenic Right Ventricular Cardiomyopathy Gene Curation Expert Panel](https://clinicalgenome.org/affiliation/40003/)\\n  * [Brain Malformations Gene Curation Expert Panel](https://clinicalgenome.org/affiliation/40020/)\\n  * [Brain Malformations Variant Curation Expert Panel](https://clinicalgenome.org/affiliation/50020/)\\n  * [Breast/Ovarian Cancer Gene Curation Expert Panel](https://clinicalgenome.org/affiliation/40042/)\\n  * [Brugada Syndrome Gene Curation Expert Panel](https://clinicalgenome.org/affiliation/40045/)\\n  * [Cardiomyopathy Variant Curation Expert Panel](https://clinicalgenome.org/affiliation/50002/)\\n  * [CDH1 Variant Curation Expert Panel](https://clinicalgenome.org/affiliation/50014/)\\n  * [Cerebral Creatine Deficiency Syndromes Variant Curation Expert Panel](https://clinicalgenome.org/affiliation/50047/)\\n  * [Charcot-Marie-Tooth Disease Gene Curation Expert Panel](https://clinicalgenome.org/affiliation/40063/)\\n  * [Coagulation Factor Deficiency Variant Curation Expert Panel](https://clinicalgenome.org/affiliation/50041/)\\n  * [Colon Cancer Gene Curation Expert Panel](https://clinicalgenome.org/affiliation/40043/)\\n  * [Congenital Myopathies Gene Curation Expert Panel](https://clinicalgenome.org/affiliation/40031/)\\n  * [Congenital Myopathies Variant Curation Expert Panel](https://clinicalgenome.org/affiliation/50031/)\\n  * [Craniofacial Malformations Gene Curation Expert Panel](https://clinicalgenome.org/affiliation/40059/)\\n  * [DICER1 and miRNA-Processing Gene Variant Curation Expert Panel](https://clinicalgenome.org/affiliation/50050/)\\n  * [Dilated Cardiomyopathy Gene Curation Expert Panel](https://clinicalgenome.org/affiliation/40035/)\\n  * [Epilepsy Gene Curation Expert Panel](https://clinicalgenome.org/affiliation/40005/)\\n  * [Familial Hypercholesterolemia Variant Curation Expert Panel](https://clinicalgenome.org/affiliation/50004/)\\n  * [Familial Thoracic Aortic Aneurysm and Dissection Gene Curation Expert Panel](https://clinicalgenome.org/affiliation/40044/)\\n  * [Fatty Acid Oxidation Disorders Gene Curation Expert Panel](https://clinicalgenome.org/affiliation/40010/)\\n  * [FBN1 Variant Curation Expert Panel](https://clinicalgenome.org/affiliation/50046/)\\n  * [General Gene Curation Expert Panel](https://clinicalgenome.org/affiliation/40026/)\\n  * [Glaucoma Variant Curation Expert Panel](https://clinicalgenome.org/affiliation/50053/)\\n  * [GRIN Disorders Variant Curation Expert Panel](https://clinicalgenome.org/affiliation/50078/)\\n  * [Hearing Loss Gene Curation Expert Panel](https://clinicalgenome.org/affiliation/40007/)\\n  * [Hearing Loss Variant Curation Expert Panel](https://clinicalgenome.org/affiliation/50007/)\\n  * [Hemoglobinopathy Variant Curation Expert Panel](https://clinicalgenome.org/affiliation/50052/)\\n  * [Hemostasis/Thrombosis Gene Curation Expert Panel](https://clinicalgenome.org/affiliation/40028/)\\n  * [Hereditary Breast, Ovarian and Pancreatic Cancer Variant Curation Expert Panel](https://clinicalgenome.org/affiliation/50039/)\\n  * [Hereditary Cancer Gene Curation Expert Panel](https://clinicalgenome.org/affiliation/40023/)\\n  * [Hereditary Hemorrhagic Telangiectasia Variant Curation Expert Panel](https://clinicalgenome.org/affiliation/50037/)\\n  * [Humoral Defects Gene Curation Expert Panel](https://clinicalgenome.org/affiliation/40080/)\\n  * [Hypertrophic Cardiomyopathy Gene Curation Expert Panel](https://clinicalgenome.org/affiliation/40008/)\\n  * [Intellectual Disability and Autism Gene Curation Expert Panel](https://clinicalgenome.org/affiliation/40006/)\\n  * [KCNQ1 Variant Curation Expert Panel](https://clinicalgenome.org/affiliation/50001/)\\n  * [Kidney Cystic and Ciliopathy Disorders Gene Curation Expert Panel](https://clinicalgenome.org/affiliation/40066/)\\n  * [Kidney Cystic and Ciliopathy Disorders Variant Curation Expert Panel](https://clinicalgenome.org/affiliation/50066/)\\n  * [Leber Congenital Amaurosis/early onset Retinal Dystrophy Variant Curation Expert Panel](https://clinicalgenome.org/affiliation/50082/)\\n  * [Limb Girdle Muscular Dystrophy Gene Curation Expert Panel](https://clinicalgenome.org/affiliation/40061/)\\n  * [Limb Girdle Muscular Dystrophy Variant Curation Expert Panel](https://clinicalgenome.org/affiliation/50061/)\\n  * [Long QT Syndrome Gene Curation Expert Panel](https://clinicalgenome.org/affiliation/40025/)\\n  * [Lysosomal Storage Disorders Variant Curation Expert Panel](https://clinicalgenome.org/affiliation/50009/)\\n  * [Malignant Hyperthermia Susceptibility Variant Curation Expert Panel](https://clinicalgenome.org/affiliation/50038/)\\n  * [Mitochondrial Disease Nuclear and Mitochondrial Variant Curation Expert Panel](https://clinicalgenome.org/affiliation/50027/)\\n  * [Mitochondrial Diseases Gene Curation Expert Panel](https://clinicalgenome.org/affiliation/40027/)\\n  * [Monogenic Diabetes Gene Curation Expert Panel](https://clinicalgenome.org/affiliation/40016/)\\n  * [Monogenic Diabetes Variant Curation Expert Panel](https://clinicalgenome.org/affiliation/50016/)\\n  * [Myeloid Malignancy Variant Curation Expert Panel](https://clinicalgenome.org/affiliation/50034/)\\n  * [NTRK Fusions Somatic Cancer Variant Curation Expert Panel](https://clinicalgenome.org/affiliation/50089/)\\n  * [Parkinson's Disease Gene Curation Expert Panel](https://clinicalgenome.org/affiliation/40079/)\\n  * [Peroxisomal Disorders Gene Curation Expert Panel](https://clinicalgenome.org/affiliation/40049/)\\n  * [Peroxisomal Disorders Variant Curation Expert Panel](https://clinicalgenome.org/affiliation/50049/)\\n  * [Phenylketonuria Variant Curation Expert Panel](https://clinicalgenome.org/affiliation/50015/)\\n  * [Platelet Disorders Variant Curation Expert Panel](https://clinicalgenome.org/affiliation/50040/)\\n  * [PTEN Variant Curation Expert Panel](https://clinicalgenome.org/affiliation/50012/)\\n  * [Pulmonary Hypertension Gene Curation Expert Panel](https://clinicalgenome.org/affiliation/40071/)\\n  * [RASopathy Gene Curation Expert Panel](https://clinicalgenome.org/affiliation/40021/)\\n  * [RASopathy Variant Curation Expert Panel](https://clinicalgenome.org/affiliation/50021/)\\n  * [Retina Gene Curation Expert Panel](https://clinicalgenome.org/affiliation/40072/)\\n  * [Rett and Angelman-like Disorders Variant Curation Expert Panel](https://clinicalgenome.org/affiliation/50022/)\\n  * [SCID-CID Gene Curation Expert Panel](https://clinicalgenome.org/affiliation/40081/)\\n  * [Skeletal Disorders Gene Curation Expert Panel](https://clinicalgenome.org/affiliation/40065/)\\n  * [Syndromic Disorders Gene Curation Expert Panel](https://clinicalgenome.org/affiliation/40060/)\\n  * [Thrombosis Variant Curation Expert Panel](https://clinicalgenome.org/affiliation/50064/)\\n  * [TP53 Variant Curation Expert Panel](https://clinicalgenome.org/affiliation/50013/)\\n  * [VHL Variant Curation Expert Panel](https://clinicalgenome.org/affiliation/50036/)\\n  * [von Willebrand Disease Variant Curation Expert Panel](https://clinicalgenome.org/affiliation/50051/)\\n  * [X-linked Inherited Retinal Disease Variant Curation Expert Panel](https://clinicalgenome.org/affiliation/50086/)\\n\\n* * *\\n\\n[\\n\\n###### Documents & Announcements\\n\\n](https://www.clinicalgenome.org/docs/)\\n\\n  * [Announcements](https://www.clinicalgenome.org/docs/?doc-type=announcement#list_documentation_table)\\n  * [ClinGen Exhibit Booth Materials](https://www.clinicalgenome.org/docs/?doc-type=clingen-exhibit-booth-materials#list_documentation_table)\\n  * [Curation Activity Procedures](https://www.clinicalgenome.org/docs/?doc-type=curation-activity-procedures#list_documentation_table)\\n  * [Conflict Of Interest (COI)](https://www.clinicalgenome.org/docs/?doc-type=conflict-of-interest-coi#list_documentation_table)\\n  * [Data Sharing Resources](https://www.clinicalgenome.org/docs/?doc-type=data-sharing-resources#list_documentation_table)\\n  * [Expert Panel Applications](https://www.clinicalgenome.org/docs/?doc-type=expert-panel-status-steps#list_documentation_table)\\n  * [News](https://www.clinicalgenome.org/docs/?doc-type=in-the-news#list_documentation_table)\\n  * [MOC/CME Forms](https://www.clinicalgenome.org/docs/?doc-type=moc-cme-forms#list_documentation_table)\\n  * [Patient Data Sharing](https://www.clinicalgenome.org/docs/?doc-type=patient-data-sharing#list_documentation_table)\\n  * [Policies/Position Statements](https://www.clinicalgenome.org/docs/?doc-type=policies-position-statements#list_documentation_table)\\n  * [Presentations](https://www.clinicalgenome.org/docs/?doc-type=presentations#list_documentation_table)\\n  * [Publication](https://www.clinicalgenome.org/docs/?doc-type=publications#list_documentation_table)\\n  * [Supporting Documents](https://www.clinicalgenome.org/docs/?doc-type=supporting-documents#list_documentation_table)\\n  * [Training Materials](https://www.clinicalgenome.org/docs/?doc-type=training-materials#list_documentation_table)\\n\\nBack to top\\n\\n(C) ClinGen\\n\\n\""
      ]
     },
     "execution_count": 47,
     "metadata": {},
     "output_type": "execute_result"
    }
   ],
   "source": [
    "ntext2"
   ]
  },
  {
   "cell_type": "code",
   "execution_count": 48,
   "id": "62508465",
   "metadata": {},
   "outputs": [
    {
     "data": {
      "text/plain": [
       "str"
      ]
     },
     "execution_count": 48,
     "metadata": {},
     "output_type": "execute_result"
    }
   ],
   "source": [
    "type(ntext2)"
   ]
  },
  {
   "cell_type": "code",
   "execution_count": 58,
   "id": "91742391",
   "metadata": {},
   "outputs": [],
   "source": [
    "Dosage_Des = r\"Description:\\n\\n([.\\s\\S]*?)\\n\\n\"\n",
    "des = re.findall(Dosage_Des,ntext2)"
   ]
  },
  {
   "cell_type": "code",
   "execution_count": 59,
   "id": "1e8f6207",
   "metadata": {},
   "outputs": [
    {
     "data": {
      "text/plain": [
       "['The 15q24 region contains a cluster of low copy repeats (LCRs) that mediate\\nrecurrent copy number changes through non-allelic homologous recombination.\\nThis review refers to nested CNVs involving recurrent breakpoint regions LCR C\\nand LCR D. Note that genes used as landmarks are not necessarily causative of\\nthe phenotype(s) associated with the region.']"
      ]
     },
     "execution_count": 59,
     "metadata": {},
     "output_type": "execute_result"
    }
   ],
   "source": [
    "des"
   ]
  },
  {
   "cell_type": "code",
   "execution_count": null,
   "id": "86b2dc51",
   "metadata": {},
   "outputs": [],
   "source": []
  },
  {
   "cell_type": "code",
   "execution_count": null,
   "id": "144e6480",
   "metadata": {},
   "outputs": [],
   "source": []
  },
  {
   "cell_type": "code",
   "execution_count": null,
   "id": "b96f1846",
   "metadata": {},
   "outputs": [],
   "source": []
  },
  {
   "cell_type": "code",
   "execution_count": 42,
   "id": "7729b0af",
   "metadata": {},
   "outputs": [],
   "source": [
    "Dosage_Des = r\"Description:([.\\s\\S]*?)Haploinsufficiency\"\n",
    "Dosage_Hap = r\"Haploinsufficiency:([.\\s\\S]*?)Read full\"\n",
    "Dosage_Tir = r\"Triplosensitivity:([.\\s\\S]*?)Read full\"\n",
    "HI_Comments = r\"HI Evidence Comments:([.\\s\\S]*?)### Triplosensitivity\"\n",
    "TS_Comments = r\"TS Evidence Comments:([.\\s\\S]*?)### Genomic View\""
   ]
  },
  {
   "cell_type": "code",
   "execution_count": 43,
   "id": "abf6e1af",
   "metadata": {},
   "outputs": [],
   "source": [
    "des = re.findall(Dosage_Des,ntext)\n",
    "hap = re.findall(Dosage_Hap,ntext)\n",
    "tir = re.findall(Dosage_Tir,ntext)\n",
    "hi_comments = re.findall(HI_Comments,ntext)\n",
    "ts_comments = re.findall(TS_Comments,ntext)"
   ]
  },
  {
   "cell_type": "code",
   "execution_count": 44,
   "id": "a68321e8",
   "metadata": {},
   "outputs": [
    {
     "data": {
      "text/plain": [
       "['\\n\\nDuplications of this region which do not extend beyond LCRC and LCRD have not\\nbeen reported. Therefore, the triplosensitivity score for this region is 0.\\nCase-control studies: PMID 25217958: Coe et al. (2014) In a large-scale case-\\ncontrol comparison study of the relative prevalence of copy number variants in\\nchildren with ID/DD, MCA, and other developmental phenotypes compared to\\npresumably unaffected adult controls, the 15q24 LCRC-D duplication was\\nobserved in 1/29,085 cases versus 0/19,584 controls (p=0.6; LR: Inf, CI: 0.364\\nto Inf).\\n\\n']"
      ]
     },
     "execution_count": 44,
     "metadata": {},
     "output_type": "execute_result"
    }
   ],
   "source": []
  },
  {
   "cell_type": "code",
   "execution_count": 27,
   "id": "e9ba703a",
   "metadata": {},
   "outputs": [],
   "source": [
    "from html2text  import html2text\n",
    "\n",
    "with open(\"C:/Users/chen/Desktop/reqData/dosage/ISCA-46302.html\",encoding='UTF-8') as f:\n",
    "    text1 = f.read()\n",
    "\n",
    "ntext1 = html2text(text1)"
   ]
  },
  {
   "cell_type": "code",
   "execution_count": 28,
   "id": "1ff236b2",
   "metadata": {},
   "outputs": [
    {
     "data": {
      "text/plain": [
       "\"  * [ Data Sharing Resources ](https://www.clinicalgenome.org/share-your-data/)\\n  * [GenomeConnect](https://www.clinicalgenome.org/genomeconnect/)\\n  * [Events](https://www.clinicalgenome.org/about/events/)\\n  * [Contact](https://www.clinicalgenome.org/about/contact-clingen/)\\n  * __ Member \\n    * [__Dashboard](/dashboard)\\n    *     * [ __Logout](https://search.clinicalgenome.org/logout)\\n  * Login\\n\\nToggle navigation Navigation __ [![Responsive image](/brand/logo/logo-\\nclinical-genome-logo-vector.svg)](https://www.clinicalgenome.org/)\\n\\n  * [Get Started](https://www.clinicalgenome.org/start/)\\n  * [About Us](https://www.clinicalgenome.org/about/)\\n    * [ClinGen & ClinVar Collaboration](https://www.clinicalgenome.org/about/clingen-clinvar-collaboration/)\\n    * [ClinGen, CPIC and PharmGKB Partnership ](https://www.clinicalgenome.org/about/clingen-cpic-pharmgkb/)\\n    * [ClinGen Terms of Use](https://www.clinicalgenome.org/about/terms-of-use/)\\n    * [Collaborations](https://www.clinicalgenome.org/about/clingen-collaborations/)\\n    * [Contact ClinGen](https://www.clinicalgenome.org/about/contact-clingen/)\\n    * [Events & Conferences](https://www.clinicalgenome.org/about/events/)\\n    * [Leadership](https://www.clinicalgenome.org/about/clingen-leadership/)\\n    * [Member Directory](https://www.clinicalgenome.org/about/people/)\\n    * [Policies](https://www.clinicalgenome.org/about/clingen-policies/)\\n    * [Website SiteMap](https://www.clinicalgenome.org/about/sitemap/)\\n  * [Curation Activities](https://www.clinicalgenome.org/curation-activities/)\\n    * [ Gene-Disease Validity](https://www.clinicalgenome.org/curation-activities/gene-disease-validity/)\\n    * [__Training Materials](https://www.clinicalgenome.org/curation-activities/gene-disease-validity/training-materials/)\\n    * [__Browse Curations](http://search.clinicalgenome.org/kb/gene-validity)\\n    * [ Variant Pathogenicity](https://www.clinicalgenome.org/curation-activities/variant-pathogenicity/)\\n    * [__Training Materials](https://www.clinicalgenome.org/curation-activities/variant-pathogenicity/training-materials/)\\n    * [__Browse Curations](https://erepo.clinicalgenome.org/evrepo/)\\n    * [ Clinical Actionability](https://www.clinicalgenome.org/curation-activities/clinical-actionability/)\\n    * [__Training Materials](https://www.clinicalgenome.org/curation-activities/clinical-actionability/training-materials/)\\n    * [__Browse Curations](http://search.clinicalgenome.org/kb/actionability)\\n    * [ Dosage Sensitivity](https://www.clinicalgenome.org/curation-activities/dosage-sensitivity/)\\n    * [__Training Materials](https://www.clinicalgenome.org/curation-activities/dosage-sensitivity/training-materials/)\\n    * [__Browse Curations](http://search.clinicalgenome.org/kb/gene-dosage)\\n    *     * [ Browse All ClinGen's Curated Genes](https://www.clinicalgenome.org/curation-activities/results/)\\n  * [Working Groups](https://www.clinicalgenome.org/working-groups/)\\n  * [Expert Panels](https://www.clinicalgenome.org/affiliation/)\\n  * [Documents  & Annoucements](https://www.clinicalgenome.org/docs/)\\n  * [Tools](https://www.clinicalgenome.org/tools/)\\n  * __\\n\\n__\\n\\nGene\\n\\n  * Gene Symbol\\n  * Disease Name\\n  * Drug Name\\n  * Region (GRCh37)\\n  * Region (GRCh38)\\n  *   * [Variant __](http://reg.clinicalgenome.org)\\n  * [ Website Content __](https://clinicalgenome.org/search/)\\n\\nSearch\\n\\n  * [ All Curated Genes ](https://search.clinicalgenome.org/kb/genes/curations)\\n  * [ Gene-Disease Validity ](https://search.clinicalgenome.org/kb/gene-validity)\\n    * [All Curations](https://search.clinicalgenome.org/kb/gene-validity)\\n    * [Curations by Expert Panel](https://search.clinicalgenome.org/kb/affiliate)\\n    *     * [__File Downloads](https://search.clinicalgenome.org/kb/downloads/#section_gene-disease-validity)\\n  * [ Dosage Sensitivity ](https://search.clinicalgenome.org/kb/gene-dosage)\\n    * [All Curations](https://search.clinicalgenome.org/kb/gene-dosage)\\n    * [Recurrent CNV](https://search.clinicalgenome.org/kb/gene-dosage/cnv)\\n    *     * [__FTP File Downloads (CSV, BED, TSV)](https://search.clinicalgenome.org/kb/downloads/#section_dosage)\\n  * [ Clinical Actionability ](https://search.clinicalgenome.org/kb/actionability)\\n    * [All Curations __](https://search.clinicalgenome.org/kb/actionability)\\n    * [Curations in Adult Context __](https://actionability.clinicalgenome.org/ac/Adult/ui/summ)\\n    * [Curations in Pediatric Context __](https://actionability.clinicalgenome.org/ac/Pediatric/ui/summ)\\n    * [Scoring Metric __](https://www.clinicalgenome.org/docs/semi-quantitative-scoring-metric/)\\n    *     * [__File Downloads & APIs](https://search.clinicalgenome.org/kb/downloads/#section_actionability)\\n  * [ Curated Variants ](https://search.clinicalgenome.org/kb/variant-pathogenicity/all)\\n    * [All Curations __](https://search.clinicalgenome.org/kb/variant-pathogenicity/all)\\n    *     *     * [__File Downloads & APIs](https://search.clinicalgenome.org/kb/downloads#section_variant)\\n  * [ Statistics ](https://search.clinicalgenome.org/kb/reports/stats)\\n  * [ Downloads ](https://search.clinicalgenome.org/kb/downloads)\\n  * More \\n    * [All Genes](https://search.clinicalgenome.org/kb/genes)\\n    * [All Disease](https://search.clinicalgenome.org/kb/conditions)\\n    * [All Drugs & Medications](https://search.clinicalgenome.org/kb/drugs)\\n    *     * [__File Downloads & APIs](https://search.clinicalgenome.org/kb/downloads)\\n  * __\\n    * [About ClinGen's Website](https://clinicalgenome.org/tools/clingen-website-faq/)\\n    * [Learn About New Features](https://clinicalgenome.org/tools/clingen-website-faq/)\\n    * [How To Cite ClinGen](https://clinicalgenome.org/tools/clingen-website-faq/how-to-cite/)\\n    * [External Data Attribution](https://clinicalgenome.org/tools/clingen-website-faq/attribution/)\\n    * [Contact Us](https://clinicalgenome.org/about/contact-clingen/)\\n\\n![](/images/dosageSensitivity-on.png) |\\n\\n#  Xp21.2 region (includes NR0B1)\\n\\n__Region Facts  \\n  \\n---|---  \\n  \\n  * 0  \\nHaplo  \\nScore\\n\\n  * 3  \\nTriplo  \\nScore\\n\\n#### Region Facts\\n\\nRegion Name\\n\\n    Xp21.2 region (includes NR0B1) \\nCytoband\\n\\n     Xp21.2 \\nGenomic Coordinates\\n\\n     GRCh37/hg19 | chrX:30195000-30355000 [__NCBI](https://www.ncbi.nlm.nih.gov/nuccore/?report=graph&from=30195000-&to=30355000) [__Ensembl](https://www.ensembl.org/Homo_sapiens/Location/View?r=X:30195000-30355000) [__UCSC](https://genome.ucsc.edu/cgi-bin/hgTracks?clade=mammal&org=Human&db=hg19&position=chrX:30195000-30355000&knownGene=pack)  \\n---|---  \\nGRCh38/hg38 | chrX:30176883 -30336883\\n[__NCBI](https://www.ncbi.nlm.nih.gov/nuccore/?report=graph&from=30176883\\n-&to=30336883)\\n[__Ensembl](https://www.ensembl.org/Homo_sapiens/Location/View?r=X:30176883\\n-30336883) [__UCSC](https://genome.ucsc.edu/cgi-\\nbin/hgTracks?clade=mammal&org=Human&db=hg38&position=chrX:30176883\\n-30336883&knownGene=pack)  \\n  \\n### Dosage Sensitivity Summary (Region)\\n\\nDosage ID:\\n\\nISCA-46302\\n\\n[View legacy\\nreport...](https://dosage.clinicalgenome.org/clingen_gene.cgi?sym=)\\n\\nCuration Status:\\n\\nComplete\\n\\nIssue Type:\\n\\nDosage Curation - Region\\n\\nHaploinsufficiency:\\n\\nNo Evidence for Haploinsufficiency (0)\\n\\nRead full report...\\n\\nTriplosensitivity:\\n\\nSufficient Evidence for Triplosensitivity (3)\\n\\nRead full report...\\n\\nRelated Links:\\n\\n[NR0B1](/kb/gene-dosage/NR0B1)\\n\\nLast Evaluated:\\n\\n07/22/2020  \\n\\n### Haploinsufficiency (HI) Score Details\\n\\nHI Score:\\n\\n0\\n\\nHI Evidence Strength:\\n\\nNo Evidence for Haploinsufficiency (Disclaimer)\\n\\nHI Evidence Comments:\\n\\nLoss of the NR0B1 gene alone has been associated with adrenal hypoplasia\\ncongenita. Please see the separate curation for the NR0B1 gene (ISCA-4997) for\\na complete description of the evidence supporting haploinsufficiency of the\\nNR0B1 gene.\\n\\nNOTE:\\n\\nThe loss-of-function and triplosensitivity ratings for genes on the X\\nchromosome are made in the context of a male genome to account for the effects\\nof hemizygous duplications or nullizygous deletions. In contrast, disruption\\nof some genes on the X chromosome causes male lethality and the ratings of\\ndosage sensitivity instead take into account the phenotype in female\\nindividuals. Factors that may affect the severity of phenotypes associated\\nwith X-linked disorders include the presence of variable copies of the X\\nchromosome (i.e. 47,XXY or 45,X) and skewed X-inactivation in females.\\n\\n### Triplosensitivity (TS) Score Details\\n\\nTS Score:\\n\\n3\\n\\nTS Evidence Strength:\\n\\nSufficient Evidence for Triplosensitivity (Disclaimer)\\n\\nTS Disease:\\n\\n  * 46,XY sex reversal 2 [Monarch __](https://monarchinitiative.org/disease/MONDO:0010226) \\n\\nTS Published Evidence:\\n\\n  * [PUBMED: 22518125](https://pubmed.ncbi.nlm.nih.gov/22518125)\\n\\nBarbaro M et al. (2012) reported 3 individuals of 46,XY sex reversal in a 6\\ngenerations English family with inheritance through seven 46,XX fertile\\ncarriers of an NR0B1/DAX1 locus duplication. Another 9 healthy 46,XX females\\nin this family also carry this duplication. The duplication has a minimal and\\nmaximal size of 679 kb and 687 kb, respectively. In addition to NR0B1, this\\nduplication contains the MAGEB genes, CXorf21, GK and part of the 3’ region of\\nthe MAP3K7IP3 gene. The carrier mothers are all healthy.\\n\\n  * [PUBMED: 17504899](https://pubmed.ncbi.nlm.nih.gov/17504899)\\n\\nBarbaro M et al., (2007) reported two Iranian individuals with isolated XY\\ngonadal dysgenesis in an X-linked inheritance pattern had a NR0B1 locus\\nduplications (637kb), including MAGEB, NR0B1, CXorf21, GK and part of the 3’\\nregion of the MAP3K7IP3 gene. The carrier fertile mother had NR0B1\\noverexpression without skewed X-inactivation or impaired ovarian function.\\nLater study in 2008 (PMID: 18384427) confirmed the healthy mother carries the\\nsame duplication. This article supports DAX1 duplication as the genetic cause\\nof gonadal dysgenesis, even if a role for the MAGEB genes cannot be completely\\nexcluded.\\n\\n  * [PUBMED: 20685758](https://pubmed.ncbi.nlm.nih.gov/20685758)\\n\\nLedig S et al., (2010) reported a case (case 52) with a duplication of 729kb\\non DAX1/NORB1 locus including 5 other genes, MAGEB4, MAGEB1, CXorf21, GK and\\nMAP3K7IP3 from cohort of 26 patients with 46, XY gonadal dysgenesis.\\n\\nTS Evidence Comments:\\n\\nThis region was created to capture the various cases that have been reported\\ndescribing duplications of varying sizes of this genomic region in individuals\\nwith 46,XY sex reversal. The coordinates roughly correspond to the 160 kb\\nminimal critical region containing the NR0B1 gene (also known as DAX1) and the\\nMAGEB gene cluster described in Bardoni et al. (1994) (PMID:7951319). Note\\nthat cases counted for evidence in this curation may be larger than this, but\\ntypically include the NR0B1 gene and at least one of the MAGEB genes. While\\nNR0B1 is suspected to be the causative gene, to date there have not been any\\nreported duplications involving this gene alone, and the effects of the other\\ngenes on the phenotype cannot be ruled out. See GeneReviews\\nhttp://www.ncbi.nlm.nih.gov/books/NBK1547/ and PMID 22518125 for a recent\\nreview of the literature. Additional evidence includes: PMID: 18384427 Barbaro\\nM et al., (2008) reported. One Italian individual of 46, XY gonadal\\ndysgenesis, and the healthy mother of the two Iranian sisters from previous\\nstudy (PMID: 17504899) carry a Xp21.2 duplication containing 4 MAGEB genes,\\nCXorf21, GK, partial MAP3K71P3. NR0B1 is the strongest candidate for causing\\nreversal if duplicated in XY subjects. PMID: 21408189 White S et al., (2011)\\nreported one case (case 13) with DAX/NROB1 locus duplication of 771kb by array\\nstudy on a cohort of 23 patients with 46,XY gonadal dysgenesis. PMID: 7951319\\nBardoni B et al., (1994) identified a 160-kb minimal common region denoted\\ndosage sensitive sex reversal that, if duplicated, causes sex reversal. This\\nregion contains the MAGEB genes and the DAX1 (now known as NR0B1) gene. This\\nis the minimal duplication reported. NR0B1 gene is 5kb in length.\\n\\nNOTE:\\n\\nThe loss-of-function and triplosensitivity ratings for genes on the X\\nchromosome are made in the context of a male genome to account for the effects\\nof hemizygous duplications or nullizygous deletions. In contrast, disruption\\nof some genes on the X chromosome causes male lethality and the ratings of\\ndosage sensitivity instead take into account the phenotype in female\\nindividuals. Factors that may affect the severity of phenotypes associated\\nwith X-linked disorders include the presence of variable copies of the X\\nchromosome (i.e. 47,XXY or 45,X) and skewed X-inactivation in females.\\n\\n### Genomic View\\n\\nSelect assembly:  GRCh37/hg19 chrX:30195000-30355000 GRCh38/hg38 chrX:30176883\\n-30336883 ([](https://www.ncbi.nlm.nih.gov/nuccore/))\\n([](https://www.ncbi.nlm.nih.gov/nuccore/))\\n\\n[](?embedded=true&appname=isca_public&assm_context=GCF_000001405.25&id=&from=30178999.9&to=30371000.1&tracks=\\\\[key:sequence_track\\\\]\\\\[key:gene_model_track,name:NCBI,display_name:NCBI%20Genes,annots:Unnamed,Options:ShowAll\\\\]\\\\[key:dbvar_track,name:dbVar_nstd45,display_name:ISCA%20Curated%20Regions,annots:NA000002000.2,rendering:Default\\\\])\\n\\nThe loss of function score should be used to evaluate deletions, and the\\ntriplosensitivity score should be used to evaluated duplications. CNVs\\nencompassing more than one gene must be evaluated in their totality (e.g.\\noverall size, gain vs. loss, presence of other genes, etc). The rating of a\\nsingle gene within the CNV should not necessarily be the only criteria by\\nwhich one defines a clinical interpretation. Individual interpretations must\\ntake into account the phenotype described for the patient as well as issues of\\npenetrance and expressivity of the disorder. ACMG has published guidelines for\\nthe characterization of postnatal CNVs, and these recommendations should be\\nutilized [(Genet Med (2011)13:\\n680-685)](https://www.ncbi.nlm.nih.gov/pubmed/21681106). Exceptions to these\\ninterpretive correlations will occur, and clinical judgment should always be\\nexercised.\\n\\n![login](/assets/images/dna_spiral.jpg)\\n\\n__\\n\\n![logo](/assets/images/clingen_logo.png)\\n\\n**My Account**\\n\\nEmail\\n\\nPassword\\n\\nRemember Me\\n\\nForgot password?\\n\\nLogin\\n\\nDon't have a ClinGen account? **_Register Here_**\\n\\n![login](/assets/images/dna_spiral.jpg)\\n\\n__\\n\\n![logo](/assets/images/clingen_logo.png)\\n\\n**Create Acount**\\n\\nFirst Name\\n\\nLast Name\\n\\nOrganization (Optional)\\n\\nEmail\\n\\nPassword\\n\\nConfirm Password\\n\\nRegister\\n\\nAlready have an account? **_Login Here_**\\n\\n![login](/assets/images/dna_spiral.jpg)\\n\\n__\\n\\n![logo](/assets/images/clingen_logo.png)\\n\\n**Forgot Password**\\n\\nEmail\\n\\nSend Reset Link\\n\\nReturn to _Login Page here_\\n\\n__ Back To Top\\n\\n[ __ Send Feedback ](https://www.clinicalgenome.org/contact/share-\\nfeedback/?title=Curation%20Activities&page=https%3A%2F%2Fwww.clinicalgenome.org%2Fcuration-\\nactivities%2F&ref=edwg)\\n\\n* * *\\n\\n__[Click here to lean about how to cite\\nClinGen](https://clinicalgenome.org/tools/clingen-website-faq/how-to-cite/)\\nand to see a list of the [external resources\\nutilized.](https://clinicalgenome.org/tools/clingen-website-faq/attribution/)\\n\\n* * *\\n\\nThe information on this website is not intended for direct diagnostic use or\\nmedical decision-making without review by a genetics professional. Individuals\\nshould not change their health behavior solely on the basis of information\\ncontained on this website. If you have questions about the information\\ncontained on this website, please see a healthcare professional.\\n\\n* * *\\n\\n[ __@ClinGenResource ](https://twitter.com/ClinGenResource)\\n\\n[ __youtube.com ](https://www.youtube.com/channel/UCsn4nEVUTpVQz70rClgMMsQ)\\n\\n* * *\\n\\n[\\n\\n###### Get Started\\n\\n](https://www.clinicalgenome.org/start/)\\n\\n* * *\\n\\n[\\n\\n###### Curation Activities\\n\\n](https://www.clinicalgenome.org/curation-activities/)\\n\\n  * [Gene-Disease Validity](https://www.clinicalgenome.org/curation-activities/gene-disease-validity/)\\n  * [Variant Pathogenicity](https://www.clinicalgenome.org/curation-activities/variant-pathogenicity/)\\n  * [Clinical Actionability](https://www.clinicalgenome.org/curation-activities/clinical-actionability/)\\n  * [Dosage Sensitivity](https://www.clinicalgenome.org/curation-activities/dosage-sensitivity/)\\n  * [Browse All ClinGen's Curated Genes](https://www.clinicalgenome.org/curation-activities/results/)\\n\\n* * *\\n\\n[\\n\\n###### Tools\\n\\n](https://www.clinicalgenome.org/tools/)\\n\\n* * *\\n\\n[\\n\\n###### About Us\\n\\n](https://www.clinicalgenome.org/about/)\\n\\n  * [ClinGen & ClinVar Collaboration](https://www.clinicalgenome.org/about/clingen-clinvar-collaboration/)\\n  * [ClinGen Terms of Use](https://www.clinicalgenome.org/about/terms-of-use/)\\n  * [Collaborations](https://www.clinicalgenome.org/about/clingen-collaborations/)\\n  * [Contact ClinGen](https://www.clinicalgenome.org/about/contact-clingen/)\\n  * [Events & Conferences](https://www.clinicalgenome.org/about/events/)\\n  * [Leadership](https://www.clinicalgenome.org/about/clingen-leadership/)\\n  * [Member Directory](https://www.clinicalgenome.org/about/people/)\\n  * [Policies](https://www.clinicalgenome.org/about/clingen-policies/)\\n  * [Website SiteMap](https://www.clinicalgenome.org/about/sitemap/)\\n\\n[\\n\\n###### Working Groups\\n\\n](https://www.clinicalgenome.org/working-groups/)\\n\\n  * [Actionability](https://www.clinicalgenome.org/working-groups/actionability/)\\n  * [Ancestry and Diversity](https://www.clinicalgenome.org/working-groups/ancestry/)\\n  * [Biocurator](https://www.clinicalgenome.org/working-groups/biocurators/)\\n  * [CADRe (Consent & Disclosure Recommendations)](https://www.clinicalgenome.org/working-groups/elsi/)\\n  * [Clinical Domain Working Groups](https://www.clinicalgenome.org/working-groups/clinical-domain/)\\n  * [Community Curation](https://www.clinicalgenome.org/working-groups/c3/)\\n  * [Complex Disease](https://www.clinicalgenome.org/working-groups/complex-disease/)\\n  * [Copy Number Variant Interpretation Guidelines](https://www.clinicalgenome.org/working-groups/copy-number-variant-interpretation-guidelines/)\\n  * [Data Platform](https://www.clinicalgenome.org/working-groups/data-platform/)\\n  * [Dosage Sensitivity Curation](https://www.clinicalgenome.org/working-groups/dosage-sensitivity-curation/)\\n  * [Education, Coordination and Training](https://www.clinicalgenome.org/working-groups/education-engagement-and-counseling/)\\n  * [EHR](https://www.clinicalgenome.org/working-groups/ehr/)\\n  * [External Scientific Panel](https://www.clinicalgenome.org/working-groups/external-scientific-panel/)\\n  * [Gene Curation](https://www.clinicalgenome.org/working-groups/gene-curation/)\\n  * [Genomic Variant](https://www.clinicalgenome.org/working-groups/genomic-variant-workgroup/)\\n  * [Low Penetrance/Risk Allele Working Group](https://www.clinicalgenome.org/working-groups/low-penetrance-risk-allele-working-group/)\\n  * [Lumping and Splitting](https://www.clinicalgenome.org/working-groups/lumping-and-splitting/)\\n  * [Sequence Variant Inter-Laboratory Discrepancy Resolution](https://www.clinicalgenome.org/working-groups/sequence-variant-inter-laboratory-discrepancy-resolution/)\\n  * [Sequence Variant Interpretation](https://www.clinicalgenome.org/working-groups/sequence-variant-interpretation/)\\n  * [Somatic Cancer](https://www.clinicalgenome.org/working-groups/somatic/)\\n  * [Stakeholder Partnership](https://www.clinicalgenome.org/working-groups/stakeholder-partnership/)\\n  * [Steering Committee](https://www.clinicalgenome.org/working-groups/steering-committee/)\\n\\n* * *\\n\\n[\\n\\n###### Expert Panels\\n\\n](https://clinicalgenome.org/affiliation/)\\n\\n  * [ACADVL Variant Curation Expert Panel](https://clinicalgenome.org/affiliation/50048/)\\n  * [Aminoacidopathy Gene Curation Expert Panel](https://clinicalgenome.org/affiliation/40011/)\\n  * [Arrhythmogenic Right Ventricular Cardiomyopathy Gene Curation Expert Panel](https://clinicalgenome.org/affiliation/40003/)\\n  * [Brain Malformations Gene Curation Expert Panel](https://clinicalgenome.org/affiliation/40020/)\\n  * [Brain Malformations Variant Curation Expert Panel](https://clinicalgenome.org/affiliation/50020/)\\n  * [Breast/Ovarian Cancer Gene Curation Expert Panel](https://clinicalgenome.org/affiliation/40042/)\\n  * [Brugada Syndrome Gene Curation Expert Panel](https://clinicalgenome.org/affiliation/40045/)\\n  * [Cardiomyopathy Variant Curation Expert Panel](https://clinicalgenome.org/affiliation/50002/)\\n  * [CDH1 Variant Curation Expert Panel](https://clinicalgenome.org/affiliation/50014/)\\n  * [Cerebral Creatine Deficiency Syndromes Variant Curation Expert Panel](https://clinicalgenome.org/affiliation/50047/)\\n  * [Charcot-Marie-Tooth Disease Gene Curation Expert Panel](https://clinicalgenome.org/affiliation/40063/)\\n  * [Coagulation Factor Deficiency Variant Curation Expert Panel](https://clinicalgenome.org/affiliation/50041/)\\n  * [Colon Cancer Gene Curation Expert Panel](https://clinicalgenome.org/affiliation/40043/)\\n  * [Congenital Myopathies Gene Curation Expert Panel](https://clinicalgenome.org/affiliation/40031/)\\n  * [Congenital Myopathies Variant Curation Expert Panel](https://clinicalgenome.org/affiliation/50031/)\\n  * [Craniofacial Malformations Gene Curation Expert Panel](https://clinicalgenome.org/affiliation/40059/)\\n  * [DICER1 and miRNA-Processing Gene Variant Curation Expert Panel](https://clinicalgenome.org/affiliation/50050/)\\n  * [Dilated Cardiomyopathy Gene Curation Expert Panel](https://clinicalgenome.org/affiliation/40035/)\\n  * [Epilepsy Gene Curation Expert Panel](https://clinicalgenome.org/affiliation/40005/)\\n  * [Familial Hypercholesterolemia Variant Curation Expert Panel](https://clinicalgenome.org/affiliation/50004/)\\n  * [Familial Thoracic Aortic Aneurysm and Dissection Gene Curation Expert Panel](https://clinicalgenome.org/affiliation/40044/)\\n  * [Fatty Acid Oxidation Disorders Gene Curation Expert Panel](https://clinicalgenome.org/affiliation/40010/)\\n  * [FBN1 Variant Curation Expert Panel](https://clinicalgenome.org/affiliation/50046/)\\n  * [General Gene Curation Expert Panel](https://clinicalgenome.org/affiliation/40026/)\\n  * [Glaucoma Variant Curation Expert Panel](https://clinicalgenome.org/affiliation/50053/)\\n  * [GRIN Disorders Variant Curation Expert Panel](https://clinicalgenome.org/affiliation/50078/)\\n  * [Hearing Loss Gene Curation Expert Panel](https://clinicalgenome.org/affiliation/40007/)\\n  * [Hearing Loss Variant Curation Expert Panel](https://clinicalgenome.org/affiliation/50007/)\\n  * [Hemoglobinopathy Variant Curation Expert Panel](https://clinicalgenome.org/affiliation/50052/)\\n  * [Hemostasis/Thrombosis Gene Curation Expert Panel](https://clinicalgenome.org/affiliation/40028/)\\n  * [Hereditary Breast, Ovarian and Pancreatic Cancer Variant Curation Expert Panel](https://clinicalgenome.org/affiliation/50039/)\\n  * [Hereditary Cancer Gene Curation Expert Panel](https://clinicalgenome.org/affiliation/40023/)\\n  * [Hereditary Hemorrhagic Telangiectasia Variant Curation Expert Panel](https://clinicalgenome.org/affiliation/50037/)\\n  * [Humoral Defects Gene Curation Expert Panel](https://clinicalgenome.org/affiliation/40080/)\\n  * [Hypertrophic Cardiomyopathy Gene Curation Expert Panel](https://clinicalgenome.org/affiliation/40008/)\\n  * [Intellectual Disability and Autism Gene Curation Expert Panel](https://clinicalgenome.org/affiliation/40006/)\\n  * [KCNQ1 Variant Curation Expert Panel](https://clinicalgenome.org/affiliation/50001/)\\n  * [Kidney Cystic and Ciliopathy Disorders Gene Curation Expert Panel](https://clinicalgenome.org/affiliation/40066/)\\n  * [Kidney Cystic and Ciliopathy Disorders Variant Curation Expert Panel](https://clinicalgenome.org/affiliation/50066/)\\n  * [Leber Congenital Amaurosis/early onset Retinal Dystrophy Variant Curation Expert Panel](https://clinicalgenome.org/affiliation/50082/)\\n  * [Limb Girdle Muscular Dystrophy Gene Curation Expert Panel](https://clinicalgenome.org/affiliation/40061/)\\n  * [Limb Girdle Muscular Dystrophy Variant Curation Expert Panel](https://clinicalgenome.org/affiliation/50061/)\\n  * [Long QT Syndrome Gene Curation Expert Panel](https://clinicalgenome.org/affiliation/40025/)\\n  * [Lysosomal Storage Disorders Variant Curation Expert Panel](https://clinicalgenome.org/affiliation/50009/)\\n  * [Malignant Hyperthermia Susceptibility Variant Curation Expert Panel](https://clinicalgenome.org/affiliation/50038/)\\n  * [Mitochondrial Disease Nuclear and Mitochondrial Variant Curation Expert Panel](https://clinicalgenome.org/affiliation/50027/)\\n  * [Mitochondrial Diseases Gene Curation Expert Panel](https://clinicalgenome.org/affiliation/40027/)\\n  * [Monogenic Diabetes Gene Curation Expert Panel](https://clinicalgenome.org/affiliation/40016/)\\n  * [Monogenic Diabetes Variant Curation Expert Panel](https://clinicalgenome.org/affiliation/50016/)\\n  * [Myeloid Malignancy Variant Curation Expert Panel](https://clinicalgenome.org/affiliation/50034/)\\n  * [NTRK Fusions Somatic Cancer Variant Curation Expert Panel](https://clinicalgenome.org/affiliation/50089/)\\n  * [Parkinson's Disease Gene Curation Expert Panel](https://clinicalgenome.org/affiliation/40079/)\\n  * [Peroxisomal Disorders Gene Curation Expert Panel](https://clinicalgenome.org/affiliation/40049/)\\n  * [Peroxisomal Disorders Variant Curation Expert Panel](https://clinicalgenome.org/affiliation/50049/)\\n  * [Phenylketonuria Variant Curation Expert Panel](https://clinicalgenome.org/affiliation/50015/)\\n  * [Platelet Disorders Variant Curation Expert Panel](https://clinicalgenome.org/affiliation/50040/)\\n  * [PTEN Variant Curation Expert Panel](https://clinicalgenome.org/affiliation/50012/)\\n  * [Pulmonary Hypertension Gene Curation Expert Panel](https://clinicalgenome.org/affiliation/40071/)\\n  * [RASopathy Gene Curation Expert Panel](https://clinicalgenome.org/affiliation/40021/)\\n  * [RASopathy Variant Curation Expert Panel](https://clinicalgenome.org/affiliation/50021/)\\n  * [Retina Gene Curation Expert Panel](https://clinicalgenome.org/affiliation/40072/)\\n  * [Rett and Angelman-like Disorders Variant Curation Expert Panel](https://clinicalgenome.org/affiliation/50022/)\\n  * [SCID-CID Gene Curation Expert Panel](https://clinicalgenome.org/affiliation/40081/)\\n  * [Skeletal Disorders Gene Curation Expert Panel](https://clinicalgenome.org/affiliation/40065/)\\n  * [Syndromic Disorders Gene Curation Expert Panel](https://clinicalgenome.org/affiliation/40060/)\\n  * [Thrombosis Variant Curation Expert Panel](https://clinicalgenome.org/affiliation/50064/)\\n  * [TP53 Variant Curation Expert Panel](https://clinicalgenome.org/affiliation/50013/)\\n  * [VHL Variant Curation Expert Panel](https://clinicalgenome.org/affiliation/50036/)\\n  * [von Willebrand Disease Variant Curation Expert Panel](https://clinicalgenome.org/affiliation/50051/)\\n  * [X-linked Inherited Retinal Disease Variant Curation Expert Panel](https://clinicalgenome.org/affiliation/50086/)\\n\\n* * *\\n\\n[\\n\\n###### Documents & Announcements\\n\\n](https://www.clinicalgenome.org/docs/)\\n\\n  * [Announcements](https://www.clinicalgenome.org/docs/?doc-type=announcement#list_documentation_table)\\n  * [ClinGen Exhibit Booth Materials](https://www.clinicalgenome.org/docs/?doc-type=clingen-exhibit-booth-materials#list_documentation_table)\\n  * [Curation Activity Procedures](https://www.clinicalgenome.org/docs/?doc-type=curation-activity-procedures#list_documentation_table)\\n  * [Conflict Of Interest (COI)](https://www.clinicalgenome.org/docs/?doc-type=conflict-of-interest-coi#list_documentation_table)\\n  * [Data Sharing Resources](https://www.clinicalgenome.org/docs/?doc-type=data-sharing-resources#list_documentation_table)\\n  * [Expert Panel Applications](https://www.clinicalgenome.org/docs/?doc-type=expert-panel-status-steps#list_documentation_table)\\n  * [News](https://www.clinicalgenome.org/docs/?doc-type=in-the-news#list_documentation_table)\\n  * [MOC/CME Forms](https://www.clinicalgenome.org/docs/?doc-type=moc-cme-forms#list_documentation_table)\\n  * [Patient Data Sharing](https://www.clinicalgenome.org/docs/?doc-type=patient-data-sharing#list_documentation_table)\\n  * [Policies/Position Statements](https://www.clinicalgenome.org/docs/?doc-type=policies-position-statements#list_documentation_table)\\n  * [Presentations](https://www.clinicalgenome.org/docs/?doc-type=presentations#list_documentation_table)\\n  * [Publication](https://www.clinicalgenome.org/docs/?doc-type=publications#list_documentation_table)\\n  * [Supporting Documents](https://www.clinicalgenome.org/docs/?doc-type=supporting-documents#list_documentation_table)\\n  * [Training Materials](https://www.clinicalgenome.org/docs/?doc-type=training-materials#list_documentation_table)\\n\\nBack to top\\n\\n(C) ClinGen\\n\\n\""
      ]
     },
     "execution_count": 28,
     "metadata": {},
     "output_type": "execute_result"
    }
   ],
   "source": [
    "ntext1"
   ]
  },
  {
   "cell_type": "code",
   "execution_count": 18,
   "id": "03759565",
   "metadata": {
    "collapsed": true
   },
   "outputs": [
    {
     "name": "stdout",
     "output_type": "stream",
     "text": [
      "Collecting BeautifulSoup\n",
      "  Downloading BeautifulSoup-3.2.2.tar.gz (32 kB)\n",
      "  Downloading BeautifulSoup-3.2.1.tar.gz (31 kB)\n",
      "  Downloading BeautifulSoup-3.2.0.tar.gz (31 kB)\n"
     ]
    },
    {
     "name": "stderr",
     "output_type": "stream",
     "text": [
      "    ERROR: Command errored out with exit status 1:\n",
      "     command: 'C:\\Users\\chen\\.conda\\envs\\autoreport\\python.exe' -c 'import io, os, sys, setuptools, tokenize; sys.argv[0] = '\"'\"'C:\\\\Users\\\\chen\\\\AppData\\\\Local\\\\Temp\\\\pip-install-99gixe_l\\\\beautifulsoup_1ef7a258c58a4959b5a179d98a839239\\\\setup.py'\"'\"'; __file__='\"'\"'C:\\\\Users\\\\chen\\\\AppData\\\\Local\\\\Temp\\\\pip-install-99gixe_l\\\\beautifulsoup_1ef7a258c58a4959b5a179d98a839239\\\\setup.py'\"'\"';f = getattr(tokenize, '\"'\"'open'\"'\"', open)(__file__) if os.path.exists(__file__) else io.StringIO('\"'\"'from setuptools import setup; setup()'\"'\"');code = f.read().replace('\"'\"'\\r\\n'\"'\"', '\"'\"'\\n'\"'\"');f.close();exec(compile(code, __file__, '\"'\"'exec'\"'\"'))' egg_info --egg-base 'C:\\Users\\chen\\AppData\\Local\\Temp\\pip-pip-egg-info-98_o_dtl'\n",
      "         cwd: C:\\Users\\chen\\AppData\\Local\\Temp\\pip-install-99gixe_l\\beautifulsoup_1ef7a258c58a4959b5a179d98a839239\\\n",
      "    Complete output (6 lines):\n",
      "    Traceback (most recent call last):\n",
      "      File \"<string>\", line 1, in <module>\n",
      "      File \"C:\\Users\\chen\\AppData\\Local\\Temp\\pip-install-99gixe_l\\beautifulsoup_1ef7a258c58a4959b5a179d98a839239\\setup.py\", line 3\n",
      "        \"You're trying to run a very old release of Beautiful Soup under Python 3. This will not work.\"<>\"Please use Beautiful Soup 4, available through the pip package 'beautifulsoup4'.\"\n",
      "                                                                                                        ^\n",
      "    SyntaxError: invalid syntax\n",
      "    ----------------------------------------\n",
      "WARNING: Discarding https://files.pythonhosted.org/packages/40/f2/6c9f2f3e696ee6a1fb0e4d7850617e224ed2b0b1e872110abffeca2a09d4/BeautifulSoup-3.2.2.tar.gz#sha256=a04169602bff6e3138b1259dbbf491f5a27f9499dea9a8fbafd48843f9d89970 (from https://pypi.org/simple/beautifulsoup/). Command errored out with exit status 1: python setup.py egg_info Check the logs for full command output.\n",
      "    ERROR: Command errored out with exit status 1:\n",
      "     command: 'C:\\Users\\chen\\.conda\\envs\\autoreport\\python.exe' -c 'import io, os, sys, setuptools, tokenize; sys.argv[0] = '\"'\"'C:\\\\Users\\\\chen\\\\AppData\\\\Local\\\\Temp\\\\pip-install-99gixe_l\\\\beautifulsoup_4aaa8e93c52543a49bb2d5cd24fa2c35\\\\setup.py'\"'\"'; __file__='\"'\"'C:\\\\Users\\\\chen\\\\AppData\\\\Local\\\\Temp\\\\pip-install-99gixe_l\\\\beautifulsoup_4aaa8e93c52543a49bb2d5cd24fa2c35\\\\setup.py'\"'\"';f = getattr(tokenize, '\"'\"'open'\"'\"', open)(__file__) if os.path.exists(__file__) else io.StringIO('\"'\"'from setuptools import setup; setup()'\"'\"');code = f.read().replace('\"'\"'\\r\\n'\"'\"', '\"'\"'\\n'\"'\"');f.close();exec(compile(code, __file__, '\"'\"'exec'\"'\"'))' egg_info --egg-base 'C:\\Users\\chen\\AppData\\Local\\Temp\\pip-pip-egg-info-x8nzp23i'\n",
      "         cwd: C:\\Users\\chen\\AppData\\Local\\Temp\\pip-install-99gixe_l\\beautifulsoup_4aaa8e93c52543a49bb2d5cd24fa2c35\\\n",
      "    Complete output (6 lines):\n",
      "    Traceback (most recent call last):\n",
      "      File \"<string>\", line 1, in <module>\n",
      "      File \"C:\\Users\\chen\\AppData\\Local\\Temp\\pip-install-99gixe_l\\beautifulsoup_4aaa8e93c52543a49bb2d5cd24fa2c35\\setup.py\", line 22\n",
      "        print \"Unit tests have failed!\"\n",
      "              ^\n",
      "    SyntaxError: Missing parentheses in call to 'print'. Did you mean print(\"Unit tests have failed!\")?\n",
      "    ----------------------------------------\n",
      "WARNING: Discarding https://files.pythonhosted.org/packages/1e/ee/295988deca1a5a7accd783d0dfe14524867e31abb05b6c0eeceee49c759d/BeautifulSoup-3.2.1.tar.gz#sha256=6a8cb4401111e011b579c8c52a51cdab970041cc543814bbd9577a4529fe1cdb (from https://pypi.org/simple/beautifulsoup/). Command errored out with exit status 1: python setup.py egg_info Check the logs for full command output.\n",
      "    ERROR: Command errored out with exit status 1:\n",
      "     command: 'C:\\Users\\chen\\.conda\\envs\\autoreport\\python.exe' -c 'import io, os, sys, setuptools, tokenize; sys.argv[0] = '\"'\"'C:\\\\Users\\\\chen\\\\AppData\\\\Local\\\\Temp\\\\pip-install-99gixe_l\\\\beautifulsoup_983cd6683569456aa8d54d6dea59f26b\\\\setup.py'\"'\"'; __file__='\"'\"'C:\\\\Users\\\\chen\\\\AppData\\\\Local\\\\Temp\\\\pip-install-99gixe_l\\\\beautifulsoup_983cd6683569456aa8d54d6dea59f26b\\\\setup.py'\"'\"';f = getattr(tokenize, '\"'\"'open'\"'\"', open)(__file__) if os.path.exists(__file__) else io.StringIO('\"'\"'from setuptools import setup; setup()'\"'\"');code = f.read().replace('\"'\"'\\r\\n'\"'\"', '\"'\"'\\n'\"'\"');f.close();exec(compile(code, __file__, '\"'\"'exec'\"'\"'))' egg_info --egg-base 'C:\\Users\\chen\\AppData\\Local\\Temp\\pip-pip-egg-info-270qrh_c'\n",
      "         cwd: C:\\Users\\chen\\AppData\\Local\\Temp\\pip-install-99gixe_l\\beautifulsoup_983cd6683569456aa8d54d6dea59f26b\\\n",
      "    Complete output (6 lines):\n",
      "    Traceback (most recent call last):\n",
      "      File \"<string>\", line 1, in <module>\n",
      "      File \"C:\\Users\\chen\\AppData\\Local\\Temp\\pip-install-99gixe_l\\beautifulsoup_983cd6683569456aa8d54d6dea59f26b\\setup.py\", line 22\n",
      "        print \"Unit tests have failed!\"\n",
      "              ^\n",
      "    SyntaxError: Missing parentheses in call to 'print'. Did you mean print(\"Unit tests have failed!\")?\n",
      "    ----------------------------------------\n",
      "WARNING: Discarding https://files.pythonhosted.org/packages/33/fe/15326560884f20d792d3ffc7fe8f639aab88647c9d46509a240d9bfbb6b1/BeautifulSoup-3.2.0.tar.gz#sha256=0dc52d07516c1665c9dd9f0a390a7a054bfb7b147a50b2866fb116b8909dfd37 (from https://pypi.org/simple/beautifulsoup/). Command errored out with exit status 1: python setup.py egg_info Check the logs for full command output.\n",
      "ERROR: Could not find a version that satisfies the requirement BeautifulSoup (from versions: 3.2.0, 3.2.1, 3.2.2)\n",
      "ERROR: No matching distribution found for BeautifulSoup\n"
     ]
    }
   ],
   "source": [
    "!pip install BeautifulSoup"
   ]
  },
  {
   "cell_type": "code",
   "execution_count": 39,
   "id": "69619643",
   "metadata": {},
   "outputs": [],
   "source": [
    "from time import time\n",
    "\n",
    "from bs4 import BeautifulSoup\n",
    "from selectolax.parser import HTMLParser"
   ]
  },
  {
   "cell_type": "code",
   "execution_count": 40,
   "id": "f4fd0548",
   "metadata": {},
   "outputs": [],
   "source": [
    "\n",
    "def get_text_bs(html):\n",
    "    tree = BeautifulSoup(html, 'lxml')\n",
    "    body = tree.body\n",
    "    if body is None:\n",
    "        return None"
   ]
  },
  {
   "cell_type": "code",
   "execution_count": 41,
   "id": "2df5817e",
   "metadata": {},
   "outputs": [],
   "source": [
    "with open(\"C:/Users/chen/Desktop/reqData/dosage/ISCA-46300.html\",\"r\") as f:\n",
    "    text = f.read()"
   ]
  },
  {
   "cell_type": "code",
   "execution_count": 30,
   "id": "806ed56e",
   "metadata": {
    "collapsed": true
   },
   "outputs": [
    {
     "data": {
      "text/plain": [
       "'<!DOCTYPE html>\\n<html lang=\"en\">\\n<head>\\n  <meta charset=\"utf-8\">\\n  <meta name=\"viewport\" content=\"width=device-width, initial-scale=1\">\\n\\n  <!-- CSRF Token -->\\n  <meta name=\"csrf-token\" content=\"H9Q9EOmXK7E01IMfmKn952tPdVlJmhmyYnUT4RyB\">\\n\\n  <title> 15q24 recurrent region (LCR C-LCR D) (includes SIN3A) curation results for Dosage Sensitivity  </title>\\n\\n  <!-- Scripts -->\\n\\n  <script src=\"https://search.clinicalgenome.org/js/js.cookie.min.js\"></script>\\n  <script src=\"https://search.clinicalgenome.org/js/app.js\"></script>\\n\\n  <!-- Fonts -->\\n\\n  <!-- Styles -->\\n    <link href=\"https://search.clinicalgenome.org/css/app.css\" rel=\"stylesheet\">\\n\\n  \\n\\n    <script>\\n     (function(i,s,o,g,r,a,m){i[\\'GoogleAnalyticsObject\\']=r;i[r]=i[r]||function(){\\n       (i[r].q=i[r].q||[]).push(arguments)},i[r].l=1*new Date();a=s.createElement(o),\\n                              m=s.getElementsByTagName(o)[0];a.async=1;a.src=g;m.parentNode.insertBefore(a,m)\\n     })(window,document,\\'script\\',\\'https://www.google-analytics.com/analytics.js\\',\\'ga\\');\\n     ga(\\'create\\', \\'UA-49947422-1\\', \\'auto\\');\\n     ga(\\'set\\', \\'dimension7\\', \\'KB Curations - Index\\');\\n     //Page type\\n     ga(\\'send\\', \\'pageview\\');\\n    </script>\\n\\n\\n</head>\\n<body>\\n  <div id=\"app\">\\n    \\n    <div class=\"section-heading section-heading-groups\">\\n\\t<div class=\"container text-right small text-muted\">\\n\\t\\t<div class=\"container\">\\n\\t\\t\\t<ul class=\"list-inline pull-right m-0 p-1\">\\n\\t\\t\\t\\t<li class=\\'\\'>\\n\\t\\t\\t\\t\\t<a class=\\' text-white\\' href=\\'https://www.clinicalgenome.org/share-your-data/\\'>\\n\\t\\t\\t\\t\\t\\t<span class=\"visible-inline-md visible-inline-lg visible-inline-xl\">Data Sharing Resources</span>\\n\\t\\t\\t\\t\\t</a>\\n\\t\\t\\t\\t</li>\\n\\t\\t\\t\\t<li class=\\'\\'>\\n\\t\\t\\t\\t\\t<a class=\\' text-white\\' href=\\'https://www.clinicalgenome.org/genomeconnect/\\'>GenomeConnect</a>\\n\\t\\t\\t\\t</li>\\n\\t\\t\\t\\t<li class=\\'visible-inline-md visible-inline-lg visible-inline-xl\\'>\\n\\t\\t\\t\\t\\t<a class=\\' text-white\\' href=\\'https://www.clinicalgenome.org/about/events/\\'>Events</a>\\n\\t\\t\\t\\t</li>\\n\\t\\t\\t\\t<li class=\\'visible-inline-md visible-inline-lg visible-inline-xl\\'>\\n\\t\\t\\t\\t\\t<a class=\\' text-white\\' href=\\'https://www.clinicalgenome.org/about/contact-clingen/\\'>Contact</a>\\n\\t\\t\\t\\t</li>\\n\\t\\t\\t\\t\\n\\t\\t\\t\\t\\t\\t\\t\\t<li id=\"dashboard-menu\" class=\"dropdown\" style=\"display:none\">\\n\\t\\t\\t\\t\\t<a href=\"#\" class=\"dropdown-toggle text-white\" data-toggle=\"dropdown\" role=\"button\" aria-haspopup=\"true\" aria-expanded=\"false\">\\n\\t\\t\\t\\t\\t\\t<i class=\"fa fa-user\" aria-hidden=\"true\"> </i>\\n\\t\\t\\t\\t\\t\\t<span id=\"nav-user-name\"> Member </span>\\n\\t\\t\\t\\t\\t</a>\\n\\t\\t\\t\\t\\t<ul class=\"dropdown-menu\">\\n\\t\\t\\t\\t\\t  <li><a href=\"/dashboard\"><i class=\"fas fa-tachometer-alt mr-1\"></i>Dashboard</a></li>\\n\\t\\t\\t\\t\\t  <li role=\"separator\" class=\"divider\"></li>\\n\\t\\t\\t\\t\\t  <li><a class=\"dropdown-item\" href=\"https://search.clinicalgenome.org/logout\"\\n\\t\\t\\t\\t\\t\\tonclick=\"event.preventDefault();\\n\\t\\t\\t\\t\\t\\tdocument.getElementById(\\'logout-form\\').submit();\">\\n\\t\\t\\t\\t\\t\\t<i class=\"fas fa-sign-out-alt mr-1 text-danger\"></i>Logout\\n\\t\\t\\t\\t\\t\\t</a>\\n\\t\\t\\t\\t\\t\\t<form id=\"logout-form\" action=\"/logout\" method=\"POST\" style=\"display: none;\">\\n\\t\\t\\t\\t\\t\\t\\t<input type=\"hidden\" name=\"_token\" value=\"H9Q9EOmXK7E01IMfmKn952tPdVlJmhmyYnUT4RyB\">\\t\\t\\t\\t\\t\\t</form></li>\\n\\t\\t\\t\\t\\t</ul>\\n\\t\\t\\t\\t</li>\\n\\t\\t\\t\\t<li id=\"login-menu\" class=\\'visible-inline-md visible-inline-lg visible-inline-xl\\'>\\n\\t\\t\\t\\t\\t<a class=\\'text-white action-login\\' href=\\'#\\'>Login</a>\\n\\t\\t\\t\\t</li>\\n\\t\\t\\t\\t\\t\\t\\t</ul>\\n\\t\\t</div>\\n\\t</div>\\n</div>    <header>\\n\\n  <nav class=\"navbar navbar-light\">\\n    <div class=\"container\">\\n      <!-- Brand and toggle get grouped for better mobile display -->\\n      <div class=\"navbar-header\">\\n        <button type=\"button\" class=\"btn btn-lg mt-4 btn-outline-primary navbar-toggle pull-right collapsed\" data-toggle=\"collapse\" data-target=\"#bs-example-navbar-collapse-1\" aria-expanded=\"false\">\\n          <span class=\"sr-only\">Toggle navigation</span>\\n          Navigation <i class=\"fas fa-bars\"></i>\\n        </button>\\n        <a class=\"navbar-brand\" href=\"https://www.clinicalgenome.org/\"><img style=\"height:80px\" src=\"/brand/logo/logo-clinical-genome-logo-vector.svg\" class=\"img-fluid p-0\" alt=\"Responsive image\"></a>\\n      </div>\\n\\n      <!-- Collect the nav links, forms, and other content for toggling -->\\n      <div class=\"collapse navbar-collapse\" id=\"bs-example-navbar-collapse-1\">\\n        <ul class=\"nav navbar-nav navbar-right mt-4\">\\n\\n\\n          <li class=\\'nav-item   \\'>\\n            <a class=\\'nav-link nav-link-header \\'  href=\\'https://www.clinicalgenome.org/start/\\'>Get Started</a>\\n\\n          </li>\\n\\n          <li class=\\'nav-item   dropdown\\'>\\n            <a class=\\'nav-link nav-link-header dropdown-toggle\\'  href=\\'https://www.clinicalgenome.org/about/\\'>About Us</a>\\n\\n            <ul class=\\' row dropdown-menu dropdown-width-normal  dropdown-menu-right dropdown-menu-lg-left\\'>\\n              <li class=\\'nav-item \\'>\\n                <a class=\\'nav-link nav-link-header\\' href=\\'https://www.clinicalgenome.org/about/clingen-clinvar-collaboration/\\'><span class=\\' d-inline-block text-truncate\\'>ClinGen &amp; ClinVar Collaboration</span></a>\\n              </li>\\n              <li class=\"nav-item \">\\n                <a class=\"nav-link nav-link-header\" href=\"https://www.clinicalgenome.org/about/clingen-cpic-pharmgkb/\"><span class=\" d-inline-block text-truncate\">ClinGen, CPIC and PharmGKB Partnership&nbsp;</span></a>\\n              </li>\\n              <li class=\\'nav-item \\'>\\n                <a class=\\'nav-link nav-link-header\\' href=\\'https://www.clinicalgenome.org/about/terms-of-use/\\'><span class=\\' d-inline-block text-truncate\\'>ClinGen Terms of Use</span></a>\\n              </li>\\n\\n              <li class=\\'nav-item \\'>\\n                <a class=\\'nav-link nav-link-header\\' href=\\'https://www.clinicalgenome.org/about/clingen-collaborations/\\'><span class=\\' d-inline-block text-truncate\\'>Collaborations</span></a>\\n              </li>\\n\\n              <li class=\\'nav-item \\'>\\n                <a class=\\'nav-link nav-link-header\\' href=\\'https://www.clinicalgenome.org/about/contact-clingen/\\'><span class=\\' d-inline-block text-truncate\\'>Contact ClinGen</span></a>\\n              </li>\\n\\n              <li class=\\'nav-item \\'>\\n                <a class=\\'nav-link nav-link-header\\' href=\\'https://www.clinicalgenome.org/about/events/\\'><span class=\\' d-inline-block text-truncate\\'>Events &amp; Conferences</span></a>\\n              </li>\\n\\n              <li class=\\'nav-item \\'>\\n                <a class=\\'nav-link nav-link-header\\' href=\\'https://www.clinicalgenome.org/about/clingen-leadership/\\'><span class=\\' d-inline-block text-truncate\\'>Leadership</span></a>\\n              </li>\\n\\n              <li class=\\'nav-item \\'>\\n                <a class=\\'nav-link nav-link-header\\' href=\\'https://www.clinicalgenome.org/about/people/\\'><span class=\\' d-inline-block text-truncate\\'>Member Directory</span></a>\\n              </li>\\n\\n              <li class=\\'nav-item \\'>\\n                <a class=\\'nav-link nav-link-header\\' href=\\'https://www.clinicalgenome.org/about/clingen-policies/\\'><span class=\\' d-inline-block text-truncate\\'>Policies</span></a>\\n              </li>\\n\\n              <li class=\\'nav-item \\'>\\n                <a class=\\'nav-link nav-link-header\\' href=\\'https://www.clinicalgenome.org/about/sitemap/\\'><span class=\\' d-inline-block text-truncate\\'>Website SiteMap</span></a>\\n              </li>\\n            </ul>\\n\\n          </li>\\n\\n          <li class=\\'nav-item  active dropdown\\'>\\n            <a class=\\'nav-link nav-link-header dropdown-toggle\\'  href=\\'https://www.clinicalgenome.org/curation-activities/\\'>Curation Activities</a>\\n\\n            <ul class=\\' row dropdown-menu dropdown-width-normal  dropdown-menu-right dropdown-menu-lg-left\\'>\\n              <li class=\\'nav-item \\'>\\n                <a class=\\'nav-link nav-link-header\\' href=\\'https://www.clinicalgenome.org/curation-activities/gene-disease-validity/\\'><span class=\\' d-inline-block text-truncate\\'> Gene-Disease Validity</span></a>\\n              </li>\\n\\n              <li class=\\'nav-item \\'>\\n                <a class=\\'nav-link nav-link-small pl-4\\' href=\\'https://www.clinicalgenome.org/curation-activities/gene-disease-validity/training-materials/\\'><span class=\\' d-inline-block text-truncate\\'><i class=\\'fas fa-angle-double-right text-muted-more\\'></i> Training Materials</span></a>\\n              </li>\\n\\n              <li class=\\'nav-item \\'>\\n                <a class=\\'nav-link nav-link-small pl-4\\' href=\\'http://search.clinicalgenome.org/kb/gene-validity\\'><span class=\\' d-inline-block text-truncate\\'><i class=\\'fas fa-angle-double-right text-muted-more\\'></i> Browse Curations</span></a>\\n              </li>\\n\\n              <li class=\\'nav-item \\'>\\n                <a class=\\'nav-link nav-link-header\\' href=\\'https://www.clinicalgenome.org/curation-activities/variant-pathogenicity/\\'><span class=\\' d-inline-block text-truncate\\'> Variant Pathogenicity</span></a>\\n              </li>\\n\\n              <li class=\\'nav-item \\'>\\n                <a class=\\'nav-link nav-link-small pl-4\\' href=\\'https://www.clinicalgenome.org/curation-activities/variant-pathogenicity/training-materials/\\'><span class=\\' d-inline-block text-truncate\\'><i class=\\'fas fa-angle-double-right text-muted-more\\'></i> Training Materials</span></a>\\n              </li>\\n\\n              <li class=\\'nav-item \\'>\\n                <a class=\\'nav-link nav-link-small pl-4\\' href=\\'https://erepo.clinicalgenome.org/evrepo/\\'><span class=\\' d-inline-block text-truncate\\'><i class=\\'fas fa-angle-double-right text-muted-more\\'></i> Browse Curations</span></a>\\n              </li>\\n\\n              <li class=\\'nav-item \\'>\\n                <a class=\\'nav-link nav-link-header\\' href=\\'https://www.clinicalgenome.org/curation-activities/clinical-actionability/\\'><span class=\\' d-inline-block text-truncate\\'> Clinical Actionability</span></a>\\n              </li>\\n\\n              <li class=\\'nav-item \\'>\\n                <a class=\\'nav-link nav-link-small pl-4\\' href=\\'https://www.clinicalgenome.org/curation-activities/clinical-actionability/training-materials/\\'><span class=\\' d-inline-block text-truncate\\'><i class=\\'fas fa-angle-double-right text-muted-more\\'></i> Training Materials</span></a>\\n              </li>\\n\\n              <li class=\\'nav-item \\'>\\n                <a class=\\'nav-link nav-link-small pl-4\\' href=\\'http://search.clinicalgenome.org/kb/actionability\\'><span class=\\' d-inline-block text-truncate\\'><i class=\\'fas fa-angle-double-right text-muted-more\\'></i> Browse Curations</span></a>\\n              </li>\\n\\n              <li class=\\'nav-item \\'>\\n                <a class=\\'nav-link nav-link-header\\' href=\\'https://www.clinicalgenome.org/curation-activities/dosage-sensitivity/\\'><span class=\\' d-inline-block text-truncate\\'> Dosage Sensitivity</span></a>\\n              </li>\\n\\n              <li class=\\'nav-item \\'>\\n                <a class=\\'nav-link nav-link-small pl-4\\' href=\\'https://www.clinicalgenome.org/curation-activities/dosage-sensitivity/training-materials/\\'><span class=\\' d-inline-block text-truncate\\'><i class=\\'fas fa-angle-double-right text-muted-more\\'></i> Training Materials</span></a>\\n              </li>\\n\\n              <li class=\\'nav-item \\'>\\n                <a class=\\'nav-link nav-link-small pl-4\\' href=\\'http://search.clinicalgenome.org/kb/gene-dosage\\'><span class=\\' d-inline-block text-truncate\\'><i class=\\'fas fa-angle-double-right text-muted-more\\'></i> Browse Curations</span></a>\\n              </li>\\n\\n              <li class=\\'divider\\'></li>\\n\\n              <li class=\\'nav-item \\'>\\n                <a class=\\'nav-link nav-link-header\\' href=\\'https://www.clinicalgenome.org/curation-activities/results/\\'><span class=\\' d-inline-block text-truncate\\'> Browse All ClinGen&#039;s Curated Genes</span></a>\\n              </li>\\n            </ul>\\n\\n          </li>\\n\\n          <li class=\\'nav-item  \\'>\\n            <a class=\\'nav-link nav-link-header\\'  href=\\'https://www.clinicalgenome.org/working-groups/\\'>Working Groups</a>\\n\\n\\n\\n          </li>\\n\\n          <li class=\\'nav-item   \\'>\\n            <a class=\\'nav-link nav-link-header \\'  href=\\'https://www.clinicalgenome.org/affiliation/\\'>Expert Panels</a>\\n\\n\\n          </li>\\n\\n          <li class=\\'nav-item  \\'>\\n            <a class=\\'nav-link nav-link-header\\'  href=\\'https://www.clinicalgenome.org/docs/\\'>Documents <span class=\\'visible-inline-lg hidden-md visible-inline-xl visible-inline-sm visible-inline-xs\\'> &amp; Annoucements</span></a>\\n\\n\\n          </li>\\n\\n          <li class=\\'nav-item   \\'>\\n            <a class=\\'nav-link nav-link-header \\'  href=\\'https://www.clinicalgenome.org/tools/\\'>Tools</a>\\n\\n          </li>\\n\\n\\n          <li class=\\'navbar-text navbar-text-hover\\' id=\\'navSearchToggle\\'><i class=\\'fas fa-search text-muted\\'></i></li>\\n        </ul>\\n      </div><!-- /.navbar-collapse -->\\n    </div><!-- /.container-fluid -->\\n\\n    </nav>\\n  </header>\\n    <main id=\\'section_main\\' role=\"main\">\\n      <section id=\\'section_heading\\' class=\"pt-0 pb-0 mb-0 section-heading section-heading-groups text-light\">\\n        <div  class=\"container\">\\n          <form id=\"navSearchBar\" method=\"post\" action=\"https://search.clinicalgenome.org/kb/genes\">\\n            <input type=\"hidden\" name=\"_token\" value=\"H9Q9EOmXK7E01IMfmKn952tPdVlJmhmyYnUT4RyB\">            <div id=\"section_search_wrapper\" class=\"mt-2 mb-2 input-group input-group-md\">\\n           <input type=\"hidden\" class=\"buildtype\" name=\"type\" value=\"\">\\n\\t         <span class=\"input-group-addon\" id=\"\"><i class=\"fas fa-search\"></i></span>\\n\\t         <div class=\"input-group-btn\">\\n\\t           <button type=\"button\" class=\"btn btn-default dropdown-toggle\" data-toggle=\"dropdown\" aria-haspopup=\"true\" aria-expanded=\"false\"><span class=\\'typeQueryLabel\\'>Gene</span></button>\\n\\t           <ul class=\"dropdown-menu dropdown-menu-left\">\\n\\t             <li><a class=\"typeQueryGene pointer\">Gene Symbol</a></li>\\n\\t             <li><a class=\"typeQueryDisease pointer\">Disease Name</a></li>\\n\\t             <li><a class=\"typeQueryDrug pointer\">Drug Name</a></li>\\n\\t             <li><a class=\"typeQueryRegionGRCh37 pointer\">Region (GRCh37)</a></li>\\n\\t             <li><a class=\"typeQueryRegionGRCh38 pointer\">Region (GRCh38)</a></li>\\n\\t             \\n\\t             \\n\\t             \\n               <li role=\"separator\" class=\"divider\"></li>\\n               <li><a class=\"\" target=\"allele_reg\" href=\"http://reg.clinicalgenome.org\">Variant <i class=\"fas fa-external-link-alt mt-1 text-muted\"></i> </a></li>\\n\\t             <li><a href=\"https://clinicalgenome.org/search/\"> Website Content <i class=\"fas fa-external-link-alt mt-1 text-muted\"></i></a></li>\\n\\t           </ul>\\n           </div><!-- /btn-group -->\\n           <span class=\"inputQueryGene\">\\n            <input type=\"text\" class=\"form-control queryGene \" aria-label=\"...\" value=\"\" name=\"search[]\" placeholder=\"Enter a gene symbol or HGNC ID (Examples: ADNP, HGNC:15766)\">\\n           </span>\\n           <span class=\"inputQueryDisease\" style=\"display: none\">\\n            <input type=\"text\" class=\"form-control  queryDisease\" aria-label=\"...\" value=\"\" name=\"search[]\" placeholder=\"Enter a disease name or MONDO ID (Examples: Loeys Dietz, MONDO:0018954)\" >\\n           </span>\\n           <span class=\"inputQueryDrug\" style=\"display: none\">\\n           <input type=\"text\" class=\"form-control queryDrug\" aria-label=\"...\" value=\"\" name=\"search[]\" placeholder=\"Enter a drug name or RXNORM ID (Examples: aspirin, RXNORM:1191)\">\\n           </span>\\n           <span class=\"inputQueryRegion\" style=\"display: none\">\\n           <input type=\"text\" class=\"form-control queryRegion\" aria-label=\"...\" value=\"\" name=\"search[]\" placeholder=\"Enter a full or partial region, or full cytoband (Examples: chr7:75158048-76063176, chr7, chr7:70008000, 12q24.31)\">\\n           </span>\\n\\t         <span class=\"input-group-btn\">\\n\\t                 <button class=\"btn btn-default btn-search-submit\" type=\"submit\"> Search</button>\\n\\t               </span>\\n         </div><!-- /input-group -->\\n          </form>\\n                      <div class=\"content \">\\n    <div class=\"section-heading-content\">\\n    </div>\\n</div>\\n                    \\n          <ul class=\"nav-tabs-search nav nav-tabs ml-0 mt-1 \">\\n\\n            <li class=\"nav-item  \">\\n              <a class=\"nav-link\" href=\"https://search.clinicalgenome.org/kb/genes/curations\">\\n                All Curated Genes\\n              </a>\\n            </li>\\n\\n            <li class=\"nav-item dropdown  \">\\n              <a class=\"nav-link  dropdown-toggle\" href=\"https://search.clinicalgenome.org/kb/gene-validity\"  aria-haspopup=\"true\" aria-expanded=\"false\">\\n                Gene-Disease Validity\\n              </a>\\n              <ul class=\"dropdown-menu\">\\n                <li><a class=\"\" href=\"https://search.clinicalgenome.org/kb/gene-validity\">All Curations</a></li>\\n                <li><a class=\"f\" href=\"https://search.clinicalgenome.org/kb/affiliate\">Curations by Expert Panel</a></li>\\n                <li class=\"divider\"></li>\\n                <li><a href=\"https://search.clinicalgenome.org/kb/downloads/#section_gene-disease-validity\"><i class=\"fas fa-download\"></i> File Downloads</a></li>\\n                \\n              </ul>\\n            </li>\\n            <li class=\"nav-item dropdown  active  \">\\n              <a class=\"nav-link  dropdown-toggle\" href=\"https://search.clinicalgenome.org/kb/gene-dosage\" aria-haspopup=\"true\" aria-expanded=\"false\">\\n                Dosage Sensitivity\\n              </a>\\n              <ul class=\"dropdown-menu\">\\n                <li><a class=\"\" href=\"https://search.clinicalgenome.org/kb/gene-dosage\">All Curations</a></li>\\n                \\n                <li><a class=\"\" href=\"https://search.clinicalgenome.org/kb/gene-dosage/cnv\">Recurrent CNV</a></li>\\n                <li class=\"divider\"></li>\\n                \\n                <li><a href=\"https://search.clinicalgenome.org/kb/downloads/#section_dosage\"><i class=\"fas fa-download\"></i> FTP File Downloads (CSV, BED, TSV)</a></li>\\n              </ul>\\n            </li>\\n            <li class=\"nav-item dropdown  \">\\n              <a class=\"nav-link  dropdown-toggle\" target=\"external-actionability\" href=\"https://search.clinicalgenome.org/kb/actionability\" aria-haspopup=\"true\" aria-expanded=\"false\">\\n                Clinical Actionability\\n              </a>\\n              <ul class=\"dropdown-menu\">\\n                <li><a class=\"\" href=\"https://search.clinicalgenome.org/kb/actionability\">All Curations <i class=\"fas fa-external-link-alt small\"></i></a></li>\\n                \\n                <li><a class=\"\" target=\"external-actionability\" href=\"https://actionability.clinicalgenome.org/ac/Adult/ui/summ\">Curations in Adult Context <i class=\"fas fa-external-link-alt small\"></i></a></li>\\n                <li><a class=\"\" target=\"external-actionability\" href=\"https://actionability.clinicalgenome.org/ac/Pediatric/ui/summ\">Curations in Pediatric Context <i class=\"fas fa-external-link-alt small\"></i></a></li>\\n                <li><a class=\"\" target=\"external-actionability\" href=\"https://www.clinicalgenome.org/docs/semi-quantitative-scoring-metric/\">Scoring Metric <i class=\"fas fa-external-link-alt small\"></i></a></li>\\n                <li class=\"divider\"></li>\\n                <li><a href=\"https://search.clinicalgenome.org/kb/downloads/#section_actionability\"><i class=\"fas fa-download\"></i> File Downloads &amp; APIs</a></li>\\n              </ul>\\n            </li>\\n\\n            <li class=\"nav-item dropdown  \">\\n              <a class=\"nav-link  dropdown-toggle\" target=\"external-erepo\" href=\"https://search.clinicalgenome.org/kb/variant-pathogenicity/all\" aria-haspopup=\"true\" aria-expanded=\"false\">\\n                Curated Variants\\n              </a>\\n              <ul class=\"dropdown-menu\">\\n                <li><a class=\"\" href=\"https://search.clinicalgenome.org/kb/variant-pathogenicity/all\">All Curations <i class=\"fas fa-external-link-alt small\"></i></a></li>\\n                <li class=\"divider\"></li><li>\\n                <li><a href=\"https://search.clinicalgenome.org/kb/downloads#section_variant\"><i class=\"fas fa-download\"></i> File Downloads &amp; APIs</a></li>\\n              </ul>\\n            </li>\\n            <li class=\"nav-item  \">\\n              <a class=\"nav-link\" href=\"https://search.clinicalgenome.org/kb/reports/stats\">\\n                Statistics\\n              </a>\\n            </li>\\n            <li class=\"nav-item  \">\\n              <a class=\"nav-link\" href=\"https://search.clinicalgenome.org/kb/downloads\">\\n                Downloads\\n              </a>\\n            </li>\\n            <li class=\"nav-item dropdown dropdown-menu-right \">\\n                <a class=\"nav-link dropdown-toggle\"  href=\"#\" >\\n                 More\\n                </a>\\n                <ul class=\"dropdown-menu dropdown-menu-right\">\\n                  \\n                  \\n                  <li><a class=\"\" href=\"https://search.clinicalgenome.org/kb/genes\">All Genes</a></li>\\n                  <li><a class=\"\" href=\"https://search.clinicalgenome.org/kb/conditions\">All Disease</a></li>\\n                  <li><a class=\"\" href=\"https://search.clinicalgenome.org/kb/drugs\">All Drugs & Medications</a></li>\\n                  <li role=\"separator\" class=\"divider\"></li>\\n                <li><a href=\"https://search.clinicalgenome.org/kb/downloads\"><i class=\"fas fa-download\"></i> File Downloads &amp; APIs</a></li>\\n                </ul>\\n              </li>\\n\\n            <li role=\"presentation\" class=\"nav-item dropdown\">\\n                <a class=\"nav-link dropdown-toggle mr-0\" data-toggle=\"dropdown\" href=\"#\" role=\"button\" aria-haspopup=\"true\" aria-expanded=\"false\">\\n                  <i class=\"fas fa-question-circle\"></i>\\n                </a>\\n                <ul class=\"dropdown-menu dropdown-menu-right\">\\n                  <li><a href=\"https://clinicalgenome.org/tools/clingen-website-faq/\">About ClinGen\\'s Website</a></li>\\n                  <li><a href=\"https://clinicalgenome.org/tools/clingen-website-faq/\">Learn About New Features</a></li>\\n                  <li><a href=\"https://clinicalgenome.org/tools/clingen-website-faq/how-to-cite/\">How To Cite ClinGen</a></li>\\n                  <li><a href=\"https://clinicalgenome.org/tools/clingen-website-faq/attribution/\">External Data Attribution</a></li>\\n                  <li><a href=\"https://clinicalgenome.org/about/contact-clingen/\">Contact Us</a></li>\\n                </ul>\\n              </li>\\n            \\n            \\n\\n            \\n          </ul>\\n                    </div>\\n        </section>\\n        \\n        <section id=\\'section_content\\' class=\"container\">\\n                    <div class=\"row\">\\n            <div class=\"container\">\\n  <div class=\"row justify-content-center\">\\n\\n    <!-- Header -->\\n    <div class=\"col-md-6\">\\n      <table class=\"mt-3 mb-2\">\\n        <tr>\\n          <td class=\"valign-top\"><img src=\"/images/dosageSensitivity-on.png\" width=\"40\" height=\"40\"></td>\\n          <td class=\"pl-2\"><h1 class=\"h2 p-0 m-0\">  15q24 recurrent region (LCR C-LCR D) (includes SIN3A)</h1>\\n            <div>\\n              <a class=\"btn btn-facts btn-outline-primary\" role=\"button\" data-toggle=\"collapse\" href=\"#collapseExample\" aria-expanded=\"false\" aria-controls=\"collapseExample\">\\n                <i class=\"far fa-caret-square-down\"></i> Region Facts\\n              </a>\\n            </div>\\n          </td>\\n        </tr>\\n      </table>\\n    </div>\\n\\n    <div class=\"col-md-6\">\\n\\t\\t\\t<div class=\"\">\\n\\t\\t\\t\\t<div class=\"text-right p-2\">\\n\\t\\t\\t\\t\\t<ul class=\"list-inline pb-0 mb-0 small\">\\n                        <li class=\"text-stats line-tight text-center pl-3 pr-3\"><span class=\"countHaplo text-18px\">3</span><br />Haplo<br />Score</li>\\n            <li class=\"text-stats line-tight text-center pl-3 pr-3\"><span class=\"countTriplo text-18px\">0</span><br />Triplo<br />Score</li>\\n            <!--<li class=\"text-stats line-tight text-center pl-3 pr-3\"><a href=\"https://search.clinicalgenome.org/kb/gene-dosage\"><i class=\"glyphicon glyphicon-circle-arrow-left text-18px text-muted\"></i><br />Return to<br />Dosage Listing</a></li>-->\\n                      </ul>\\n\\t\\t\\t\\t</div>\\n\\t\\t\\t</div>\\n    </div>\\n\\n    <div class=\"col-md-12\">\\n\\n      <!-- include the genefacts panel -->\\n      <div class=\"collapse\" id=\"collapseExample\">\\n  <div class=\"row\">\\n    <div class=\"col-sm-12  mt-0 pt-0 small\">\\n      <h4 class=\"border-bottom-1\">Region Facts</h4>\\n\\n      <dl class=\"dl-horizontal\">\\n        <dt>Region Name</dt>\\n        <dd>15q24 recurrent region (LCR C-LCR D) (includes SIN3A)\\n          <!--<a target=\\'external\\' href=\"https://www.genenames.org/data/gene-symbol-report/#!/hgnc_id/\" class=\"badge-info badge pointer\">HGNC <i class=\"fas fa-external-link-alt\"></i></a>\\n                                                            \\t\\t\\t\\t\\t\\t\\t<a target=\\'external\\' href=\"https://www.ncbi.nlm.nih.gov/books/NBK1116/?term=15q24 recurrent region (LCR C-LCR D) (includes SIN3A)\" class=\"badge-info badge pointer\">GeneReviews <i class=\"fas fa-external-link-alt\"></i> </a>\\n                                  <a target=\\'external\\' href=\"https://www.ncbi.nlm.nih.gov/clinvar/?term=15q24 recurrent region (LCR C-LCR D) (includes SIN3A)[gene]\" class=\"badge-info badge pointer\">ClinVar <i class=\"fas fa-external-link-alt\"></i> </a>\\n          -->\\n        </dd>\\n        <dt>Cytoband</dt>\\n        <dd>\\n          15q24\\n        </dd>\\n        <dt>Genomic Coordinates</dt>\\n        <dd>\\n          <table>\\n            <tr>\\n                <td>GRCh37/hg19</td>\\n                <td>chr15: 75631787-75972909\\n                  <a href=\"https://www.ncbi.nlm.nih.gov/nuccore/?report=graph&amp;from= 75631787-&amp;to=75972909\" class=\"badge-info badge pointer\"><i class=\"fas fa-external-link-alt\"></i>   NCBI</a>\\n                  <a href=\"https://www.ensembl.org/Homo_sapiens/Location/View?r=15: 75631787-75972909\" class=\"badge-info badge pointer\"><i class=\"fas fa-external-link-alt\"></i>   Ensembl</a>\\n                  <a href=\"https://genome.ucsc.edu/cgi-bin/hgTracks?clade=mammal&amp;org=Human&amp;db=hg19&amp;position=chr15: 75631787-75972909&amp;knownGene=pack\" class=\"badge-info badge pointer\"><i class=\"fas fa-external-link-alt\"></i>   UCSC</a>\\n                </td>\\n            </tr>  \\n            <tr>\\n                <td class=\"pr-3\">GRCh38/hg38</td>\\n                <td>chr15:75339446-75680568\\n                  <a href=\"https://www.ncbi.nlm.nih.gov/nuccore/?report=graph&amp;from=75339446-&amp;to=75680568\" class=\"badge-info badge pointer\"><i class=\"fas fa-external-link-alt\"></i>   NCBI</a>\\n                  <a href=\"https://www.ensembl.org/Homo_sapiens/Location/View?r=15:75339446-75680568\" class=\"badge-info badge pointer\"><i class=\"fas fa-external-link-alt\"></i>   Ensembl</a>\\n                  <a href=\"https://genome.ucsc.edu/cgi-bin/hgTracks?clade=mammal&amp;org=Human&amp;db=hg38&amp;position=chr15:75339446-75680568&amp;knownGene=pack\" class=\"badge-info badge pointer\"><i class=\"fas fa-external-link-alt\"></i>   UCSC</a>\\n                </td>\\n            </tr> \\n          </table>\\n        </dd>\\n              </dl>\\n    </div>\\n  </div>\\n</div>\\n      <!-- Show Report Summary -->\\n      <!-- Report Summary -->\\n<div class=\"row mt-2 \">\\n  <div class=\"col-sm-12\">\\n    <div class=\"card\">\\n      <div class=\"card-body bg-light\">\\n        <h3 class=\"h4 mt-0 mb-1 border-bottom-2 border-info\">Dosage Sensitivity Summary\\n                    (Region)\\n                    <!--<span class=\"float-right\">Curation Status:  Complete</span>-->\\n        </h3>\\n        <div class=\"row pt-3\">\\n          <div class=\"col-sm-3 text-right mt-3\">Dosage ID:</div>\\n          <div class=\"col-sm-3 border-left-4 border-info bold mt-3\">\\n            ISCA-46300\\n            <div class=\"small\"><a href=\"https://dosage.clinicalgenome.org/clingen_gene.cgi?sym=\">View legacy report...</a></div>\\n          </div>\\n          <div class=\"col-sm-4\">\\n            <div id=\"ideogram\"> </div>\\n          </div>\\n        </div>\\n        <div class=\"row pb-2 pt-3\">\\n          <div class=\"col-sm-3 text-right\">Curation Status:</div>\\n          <div class=\"col-sm-9 border-left-4 border-info bold\">\\n                        <span class=\"text-success\">\\n                        Complete</span>\\n          </div>\\n        </div>\\n        <div class=\"row pb-2 pt-3\">\\n          <div class=\"col-sm-3 text-right\">Issue Type:</div>\\n          <div class=\"col-sm-9 border-left-4 border-info bold\">Dosage Curation -\\n                        Region\\n                      </div>\\n        </div>\\n                <div class=\"row pb-2 pt-3\">\\n          <div class=\"col-sm-3 text-right\">Description:</div>\\n          <div class=\"col-sm-9 border-left-4 border-info bold prewrap\" >The 15q24 region contains a cluster of low copy repeats (LCRs) that mediate recurrent copy number changes through non-allelic homologous recombination. This review refers to nested CNVs involving recurrent breakpoint regions LCR C and LCR D.\\n\\n\\n\\nNote that genes used as landmarks are not necessarily causative of the phenotype(s) associated with the region.</div>\\n        </div>\\n                        <div class=\"row pb-2 pt-3\">\\n          <div class=\"col-sm-3 text-right\">Haploinsufficiency:</div>\\n          <div class=\"col-sm-9 border-left-4 border-info bold\">\\n                        Sufficient Evidence for Haploinsufficiency\\n                        (3)\\n                        <div class=\"small\"><a href=\"#report_details_haploinsufficiency\">Read full report...</a></div>\\n                      </div>\\n        </div>\\n        <div class=\"row pb-2 pt-3\">\\n          <div class=\"col-sm-3 text-right\">Triplosensitivity:</div>\\n          <div class=\"col-sm-9 border-left-4 border-info bold\">\\n                        No Evidence for Triplosensitivity\\n                         (0)\\n                         <div class=\"small\"><a href=\"#report_details_triplosensitivity\">Read full report...</a></div>\\n                      </div>\\n        </div>\\n                                        <div class=\"row pb-2 pt-3\">\\n          <div class=\"col-sm-3 text-right\">Related Links:</div>\\n          <div class=\"col-sm-9 border-left-4 border-info bold\" >\\n                                              <div><a href=\"/kb/gene-dosage/SIN3A\">SIN3A</a></div>\\n                                                              <div><a href=\"/kb/gene-dosage/region/ISCA-37396\">15q24 recurrent region (LCR A-LCR D) (includes SIN3A)</a></div>\\n                                        </div>\\n        </div>\\n                <div class=\"row pb-2 pt-3\">\\n          <div class=\"col-sm-3 text-right\">Last Evaluated:</div>\\n          <div class=\"col-sm-9 border-left-4 border-info bold\">\\n                        01/13/2020<br />\\n                      </div>\\n        </div>\\n        <!--\\n        <div class=\"row pb-2 pt-2\">\\n          <div class=\"col-sm-3 text-right\">Genomic Coordinates:</div>\\n          <div class=\"col-sm-9 border-left-4 border-info bold\">\\n            15q24<br />\\n            <div>\\n            GRCh37/hg19 chr15: 75631787-75972909\\n            <a href=\"https://www.ncbi.nlm.nih.gov/nuccore/?report=graph&amp;from= 75631787-&amp;to=75972909\" class=\"badge-info badge pointer ml-2\"><i class=\"fas fa-external-link-alt\"></i>   NCBI</a>\\n            <a href=\"https://www.ensembl.org/Homo_sapiens/Location/View?r=15: 75631787-75972909\" class=\"badge-info badge pointer ml-1\"><i class=\"fas fa-external-link-alt\"></i>   Ensembl</a>\\n            <a href=\"https://genome.ucsc.edu/cgi-bin/hgTracks?clade=mammal&amp;org=Human&amp;db=hg19&amp;position=chr15: 75631787-75972909&amp;knownGene=pack\" class=\"badge-info badge pointer ml-1\"><i class=\"fas fa-external-link-alt\"></i>   UCSC</a>\\n            </div><div class=\"pt-2\">\\n            GRCh38/hg38 chr15:75339446-75680568\\n            <a href=\"https://www.ncbi.nlm.nih.gov/nuccore/?report=graph&amp;from=75339446-&amp;to=75680568\" class=\"badge-info badge pointer ml-2\"><i class=\"fas fa-external-link-alt\"></i>   NCBI</a>\\n            <a href=\"https://www.ensembl.org/Homo_sapiens/Location/View?r=15:75339446-75680568\" class=\"badge-info badge pointer ml-1\"><i class=\"fas fa-external-link-alt\"></i>   Ensembl</a>\\n            <a href=\"https://genome.ucsc.edu/cgi-bin/hgTracks?clade=mammal&amp;org=Human&amp;db=hg38&amp;position=chr15:75339446-75680568&amp;knownGene=pack\" class=\"badge-info badge pointer ml-1\"><i class=\"fas fa-external-link-alt\"></i>   UCSC</a>\\n            </div>\\n          </div>\\n        </div>\\n      -->\\n        <!--\\n        <div class=\"row pb-2 pt-2\">\\n          <div class=\"col-sm-3 text-right\">Location Relationship:</div>\\n          <div class=\"col-sm-9 border-left-4 border-info bold\">\\n            Contained\\n          </div>\\n        </div>-->\\n        <!--\\n        <div class=\"row pb-2 pt-2\">\\n          <div class=\"col-sm-3 text-right\">Morbid:</div>\\n          <div class=\"col-sm-9 border-left-4 border-info bold\">\\n            OMIM:114480, OMIM:155255, OMIM:176807, OMIM:194070, OMIM:605724, OMIM:612555, OMIM:613029, OMIM:613347\\n          </div>\\n        </div>-->\\n        <!--\\n        <div class=\"row pb-2 pt-2\">\\n          <div class=\"col-sm-3 text-right\">%HI index:</div>\\n          <div class=\"col-sm-9 border-left-4 border-info bold\">\\n            <div class=\"text-danger\"></div>\\n            <a href=\"http://gnomad.broadinstitute.org/faq\">Read more about Haploinsufficiency Index</a>\\n          </div>\\n        </div>\\n        <div class=\"row pb-2 pt-2\">\\n          <div class=\"col-sm-3 text-right\">Loss Intolerance (pLI):</div>\\n          <div class=\"col-sm-9 border-left-4 border-info bold\">\\n            <div class=\"text-success\"></div>\\n            <a href=\"http://gnomad.broadinstitute.org/faq\">Read more about Loss of Function (LoF) mutation score.</a>\\n          </div>\\n        </div>-->\\n      </div>\\n    </div>\\n  </div>\\n</div>\\n\\n      <!-- Show Haploinsufficiency Details -->\\n      <!-- Haploinsufficiency Details -->\\n<div class=\"row\" id=\"report_details_haploinsufficiency\">\\n    <div class=\"col-sm-12 pt-3\">\\n        <h3 class=\"h4 mb-1 border-bottom-2\">Haploinsufficiency (HI) Score Details</h3>\\n    </div>\\n        <div class=\"col-sm-12\">\\n        <div class=\"row pb-3 pt-2\">\\n                        <div class=\"col-sm-3 text-muted text-right bold\">HI Score:</div>\\n            <div class=\"col-sm-9 border-left-4 bold\">3</div>\\n                    </div>\\n        <div class=\"row pb-3\">\\n            <div class=\"col-sm-3 text-muted text-right bold\">HI Evidence Strength:</div>\\n            <div class=\"col-sm-9 border-left-4\"><span class=\"bold\">Sufficient Evidence for Haploinsufficiency</span>\\n                <a data-toggle=\"popover\" title=\"DISCLAIMER\" data-placement=\"bottom\" data-trigger=\"hover\">\\n                    (Disclaimer)</a>\\n            </div>\\n        </div>\\n                <div class=\"row pb-3\">\\n            <div class=\"col-sm-3 text-muted text-right bold\">HI Disease:</div>\\n            <div class=\"col-sm-9 border-left-4\">\\n                <ul class=\"list-unstyled\">\\n                                                            <li>chromosome 15q24 deletion syndrome\\n                                                <a target=\\'external\\' href=\"https://monarchinitiative.org/disease/MONDO:0013256\"\\n                            class=\"badge-info badge pointer ml-1\">Monarch <i class=\"fas fa-external-link-alt\"></i> </a>\\n                                            </li>\\n                                                                            </ul>\\n            </div>\\n        </div>\\n                        <div class=\"row pb-3\">\\n            <div class=\"col-sm-3 text-muted text-right bold\">HI Evidence:<div></div>\\n            </div>\\n            <div class=\"col-sm-9 border-left-4\">\\n                <ul class=\"list-unstyled\">\\n                                        <li class=\"mb-3 pb-3 border-bottom-1\">\\n                        <a href=\"https://pubmed.ncbi.nlm.nih.gov/27399968\" class=\"\">PUBMED:\\n                            27399968</a>\\n                        <div class=\"summariesShow mt-1 prewrap\" id=\"collapsesummary1\">Witteveen et al. (2016), reported 3 patients with 15q24 LCRC-D deletions. These patients presented with developmental delay, intellectual disability, structural brain anomalies, microcephaly, dysmorphic craniofacial features, thin hair, hypermobile joints, and additional clinical findings. The dysmorphic craniofacial features were variable, with the recurrent features including downslanting palpebral fissures, deep set eyes, small mouth, and a pointed chin. Parental testing showed that each of these deletions was de novo.  A fourth individual with a deletion in this region was reported by this group (Patient 4); however, the distal breakpoint for that patient&#039;s deletion was proximal to 15q24 LCRD. The clinical findings in Patient 4 were similar to those with breakpoints in LCRD including developmental delay, downslanting palpebral fissures, small mouth, and a pointed chin. The deletion in patient 4 was also found to be de novo. The authors of this paper also report nine patients (from five families) with loss-of-function type variants in SIN3A, which lies within the 15q24 LCRC-D region. These patients presented with similar clinical findings to the patients with 15q24 LCRC-D deletions.\\n                        </div>\\n                    </li>\\n                                        <li class=\"mb-3 pb-3 border-bottom-1\">\\n                        <a href=\"https://pubmed.ncbi.nlm.nih.gov/22180641\" class=\"\">PUBMED:\\n                            22180641</a>\\n                        <div class=\"summariesShow mt-1 prewrap\" id=\"collapsesummary1\">Mefford et al. (2012) reported one patient (Patient 14) with a 15q24 LCRC-D deletion. This patient presented with borderline mild intellectual disability, short stature, structural brain abnormalities, possible Asperger, telecanthus, bilateral epicanthi, hypermobile joints, and bilateral short 5th fingers. The deletion in this patient was found to represent a de novo event. The authors also reported a second individual (Patient 13) with a smaller de novo deletion within the 15q24 LCRC-D region; however, the distal breakpoint for that patient鈥檚 deletion was proximal to 15q24 LCRD. That patient was reported to have mild intellectual disability, developmental delay (speech and motor), obsessive compulsive behaviors, microcephaly, a round face, short 5th metacarpals, toe syndactyly, and additional clinical findings. \\n                        </div>\\n                    </li>\\n                                    </ul>\\n            </div>\\n        </div>\\n                        <div class=\"row pb-3\">\\n            <div class=\"col-sm-3 text-muted text-right bold\">HI Evidence Comments:</div>\\n            <div class=\"col-sm-9 border-left-4\"><span class=\"data_pre\">Deletion of the 15q24 recurrent region (C-D) has been reported in at least 4 patients in association with a syndromic clinical phenotype characterized by developmental delays (speech and motor), intellectual disability, brain anomalies, craniofacial abnormalities, hypermobile joints, digital findings, and other variable clinical features. Two additional patients have also been reported with atypical deletions in this region (PMID: 27399968 and 27399968). These patients were found to have a similar clinical presentation to patients with the typical 15q24 LCRC-D deletion. Parental studies have been performed on each of the deletions in this region (6 total), and in each case it was found to be de novo.  \\n\\n\\n\\nAdditional relevant literature is cited and summarized below:\\n\\nAdditional paper supporting the significance of SIN3A:\\n\\nPMID: 30267900 - Narumi-Kishimoto et al. (2018), report a single individual with a frameshift mutation (p.His283fs) in the in the SIN3A gene.\\n\\n\\n\\nCase-control studies:\\n\\nPMID 25217958: Coe et al. (2014)\\n\\nIn a large-scale case-control comparison study of the relative prevalence of copy number variants in children with ID/DD, MCA, and other developmental phenotypes compared to presumably unaffected adult controls, the 15q24 LCRC-D deletion was not observed in any cases (n=29,085) or controls (n=19,584).</span></div>\\n        </div>\\n                    </div>\\n    </div>\\n\\n      <!-- Show Triplosensitivity Details -->\\n      <!-- Triplosensitivity Details -->\\n<div class=\"row\" id=\"report_details_triplosensitivity\">\\n  <div class=\"col-sm-12 pt-3\">\\n    <h3 class=\"h4 mb-1 border-bottom-2\">Triplosensitivity (TS) Score Details</h3>\\n  </div>\\n    <div class=\"col-sm-12\">\\n    <div class=\"row pb-3 pt-2\">\\n              <div class=\"col-sm-3 text-muted text-right bold\">TS Score:</div>\\n      <div class=\"col-sm-9 border-left-4 bold\">0</div>\\n          </div>\\n    <div class=\"row pb-3\">\\n      <div class=\"col-sm-3 text-muted text-right bold\">TS Evidence Strength:</div>\\n      <div class=\"col-sm-9 border-left-4\"><span class=\"bold\">No Evidence for Triplosensitivity</span> <a data-toggle=\"popover\" title=\"DISCLAIMER\" data-placement=\"bottom\" data-trigger=\"hover\"> (Disclaimer)</a>\\n      </div>\\n    </div>\\n                <div class=\"row pb-3\">\\n      <div class=\"col-sm-3 text-muted text-right bold\">TS Evidence Comments:</div>\\n      <div class=\"col-sm-9 border-left-4\"><span class=\"data_pre\">Duplications of this region which do not extend beyond LCRC and LCRD have not been reported.  Therefore, the triplosensitivity score for this region is 0.\\n\\nCase-control studies:\\nPMID 25217958: Coe et al. (2014)\\nIn a large-scale case-control comparison study of the relative prevalence of copy number variants in children with ID/DD, MCA, and other developmental phenotypes compared to presumably unaffected adult controls, the 15q24 LCRC-D duplication was observed in 1/29,085 cases versus 0/19,584 controls (p=0.6; LR: Inf, CI: 0.364 to Inf).</span></div>\\n    </div>\\n          </div>\\n  </div>\\n\\n      <!-- include the genefacts panel -->\\n      <div class=\"row\" id=\"report_details_triplosensitivity\">\\n  <div class=\"col-sm-12 pt-3 pb-3\">\\n    <h3 class=\"h4 mb-1 border-bottom-2\">Genomic View</h3>\\n    <div class=\"text-muted small\">\\n    </div>\\n  </div>\\n\\n<div id=\"g_view\">\\n\\n  <div class=\"seqview_head\">\\n    <span class=\"assembly_select\">Select assembly: </span>\\n    <select id=\"g_view_menu\" name=\"seqviewermenu\">\\n      <option name=\"accession\" value=\"?embedded=true&appname=isca_public&assm_context=GCF_000001405.25&id=&from=75597674.7&to=76007021.3&tracks=[key:sequence_track][key:gene_model_track,name:NCBI,display_name:NCBI%20Genes,annots:Unnamed,Options:ShowAll][key:dbvar_track,name:dbVar_nstd45,display_name:ISCA%20Curated%20Regions,annots:NA000002000.2,rendering:Default]\" selected=\"selected\">GRCh37/hg19 chr15: 75631787-75972909</option>\\n      <option name=\"accession\" value=\"?embedded=true&appname=isca_public&assm_context=GCF_000001405.36&id=&from=75305333.7&to=75714680.3&tracks=[key:sequence_track][key:gene_model_track,name:NCBI,display_name:NCBI%20Genes,annots:Unnamed,Options:ShowAll][key:dbvar_track,name:dbVar_nstd45,display_name:ISCA%20Curated%20Regions,annots:NA000002000.3,rendering:Default]\">GRCh38/hg38 chr15:75339446-75680568</option>\\n    </select>\\n    <span class=\"seqviewer-comment\">\\n      <span> (<a href=\"https://www.ncbi.nlm.nih.gov/nuccore/\" target=\"_blank\"></a>) </span>\\n      <span class=\"hide\"> (<a href=\"https://www.ncbi.nlm.nih.gov/nuccore/\" target=\"_blank\"></a>)</span>\\n    </span>\\n  </div>\\n  <div id=\"sv1\" class=\"SeqViewerApp\">\\n    <a href=\\'?embedded=true&appname=isca_public&assm_context=GCF_000001405.25&id=&from=75597674.7&to=76007021.3&tracks=[key:sequence_track][key:gene_model_track,name:NCBI,display_name:NCBI%20Genes,annots:Unnamed,Options:ShowAll][key:dbvar_track,name:dbVar_nstd45,display_name:ISCA%20Curated%20Regions,annots:NA000002000.2,rendering:Default]\\'></a>\\n  </div> \\n\\n</div>\\n      <div id=\"popover_content_wrapper\" style=\"display: none\">\\n      The loss of function score should be used to evaluate deletions, and the triplosensitivity score should be used to evaluated duplications.  CNVs encompassing more than one gene must be evaluated in their totality (e.g. overall size, gain vs. loss, presence of other genes, etc). The rating of a single gene within the CNV should not necessarily be the only criteria by which one defines a clinical interpretation. Individual interpretations must take into account the phenotype described for the patient as well as issues of penetrance and expressivity of the disorder. ACMG has published guidelines for the characterization of postnatal CNVs, and these recommendations should be utilized <a href=\"https://www.ncbi.nlm.nih.gov/pubmed/21681106\" >(Genet Med (2011)13: 680-685)</a>. Exceptions to these interpretive correlations will occur, and clinical judgment should always be exercised.\\n      </div>\\n\\n    </div>\\n  </div>\\n</div>\\n\\n                        <div class=\"modal\" id=\"modalLogin\" tabindex=\"-1\" data-backdrop=\"static\" role=\"dialog\" aria-labelledby=\"modalLoginTitle\" aria-hidden=\"true\">\\n\\t<div class=\"modal-dialog modal-dialog-centered modal-lg\" role=\"document\">\\n\\t\\t<div class=\"modal-content\">\\n\\t\\t\\t<div class=\"modal-body p-0\">\\n        <div class=\"card login-card\">\\n          <div class=\"row no-gutters\">\\n            <div class=\"col-md-4 hidden-sm hidden-xs\">\\n              <img src=\"/assets/images/dna_spiral.jpg\" alt=\"login\"   style=\"width:100%; height: 520px; object-fit: cover;\">\\n            </div>\\n            <div class=\"col-md-8\">\\n              <button type=\"button\" class=\"close mr-4 mt-4\" data-dismiss=\"modal\" aria-label=\"Close\">\\n                <span aria-hidden=\"true\"><i class=\"far fa-times-circle\"></i></span>\\n              </button>\\n              <div class=\"card-body pt-0\">\\n                <div class=\"brand-wrapper\">\\n                  <img src=\"/assets/images/clingen_logo.png\" alt=\"logo\" style=\"height:140px\">\\n                </div>\\n                <p class=\"login-card-description\"><b>My Account</b></p>\\n                <form action=\"/login\" method=\"POST\" id=\"login-form\">\\n                  <input type=\"hidden\" name=\"_token\" value=\"H9Q9EOmXK7E01IMfmKn952tPdVlJmhmyYnUT4RyB\">                  <input type=\"hidden\" id=\"login-context-value\" name=\"context\" value=\"\">\\n                    <div class=\"form-group row\">\\n                      <label for=\"email\" class=\"sr-only\">Email</label>\\n                      <input type=\"email\" name=\"email\" id=\"email\" class=\"form-control\" placeholder=\"Email address\">\\n                    </div>\\n                    <div class=\"form-group mb-0 row\">\\n                      <label for=\"password\" class=\"sr-only\">Password</label>\\n                      <input type=\"password\" name=\"password\" id=\"password\" class=\"form-control mb-1\" placeholder=\"Password\">\\n                    </div>\\n                    <div class=\"form-group row\">\\n                      <div class=\"col-md-6\">\\n                        <div class=\"form-check\">\\n                          <input class=\"form-check-input\" type=\"checkbox\" name=\"remember_me\" id=\"remember\" value=\"1\" >\\n                          <label class=\"form-check-label\" for=\"remember_me\">\\n                            Remember Me\\n                          </label>\\n                        </div>\\n                      </div>\\n                      <div class=\"col-md-6\">\\n                        <a href=\"#!\" class=\"forgot-password-link float-right action-login-forgot\">Forgot password?</a>\\n                      </div>\\n                    </div>\\n                    <div class=\"form-group row\">\\n                      <div class=\"col-md-3\">\\n                        <button type=\"submit\" class=\"btn login-btn mb-4\">Login</button>\\n                      </div>\\n                      <div class=\"col-md-9\">\\n                        <!--<div class=\"d-flex justify-content-center social-buttons mt-1\">\\n                          or login with\\n                          <button type=\"button\" class=\"btn btn-secondary btn-round\" data-toggle=\"tooltip\" data-placement=\"top\" title=\"Twitter\">\\n                            <i class=\"fab fa-twitter fa-2x\"></i>\\n                          </button>\\n                          <button type=\"button\" class=\"btn btn-secondary btn-round\" data-toggle=\"tooltip\" data-placement=\"top\" title=\"Facebook\">\\n                            <i class=\"fab fa-facebook fa-2x\"></i>\\n                          </button>\\n                          <button type=\"button\" class=\"btn btn-secondary btn-round\" data-toggle=\"tooltip\" data-placement=\"top\" title=\"Linkedin\">\\n                            <i class=\"fab fa-linkedin fa-2x\"></i>\\n                          </button>\\n                          <button type=\"button\" class=\"btn btn-secondary btn-round\" data-toggle=\"tooltip\" data-placement=\"top\" title=\"google\">\\n                            <i class=\"fab fa-google-plus-square fa-2x\"></i>\\n                          </button>\\n                        </div>-->\\n                      </div>\\n                    </div>\\n                  </form>\\n                  <p class=\"login-card-footer-text mb-0\">Don\\'t have a ClinGen account?  <a href=\"#!\" class=\"text-reset action-login-register\"><strong><i>Register Here</i></strong></a></p>\\n                  <!--<nav class=\"login-card-footer-nav\">\\n                    <a href=\"#!\">Terms of use.</a>\\n                    <a href=\"#!\">Privacy policy</a>\\n                  </nav>-->\\n              </div>\\n            </div>\\n          </div>\\n        </div>\\n\\n      </div>\\n    </div>\\n  </div>\\n</div>            <div class=\"modal\" id=\"modalRegister\" tabindex=\"-1\" data-backdrop=\"static\" role=\"dialog\" aria-labelledby=\"modalRegisterTitle\" aria-hidden=\"true\">\\n\\t<div class=\"modal-dialog modal-dialog-centered modal-lg\" role=\"document\">\\n\\t\\t<div class=\"modal-content\">\\n\\t\\t\\t<div class=\"modal-body p-0\">\\n        <div class=\"card login-card\">\\n          <div class=\"row no-gutters\">\\n            <div class=\"col-md-4 hidden-sm hidden-xs\">\\n              <img src=\"/assets/images/dna_spiral.jpg\" alt=\"login\"   style=\"width:100%; height: 660px; object-fit: cover;\">\\n            </div>\\n            <div class=\"col-md-8\">\\n              <button type=\"button\" class=\"close mr-4 mt-4\" data-dismiss=\"modal\" aria-label=\"Close\">\\n                <span aria-hidden=\"true\"><i class=\"far fa-times-circle\"></i></span>\\n              </button>\\n              <div class=\"card-body pt-0\">\\n                <div class=\"brand-wrapper\">\\n                  <img src=\"/assets/images/clingen_logo.png\" alt=\"logo\" style=\"height:140px\">\\n                </div>\\n                <p class=\"login-card-description\"><b>Create Acount</b></p>\\n                <form action=\"/register\" method=\"POST\" id=\"register-form\" class=\"form-horizontal\">\\n                  <input type=\"hidden\" name=\"_token\" value=\"H9Q9EOmXK7E01IMfmKn952tPdVlJmhmyYnUT4RyB\">                  <input type=\"hidden\" id=\"register-context-value\" name=\"context\" value=\"\">\\n                  <div class=\"form-group row\">\\n                    <div class=\"col-sm-6\">\\n                      <label for=\"firstname\" class=\"sr-only\">First Name</label>\\n                      <input type=\"text\" name=\"firstname\" class=\"form-control\" placeholder=\"First Name\">\\n                    </div>\\n                    <div class=\"col-sm-6\">\\n                      <label for=\"lastname\" class=\"sr-only\">Last Name</label>\\n                      <input type=\"text\" name=\"lastname\" class=\"form-control\" placeholder=\"Last Name\">\\n                    </div>\\n                  </div>\\n                  <div class=\"form-group row\">\\n                    <div class=\"col-sm-12\">\\n                      <label for=\"organization\" class=\"sr-only\">Organization (Optional)</label>\\n                      <input type=\"text\" name=\"organization\" class=\"form-control\" placeholder=\"Organization (optional)\">\\n                    </div>\\n                  </div>\\n                  <div class=\"form-group row\">\\n                    <div class=\"col-sm-12\">\\n                      <label for=\"email\" class=\"sr-only\">Email</label>\\n                      <input type=\"email\" name=\"email\" class=\"form-control\" placeholder=\"Email\">\\n                    </div>\\n                  </div>\\n                  <div class=\"form-group row\">\\n                    <div class=\"col-sm-6\">\\n                      <label for=\"password\" class=\"sr-only\">Password</label>\\n                      <input type=\"password\" id=\"register-password\" name=\"password\" class=\"form-control\" placeholder=\"Password\">\\n                    </div>\\n                    <div class=\"col-sm-6\">\\n                      <label for=\"password_confirmation\" class=\"sr-only\">Confirm Password</label>\\n                      <input type=\"password\" name=\"password_confirmation\" class=\"form-control\" placeholder=\"Confirm Password\">\\n                    </div>\\n                  </div>\\n                    <div class=\"form-group row\">\\n                      <div class=\"col-md-6\">\\n                        <button type=\"submit\" class=\"btn login-btn mb-4\">Register</button>\\n                      </div>\\n                    </div>\\n                  </form>\\n                  <p class=\"login-card-footer-text mb-0\">Already have an account? <a href=\"#!\" class=\"text-reset action-register-login\"><strong><i>Login Here</i></strong></a></p>\\n                  <!--<nav class=\"register-card-footer-nav\">\\n                    <a href=\"#!\">Terms of use.</a>\\n                    <a href=\"#!\">Privacy policy</a>\\n                  </nav>-->\\n              </div>\\n            </div>\\n          </div>\\n        </div>\\n\\n      </div>\\n    </div>\\n  </div>\\n</div>            <div class=\"modal\" id=\"modalForgot\" tabindex=\"-1\" data-backdrop=\"static\" role=\"dialog\" aria-labelledby=\"modalForgotTitle\" aria-hidden=\"true\">\\n\\t<div class=\"modal-dialog modal-dialog-centered modal-lg\" role=\"document\">\\n\\t\\t<div class=\"modal-content\">\\n\\t\\t\\t<div class=\"modal-body p-0\">\\n        <div class=\"card login-card\">\\n          <div class=\"row no-gutters\">\\n            <div class=\"col-md-4 hidden-sm hidden-xs\">\\n              <img src=\"/assets/images/dna_spiral.jpg\" alt=\"login\"   style=\"width:100%; height: 520px; object-fit: cover;\">\\n            </div>\\n            <div class=\"col-md-8\">\\n              <button type=\"button\" class=\"close mr-4 mt-4\" data-dismiss=\"modal\" aria-label=\"Close\">\\n                <span aria-hidden=\"true\"><i class=\"far fa-times-circle\"></i></span>\\n              </button>\\n              <div class=\"card-body pt-0\">\\n                <div class=\"brand-wrapper\">\\n                  <img src=\"/assets/images/clingen_logo.png\" alt=\"logo\" style=\"height:140px\">\\n                </div>\\n                <p class=\"login-card-description\"><b>Forgot Password</b></p>\\n                <form action=\"/forgot\" method=\"POST\" id=\"forgot-form\">\\n                  <input type=\"hidden\" name=\"_token\" value=\"H9Q9EOmXK7E01IMfmKn952tPdVlJmhmyYnUT4RyB\">                    <div class=\"form-group row\">\\n                      <label for=\"email\" class=\"sr-only\">Email</label>\\n                      <input type=\"email\" name=\"email\" id=\"email\" class=\"form-control\" placeholder=\"Email address\">\\n                    </div>\\n                    <div class=\"form-group row\">\\n                      <div class=\"col-md-3\">\\n                        <button type=\"submit\" class=\"btn login-btn mb-4\">Send Reset Link</button>\\n                      </div>\\n                      <div class=\"col-md-9\">\\n\\n                      </div>\\n                    </div>\\n                  </form>\\n                  <p class=\"login-card-footer-text mb-0\">Return to <a href=\"#!\" class=\"text-reset action-forgot-login\"><i>Login Page here</i></a></p>\\n              </div>\\n            </div>\\n          </div>\\n        </div>\\n\\n      </div>\\n    </div>\\n  </div>\\n</div>          </div>\\n        </section>\\n      </main>\\n\\n      <div class=\"\" id=\"clingen_top\" style=\"display:none\">\\n    <a href=\"#top\">\\n      <i class=\"glyphicon glyphicon-circle-arrow-up clingen_top_icon\"></i>\\n      <div class=\"\">Back To Top</div>\\n    </a>\\n  </div>\\n\\n<div class=\"\" id=\"clingen_contact\">\\n    <a href=\"https://www.clinicalgenome.org/contact/share-feedback/?title=Curation%20Activities&page=https%3A%2F%2Fwww.clinicalgenome.org%2Fcuration-activities%2F&ref=edwg\">\\n      <i class=\"far fa-envelope clingen_contact_icon\"></i>\\n      <div class=\"\">Send Feedback</div>\\n    </a>\\n  </div>\\n\\n  <footer class=\"text-muted\">\\n    <div id=\\'section_footer\\' class=\"container\">\\n      <div class=\"row small\">\\n\\n  <div class=\"col-12\">\\n    <hr />\\n    <p><i class=\"fas fa-question-circle\"></i> <a target=\"_blank\" href=\\'https://clinicalgenome.org/tools/clingen-website-faq/how-to-cite/\\'>Click here to lean about how to cite ClinGen</a> and to see a list of the <a target=\"_blank\" href=\\'https://clinicalgenome.org/tools/clingen-website-faq/attribution/\\'>external resources utilized.</a></p>\\n    <hr />\\n    <p>The information on this website is not intended for direct diagnostic use or medical decision-making without review by a genetics professional. Individuals should not change their health behavior solely on the basis of information contained on this website. If you have questions about the information contained on this website, please see a healthcare professional.</p>\\n    <hr />\\n  </div>\\n\\n  <div class=\"col-sm-3\">\\n    <div class=\"row\">\\n      <div class=\"col-lg-6 col-sm-12 col-xs-6 text-center line-height-normal\">\\n        <a href=\"https://twitter.com/ClinGenResource\" target=\"_blank\">\\n          <i class=\"fab fa-twitter-square\" style=\"font-size: 2.5rem\"></i><small class=\"clearfix\">@ClinGenResource</small>\\n        </a>\\n      </div>\\n      <div class=\"col-lg-6 col-sm-12 col-xs-6 text-center line-height-normal\">\\n        <a href=\"https://www.youtube.com/channel/UCsn4nEVUTpVQz70rClgMMsQ\" class=\"text-danger\" target=\"_blank\">\\n          <i class=\"fab fa-youtube-square\" style=\"font-size: 2.5rem\"></i><small class=\"clearfix text-muted\">youtube.com</small>\\n        </a>\\n      </div>\\n    </div>\\n    <hr />\\n\\n      <a class=\\'\\' href=\\'https://www.clinicalgenome.org/start/\\'><h6>Get Started</h6></a>\\n\\n      <hr />\\n\\n      <a class=\\'\\' href=\\'https://www.clinicalgenome.org/curation-activities/\\'><h6>Curation Activities</h6></a>\\n\\n      <ul class=\\'list-unstyled row\\'>\\n        <li class=\\'col-md-12 text-truncate\\'>\\n          <a class=\\'text-dark small\\' href=\\'https://www.clinicalgenome.org/curation-activities/gene-disease-validity/\\'><span class=\\'d-inline-block text-truncate\\'>Gene-Disease Validity</span></a>\\n        </li>\\n\\n        <li class=\\'col-md-12 text-truncate\\'>\\n          <a class=\\'text-dark small\\' href=\\'https://www.clinicalgenome.org/curation-activities/variant-pathogenicity/\\'><span class=\\'d-inline-block text-truncate\\'>Variant Pathogenicity</span></a>\\n        </li>\\n\\n        <li class=\\'col-md-12 text-truncate\\'>\\n          <a class=\\'text-dark small\\' href=\\'https://www.clinicalgenome.org/curation-activities/clinical-actionability/\\'><span class=\\'d-inline-block text-truncate\\'>Clinical Actionability</span></a>\\n        </li>\\n\\n        <li class=\\'col-md-12 text-truncate\\'>\\n          <a class=\\'text-dark small\\' href=\\'https://www.clinicalgenome.org/curation-activities/dosage-sensitivity/\\'><span class=\\'d-inline-block text-truncate\\'>Dosage Sensitivity</span></a>\\n        </li>\\n\\n        <li class=\\'col-md-12 text-truncate\\'>\\n          <a class=\\'text-dark small\\' href=\\'https://www.clinicalgenome.org/curation-activities/results/\\'><span class=\\'d-inline-block text-truncate\\'>Browse All ClinGen&#039;s Curated Genes</span></a>\\n        </li>\\n      </ul>\\n\\n      <hr />\\n\\n      <a class=\\'\\' href=\\'https://www.clinicalgenome.org/tools/\\'><h6>Tools</h6></a>\\n\\n      <hr />\\n\\n      <a class=\\'\\' href=\\'https://www.clinicalgenome.org/about/\\'><h6>About Us</h6></a>\\n\\n      <ul class=\\'list-unstyled row\\'>\\n        <li class=\\'col-md-12 text-truncate\\'>\\n          <a class=\\'text-dark small\\' href=\\'https://www.clinicalgenome.org/about/clingen-clinvar-collaboration/\\'><span class=\\'d-inline-block text-truncate\\'>ClinGen &amp; ClinVar Collaboration</span></a>\\n        </li>\\n\\n        <li class=\\'col-md-12 text-truncate\\'>\\n          <a class=\\'text-dark small\\' href=\\'https://www.clinicalgenome.org/about/terms-of-use/\\'><span class=\\'d-inline-block text-truncate\\'>ClinGen Terms of Use</span></a>\\n        </li>\\n\\n        <li class=\\'col-md-12 text-truncate\\'>\\n          <a class=\\'text-dark small\\' href=\\'https://www.clinicalgenome.org/about/clingen-collaborations/\\'><span class=\\'d-inline-block text-truncate\\'>Collaborations</span></a>\\n        </li>\\n\\n        <li class=\\'col-md-12 text-truncate\\'>\\n          <a class=\\'text-dark small\\' href=\\'https://www.clinicalgenome.org/about/contact-clingen/\\'><span class=\\'d-inline-block text-truncate\\'>Contact ClinGen</span></a>\\n        </li>\\n\\n        <li class=\\'col-md-12 text-truncate\\'>\\n          <a class=\\'text-dark small\\' href=\\'https://www.clinicalgenome.org/about/events/\\'><span class=\\'d-inline-block text-truncate\\'>Events &amp; Conferences</span></a>\\n        </li>\\n\\n        <li class=\\'col-md-12 text-truncate\\'>\\n          <a class=\\'text-dark small\\' href=\\'https://www.clinicalgenome.org/about/clingen-leadership/\\'><span class=\\'d-inline-block text-truncate\\'>Leadership</span></a>\\n        </li>\\n\\n        <li class=\\'col-md-12 text-truncate\\'>\\n          <a class=\\'text-dark small\\' href=\\'https://www.clinicalgenome.org/about/people/\\'><span class=\\'d-inline-block text-truncate\\'>Member Directory</span></a>\\n        </li>\\n\\n        <li class=\\'col-md-12 text-truncate\\'>\\n          <a class=\\'text-dark small\\' href=\\'https://www.clinicalgenome.org/about/clingen-policies/\\'><span class=\\'d-inline-block text-truncate\\'>Policies</span></a>\\n        </li>\\n\\n        <li class=\\'col-md-12 text-truncate\\'>\\n          <a class=\\'text-dark small\\' href=\\'https://www.clinicalgenome.org/about/sitemap/\\'><span class=\\'d-inline-block text-truncate\\'>Website SiteMap</span></a>\\n        </li>\\n      </ul>\\n\\n    </div>\\n  <div class=\"col-sm-9\">\\n    <div class=\"row\">\\n      <div class=\"col-12\">\\n\\n      <a class=\\'\\' href=\\'https://www.clinicalgenome.org/working-groups/\\'><h6>Working Groups</h6></a>\\n\\n      <ul class=\\'list-unstyled row\\'>\\n        <li class=\\'col-md-6 text-truncate\\'>\\n          <a class=\\'text-dark small\\' href=\\'https://www.clinicalgenome.org/working-groups/actionability/\\'><span class=\\'d-inline-block text-truncate\\'>Actionability</span></a>\\n        </li>\\n\\n        <li class=\\'col-md-6 text-truncate\\'>\\n          <a class=\\'text-dark small\\' href=\\'https://www.clinicalgenome.org/working-groups/ancestry/\\'><span class=\\'d-inline-block text-truncate\\'>Ancestry and Diversity</span></a>\\n        </li>\\n\\n        <li class=\\'col-md-6 text-truncate\\'>\\n          <a class=\\'text-dark small\\' href=\\'https://www.clinicalgenome.org/working-groups/biocurators/\\'><span class=\\'d-inline-block text-truncate\\'>Biocurator</span></a>\\n        </li>\\n\\n        <li class=\\'col-md-6 text-truncate\\'>\\n          <a class=\\'text-dark small\\' href=\\'https://www.clinicalgenome.org/working-groups/elsi/\\'><span class=\\'d-inline-block text-truncate\\'>CADRe (Consent &amp; Disclosure Recommendations)</span></a>\\n        </li>\\n\\n        <li class=\\'col-md-6 text-truncate\\'>\\n          <a class=\\'text-dark small\\' href=\\'https://www.clinicalgenome.org/working-groups/clinical-domain/\\'><span class=\\'d-inline-block text-truncate\\'>Clinical Domain Working Groups</span></a>\\n        </li>\\n\\n        <li class=\\'col-md-6 text-truncate\\'>\\n          <a class=\\'text-dark small\\' href=\\'https://www.clinicalgenome.org/working-groups/c3/\\'><span class=\\'d-inline-block text-truncate\\'>Community Curation</span></a>\\n        </li>\\n\\n        <li class=\\'col-md-6 text-truncate\\'>\\n          <a class=\\'text-dark small\\' href=\\'https://www.clinicalgenome.org/working-groups/complex-disease/\\'><span class=\\'d-inline-block text-truncate\\'>Complex Disease</span></a>\\n        </li>\\n\\n        <li class=\\'col-md-6 text-truncate\\'>\\n          <a class=\\'text-dark small\\' href=\\'https://www.clinicalgenome.org/working-groups/copy-number-variant-interpretation-guidelines/\\'><span class=\\'d-inline-block text-truncate\\'>Copy Number Variant Interpretation Guidelines</span></a>\\n        </li>\\n\\n        <li class=\\'col-md-6 text-truncate\\'>\\n          <a class=\\'text-dark small\\' href=\\'https://www.clinicalgenome.org/working-groups/data-platform/\\'><span class=\\'d-inline-block text-truncate\\'>Data Platform</span></a>\\n        </li>\\n\\n        <li class=\\'col-md-6 text-truncate\\'>\\n          <a class=\\'text-dark small\\' href=\\'https://www.clinicalgenome.org/working-groups/dosage-sensitivity-curation/\\'><span class=\\'d-inline-block text-truncate\\'>Dosage Sensitivity Curation</span></a>\\n        </li>\\n\\n        <li class=\\'col-md-6 text-truncate\\'>\\n          <a class=\\'text-dark small\\' href=\\'https://www.clinicalgenome.org/working-groups/education-engagement-and-counseling/\\'><span class=\\'d-inline-block text-truncate\\'>Education, Coordination and Training</span></a>\\n        </li>\\n\\n        <li class=\\'col-md-6 text-truncate\\'>\\n          <a class=\\'text-dark small\\' href=\\'https://www.clinicalgenome.org/working-groups/ehr/\\'><span class=\\'d-inline-block text-truncate\\'>EHR</span></a>\\n        </li>\\n\\n        <li class=\\'col-md-6 text-truncate\\'>\\n          <a class=\\'text-dark small\\' href=\\'https://www.clinicalgenome.org/working-groups/external-scientific-panel/\\'><span class=\\'d-inline-block text-truncate\\'>External Scientific Panel</span></a>\\n        </li>\\n\\n        <li class=\\'col-md-6 text-truncate\\'>\\n          <a class=\\'text-dark small\\' href=\\'https://www.clinicalgenome.org/working-groups/gene-curation/\\'><span class=\\'d-inline-block text-truncate\\'>Gene Curation</span></a>\\n        </li>\\n\\n        <li class=\\'col-md-6 text-truncate\\'>\\n          <a class=\\'text-dark small\\' href=\\'https://www.clinicalgenome.org/working-groups/genomic-variant-workgroup/\\'><span class=\\'d-inline-block text-truncate\\'>Genomic Variant</span></a>\\n        </li>\\n\\n        <li class=\\'col-md-6 text-truncate\\'>\\n          <a class=\\'text-dark small\\' href=\\'https://www.clinicalgenome.org/working-groups/low-penetrance-risk-allele-working-group/\\'><span class=\\'d-inline-block text-truncate\\'>Low Penetrance/Risk Allele Working Group</span></a>\\n        </li>\\n\\n        <li class=\\'col-md-6 text-truncate\\'>\\n          <a class=\\'text-dark small\\' href=\\'https://www.clinicalgenome.org/working-groups/lumping-and-splitting/\\'><span class=\\'d-inline-block text-truncate\\'>Lumping and Splitting</span></a>\\n        </li>\\n\\n        <li class=\\'col-md-6 text-truncate\\'>\\n          <a class=\\'text-dark small\\' href=\\'https://www.clinicalgenome.org/working-groups/sequence-variant-inter-laboratory-discrepancy-resolution/\\'><span class=\\'d-inline-block text-truncate\\'>Sequence Variant Inter-Laboratory Discrepancy Resolution</span></a>\\n        </li>\\n\\n        <li class=\\'col-md-6 text-truncate\\'>\\n          <a class=\\'text-dark small\\' href=\\'https://www.clinicalgenome.org/working-groups/sequence-variant-interpretation/\\'><span class=\\'d-inline-block text-truncate\\'>Sequence Variant Interpretation</span></a>\\n        </li>\\n\\n        <li class=\\'col-md-6 text-truncate\\'>\\n          <a class=\\'text-dark small\\' href=\\'https://www.clinicalgenome.org/working-groups/somatic/\\'><span class=\\'d-inline-block text-truncate\\'>Somatic Cancer</span></a>\\n        </li>\\n\\n        <li class=\\'col-md-6 text-truncate\\'>\\n          <a class=\\'text-dark small\\' href=\\'https://www.clinicalgenome.org/working-groups/stakeholder-partnership/\\'><span class=\\'d-inline-block text-truncate\\'>Stakeholder Partnership</span></a>\\n        </li>\\n\\n        <li class=\\'col-md-6 text-truncate\\'>\\n          <a class=\\'text-dark small\\' href=\\'https://www.clinicalgenome.org/working-groups/steering-committee/\\'><span class=\\'d-inline-block text-truncate\\'>Steering Committee</span></a>\\n        </li>\\n      </ul>\\n\\n        <hr />\\n      </div>\\n      <div class=\"col-12\">\\n\\n      <a class=\"\" href=\"https://clinicalgenome.org/affiliation/\"><h6>Expert Panels</h6></a>\\n\\n      <ul class=\"list-unstyled row\">\\n        <li class=\"col-md-6 text-truncate\">\\n          <a class=\"text-dark small\" href=\"https://clinicalgenome.org/affiliation/50048/\"><span class=\" d-inline-block \">ACADVL Variant Curation Expert Panel</span></a>\\n        </li>\\n\\n        <li class=\"col-md-6 text-truncate\">\\n          <a class=\"text-dark small\" href=\"https://clinicalgenome.org/affiliation/40011/\"><span class=\" d-inline-block \">Aminoacidopathy Gene Curation Expert Panel</span></a>\\n        </li>\\n\\n        <li class=\"col-md-6 text-truncate\">\\n          <a class=\"text-dark small\" href=\"https://clinicalgenome.org/affiliation/40003/\"><span class=\" d-inline-block \">Arrhythmogenic Right Ventricular Cardiomyopathy Gene Curation Expert Panel</span></a>\\n        </li>\\n\\n        <li class=\"col-md-6 text-truncate\">\\n          <a class=\"text-dark small\" href=\"https://clinicalgenome.org/affiliation/40020/\"><span class=\" d-inline-block \">Brain Malformations Gene Curation Expert Panel</span></a>\\n        </li>\\n\\n        <li class=\"col-md-6 text-truncate\">\\n          <a class=\"text-dark small\" href=\"https://clinicalgenome.org/affiliation/50020/\"><span class=\" d-inline-block \">Brain Malformations Variant Curation Expert Panel</span></a>\\n        </li>\\n\\n        <li class=\"col-md-6 text-truncate\">\\n          <a class=\"text-dark small\" href=\"https://clinicalgenome.org/affiliation/40042/\"><span class=\" d-inline-block \">Breast/Ovarian Cancer Gene Curation Expert Panel</span></a>\\n        </li>\\n\\n        <li class=\"col-md-6 text-truncate\">\\n          <a class=\"text-dark small\" href=\"https://clinicalgenome.org/affiliation/40045/\"><span class=\" d-inline-block \">Brugada Syndrome Gene Curation Expert Panel</span></a>\\n        </li>\\n\\n        <li class=\"col-md-6 text-truncate\">\\n          <a class=\"text-dark small\" href=\"https://clinicalgenome.org/affiliation/50002/\"><span class=\" d-inline-block \">Cardiomyopathy Variant Curation Expert Panel</span></a>\\n        </li>\\n\\n        <li class=\"col-md-6 text-truncate\">\\n          <a class=\"text-dark small\" href=\"https://clinicalgenome.org/affiliation/50014/\"><span class=\" d-inline-block \">CDH1 Variant Curation Expert Panel</span></a>\\n        </li>\\n\\n        <li class=\"col-md-6 text-truncate\">\\n          <a class=\"text-dark small\" href=\"https://clinicalgenome.org/affiliation/50047/\"><span class=\" d-inline-block \">Cerebral Creatine Deficiency Syndromes Variant Curation Expert Panel</span></a>\\n        </li>\\n\\n        <li class=\"col-md-6 text-truncate\">\\n          <a class=\"text-dark small\" href=\"https://clinicalgenome.org/affiliation/40063/\"><span class=\" d-inline-block \">Charcot-Marie-Tooth Disease Gene Curation Expert Panel</span></a>\\n        </li>\\n\\n        <li class=\"col-md-6 text-truncate\">\\n          <a class=\"text-dark small\" href=\"https://clinicalgenome.org/affiliation/50041/\"><span class=\" d-inline-block \">Coagulation Factor Deficiency Variant Curation Expert Panel</span></a>\\n        </li>\\n\\n        <li class=\"col-md-6 text-truncate\">\\n          <a class=\"text-dark small\" href=\"https://clinicalgenome.org/affiliation/40043/\"><span class=\" d-inline-block \">Colon Cancer Gene Curation Expert Panel</span></a>\\n        </li>\\n\\n        <li class=\"col-md-6 text-truncate\">\\n          <a class=\"text-dark small\" href=\"https://clinicalgenome.org/affiliation/40031/\"><span class=\" d-inline-block \">Congenital Myopathies Gene Curation Expert Panel</span></a>\\n        </li>\\n\\n        <li class=\"col-md-6 text-truncate\">\\n          <a class=\"text-dark small\" href=\"https://clinicalgenome.org/affiliation/50031/\"><span class=\" d-inline-block \">Congenital Myopathies Variant Curation Expert Panel</span></a>\\n        </li>\\n\\n        <li class=\"col-md-6 text-truncate\">\\n          <a class=\"text-dark small\" href=\"https://clinicalgenome.org/affiliation/40059/\"><span class=\" d-inline-block \">Craniofacial Malformations Gene Curation Expert Panel</span></a>\\n        </li>\\n\\n        <li class=\"col-md-6 text-truncate\">\\n          <a class=\"text-dark small\" href=\"https://clinicalgenome.org/affiliation/50050/\"><span class=\" d-inline-block \">DICER1 and miRNA-Processing Gene Variant Curation Expert Panel</span></a>\\n        </li>\\n\\n        <li class=\"col-md-6 text-truncate\">\\n          <a class=\"text-dark small\" href=\"https://clinicalgenome.org/affiliation/40035/\"><span class=\" d-inline-block \">Dilated Cardiomyopathy Gene Curation Expert Panel</span></a>\\n        </li>\\n\\n        <li class=\"col-md-6 text-truncate\">\\n          <a class=\"text-dark small\" href=\"https://clinicalgenome.org/affiliation/40005/\"><span class=\" d-inline-block \">Epilepsy Gene Curation Expert Panel</span></a>\\n        </li>\\n\\n        <li class=\"col-md-6 text-truncate\">\\n          <a class=\"text-dark small\" href=\"https://clinicalgenome.org/affiliation/50004/\"><span class=\" d-inline-block \">Familial Hypercholesterolemia Variant Curation Expert Panel</span></a>\\n        </li>\\n\\n        <li class=\"col-md-6 text-truncate\">\\n          <a class=\"text-dark small\" href=\"https://clinicalgenome.org/affiliation/40044/\"><span class=\" d-inline-block \">Familial Thoracic Aortic Aneurysm and Dissection Gene Curation Expert Panel</span></a>\\n        </li>\\n\\n        <li class=\"col-md-6 text-truncate\">\\n          <a class=\"text-dark small\" href=\"https://clinicalgenome.org/affiliation/40010/\"><span class=\" d-inline-block \">Fatty Acid Oxidation Disorders Gene Curation Expert Panel</span></a>\\n        </li>\\n\\n        <li class=\"col-md-6 text-truncate\">\\n          <a class=\"text-dark small\" href=\"https://clinicalgenome.org/affiliation/50046/\"><span class=\" d-inline-block \">FBN1 Variant Curation Expert Panel</span></a>\\n        </li>\\n\\n        <li class=\"col-md-6 text-truncate\">\\n          <a class=\"text-dark small\" href=\"https://clinicalgenome.org/affiliation/40026/\"><span class=\" d-inline-block \">General Gene Curation Expert Panel</span></a>\\n        </li>\\n\\n        <li class=\"col-md-6 text-truncate\">\\n          <a class=\"text-dark small\" href=\"https://clinicalgenome.org/affiliation/50053/\"><span class=\" d-inline-block \">Glaucoma Variant Curation Expert Panel</span></a>\\n        </li>\\n\\n        <li class=\"col-md-6 text-truncate\">\\n          <a class=\"text-dark small\" href=\"https://clinicalgenome.org/affiliation/50078/\"><span class=\" d-inline-block \">GRIN Disorders Variant Curation Expert Panel</span></a>\\n        </li>\\n\\n        <li class=\"col-md-6 text-truncate\">\\n          <a class=\"text-dark small\" href=\"https://clinicalgenome.org/affiliation/40007/\"><span class=\" d-inline-block \">Hearing Loss Gene Curation Expert Panel</span></a>\\n        </li>\\n\\n        <li class=\"col-md-6 text-truncate\">\\n          <a class=\"text-dark small\" href=\"https://clinicalgenome.org/affiliation/50007/\"><span class=\" d-inline-block \">Hearing Loss Variant Curation Expert Panel</span></a>\\n        </li>\\n\\n        <li class=\"col-md-6 text-truncate\">\\n          <a class=\"text-dark small\" href=\"https://clinicalgenome.org/affiliation/50052/\"><span class=\" d-inline-block \">Hemoglobinopathy Variant Curation Expert Panel</span></a>\\n        </li>\\n\\n        <li class=\"col-md-6 text-truncate\">\\n          <a class=\"text-dark small\" href=\"https://clinicalgenome.org/affiliation/40028/\"><span class=\" d-inline-block \">Hemostasis/Thrombosis Gene Curation Expert Panel</span></a>\\n        </li>\\n\\n        <li class=\"col-md-6 text-truncate\">\\n          <a class=\"text-dark small\" href=\"https://clinicalgenome.org/affiliation/50039/\"><span class=\" d-inline-block \">Hereditary Breast, Ovarian and Pancreatic Cancer Variant Curation Expert Panel</span></a>\\n        </li>\\n\\n        <li class=\"col-md-6 text-truncate\">\\n          <a class=\"text-dark small\" href=\"https://clinicalgenome.org/affiliation/40023/\"><span class=\" d-inline-block \">Hereditary Cancer Gene Curation Expert Panel</span></a>\\n        </li>\\n\\n        <li class=\"col-md-6 text-truncate\">\\n          <a class=\"text-dark small\" href=\"https://clinicalgenome.org/affiliation/50037/\"><span class=\" d-inline-block \">Hereditary Hemorrhagic Telangiectasia Variant Curation Expert Panel</span></a>\\n        </li>\\n\\n        <li class=\"col-md-6 text-truncate\">\\n          <a class=\"text-dark small\" href=\"https://clinicalgenome.org/affiliation/40080/\"><span class=\" d-inline-block \">Humoral Defects Gene Curation Expert Panel</span></a>\\n        </li>\\n\\n        <li class=\"col-md-6 text-truncate\">\\n          <a class=\"text-dark small\" href=\"https://clinicalgenome.org/affiliation/40008/\"><span class=\" d-inline-block \">Hypertrophic Cardiomyopathy Gene Curation Expert Panel</span></a>\\n        </li>\\n\\n        <li class=\"col-md-6 text-truncate\">\\n          <a class=\"text-dark small\" href=\"https://clinicalgenome.org/affiliation/40006/\"><span class=\" d-inline-block \">Intellectual Disability and Autism Gene Curation Expert Panel</span></a>\\n        </li>\\n\\n        <li class=\"col-md-6 text-truncate\">\\n          <a class=\"text-dark small\" href=\"https://clinicalgenome.org/affiliation/50001/\"><span class=\" d-inline-block \">KCNQ1 Variant Curation Expert Panel</span></a>\\n        </li>\\n\\n        <li class=\"col-md-6 text-truncate\">\\n          <a class=\"text-dark small\" href=\"https://clinicalgenome.org/affiliation/40066/\"><span class=\" d-inline-block \">Kidney Cystic and Ciliopathy Disorders Gene Curation Expert Panel</span></a>\\n        </li>\\n\\n        <li class=\"col-md-6 text-truncate\">\\n          <a class=\"text-dark small\" href=\"https://clinicalgenome.org/affiliation/50066/\"><span class=\" d-inline-block \">Kidney Cystic and Ciliopathy Disorders Variant Curation Expert Panel</span></a>\\n        </li>\\n\\n        <li class=\"col-md-6 text-truncate\">\\n          <a class=\"text-dark small\" href=\"https://clinicalgenome.org/affiliation/50082/\"><span class=\" d-inline-block \">Leber Congenital Amaurosis/early onset Retinal Dystrophy Variant Curation Expert Panel</span></a>\\n        </li>\\n\\n        <li class=\"col-md-6 text-truncate\">\\n          <a class=\"text-dark small\" href=\"https://clinicalgenome.org/affiliation/40061/\"><span class=\" d-inline-block \">Limb Girdle Muscular Dystrophy Gene Curation Expert Panel</span></a>\\n        </li>\\n\\n        <li class=\"col-md-6 text-truncate\">\\n          <a class=\"text-dark small\" href=\"https://clinicalgenome.org/affiliation/50061/\"><span class=\" d-inline-block \">Limb Girdle Muscular Dystrophy Variant Curation Expert Panel</span></a>\\n        </li>\\n\\n        <li class=\"col-md-6 text-truncate\">\\n          <a class=\"text-dark small\" href=\"https://clinicalgenome.org/affiliation/40025/\"><span class=\" d-inline-block \">Long QT Syndrome Gene Curation Expert Panel</span></a>\\n        </li>\\n\\n        <li class=\"col-md-6 text-truncate\">\\n          <a class=\"text-dark small\" href=\"https://clinicalgenome.org/affiliation/50009/\"><span class=\" d-inline-block \">Lysosomal Storage Disorders Variant Curation Expert Panel</span></a>\\n        </li>\\n\\n        <li class=\"col-md-6 text-truncate\">\\n          <a class=\"text-dark small\" href=\"https://clinicalgenome.org/affiliation/50038/\"><span class=\" d-inline-block \">Malignant Hyperthermia Susceptibility Variant Curation Expert Panel</span></a>\\n        </li>\\n\\n        <li class=\"col-md-6 text-truncate\">\\n          <a class=\"text-dark small\" href=\"https://clinicalgenome.org/affiliation/50027/\"><span class=\" d-inline-block \">Mitochondrial Disease Nuclear and Mitochondrial Variant Curation Expert Panel</span></a>\\n        </li>\\n\\n        <li class=\"col-md-6 text-truncate\">\\n          <a class=\"text-dark small\" href=\"https://clinicalgenome.org/affiliation/40027/\"><span class=\" d-inline-block \">Mitochondrial Diseases Gene Curation Expert Panel</span></a>\\n        </li>\\n\\n        <li class=\"col-md-6 text-truncate\">\\n          <a class=\"text-dark small\" href=\"https://clinicalgenome.org/affiliation/40016/\"><span class=\" d-inline-block \">Monogenic Diabetes Gene Curation Expert Panel</span></a>\\n        </li>\\n\\n        <li class=\"col-md-6 text-truncate\">\\n          <a class=\"text-dark small\" href=\"https://clinicalgenome.org/affiliation/50016/\"><span class=\" d-inline-block \">Monogenic Diabetes Variant Curation Expert Panel</span></a>\\n        </li>\\n\\n        <li class=\"col-md-6 text-truncate\">\\n          <a class=\"text-dark small\" href=\"https://clinicalgenome.org/affiliation/50034/\"><span class=\" d-inline-block \">Myeloid Malignancy Variant Curation Expert Panel</span></a>\\n        </li>\\n\\n        <li class=\"col-md-6 text-truncate\">\\n          <a class=\"text-dark small\" href=\"https://clinicalgenome.org/affiliation/50089/\"><span class=\" d-inline-block \">NTRK Fusions Somatic Cancer Variant Curation Expert Panel</span></a>\\n        </li>\\n\\n        <li class=\"col-md-6 text-truncate\">\\n          <a class=\"text-dark small\" href=\"https://clinicalgenome.org/affiliation/40079/\"><span class=\" d-inline-block \">Parkinson\\'s Disease Gene Curation Expert Panel</span></a>\\n        </li>\\n\\n        <li class=\"col-md-6 text-truncate\">\\n          <a class=\"text-dark small\" href=\"https://clinicalgenome.org/affiliation/40049/\"><span class=\" d-inline-block \">Peroxisomal Disorders Gene Curation Expert Panel</span></a>\\n        </li>\\n\\n        <li class=\"col-md-6 text-truncate\">\\n          <a class=\"text-dark small\" href=\"https://clinicalgenome.org/affiliation/50049/\"><span class=\" d-inline-block \">Peroxisomal Disorders Variant Curation Expert Panel</span></a>\\n        </li>\\n\\n        <li class=\"col-md-6 text-truncate\">\\n          <a class=\"text-dark small\" href=\"https://clinicalgenome.org/affiliation/50015/\"><span class=\" d-inline-block \">Phenylketonuria Variant Curation Expert Panel</span></a>\\n        </li>\\n\\n        <li class=\"col-md-6 text-truncate\">\\n          <a class=\"text-dark small\" href=\"https://clinicalgenome.org/affiliation/50040/\"><span class=\" d-inline-block \">Platelet Disorders Variant Curation Expert Panel</span></a>\\n        </li>\\n\\n        <li class=\"col-md-6 text-truncate\">\\n          <a class=\"text-dark small\" href=\"https://clinicalgenome.org/affiliation/50012/\"><span class=\" d-inline-block \">PTEN Variant Curation Expert Panel</span></a>\\n        </li>\\n\\n        <li class=\"col-md-6 text-truncate\">\\n          <a class=\"text-dark small\" href=\"https://clinicalgenome.org/affiliation/40071/\"><span class=\" d-inline-block \">Pulmonary Hypertension Gene Curation Expert Panel</span></a>\\n        </li>\\n\\n        <li class=\"col-md-6 text-truncate\">\\n          <a class=\"text-dark small\" href=\"https://clinicalgenome.org/affiliation/40021/\"><span class=\" d-inline-block \">RASopathy Gene Curation Expert Panel</span></a>\\n        </li>\\n\\n        <li class=\"col-md-6 text-truncate\">\\n          <a class=\"text-dark small\" href=\"https://clinicalgenome.org/affiliation/50021/\"><span class=\" d-inline-block \">RASopathy Variant Curation Expert Panel</span></a>\\n        </li>\\n\\n        <li class=\"col-md-6 text-truncate\">\\n          <a class=\"text-dark small\" href=\"https://clinicalgenome.org/affiliation/40072/\"><span class=\" d-inline-block \">Retina Gene Curation Expert Panel</span></a>\\n        </li>\\n\\n        <li class=\"col-md-6 text-truncate\">\\n          <a class=\"text-dark small\" href=\"https://clinicalgenome.org/affiliation/50022/\"><span class=\" d-inline-block \">Rett and Angelman-like Disorders Variant Curation Expert Panel</span></a>\\n        </li>\\n\\n        <li class=\"col-md-6 text-truncate\">\\n          <a class=\"text-dark small\" href=\"https://clinicalgenome.org/affiliation/40081/\"><span class=\" d-inline-block \">SCID-CID Gene Curation Expert Panel</span></a>\\n        </li>\\n\\n        <li class=\"col-md-6 text-truncate\">\\n          <a class=\"text-dark small\" href=\"https://clinicalgenome.org/affiliation/40065/\"><span class=\" d-inline-block \">Skeletal Disorders Gene Curation Expert Panel</span></a>\\n        </li>\\n\\n        <li class=\"col-md-6 text-truncate\">\\n          <a class=\"text-dark small\" href=\"https://clinicalgenome.org/affiliation/40060/\"><span class=\" d-inline-block \">Syndromic Disorders Gene Curation Expert Panel</span></a>\\n        </li>\\n\\n        <li class=\"col-md-6 text-truncate\">\\n          <a class=\"text-dark small\" href=\"https://clinicalgenome.org/affiliation/50064/\"><span class=\" d-inline-block \">Thrombosis Variant Curation Expert Panel</span></a>\\n        </li>\\n\\n        <li class=\"col-md-6 text-truncate\">\\n          <a class=\"text-dark small\" href=\"https://clinicalgenome.org/affiliation/50013/\"><span class=\" d-inline-block \">TP53 Variant Curation Expert Panel</span></a>\\n        </li>\\n\\n        <li class=\"col-md-6 text-truncate\">\\n          <a class=\"text-dark small\" href=\"https://clinicalgenome.org/affiliation/50036/\"><span class=\" d-inline-block \">VHL Variant Curation Expert Panel</span></a>\\n        </li>\\n\\n        <li class=\"col-md-6 text-truncate\">\\n          <a class=\"text-dark small\" href=\"https://clinicalgenome.org/affiliation/50051/\"><span class=\" d-inline-block \">von Willebrand Disease Variant Curation Expert Panel</span></a>\\n        </li>\\n\\n        <li class=\"col-md-6 text-truncate\">\\n          <a class=\"text-dark small\" href=\"https://clinicalgenome.org/affiliation/50086/\"><span class=\" d-inline-block \">X-linked Inherited Retinal Disease Variant Curation Expert Panel</span></a>\\n        </li>\\n      </ul>\\n\\n        <hr>\\n      </div>\\n      <div class=\"col-12\">\\n\\n      <a class=\\'\\' href=\\'https://www.clinicalgenome.org/docs/\\'><h6>Documents &amp; Announcements</h6></a>\\n\\n      <ul class=\\'list-unstyled row\\'>\\n        <li class=\\'col-md-6 text-truncate\\'>\\n          <a class=\\'text-dark small\\' href=\\'https://www.clinicalgenome.org/docs/?doc-type=announcement#list_documentation_table\\'><span class=\\' d-inline-block text-truncate\\'>Announcements</span></a>\\n        </li>\\n\\n        <li class=\\'col-md-6 text-truncate\\'>\\n          <a class=\\'text-dark small\\' href=\\'https://www.clinicalgenome.org/docs/?doc-type=clingen-exhibit-booth-materials#list_documentation_table\\'><span class=\\' d-inline-block text-truncate\\'>ClinGen Exhibit Booth Materials</span></a>\\n        </li>\\n\\n        <li class=\\'col-md-6 text-truncate\\'>\\n          <a class=\\'text-dark small\\' href=\\'https://www.clinicalgenome.org/docs/?doc-type=curation-activity-procedures#list_documentation_table\\'><span class=\\' d-inline-block text-truncate\\'>Curation Activity Procedures</span></a>\\n        </li>\\n\\n        <li class=\\'col-md-6 text-truncate\\'>\\n          <a class=\\'text-dark small\\' href=\\'https://www.clinicalgenome.org/docs/?doc-type=conflict-of-interest-coi#list_documentation_table\\'><span class=\\' d-inline-block text-truncate\\'>Conflict Of Interest (COI)</span></a>\\n        </li>\\n\\n        <li class=\\'col-md-6 text-truncate\\'>\\n          <a class=\\'text-dark small\\' href=\\'https://www.clinicalgenome.org/docs/?doc-type=data-sharing-resources#list_documentation_table\\'><span class=\\' d-inline-block text-truncate\\'>Data Sharing Resources</span></a>\\n        </li>\\n\\n        <li class=\\'col-md-6 text-truncate\\'>\\n          <a class=\\'text-dark small\\' href=\\'https://www.clinicalgenome.org/docs/?doc-type=expert-panel-status-steps#list_documentation_table\\'><span class=\\' d-inline-block text-truncate\\'>Expert Panel Applications</span></a>\\n        </li>\\n\\n        <li class=\\'col-md-6 text-truncate\\'>\\n          <a class=\\'text-dark small\\' href=\\'https://www.clinicalgenome.org/docs/?doc-type=in-the-news#list_documentation_table\\'><span class=\\' d-inline-block text-truncate\\'>News</span></a>\\n        </li>\\n\\n        <li class=\\'col-md-6 text-truncate\\'>\\n          <a class=\\'text-dark small\\' href=\\'https://www.clinicalgenome.org/docs/?doc-type=moc-cme-forms#list_documentation_table\\'><span class=\\' d-inline-block text-truncate\\'>MOC/CME Forms</span></a>\\n        </li>\\n\\n        <li class=\\'col-md-6 text-truncate\\'>\\n          <a class=\\'text-dark small\\' href=\\'https://www.clinicalgenome.org/docs/?doc-type=patient-data-sharing#list_documentation_table\\'><span class=\\' d-inline-block text-truncate\\'>Patient Data Sharing</span></a>\\n        </li>\\n\\n        <li class=\\'col-md-6 text-truncate\\'>\\n          <a class=\\'text-dark small\\' href=\\'https://www.clinicalgenome.org/docs/?doc-type=policies-position-statements#list_documentation_table\\'><span class=\\' d-inline-block text-truncate\\'>Policies/Position Statements</span></a>\\n        </li>\\n\\n        <li class=\\'col-md-6 text-truncate\\'>\\n          <a class=\\'text-dark small\\' href=\\'https://www.clinicalgenome.org/docs/?doc-type=presentations#list_documentation_table\\'><span class=\\' d-inline-block text-truncate\\'>Presentations</span></a>\\n        </li>\\n\\n        <li class=\\'col-md-6 text-truncate\\'>\\n          <a class=\\'text-dark small\\' href=\\'https://www.clinicalgenome.org/docs/?doc-type=publications#list_documentation_table\\'><span class=\\' d-inline-block text-truncate\\'>Publication</span></a>\\n        </li>\\n\\n        <li class=\\'col-md-6 text-truncate\\'>\\n          <a class=\\'text-dark small\\' href=\\'https://www.clinicalgenome.org/docs/?doc-type=supporting-documents#list_documentation_table\\'><span class=\\' d-inline-block text-truncate\\'>Supporting Documents</span></a>\\n        </li>\\n\\n        <li class=\\'col-md-6 text-truncate\\'>\\n          <a class=\\'text-dark small\\' href=\\'https://www.clinicalgenome.org/docs/?doc-type=training-materials#list_documentation_table\\'><span class=\\' d-inline-block text-truncate\\'>Training Materials</span></a>\\n        </li>\\n      </ul>\\n\\n        </div>\\n    </div>\\n  </div>\\n</div>      <p class=\"float-right\">\\n        <a href=\"#\">Back to top</a>\\n      </p>\\n      <p> &copy; ClinGen</p>\\n    </div>\\n  </footer>\\n\\n    <script src=\"/js/jquery.validate.min.js\" ></script>\\n    <script src=\"/js/additional-methods.min.js\" ></script>\\n    <script src=\"/js/additional-methods.min.js\" ></script>\\n    <script src=\"/js/sweetalert.min.js\"></script>\\n    <script src=\"/js/PassRequirements.js\"></script>\\n\\n    <script src=\"/js/main.js\" ></script>\\n\\n    <script>\\n\\n    $(\\'#register-password\\').PassRequirements({\\n        popoverPlacement: \\'left\\',\\n        rules: {\\n          minlength: {\\n            text: \"be at least minLength characters long\",\\n            minLength: 8,\\n          },\\n          containSpecialChars: {\\n            text: \"Your input should contain at least minLength special character\",\\n            minLength: 1,\\n            regex: new RegExp(\\'([^!,%,&,@,#,$,^,*,?,_,~])\\', \\'g\\')\\n          },\\n          containLowercase: {\\n            text: \"Your input should contain at least minLength lower case character\",\\n            minLength: 1,\\n            regex: new RegExp(\\'[^a-z]\\', \\'g\\')\\n          },\\n          containUppercase: {\\n            text: \"Your input should contain at least minLength upper case character\",\\n          minLength: 1,\\n            regex: new RegExp(\\'[^A-Z]\\', \\'g\\')\\n          },\\n          containNumbers: {\\n            text: \"Your input should contain at least minLength number\",\\n            minLength: 1,\\n            regex: new RegExp(\\'[^0-9]\\', \\'g\\')\\n          }\\n        }\\n    });\\n\\n    </script>\\n\\n    \\n<style>\\n  .popover {\\n    max-width: 65%;\\n  }\\n  .popover-title {\\n    font-weight: bold;\\n  }\\n  .data_pre { white-space: pre-line;}\\n</style>\\n\\n<script>\\n\\n$(\\'[data-toggle=\"tooltip\"]\\').tooltip();\\n$(\\'[data-toggle=\"popover\"]\\').popover({\\n      html : true,\\n      content: function() {\\n        return $(\\'#popover_content_wrapper\\').html();\\n      }\\n    });\\n\\n</script>\\n\\n<script type=\"text/javascript\" src=\"https://www.ncbi.nlm.nih.gov/core/jig/1.14.8/js/jig.min.js\"></script>\\n<script type=\"text/javascript\" src=\"https://www.ncbi.nlm.nih.gov/projects/sviewer/js/sviewer.js\" id=\"autoload\"></script>\\n\\n<!--IDEOGRAM-->\\n<script type=\"text/javascript\" src=\"/js/ideo.js\"> </script>\\n\\n<link rel=\"stylesheet\" type=\"text/css\" href=\"https://www.ncbi.nlm.nih.gov/projects/ideogram/3.0/css/ideo.css\" />\\n<link href=\"/js/ncbiheader.css\" rel=\"stylesheet\" type=\"text/css\" />\\n\\n<!-- the below link collides hard with the rest of the site.  It is included so someone can merge later -->\\n<!-- <link href=\"/css/clingen.css\" rel=\"stylesheet\" type=\"text/css\" /> -->\\n\\n<link href=\"/css/footnote.css\" rel=\"stylesheet\" type=\"text/css\" />\\n\\n<script type=\"text/javascript\">\\n$(document).ready(function() {\\n\\n  $(\"#tabs\").ncbitabs();\\n\\n  $(\"#loss_sc\").click(function(){\\n      $(\"#tabs\").ncbitabs(\"option\", \"active\", 1);\\n  });\\n\\n  $(\"#gain_sc\").click(function(){\\n      $(\"#tabs\").ncbitabs(\"option\", \"active\", 2);\\n  });\\n\\n  jQuery(\"#last_footnote\").load(\"footnote.html\", function() {\\n      jQuery.ui.jig.scan(this, {\\n                                \\'widgets\\': [\\'ncbihelpwindow\\']\\n      });\\n\\n      var dt = new Date();\\n      var time_str = dt.getFullYear() + \"-\" + (dt.getMonth()+1) + \"-\" + dt.getDate() +\\n                        \"T\" + dt.getHours() + \":\" + dt.getMinutes() + \":\" + dt.getSeconds() +\\n                        \"-04:00\";\\n\\n      var link_str = \"/sites/ehelp?&Ncbi_App=\" +\\n                        jQuery(\\'meta[name=ncbi_app]\\').attr(\\'content\\') +\\n                        \"&Page=\" +\\n                        jQuery(\\'meta[name=ncbi_pdid]\\').attr(\\'content\\') +\\n                        \"&Time=\" + time_str +\\n                        \"&Data=+PageURL:+\" +\\n                        window.location.href +\\n                        \";\";\\n      jQuery(\\'#help-desk-link\\').attr(\\'href\\',link_str);\\n  });\\n\\n  var appIndex=0;\\n  jQuery(\"#g_view_menu\").on(\\'change\\', function(eventObj) {\\n      var target = eventObj.currentTarget;\\n      if (target.selectedIndex != appIndex)  {\\n          var appIndex = target.selectedIndex;\\n          var accession = target.value;\\n          var svhref = accession.substring(1, accession.length)\\n          var svApp = SeqView.App.findAppByIndex(0);\\n          if (svApp) {\\n              svApp.reload(svhref);\\n          }\\n\\n          jQuery(\".seqviewer-comment > span\").each(function (index, el) {\\n              if ( index != appIndex) {\\n                  jQuery(el).addClass(\\'hide\\');\\n              }\\n              else {\\n                  jQuery(el).removeClass(\\'hide\\');\\n              }\\n          });\\n      }\\n  });\\n\\n\\n//{% if chrom|length > 0 %}\\n\\ttry{\\n\\tvar shapes = new IDEO.ShapeCollection({\\n\\t\\tdefaultFill: \"#0000EE\", //blue\\n\\t\\tdefaultBorder: \"#0000EE\", //blue\\n\\t\\tdefaultShape: \"triangle\"\\n\\t});\\n\\tvar annot = new IDEO.Annotation({\\n\\t\\tdata: [\\n\\t\\t\\t{chrom: \\'15\\', start:  75631787, stop: 75972909},\\n\\t\\t],\\n\\t\\twidth: 10\\n\\t});\\n\\tvar bandLabelConfig = {\\n\\t\\tmode:IDEO.LabelOrientation.Lengthwise,\\n\\t\\tcolor: \"#333333\",\\n\\t\\tmargin: 10,\\n\\t\\toffset: 10,\\n\\t\\tincludeChrom:true\\n\\t};\\n\\tvar ideo = new IDEO.Ideogram({\\n\\t\\ttaxid: 9606,\\n\\t\\trep: IDEO.CytoRep({\\n\\t\\t\\tassm: \"GRCh37\"\\n\\t\\t}),\\n\\t\\tchroms: [\\'15\\'],\\n\\t\\torientation: IDEO.IdeogramOrientation.Horizontal,\\n\\t\\tbandLabels: bandLabelConfig,\\n\\t\\tideowidth: 25,\\n\\t\\tideoheight: 450,\\n\\t\\tlabelPosition: IDEO.LabelPosition.None,\\n\\t\\tcontainer: \"#ideogram\",\\n\\t\\talign: \"top\",\\n\\t\\tannotations: [annot],\\n\\t\\tshapes: shapes\\n\\t});\\n\\n\\tif(ideo.getStatus() != IDEO.IdeogramStatus.OK && ideo.getStatus() != IDEO.IdeogramStatus.WARNING){\\n\\t\\tvar errors = ideo.getErrors();\\n\\t\\tvar div = jQuery(ideogram.container);\\n\\t\\tif(div[0]){\\n\\t\\t\\tdiv[0].innerHTML = \"IDEOGRAM ERRORS: <br />\";\\n\\t\\tfor(var n=0; n < errors.length; n++){\\n\\t\\t\\tdiv[0].innerHTML += errors[n] + \"<br/>\";\\n\\t\\t\\tdiv.css({\\n\\t\\t\\t\\tcolor: \"red\"\\n\\t\\t\\t});\\n\\t\\t}\\n\\t}\\n}\\n} catch(e){\\n\\talert(e + (e.lineNumber? \"\\\\nline: \" + e.lineNumber : \"\")+(e.fileName? \"\\\\nfile: \" + e.fileName : \" \"));\\n}\\n\\n});\\n\\n</script>\\n\\n\\n    <script>\\n  var mybutton = document.getElementById(\"clingen_top\");\\n\\n  // When the user scrolls down 20px from the top of the document, show the button\\n  window.onscroll = function() {scrollFunction()};\\n\\n  function scrollFunction() {\\n    if (document.body.scrollTop > 20 || document.documentElement.scrollTop > 20) {\\n      mybutton.style.display = \"block\";\\n    } else {\\n      mybutton.style.display = \"none\";\\n    }\\n  }\\n\\n  // When the user clicks on the button, scroll to the top of the document\\n  function topFunction() {\\n    document.body.scrollTop = 0;\\n    document.documentElement.scrollTop = 0;\\n  }\\n</script>\\n    <script>\\n      $(\".action-login\").click(function() {\\n\\n        $(\\'#modalLogin\\').modal(\\'show\\');\\n      });\\n\\n      window.auth = 0;\\n\\n\\n    </script>\\n    <script src=\"/js/typeahead.js\"></script>\\n    <script>\\n      $( \".typeQueryGene\" ).click(function() {\\n        $(\"#navSearchBar\").attr(\"action\", \"https://search.clinicalgenome.org/kb/genes\");\\n        $( \".inputQueryGene\" ).show();\\n        $( \".inputQueryGene .queryGene\" ).show();\\n        $( \".inputQueryDisease\" ).hide();\\n        $( \".inputQueryDisease .queryDisease\" ).hide();\\n        $( \".inputQueryDrug\" ).hide();\\n        $( \".inputQueryDrug .queryDrug\" ).hide();\\n        $( \".inputQueryRegion\" ).hide();\\n        $( \".inputQueryRegion .queryRegion\" ).hide();\\n        $( \".typeQueryLabel\").text(\"Gene\");\\n      });\\n      $( \".typeQueryDisease\" ).click(function() {\\n        $(\"#navSearchBar\").attr(\"action\", \"https://search.clinicalgenome.org/kb/conditions\");\\n        $( \".inputQueryGene\" ).hide();\\n        $( \".inputQueryGene .queryGene\" ).hide();\\n        $( \".inputQueryDisease\" ).show();\\n        $( \".inputQueryDisease .queryDisease\" ).show();\\n        $( \".inputQueryDrug\" ).hide();\\n        $( \".inputQueryDrug .queryDrug\" ).hide();\\n        $( \".inputQueryRegion\" ).hide();\\n        $( \".inputQueryRegion .queryRegion\" ).hide();\\n        $( \".typeQueryLabel\").text(\"Disease\");\\n      });\\n      $( \".typeQueryDrug\" ).click(function() {\\n        $(\"#navSearchBar\").attr(\"action\", \"https://search.clinicalgenome.org/kb/drugs\");\\n        $( \".inputQueryGene\" ).hide();\\n        $( \".inputQueryGene .queryGene\" ).hide();\\n        $( \".inputQueryDisease\" ).hide();\\n        $( \".inputQueryDisease .queryDisease\" ).hide();\\n        $( \".inputQueryDrug\" ).show();\\n        $( \".inputQueryDrug .queryDrug\" ).show();\\n        $( \".inputQueryRegion\" ).hide();\\n        $( \".inputQueryRegion .queryRegion\" ).hide();\\n        $( \".typeQueryLabel\").text(\"Drug\");\\n      });\\n      $( \".typeQueryRegionGRCh37\" ).click(function() {\\n        $(\"#navSearchBar\").attr(\"action\", \"https://search.clinicalgenome.org/kb/regions\");\\n        $( \".inputQueryGene\" ).hide();\\n        $( \".inputQueryGene .queryGene\" ).hide();\\n        $( \".inputQueryDisease\" ).hide();\\n        $( \".inputQueryDisease .queryDisease\" ).hide();\\n        $( \".inputQueryDrug\" ).hide();\\n        $( \".inputQueryDrug .queryDrug\" ).hide();\\n        $( \".inputQueryRegion\" ).show();\\n        $( \".inputQueryRegion .queryRegion\" ).show();\\n        $( \".typeQueryLabel\").text(\"GRCh37 Region\");\\n        $( \".buildtype\").val(\"GRCh37\");\\n      });\\n      $( \".typeQueryRegionGRCh38\" ).click(function() {\\n        $(\"#navSearchBar\").attr(\"action\", \"https://search.clinicalgenome.org/kb/regions\");\\n        $( \".inputQueryGene\" ).hide();\\n        $( \".inputQueryGene .queryGene\" ).hide();\\n        $( \".inputQueryDisease\" ).hide();\\n        $( \".inputQueryDisease .queryDisease\" ).hide();\\n        $( \".inputQueryDrug\" ).hide();\\n        $( \".inputQueryDrug .queryDrug\" ).hide();\\n        $( \".inputQueryRegion\" ).show();\\n        $( \".inputQueryRegion .queryRegion\" ).show();\\n        $( \".typeQueryLabel\").text(\"GRCh38 Region\");\\n        $( \".buildtype\").val(\"GRCh38\");\\n      });\\n\\n\\n      /*var term = new Bloodhound({\\n        datumTokenizer: Bloodhound.tokenizers.obj.whitespace(\\'label\\'),\\n        queryTokenizer: Bloodhound.tokenizers.whitespace,\\n        remote: {\\n          url: \\'https://search.clinicalgenome.org/kb/home.json?term=%QUERY\\',\\n          wildcard: \\'%QUERY\\'\\n        }\\n      });*/\\n\\n      var term = new Bloodhound({\\n        datumTokenizer: Bloodhound.tokenizers.obj.whitespace(\\'label\\'),\\n        queryTokenizer: Bloodhound.tokenizers.whitespace,\\n        remote: {\\n          url: \\'https://search.clinicalgenome.org/api/genes/look/%QUERY\\',\\n          wildcard: \\'%QUERY\\'\\n        }\\n      });\\n\\n      var termGene = new Bloodhound({\\n        datumTokenizer: Bloodhound.tokenizers.obj.whitespace(\\'label\\'),\\n        queryTokenizer: Bloodhound.tokenizers.whitespace,\\n        remote: {\\n          url: \\'https://search.clinicalgenome.org/api/genes/look/%QUERY\\',\\n          wildcard: \\'%QUERY\\'\\n        }\\n      });\\n\\n      var termDisease = new Bloodhound({\\n        datumTokenizer: Bloodhound.tokenizers.obj.whitespace(\\'label\\'),\\n        queryTokenizer: Bloodhound.tokenizers.whitespace,\\n        remote: {\\n          url: \\'https://search.clinicalgenome.org/api/conditions/look/%QUERY\\',\\n          wildcard: \\'%QUERY\\'\\n        }\\n      });\\n\\n      var termDrug = new Bloodhound({\\n        datumTokenizer: Bloodhound.tokenizers.obj.whitespace(\\'label\\'),\\n        queryTokenizer: Bloodhound.tokenizers.whitespace,\\n        remote: {\\n          url: \\'https://search.clinicalgenome.org/api/drugs/look/%QUERY\\',\\n          wildcard: \\'%QUERY\\'\\n        }\\n      });\\n\\n      $(\\'.queryDisease\\').typeahead(null,\\n      {\\n        name: \\'termDisease\\',\\n        display: \\'label\\',\\n        source: termDisease,\\n        templates: {\\n            //header: \\'<h3 class=\"league-name\">Header</h3>\\',\\n            //footer: \\'<div class=\"\"><i class=\"fas fa-check-circle\" style=\"color: green;\"></i><span class=\"mr-2 ml-2\">Disease has been curated by ClinGen</span></div>\\',\\n            empty: [\\n                \\'<div class=\"tt-suggestion tt-selectable\"><div class=\"list-group-item\">Nothing found.</div></div>\\'\\n            ],/*,\\n            header: [\\n                \\'<div class=\"list-group search-results-dropdown\">\\'\\n            ],*/\\n            suggestion: function (data) {\\n                return \\'<div class=\"ml-1 mr-1 row pl-2 tt-ui-row \\' + (data.curated ? \\'tt-ui-curated-on\\' : \\'\\') + \\'\" style=\" border-bottom:1px solid #ccc\"><span class=\"col-sm-7 col-xs-7 pl-0 tt-ui-label\">\\' + data.label +  \\'<span class=\"tt-ui-alias\"> \\' + data.alias + \\'</span></span><span class=\" col-sm-3 col-xs-5 tt-ui-curie\">  \\' + data.hgnc  + \\'</span>\\' + (data.curated ? \\'<span class=\"badge badge-success pull-right hidden-xs small mt-1 col-sm-2 tt-ui-curated\">Curated </span>\\' : \\'\\') + \\'</div>\\'\\n\\n            }\\n        },\\n        limit: 20,\\n        minLength: 3,\\n        highlight: true,\\n        hint: false,\\n        autoselect:true,\\n      }).bind(\\'typeahead:selected\\',function(evt,item){\\n        window.location = item.url;\\n      });\\n\\n      $(\\'.queryGene\\').typeahead(null,\\n      {\\n        name: \\'termGene\\',\\n        display: \\'label\\',\\n        source: termGene,\\n        templates: {\\n            //header: \\'<h3 class=\"league-name\">Header</h3>\\',\\n            //footer: \\'<div class=\"bg-light text-right text-dark\"><i class=\"fas fa-check-circle\" style=\"color: green;\"></i><span class=\"mr-2 ml-2\">Gene has been curated by ClinGen</span></div>\\',\\n            empty: [\\n                \\'<div class=\"tt-suggestion tt-selectable\"><div class=\"list-group-item\">Nothing found.</div></div>\\'\\n            ],/*,\\n            header: [\\n                \\'<div class=\"list-group search-results-dropdown\">\\'\\n            ],*/\\n            suggestion: function (data) {\\n                return \\'<div class=\"ml-1 mr-1 row pl-2 tt-ui-row \\' + (data.curated ? \\'tt-ui-curated-on\\' : \\'\\') + \\'\" style=\" border-bottom:1px solid #ccc\"><span class=\"col-sm-7 col-xs-7 pl-0 tt-ui-label\">\\' + data.label +  \\'<span class=\"tt-ui-alias\"> \\' + data.alias + \\'</span></span><span class=\" col-sm-3 col-xs-5 tt-ui-curie\">  \\' + data.hgnc  + \\'</span>\\' + (data.curated ? \\'<span class=\"badge badge-success pull-right hidden-xs small mt-1 col-sm-2 tt-ui-curated\">Curated </span>\\' : \\'\\') + \\'</div>\\'\\n            }\\n        },\\n        limit: 20,\\n        minLength: 3,\\n        highlight: true,\\n        hint: false,\\n        autoselect:true,\\n      }).bind(\\'typeahead:selected\\',function(evt,item){\\n        window.location = item.url;\\n      });\\n\\n      $(\\'.queryDrug\\').typeahead(null,\\n      {\\n        name: \\'termDrug\\',\\n        display: \\'label\\',\\n        source: termDrug,\\n        templates: {\\n            //header: \\'<h3 class=\"league-name\">Header</h3>\\',\\n            //footer: \\'<div class=\"\"><i class=\"fas fa-check-circle\" style=\"color: green;\"><i><span class=\"mr-2 ml-2\">Drug has been curated by ClinGen</span></div>\\',\\n            empty: [\\n                \\'<div class=\"tt-suggestion tt-selectable\"><div class=\"list-group-item\">Nothing found.</div></div>\\'\\n            ],/*,\\n            header: [\\n                \\'<div class=\"list-group search-results-dropdown\">\\'\\n            ],*/\\n            suggestion: function (data) {\\n                return \\'<div class=\"ml-1 mr-1 row pl-2 tt-ui-row \\' + (data.curated ? \\'tt-ui-curated-on\\' : \\'\\') + \\'\" style=\" border-bottom:1px solid #ccc\"><span class=\"col-sm-7 col-xs-7 pl-0 tt-ui-label\">\\' + data.label +  \\'<span class=\"tt-ui-alias\"> \\' + data.alias + \\'</span></span><span class=\" col-sm-3 col-xs-5 tt-ui-curie\">  \\' + data.hgnc  + \\'</span>\\' + (data.curated ? \\'<span class=\"badge badge-success pull-right hidden-xs small mt-1 col-sm-2 tt-ui-curated\">Curated </span>\\' : \\'\\') + \\'</div>\\'\\n\\n            }\\n        },\\n        limit: 20,\\n        minLength: 3,\\n        highlight: true,\\n        hint: false,\\n        autoselect:true,\\n      }).bind(\\'typeahead:selected\\',function(evt,item){\\n        window.location = item.url;\\n      });\\n\\n    </script>\\n    \\n\\n    <script type=\"text/javascript\">\\n\\n      // Tracking for google of the onclicks\\n      $( \".externallink\" ).on( \"click\", function() {\\n          var title = $(this).attr(\"title\");\\n          //console.log( \"externallink\" );\\n          //console.log( title );\\n          ga(\\'send\\', \\'event\\', \\'external_link\\', \\'click\\', title );\\n      });\\n\\n      $( \".externalresource\" ).on( \"click\", function() {\\n          var title = $(this).attr(\"title\");\\n          //console.log( \"externallink\" );\\n          //console.log( title );\\n          ga(\\'send\\', \\'event\\', \\'external_resource\\', \\'click\\', title );\\n      });\\n      $( \".watchreportclick\" ).on( \"click\", function() {\\n          var title = $(this).attr(\"title\");\\n          //console.log( \"watchreportclick\" );\\n          //console.log( title );\\n          ga(\\'send\\', \\'event\\', \\'track_report_click\\', \\'click\\', title );\\n      });\\n      $( \".watchdownloadclick\" ).on( \"click\", function() {\\n          var title = $(this).attr(\"title\");\\n          //console.log( \"watchdownloadclick\" );\\n          //console.log( title );\\n          ga(\\'send\\', \\'event\\', \\'track_download_click\\', \\'click\\', title );\\n      });\\n\\n    </script>\\n  </body>\\n  </html>\\n'"
      ]
     },
     "execution_count": 30,
     "metadata": {},
     "output_type": "execute_result"
    }
   ],
   "source": [
    "text"
   ]
  },
  {
   "cell_type": "code",
   "execution_count": 42,
   "id": "dadd7dd4",
   "metadata": {},
   "outputs": [],
   "source": [
    "data = str(BeautifulSoup(text, 'lxml'))"
   ]
  },
  {
   "cell_type": "code",
   "execution_count": 43,
   "id": "261ac729",
   "metadata": {},
   "outputs": [
    {
     "data": {
      "text/plain": [
       "'<!DOCTYPE html>\\n<html lang=\"en\">\\n<head>\\n<meta charset=\"utf-8\"/>\\n<meta content=\"width=device-width, initial-scale=1\" name=\"viewport\"/>\\n<!-- CSRF Token -->\\n<meta content=\"H9Q9EOmXK7E01IMfmKn952tPdVlJmhmyYnUT4RyB\" name=\"csrf-token\"/>\\n<title> 15q24 recurrent region (LCR C-LCR D) (includes SIN3A) curation results for Dosage Sensitivity  </title>\\n<!-- Scripts -->\\n<script src=\"https://search.clinicalgenome.org/js/js.cookie.min.js\"></script>\\n<script src=\"https://search.clinicalgenome.org/js/app.js\"></script>\\n<!-- Fonts -->\\n<!-- Styles -->\\n<link href=\"https://search.clinicalgenome.org/css/app.css\" rel=\"stylesheet\"/>\\n<script>\\n     (function(i,s,o,g,r,a,m){i[\\'GoogleAnalyticsObject\\']=r;i[r]=i[r]||function(){\\n       (i[r].q=i[r].q||[]).push(arguments)},i[r].l=1*new Date();a=s.createElement(o),\\n                              m=s.getElementsByTagName(o)[0];a.async=1;a.src=g;m.parentNode.insertBefore(a,m)\\n     })(window,document,\\'script\\',\\'https://www.google-analytics.com/analytics.js\\',\\'ga\\');\\n     ga(\\'create\\', \\'UA-49947422-1\\', \\'auto\\');\\n     ga(\\'set\\', \\'dimension7\\', \\'KB Curations - Index\\');\\n     //Page type\\n     ga(\\'send\\', \\'pageview\\');\\n    </script>\\n</head>\\n<body>\\n<div id=\"app\">\\n<div class=\"section-heading section-heading-groups\">\\n<div class=\"container text-right small text-muted\">\\n<div class=\"container\">\\n<ul class=\"list-inline pull-right m-0 p-1\">\\n<li class=\"\">\\n<a class=\"text-white\" href=\"https://www.clinicalgenome.org/share-your-data/\">\\n<span class=\"visible-inline-md visible-inline-lg visible-inline-xl\">Data Sharing Resources</span>\\n</a>\\n</li>\\n<li class=\"\">\\n<a class=\"text-white\" href=\"https://www.clinicalgenome.org/genomeconnect/\">GenomeConnect</a>\\n</li>\\n<li class=\"visible-inline-md visible-inline-lg visible-inline-xl\">\\n<a class=\"text-white\" href=\"https://www.clinicalgenome.org/about/events/\">Events</a>\\n</li>\\n<li class=\"visible-inline-md visible-inline-lg visible-inline-xl\">\\n<a class=\"text-white\" href=\"https://www.clinicalgenome.org/about/contact-clingen/\">Contact</a>\\n</li>\\n<li class=\"dropdown\" id=\"dashboard-menu\" style=\"display:none\">\\n<a aria-expanded=\"false\" aria-haspopup=\"true\" class=\"dropdown-toggle text-white\" data-toggle=\"dropdown\" href=\"#\" role=\"button\">\\n<i aria-hidden=\"true\" class=\"fa fa-user\"> </i>\\n<span id=\"nav-user-name\"> Member </span>\\n</a>\\n<ul class=\"dropdown-menu\">\\n<li><a href=\"/dashboard\"><i class=\"fas fa-tachometer-alt mr-1\"></i>Dashboard</a></li>\\n<li class=\"divider\" role=\"separator\"></li>\\n<li><a class=\"dropdown-item\" href=\"https://search.clinicalgenome.org/logout\" onclick=\"event.preventDefault();\\n\\t\\t\\t\\t\\t\\tdocument.getElementById(\\'logout-form\\').submit();\">\\n<i class=\"fas fa-sign-out-alt mr-1 text-danger\"></i>Logout\\n\\t\\t\\t\\t\\t\\t</a>\\n<form action=\"/logout\" id=\"logout-form\" method=\"POST\" style=\"display: none;\">\\n<input name=\"_token\" type=\"hidden\" value=\"H9Q9EOmXK7E01IMfmKn952tPdVlJmhmyYnUT4RyB\"/> </form></li>\\n</ul>\\n</li>\\n<li class=\"visible-inline-md visible-inline-lg visible-inline-xl\" id=\"login-menu\">\\n<a class=\"text-white action-login\" href=\"#\">Login</a>\\n</li>\\n</ul>\\n</div>\\n</div>\\n</div> <header>\\n<nav class=\"navbar navbar-light\">\\n<div class=\"container\">\\n<!-- Brand and toggle get grouped for better mobile display -->\\n<div class=\"navbar-header\">\\n<button aria-expanded=\"false\" class=\"btn btn-lg mt-4 btn-outline-primary navbar-toggle pull-right collapsed\" data-target=\"#bs-example-navbar-collapse-1\" data-toggle=\"collapse\" type=\"button\">\\n<span class=\"sr-only\">Toggle navigation</span>\\n          Navigation <i class=\"fas fa-bars\"></i>\\n</button>\\n<a class=\"navbar-brand\" href=\"https://www.clinicalgenome.org/\"><img alt=\"Responsive image\" class=\"img-fluid p-0\" src=\"/brand/logo/logo-clinical-genome-logo-vector.svg\" style=\"height:80px\"/></a>\\n</div>\\n<!-- Collect the nav links, forms, and other content for toggling -->\\n<div class=\"collapse navbar-collapse\" id=\"bs-example-navbar-collapse-1\">\\n<ul class=\"nav navbar-nav navbar-right mt-4\">\\n<li class=\"nav-item\">\\n<a class=\"nav-link nav-link-header\" href=\"https://www.clinicalgenome.org/start/\">Get Started</a>\\n</li>\\n<li class=\"nav-item dropdown\">\\n<a class=\"nav-link nav-link-header dropdown-toggle\" href=\"https://www.clinicalgenome.org/about/\">About Us</a>\\n<ul class=\"row dropdown-menu dropdown-width-normal dropdown-menu-right dropdown-menu-lg-left\">\\n<li class=\"nav-item\">\\n<a class=\"nav-link nav-link-header\" href=\"https://www.clinicalgenome.org/about/clingen-clinvar-collaboration/\"><span class=\"d-inline-block text-truncate\">ClinGen &amp; ClinVar Collaboration</span></a>\\n</li>\\n<li class=\"nav-item\">\\n<a class=\"nav-link nav-link-header\" href=\"https://www.clinicalgenome.org/about/clingen-cpic-pharmgkb/\"><span class=\"d-inline-block text-truncate\">ClinGen, CPIC and PharmGKB Partnership\\xa0</span></a>\\n</li>\\n<li class=\"nav-item\">\\n<a class=\"nav-link nav-link-header\" href=\"https://www.clinicalgenome.org/about/terms-of-use/\"><span class=\"d-inline-block text-truncate\">ClinGen Terms of Use</span></a>\\n</li>\\n<li class=\"nav-item\">\\n<a class=\"nav-link nav-link-header\" href=\"https://www.clinicalgenome.org/about/clingen-collaborations/\"><span class=\"d-inline-block text-truncate\">Collaborations</span></a>\\n</li>\\n<li class=\"nav-item\">\\n<a class=\"nav-link nav-link-header\" href=\"https://www.clinicalgenome.org/about/contact-clingen/\"><span class=\"d-inline-block text-truncate\">Contact ClinGen</span></a>\\n</li>\\n<li class=\"nav-item\">\\n<a class=\"nav-link nav-link-header\" href=\"https://www.clinicalgenome.org/about/events/\"><span class=\"d-inline-block text-truncate\">Events &amp; Conferences</span></a>\\n</li>\\n<li class=\"nav-item\">\\n<a class=\"nav-link nav-link-header\" href=\"https://www.clinicalgenome.org/about/clingen-leadership/\"><span class=\"d-inline-block text-truncate\">Leadership</span></a>\\n</li>\\n<li class=\"nav-item\">\\n<a class=\"nav-link nav-link-header\" href=\"https://www.clinicalgenome.org/about/people/\"><span class=\"d-inline-block text-truncate\">Member Directory</span></a>\\n</li>\\n<li class=\"nav-item\">\\n<a class=\"nav-link nav-link-header\" href=\"https://www.clinicalgenome.org/about/clingen-policies/\"><span class=\"d-inline-block text-truncate\">Policies</span></a>\\n</li>\\n<li class=\"nav-item\">\\n<a class=\"nav-link nav-link-header\" href=\"https://www.clinicalgenome.org/about/sitemap/\"><span class=\"d-inline-block text-truncate\">Website SiteMap</span></a>\\n</li>\\n</ul>\\n</li>\\n<li class=\"nav-item active dropdown\">\\n<a class=\"nav-link nav-link-header dropdown-toggle\" href=\"https://www.clinicalgenome.org/curation-activities/\">Curation Activities</a>\\n<ul class=\"row dropdown-menu dropdown-width-normal dropdown-menu-right dropdown-menu-lg-left\">\\n<li class=\"nav-item\">\\n<a class=\"nav-link nav-link-header\" href=\"https://www.clinicalgenome.org/curation-activities/gene-disease-validity/\"><span class=\"d-inline-block text-truncate\"> Gene-Disease Validity</span></a>\\n</li>\\n<li class=\"nav-item\">\\n<a class=\"nav-link nav-link-small pl-4\" href=\"https://www.clinicalgenome.org/curation-activities/gene-disease-validity/training-materials/\"><span class=\"d-inline-block text-truncate\"><i class=\"fas fa-angle-double-right text-muted-more\"></i> Training Materials</span></a>\\n</li>\\n<li class=\"nav-item\">\\n<a class=\"nav-link nav-link-small pl-4\" href=\"http://search.clinicalgenome.org/kb/gene-validity\"><span class=\"d-inline-block text-truncate\"><i class=\"fas fa-angle-double-right text-muted-more\"></i> Browse Curations</span></a>\\n</li>\\n<li class=\"nav-item\">\\n<a class=\"nav-link nav-link-header\" href=\"https://www.clinicalgenome.org/curation-activities/variant-pathogenicity/\"><span class=\"d-inline-block text-truncate\"> Variant Pathogenicity</span></a>\\n</li>\\n<li class=\"nav-item\">\\n<a class=\"nav-link nav-link-small pl-4\" href=\"https://www.clinicalgenome.org/curation-activities/variant-pathogenicity/training-materials/\"><span class=\"d-inline-block text-truncate\"><i class=\"fas fa-angle-double-right text-muted-more\"></i> Training Materials</span></a>\\n</li>\\n<li class=\"nav-item\">\\n<a class=\"nav-link nav-link-small pl-4\" href=\"https://erepo.clinicalgenome.org/evrepo/\"><span class=\"d-inline-block text-truncate\"><i class=\"fas fa-angle-double-right text-muted-more\"></i> Browse Curations</span></a>\\n</li>\\n<li class=\"nav-item\">\\n<a class=\"nav-link nav-link-header\" href=\"https://www.clinicalgenome.org/curation-activities/clinical-actionability/\"><span class=\"d-inline-block text-truncate\"> Clinical Actionability</span></a>\\n</li>\\n<li class=\"nav-item\">\\n<a class=\"nav-link nav-link-small pl-4\" href=\"https://www.clinicalgenome.org/curation-activities/clinical-actionability/training-materials/\"><span class=\"d-inline-block text-truncate\"><i class=\"fas fa-angle-double-right text-muted-more\"></i> Training Materials</span></a>\\n</li>\\n<li class=\"nav-item\">\\n<a class=\"nav-link nav-link-small pl-4\" href=\"http://search.clinicalgenome.org/kb/actionability\"><span class=\"d-inline-block text-truncate\"><i class=\"fas fa-angle-double-right text-muted-more\"></i> Browse Curations</span></a>\\n</li>\\n<li class=\"nav-item\">\\n<a class=\"nav-link nav-link-header\" href=\"https://www.clinicalgenome.org/curation-activities/dosage-sensitivity/\"><span class=\"d-inline-block text-truncate\"> Dosage Sensitivity</span></a>\\n</li>\\n<li class=\"nav-item\">\\n<a class=\"nav-link nav-link-small pl-4\" href=\"https://www.clinicalgenome.org/curation-activities/dosage-sensitivity/training-materials/\"><span class=\"d-inline-block text-truncate\"><i class=\"fas fa-angle-double-right text-muted-more\"></i> Training Materials</span></a>\\n</li>\\n<li class=\"nav-item\">\\n<a class=\"nav-link nav-link-small pl-4\" href=\"http://search.clinicalgenome.org/kb/gene-dosage\"><span class=\"d-inline-block text-truncate\"><i class=\"fas fa-angle-double-right text-muted-more\"></i> Browse Curations</span></a>\\n</li>\\n<li class=\"divider\"></li>\\n<li class=\"nav-item\">\\n<a class=\"nav-link nav-link-header\" href=\"https://www.clinicalgenome.org/curation-activities/results/\"><span class=\"d-inline-block text-truncate\"> Browse All ClinGen\\'s Curated Genes</span></a>\\n</li>\\n</ul>\\n</li>\\n<li class=\"nav-item\">\\n<a class=\"nav-link nav-link-header\" href=\"https://www.clinicalgenome.org/working-groups/\">Working Groups</a>\\n</li>\\n<li class=\"nav-item\">\\n<a class=\"nav-link nav-link-header\" href=\"https://www.clinicalgenome.org/affiliation/\">Expert Panels</a>\\n</li>\\n<li class=\"nav-item\">\\n<a class=\"nav-link nav-link-header\" href=\"https://www.clinicalgenome.org/docs/\">Documents <span class=\"visible-inline-lg hidden-md visible-inline-xl visible-inline-sm visible-inline-xs\"> &amp; Annoucements</span></a>\\n</li>\\n<li class=\"nav-item\">\\n<a class=\"nav-link nav-link-header\" href=\"https://www.clinicalgenome.org/tools/\">Tools</a>\\n</li>\\n<li class=\"navbar-text navbar-text-hover\" id=\"navSearchToggle\"><i class=\"fas fa-search text-muted\"></i></li>\\n</ul>\\n</div><!-- /.navbar-collapse -->\\n</div><!-- /.container-fluid -->\\n</nav>\\n</header>\\n<main id=\"section_main\" role=\"main\">\\n<section class=\"pt-0 pb-0 mb-0 section-heading section-heading-groups text-light\" id=\"section_heading\">\\n<div class=\"container\">\\n<form action=\"https://search.clinicalgenome.org/kb/genes\" id=\"navSearchBar\" method=\"post\">\\n<input name=\"_token\" type=\"hidden\" value=\"H9Q9EOmXK7E01IMfmKn952tPdVlJmhmyYnUT4RyB\"/> <div class=\"mt-2 mb-2 input-group input-group-md\" id=\"section_search_wrapper\">\\n<input class=\"buildtype\" name=\"type\" type=\"hidden\" value=\"\"/>\\n<span class=\"input-group-addon\" id=\"\"><i class=\"fas fa-search\"></i></span>\\n<div class=\"input-group-btn\">\\n<button aria-expanded=\"false\" aria-haspopup=\"true\" class=\"btn btn-default dropdown-toggle\" data-toggle=\"dropdown\" type=\"button\"><span class=\"typeQueryLabel\">Gene</span></button>\\n<ul class=\"dropdown-menu dropdown-menu-left\">\\n<li><a class=\"typeQueryGene pointer\">Gene Symbol</a></li>\\n<li><a class=\"typeQueryDisease pointer\">Disease Name</a></li>\\n<li><a class=\"typeQueryDrug pointer\">Drug Name</a></li>\\n<li><a class=\"typeQueryRegionGRCh37 pointer\">Region (GRCh37)</a></li>\\n<li><a class=\"typeQueryRegionGRCh38 pointer\">Region (GRCh38)</a></li>\\n<li class=\"divider\" role=\"separator\"></li>\\n<li><a class=\"\" href=\"http://reg.clinicalgenome.org\" target=\"allele_reg\">Variant <i class=\"fas fa-external-link-alt mt-1 text-muted\"></i> </a></li>\\n<li><a href=\"https://clinicalgenome.org/search/\"> Website Content <i class=\"fas fa-external-link-alt mt-1 text-muted\"></i></a></li>\\n</ul>\\n</div><!-- /btn-group -->\\n<span class=\"inputQueryGene\">\\n<input aria-label=\"...\" class=\"form-control queryGene\" name=\"search[]\" placeholder=\"Enter a gene symbol or HGNC ID (Examples: ADNP, HGNC:15766)\" type=\"text\" value=\"\"/>\\n</span>\\n<span class=\"inputQueryDisease\" style=\"display: none\">\\n<input aria-label=\"...\" class=\"form-control queryDisease\" name=\"search[]\" placeholder=\"Enter a disease name or MONDO ID (Examples: Loeys Dietz, MONDO:0018954)\" type=\"text\" value=\"\"/>\\n</span>\\n<span class=\"inputQueryDrug\" style=\"display: none\">\\n<input aria-label=\"...\" class=\"form-control queryDrug\" name=\"search[]\" placeholder=\"Enter a drug name or RXNORM ID (Examples: aspirin, RXNORM:1191)\" type=\"text\" value=\"\"/>\\n</span>\\n<span class=\"inputQueryRegion\" style=\"display: none\">\\n<input aria-label=\"...\" class=\"form-control queryRegion\" name=\"search[]\" placeholder=\"Enter a full or partial region, or full cytoband (Examples: chr7:75158048-76063176, chr7, chr7:70008000, 12q24.31)\" type=\"text\" value=\"\"/>\\n</span>\\n<span class=\"input-group-btn\">\\n<button class=\"btn btn-default btn-search-submit\" type=\"submit\"> Search</button>\\n</span>\\n</div><!-- /input-group -->\\n</form>\\n<div class=\"content\">\\n<div class=\"section-heading-content\">\\n</div>\\n</div>\\n<ul class=\"nav-tabs-search nav nav-tabs ml-0 mt-1\">\\n<li class=\"nav-item\">\\n<a class=\"nav-link\" href=\"https://search.clinicalgenome.org/kb/genes/curations\">\\n                All Curated Genes\\n              </a>\\n</li>\\n<li class=\"nav-item dropdown\">\\n<a aria-expanded=\"false\" aria-haspopup=\"true\" class=\"nav-link dropdown-toggle\" href=\"https://search.clinicalgenome.org/kb/gene-validity\">\\n                Gene-Disease Validity\\n              </a>\\n<ul class=\"dropdown-menu\">\\n<li><a class=\"\" href=\"https://search.clinicalgenome.org/kb/gene-validity\">All Curations</a></li>\\n<li><a class=\"f\" href=\"https://search.clinicalgenome.org/kb/affiliate\">Curations by Expert Panel</a></li>\\n<li class=\"divider\"></li>\\n<li><a href=\"https://search.clinicalgenome.org/kb/downloads/#section_gene-disease-validity\"><i class=\"fas fa-download\"></i> File Downloads</a></li>\\n</ul>\\n</li>\\n<li class=\"nav-item dropdown active\">\\n<a aria-expanded=\"false\" aria-haspopup=\"true\" class=\"nav-link dropdown-toggle\" href=\"https://search.clinicalgenome.org/kb/gene-dosage\">\\n                Dosage Sensitivity\\n              </a>\\n<ul class=\"dropdown-menu\">\\n<li><a class=\"\" href=\"https://search.clinicalgenome.org/kb/gene-dosage\">All Curations</a></li>\\n<li><a class=\"\" href=\"https://search.clinicalgenome.org/kb/gene-dosage/cnv\">Recurrent CNV</a></li>\\n<li class=\"divider\"></li>\\n<li><a href=\"https://search.clinicalgenome.org/kb/downloads/#section_dosage\"><i class=\"fas fa-download\"></i> FTP File Downloads (CSV, BED, TSV)</a></li>\\n</ul>\\n</li>\\n<li class=\"nav-item dropdown\">\\n<a aria-expanded=\"false\" aria-haspopup=\"true\" class=\"nav-link dropdown-toggle\" href=\"https://search.clinicalgenome.org/kb/actionability\" target=\"external-actionability\">\\n                Clinical Actionability\\n              </a>\\n<ul class=\"dropdown-menu\">\\n<li><a class=\"\" href=\"https://search.clinicalgenome.org/kb/actionability\">All Curations <i class=\"fas fa-external-link-alt small\"></i></a></li>\\n<li><a class=\"\" href=\"https://actionability.clinicalgenome.org/ac/Adult/ui/summ\" target=\"external-actionability\">Curations in Adult Context <i class=\"fas fa-external-link-alt small\"></i></a></li>\\n<li><a class=\"\" href=\"https://actionability.clinicalgenome.org/ac/Pediatric/ui/summ\" target=\"external-actionability\">Curations in Pediatric Context <i class=\"fas fa-external-link-alt small\"></i></a></li>\\n<li><a class=\"\" href=\"https://www.clinicalgenome.org/docs/semi-quantitative-scoring-metric/\" target=\"external-actionability\">Scoring Metric <i class=\"fas fa-external-link-alt small\"></i></a></li>\\n<li class=\"divider\"></li>\\n<li><a href=\"https://search.clinicalgenome.org/kb/downloads/#section_actionability\"><i class=\"fas fa-download\"></i> File Downloads &amp; APIs</a></li>\\n</ul>\\n</li>\\n<li class=\"nav-item dropdown\">\\n<a aria-expanded=\"false\" aria-haspopup=\"true\" class=\"nav-link dropdown-toggle\" href=\"https://search.clinicalgenome.org/kb/variant-pathogenicity/all\" target=\"external-erepo\">\\n                Curated Variants\\n              </a>\\n<ul class=\"dropdown-menu\">\\n<li><a class=\"\" href=\"https://search.clinicalgenome.org/kb/variant-pathogenicity/all\">All Curations <i class=\"fas fa-external-link-alt small\"></i></a></li>\\n<li class=\"divider\"></li><li>\\n</li><li><a href=\"https://search.clinicalgenome.org/kb/downloads#section_variant\"><i class=\"fas fa-download\"></i> File Downloads &amp; APIs</a></li>\\n</ul>\\n</li>\\n<li class=\"nav-item\">\\n<a class=\"nav-link\" href=\"https://search.clinicalgenome.org/kb/reports/stats\">\\n                Statistics\\n              </a>\\n</li>\\n<li class=\"nav-item\">\\n<a class=\"nav-link\" href=\"https://search.clinicalgenome.org/kb/downloads\">\\n                Downloads\\n              </a>\\n</li>\\n<li class=\"nav-item dropdown dropdown-menu-right\">\\n<a class=\"nav-link dropdown-toggle\" href=\"#\">\\n                 More\\n                </a>\\n<ul class=\"dropdown-menu dropdown-menu-right\">\\n<li><a class=\"\" href=\"https://search.clinicalgenome.org/kb/genes\">All Genes</a></li>\\n<li><a class=\"\" href=\"https://search.clinicalgenome.org/kb/conditions\">All Disease</a></li>\\n<li><a class=\"\" href=\"https://search.clinicalgenome.org/kb/drugs\">All Drugs &amp; Medications</a></li>\\n<li class=\"divider\" role=\"separator\"></li>\\n<li><a href=\"https://search.clinicalgenome.org/kb/downloads\"><i class=\"fas fa-download\"></i> File Downloads &amp; APIs</a></li>\\n</ul>\\n</li>\\n<li class=\"nav-item dropdown\" role=\"presentation\">\\n<a aria-expanded=\"false\" aria-haspopup=\"true\" class=\"nav-link dropdown-toggle mr-0\" data-toggle=\"dropdown\" href=\"#\" role=\"button\">\\n<i class=\"fas fa-question-circle\"></i>\\n</a>\\n<ul class=\"dropdown-menu dropdown-menu-right\">\\n<li><a href=\"https://clinicalgenome.org/tools/clingen-website-faq/\">About ClinGen\\'s Website</a></li>\\n<li><a href=\"https://clinicalgenome.org/tools/clingen-website-faq/\">Learn About New Features</a></li>\\n<li><a href=\"https://clinicalgenome.org/tools/clingen-website-faq/how-to-cite/\">How To Cite ClinGen</a></li>\\n<li><a href=\"https://clinicalgenome.org/tools/clingen-website-faq/attribution/\">External Data Attribution</a></li>\\n<li><a href=\"https://clinicalgenome.org/about/contact-clingen/\">Contact Us</a></li>\\n</ul>\\n</li>\\n</ul>\\n</div>\\n</section>\\n<section class=\"container\" id=\"section_content\">\\n<div class=\"row\">\\n<div class=\"container\">\\n<div class=\"row justify-content-center\">\\n<!-- Header -->\\n<div class=\"col-md-6\">\\n<table class=\"mt-3 mb-2\">\\n<tr>\\n<td class=\"valign-top\"><img height=\"40\" src=\"/images/dosageSensitivity-on.png\" width=\"40\"/></td>\\n<td class=\"pl-2\"><h1 class=\"h2 p-0 m-0\">  15q24 recurrent region (LCR C-LCR D) (includes SIN3A)</h1>\\n<div>\\n<a aria-controls=\"collapseExample\" aria-expanded=\"false\" class=\"btn btn-facts btn-outline-primary\" data-toggle=\"collapse\" href=\"#collapseExample\" role=\"button\">\\n<i class=\"far fa-caret-square-down\"></i> Region Facts\\n              </a>\\n</div>\\n</td>\\n</tr>\\n</table>\\n</div>\\n<div class=\"col-md-6\">\\n<div class=\"\">\\n<div class=\"text-right p-2\">\\n<ul class=\"list-inline pb-0 mb-0 small\">\\n<li class=\"text-stats line-tight text-center pl-3 pr-3\"><span class=\"countHaplo text-18px\">3</span><br/>Haplo<br/>Score</li>\\n<li class=\"text-stats line-tight text-center pl-3 pr-3\"><span class=\"countTriplo text-18px\">0</span><br/>Triplo<br/>Score</li>\\n<!--<li class=\"text-stats line-tight text-center pl-3 pr-3\"><a href=\"https://search.clinicalgenome.org/kb/gene-dosage\"><i class=\"glyphicon glyphicon-circle-arrow-left text-18px text-muted\"></i><br />Return to<br />Dosage Listing</a></li>-->\\n</ul>\\n</div>\\n</div>\\n</div>\\n<div class=\"col-md-12\">\\n<!-- include the genefacts panel -->\\n<div class=\"collapse\" id=\"collapseExample\">\\n<div class=\"row\">\\n<div class=\"col-sm-12 mt-0 pt-0 small\">\\n<h4 class=\"border-bottom-1\">Region Facts</h4>\\n<dl class=\"dl-horizontal\">\\n<dt>Region Name</dt>\\n<dd>15q24 recurrent region (LCR C-LCR D) (includes SIN3A)\\n          <!--<a target=\\'external\\' href=\"https://www.genenames.org/data/gene-symbol-report/#!/hgnc_id/\" class=\"badge-info badge pointer\">HGNC <i class=\"fas fa-external-link-alt\"></i></a>\\n                                                            \\t\\t\\t\\t\\t\\t\\t<a target=\\'external\\' href=\"https://www.ncbi.nlm.nih.gov/books/NBK1116/?term=15q24 recurrent region (LCR C-LCR D) (includes SIN3A)\" class=\"badge-info badge pointer\">GeneReviews <i class=\"fas fa-external-link-alt\"></i> </a>\\n                                  <a target=\\'external\\' href=\"https://www.ncbi.nlm.nih.gov/clinvar/?term=15q24 recurrent region (LCR C-LCR D) (includes SIN3A)[gene]\" class=\"badge-info badge pointer\">ClinVar <i class=\"fas fa-external-link-alt\"></i> </a>\\n          -->\\n</dd>\\n<dt>Cytoband</dt>\\n<dd>\\n          15q24\\n        </dd>\\n<dt>Genomic Coordinates</dt>\\n<dd>\\n<table>\\n<tr>\\n<td>GRCh37/hg19</td>\\n<td>chr15: 75631787-75972909\\n                  <a class=\"badge-info badge pointer\" href=\"https://www.ncbi.nlm.nih.gov/nuccore/?report=graph&amp;from= 75631787-&amp;to=75972909\"><i class=\"fas fa-external-link-alt\"></i>   NCBI</a>\\n<a class=\"badge-info badge pointer\" href=\"https://www.ensembl.org/Homo_sapiens/Location/View?r=15: 75631787-75972909\"><i class=\"fas fa-external-link-alt\"></i>   Ensembl</a>\\n<a class=\"badge-info badge pointer\" href=\"https://genome.ucsc.edu/cgi-bin/hgTracks?clade=mammal&amp;org=Human&amp;db=hg19&amp;position=chr15: 75631787-75972909&amp;knownGene=pack\"><i class=\"fas fa-external-link-alt\"></i>   UCSC</a>\\n</td>\\n</tr>\\n<tr>\\n<td class=\"pr-3\">GRCh38/hg38</td>\\n<td>chr15:75339446-75680568\\n                  <a class=\"badge-info badge pointer\" href=\"https://www.ncbi.nlm.nih.gov/nuccore/?report=graph&amp;from=75339446-&amp;to=75680568\"><i class=\"fas fa-external-link-alt\"></i>   NCBI</a>\\n<a class=\"badge-info badge pointer\" href=\"https://www.ensembl.org/Homo_sapiens/Location/View?r=15:75339446-75680568\"><i class=\"fas fa-external-link-alt\"></i>   Ensembl</a>\\n<a class=\"badge-info badge pointer\" href=\"https://genome.ucsc.edu/cgi-bin/hgTracks?clade=mammal&amp;org=Human&amp;db=hg38&amp;position=chr15:75339446-75680568&amp;knownGene=pack\"><i class=\"fas fa-external-link-alt\"></i>   UCSC</a>\\n</td>\\n</tr>\\n</table>\\n</dd>\\n</dl>\\n</div>\\n</div>\\n</div>\\n<!-- Show Report Summary -->\\n<!-- Report Summary -->\\n<div class=\"row mt-2\">\\n<div class=\"col-sm-12\">\\n<div class=\"card\">\\n<div class=\"card-body bg-light\">\\n<h3 class=\"h4 mt-0 mb-1 border-bottom-2 border-info\">Dosage Sensitivity Summary\\n                    (Region)\\n                    <!--<span class=\"float-right\">Curation Status:  Complete</span>-->\\n</h3>\\n<div class=\"row pt-3\">\\n<div class=\"col-sm-3 text-right mt-3\">Dosage ID:</div>\\n<div class=\"col-sm-3 border-left-4 border-info bold mt-3\">\\n            ISCA-46300\\n            <div class=\"small\"><a href=\"https://dosage.clinicalgenome.org/clingen_gene.cgi?sym=\">View legacy report...</a></div>\\n</div>\\n<div class=\"col-sm-4\">\\n<div id=\"ideogram\"> </div>\\n</div>\\n</div>\\n<div class=\"row pb-2 pt-3\">\\n<div class=\"col-sm-3 text-right\">Curation Status:</div>\\n<div class=\"col-sm-9 border-left-4 border-info bold\">\\n<span class=\"text-success\">\\n                        Complete</span>\\n</div>\\n</div>\\n<div class=\"row pb-2 pt-3\">\\n<div class=\"col-sm-3 text-right\">Issue Type:</div>\\n<div class=\"col-sm-9 border-left-4 border-info bold\">Dosage Curation -\\n                        Region\\n                      </div>\\n</div>\\n<div class=\"row pb-2 pt-3\">\\n<div class=\"col-sm-3 text-right\">Description:</div>\\n<div class=\"col-sm-9 border-left-4 border-info bold prewrap\">The 15q24 region contains a cluster of low copy repeats (LCRs) that mediate recurrent copy number changes through non-allelic homologous recombination. This review refers to nested CNVs involving recurrent breakpoint regions LCR C and LCR D.\\n\\n\\n\\nNote that genes used as landmarks are not necessarily causative of the phenotype(s) associated with the region.</div>\\n</div>\\n<div class=\"row pb-2 pt-3\">\\n<div class=\"col-sm-3 text-right\">Haploinsufficiency:</div>\\n<div class=\"col-sm-9 border-left-4 border-info bold\">\\n                        Sufficient Evidence for Haploinsufficiency\\n                        (3)\\n                        <div class=\"small\"><a href=\"#report_details_haploinsufficiency\">Read full report...</a></div>\\n</div>\\n</div>\\n<div class=\"row pb-2 pt-3\">\\n<div class=\"col-sm-3 text-right\">Triplosensitivity:</div>\\n<div class=\"col-sm-9 border-left-4 border-info bold\">\\n                        No Evidence for Triplosensitivity\\n                         (0)\\n                         <div class=\"small\"><a href=\"#report_details_triplosensitivity\">Read full report...</a></div>\\n</div>\\n</div>\\n<div class=\"row pb-2 pt-3\">\\n<div class=\"col-sm-3 text-right\">Related Links:</div>\\n<div class=\"col-sm-9 border-left-4 border-info bold\">\\n<div><a href=\"/kb/gene-dosage/SIN3A\">SIN3A</a></div>\\n<div><a href=\"/kb/gene-dosage/region/ISCA-37396\">15q24 recurrent region (LCR A-LCR D) (includes SIN3A)</a></div>\\n</div>\\n</div>\\n<div class=\"row pb-2 pt-3\">\\n<div class=\"col-sm-3 text-right\">Last Evaluated:</div>\\n<div class=\"col-sm-9 border-left-4 border-info bold\">\\n                        01/13/2020<br/>\\n</div>\\n</div>\\n<!--\\n        <div class=\"row pb-2 pt-2\">\\n          <div class=\"col-sm-3 text-right\">Genomic Coordinates:</div>\\n          <div class=\"col-sm-9 border-left-4 border-info bold\">\\n            15q24<br />\\n            <div>\\n            GRCh37/hg19 chr15: 75631787-75972909\\n            <a href=\"https://www.ncbi.nlm.nih.gov/nuccore/?report=graph&amp;from= 75631787-&amp;to=75972909\" class=\"badge-info badge pointer ml-2\"><i class=\"fas fa-external-link-alt\"></i>   NCBI</a>\\n            <a href=\"https://www.ensembl.org/Homo_sapiens/Location/View?r=15: 75631787-75972909\" class=\"badge-info badge pointer ml-1\"><i class=\"fas fa-external-link-alt\"></i>   Ensembl</a>\\n            <a href=\"https://genome.ucsc.edu/cgi-bin/hgTracks?clade=mammal&amp;org=Human&amp;db=hg19&amp;position=chr15: 75631787-75972909&amp;knownGene=pack\" class=\"badge-info badge pointer ml-1\"><i class=\"fas fa-external-link-alt\"></i>   UCSC</a>\\n            </div><div class=\"pt-2\">\\n            GRCh38/hg38 chr15:75339446-75680568\\n            <a href=\"https://www.ncbi.nlm.nih.gov/nuccore/?report=graph&amp;from=75339446-&amp;to=75680568\" class=\"badge-info badge pointer ml-2\"><i class=\"fas fa-external-link-alt\"></i>   NCBI</a>\\n            <a href=\"https://www.ensembl.org/Homo_sapiens/Location/View?r=15:75339446-75680568\" class=\"badge-info badge pointer ml-1\"><i class=\"fas fa-external-link-alt\"></i>   Ensembl</a>\\n            <a href=\"https://genome.ucsc.edu/cgi-bin/hgTracks?clade=mammal&amp;org=Human&amp;db=hg38&amp;position=chr15:75339446-75680568&amp;knownGene=pack\" class=\"badge-info badge pointer ml-1\"><i class=\"fas fa-external-link-alt\"></i>   UCSC</a>\\n            </div>\\n          </div>\\n        </div>\\n      -->\\n<!--\\n        <div class=\"row pb-2 pt-2\">\\n          <div class=\"col-sm-3 text-right\">Location Relationship:</div>\\n          <div class=\"col-sm-9 border-left-4 border-info bold\">\\n            Contained\\n          </div>\\n        </div>-->\\n<!--\\n        <div class=\"row pb-2 pt-2\">\\n          <div class=\"col-sm-3 text-right\">Morbid:</div>\\n          <div class=\"col-sm-9 border-left-4 border-info bold\">\\n            OMIM:114480, OMIM:155255, OMIM:176807, OMIM:194070, OMIM:605724, OMIM:612555, OMIM:613029, OMIM:613347\\n          </div>\\n        </div>-->\\n<!--\\n        <div class=\"row pb-2 pt-2\">\\n          <div class=\"col-sm-3 text-right\">%HI index:</div>\\n          <div class=\"col-sm-9 border-left-4 border-info bold\">\\n            <div class=\"text-danger\"></div>\\n            <a href=\"http://gnomad.broadinstitute.org/faq\">Read more about Haploinsufficiency Index</a>\\n          </div>\\n        </div>\\n        <div class=\"row pb-2 pt-2\">\\n          <div class=\"col-sm-3 text-right\">Loss Intolerance (pLI):</div>\\n          <div class=\"col-sm-9 border-left-4 border-info bold\">\\n            <div class=\"text-success\"></div>\\n            <a href=\"http://gnomad.broadinstitute.org/faq\">Read more about Loss of Function (LoF) mutation score.</a>\\n          </div>\\n        </div>-->\\n</div>\\n</div>\\n</div>\\n</div>\\n<!-- Show Haploinsufficiency Details -->\\n<!-- Haploinsufficiency Details -->\\n<div class=\"row\" id=\"report_details_haploinsufficiency\">\\n<div class=\"col-sm-12 pt-3\">\\n<h3 class=\"h4 mb-1 border-bottom-2\">Haploinsufficiency (HI) Score Details</h3>\\n</div>\\n<div class=\"col-sm-12\">\\n<div class=\"row pb-3 pt-2\">\\n<div class=\"col-sm-3 text-muted text-right bold\">HI Score:</div>\\n<div class=\"col-sm-9 border-left-4 bold\">3</div>\\n</div>\\n<div class=\"row pb-3\">\\n<div class=\"col-sm-3 text-muted text-right bold\">HI Evidence Strength:</div>\\n<div class=\"col-sm-9 border-left-4\"><span class=\"bold\">Sufficient Evidence for Haploinsufficiency</span>\\n<a data-placement=\"bottom\" data-toggle=\"popover\" data-trigger=\"hover\" title=\"DISCLAIMER\">\\n                    (Disclaimer)</a>\\n</div>\\n</div>\\n<div class=\"row pb-3\">\\n<div class=\"col-sm-3 text-muted text-right bold\">HI Disease:</div>\\n<div class=\"col-sm-9 border-left-4\">\\n<ul class=\"list-unstyled\">\\n<li>chromosome 15q24 deletion syndrome\\n                                                <a class=\"badge-info badge pointer ml-1\" href=\"https://monarchinitiative.org/disease/MONDO:0013256\" target=\"external\">Monarch <i class=\"fas fa-external-link-alt\"></i> </a>\\n</li>\\n</ul>\\n</div>\\n</div>\\n<div class=\"row pb-3\">\\n<div class=\"col-sm-3 text-muted text-right bold\">HI Evidence:<div></div>\\n</div>\\n<div class=\"col-sm-9 border-left-4\">\\n<ul class=\"list-unstyled\">\\n<li class=\"mb-3 pb-3 border-bottom-1\">\\n<a class=\"\" href=\"https://pubmed.ncbi.nlm.nih.gov/27399968\">PUBMED:\\n                            27399968</a>\\n<div class=\"summariesShow mt-1 prewrap\" id=\"collapsesummary1\">Witteveen et al. (2016), reported 3 patients with 15q24 LCRC-D deletions. These patients presented with developmental delay, intellectual disability, structural brain anomalies, microcephaly, dysmorphic craniofacial features, thin hair, hypermobile joints, and additional clinical findings. The dysmorphic craniofacial features were variable, with the recurrent features including downslanting palpebral fissures, deep set eyes, small mouth, and a pointed chin. Parental testing showed that each of these deletions was de novo.  A fourth individual with a deletion in this region was reported by this group (Patient 4); however, the distal breakpoint for that patient\\'s deletion was proximal to 15q24 LCRD. The clinical findings in Patient 4 were similar to those with breakpoints in LCRD including developmental delay, downslanting palpebral fissures, small mouth, and a pointed chin. The deletion in patient 4 was also found to be de novo. The authors of this paper also report nine patients (from five families) with loss-of-function type variants in SIN3A, which lies within the 15q24 LCRC-D region. These patients presented with similar clinical findings to the patients with 15q24 LCRC-D deletions.\\n                        </div>\\n</li>\\n<li class=\"mb-3 pb-3 border-bottom-1\">\\n<a class=\"\" href=\"https://pubmed.ncbi.nlm.nih.gov/22180641\">PUBMED:\\n                            22180641</a>\\n<div class=\"summariesShow mt-1 prewrap\" id=\"collapsesummary1\">Mefford et al. (2012) reported one patient (Patient 14) with a 15q24 LCRC-D deletion. This patient presented with borderline mild intellectual disability, short stature, structural brain abnormalities, possible Asperger, telecanthus, bilateral epicanthi, hypermobile joints, and bilateral short 5th fingers. The deletion in this patient was found to represent a de novo event. The authors also reported a second individual (Patient 13) with a smaller de novo deletion within the 15q24 LCRC-D region; however, the distal breakpoint for that patient鈥檚 deletion was proximal to 15q24 LCRD. That patient was reported to have mild intellectual disability, developmental delay (speech and motor), obsessive compulsive behaviors, microcephaly, a round face, short 5th metacarpals, toe syndactyly, and additional clinical findings. \\n                        </div>\\n</li>\\n</ul>\\n</div>\\n</div>\\n<div class=\"row pb-3\">\\n<div class=\"col-sm-3 text-muted text-right bold\">HI Evidence Comments:</div>\\n<div class=\"col-sm-9 border-left-4\"><span class=\"data_pre\">Deletion of the 15q24 recurrent region (C-D) has been reported in at least 4 patients in association with a syndromic clinical phenotype characterized by developmental delays (speech and motor), intellectual disability, brain anomalies, craniofacial abnormalities, hypermobile joints, digital findings, and other variable clinical features. Two additional patients have also been reported with atypical deletions in this region (PMID: 27399968 and 27399968). These patients were found to have a similar clinical presentation to patients with the typical 15q24 LCRC-D deletion. Parental studies have been performed on each of the deletions in this region (6 total), and in each case it was found to be de novo.  \\n\\n\\n\\nAdditional relevant literature is cited and summarized below:\\n\\nAdditional paper supporting the significance of SIN3A:\\n\\nPMID: 30267900 - Narumi-Kishimoto et al. (2018), report a single individual with a frameshift mutation (p.His283fs) in the in the SIN3A gene.\\n\\n\\n\\nCase-control studies:\\n\\nPMID 25217958: Coe et al. (2014)\\n\\nIn a large-scale case-control comparison study of the relative prevalence of copy number variants in children with ID/DD, MCA, and other developmental phenotypes compared to presumably unaffected adult controls, the 15q24 LCRC-D deletion was not observed in any cases (n=29,085) or controls (n=19,584).</span></div>\\n</div>\\n</div>\\n</div>\\n<!-- Show Triplosensitivity Details -->\\n<!-- Triplosensitivity Details -->\\n<div class=\"row\" id=\"report_details_triplosensitivity\">\\n<div class=\"col-sm-12 pt-3\">\\n<h3 class=\"h4 mb-1 border-bottom-2\">Triplosensitivity (TS) Score Details</h3>\\n</div>\\n<div class=\"col-sm-12\">\\n<div class=\"row pb-3 pt-2\">\\n<div class=\"col-sm-3 text-muted text-right bold\">TS Score:</div>\\n<div class=\"col-sm-9 border-left-4 bold\">0</div>\\n</div>\\n<div class=\"row pb-3\">\\n<div class=\"col-sm-3 text-muted text-right bold\">TS Evidence Strength:</div>\\n<div class=\"col-sm-9 border-left-4\"><span class=\"bold\">No Evidence for Triplosensitivity</span> <a data-placement=\"bottom\" data-toggle=\"popover\" data-trigger=\"hover\" title=\"DISCLAIMER\"> (Disclaimer)</a>\\n</div>\\n</div>\\n<div class=\"row pb-3\">\\n<div class=\"col-sm-3 text-muted text-right bold\">TS Evidence Comments:</div>\\n<div class=\"col-sm-9 border-left-4\"><span class=\"data_pre\">Duplications of this region which do not extend beyond LCRC and LCRD have not been reported.  Therefore, the triplosensitivity score for this region is 0.\\n\\nCase-control studies:\\nPMID 25217958: Coe et al. (2014)\\nIn a large-scale case-control comparison study of the relative prevalence of copy number variants in children with ID/DD, MCA, and other developmental phenotypes compared to presumably unaffected adult controls, the 15q24 LCRC-D duplication was observed in 1/29,085 cases versus 0/19,584 controls (p=0.6; LR: Inf, CI: 0.364 to Inf).</span></div>\\n</div>\\n</div>\\n</div>\\n<!-- include the genefacts panel -->\\n<div class=\"row\" id=\"report_details_triplosensitivity\">\\n<div class=\"col-sm-12 pt-3 pb-3\">\\n<h3 class=\"h4 mb-1 border-bottom-2\">Genomic View</h3>\\n<div class=\"text-muted small\">\\n</div>\\n</div>\\n<div id=\"g_view\">\\n<div class=\"seqview_head\">\\n<span class=\"assembly_select\">Select assembly: </span>\\n<select id=\"g_view_menu\" name=\"seqviewermenu\">\\n<option name=\"accession\" selected=\"selected\" value=\"?embedded=true&amp;appname=isca_public&amp;assm_context=GCF_000001405.25&amp;id=&amp;from=75597674.7&amp;to=76007021.3&amp;tracks=[key:sequence_track][key:gene_model_track,name:NCBI,display_name:NCBI%20Genes,annots:Unnamed,Options:ShowAll][key:dbvar_track,name:dbVar_nstd45,display_name:ISCA%20Curated%20Regions,annots:NA000002000.2,rendering:Default]\">GRCh37/hg19 chr15: 75631787-75972909</option>\\n<option name=\"accession\" value=\"?embedded=true&amp;appname=isca_public&amp;assm_context=GCF_000001405.36&amp;id=&amp;from=75305333.7&amp;to=75714680.3&amp;tracks=[key:sequence_track][key:gene_model_track,name:NCBI,display_name:NCBI%20Genes,annots:Unnamed,Options:ShowAll][key:dbvar_track,name:dbVar_nstd45,display_name:ISCA%20Curated%20Regions,annots:NA000002000.3,rendering:Default]\">GRCh38/hg38 chr15:75339446-75680568</option>\\n</select>\\n<span class=\"seqviewer-comment\">\\n<span> (<a href=\"https://www.ncbi.nlm.nih.gov/nuccore/\" target=\"_blank\"></a>) </span>\\n<span class=\"hide\"> (<a href=\"https://www.ncbi.nlm.nih.gov/nuccore/\" target=\"_blank\"></a>)</span>\\n</span>\\n</div>\\n<div class=\"SeqViewerApp\" id=\"sv1\">\\n<a href=\"?embedded=true&amp;appname=isca_public&amp;assm_context=GCF_000001405.25&amp;id=&amp;from=75597674.7&amp;to=76007021.3&amp;tracks=[key:sequence_track][key:gene_model_track,name:NCBI,display_name:NCBI%20Genes,annots:Unnamed,Options:ShowAll][key:dbvar_track,name:dbVar_nstd45,display_name:ISCA%20Curated%20Regions,annots:NA000002000.2,rendering:Default]\"></a>\\n</div>\\n</div>\\n<div id=\"popover_content_wrapper\" style=\"display: none\">\\n      The loss of function score should be used to evaluate deletions, and the triplosensitivity score should be used to evaluated duplications.  CNVs encompassing more than one gene must be evaluated in their totality (e.g. overall size, gain vs. loss, presence of other genes, etc). The rating of a single gene within the CNV should not necessarily be the only criteria by which one defines a clinical interpretation. Individual interpretations must take into account the phenotype described for the patient as well as issues of penetrance and expressivity of the disorder. ACMG has published guidelines for the characterization of postnatal CNVs, and these recommendations should be utilized <a href=\"https://www.ncbi.nlm.nih.gov/pubmed/21681106\">(Genet Med (2011)13: 680-685)</a>. Exceptions to these interpretive correlations will occur, and clinical judgment should always be exercised.\\n      </div>\\n</div>\\n</div>\\n</div>\\n<div aria-hidden=\"true\" aria-labelledby=\"modalLoginTitle\" class=\"modal\" data-backdrop=\"static\" id=\"modalLogin\" role=\"dialog\" tabindex=\"-1\">\\n<div class=\"modal-dialog modal-dialog-centered modal-lg\" role=\"document\">\\n<div class=\"modal-content\">\\n<div class=\"modal-body p-0\">\\n<div class=\"card login-card\">\\n<div class=\"row no-gutters\">\\n<div class=\"col-md-4 hidden-sm hidden-xs\">\\n<img alt=\"login\" src=\"/assets/images/dna_spiral.jpg\" style=\"width:100%; height: 520px; object-fit: cover;\"/>\\n</div>\\n<div class=\"col-md-8\">\\n<button aria-label=\"Close\" class=\"close mr-4 mt-4\" data-dismiss=\"modal\" type=\"button\">\\n<span aria-hidden=\"true\"><i class=\"far fa-times-circle\"></i></span>\\n</button>\\n<div class=\"card-body pt-0\">\\n<div class=\"brand-wrapper\">\\n<img alt=\"logo\" src=\"/assets/images/clingen_logo.png\" style=\"height:140px\"/>\\n</div>\\n<p class=\"login-card-description\"><b>My Account</b></p>\\n<form action=\"/login\" id=\"login-form\" method=\"POST\">\\n<input name=\"_token\" type=\"hidden\" value=\"H9Q9EOmXK7E01IMfmKn952tPdVlJmhmyYnUT4RyB\"/> <input id=\"login-context-value\" name=\"context\" type=\"hidden\" value=\"\"/>\\n<div class=\"form-group row\">\\n<label class=\"sr-only\" for=\"email\">Email</label>\\n<input class=\"form-control\" id=\"email\" name=\"email\" placeholder=\"Email address\" type=\"email\"/>\\n</div>\\n<div class=\"form-group mb-0 row\">\\n<label class=\"sr-only\" for=\"password\">Password</label>\\n<input class=\"form-control mb-1\" id=\"password\" name=\"password\" placeholder=\"Password\" type=\"password\"/>\\n</div>\\n<div class=\"form-group row\">\\n<div class=\"col-md-6\">\\n<div class=\"form-check\">\\n<input class=\"form-check-input\" id=\"remember\" name=\"remember_me\" type=\"checkbox\" value=\"1\"/>\\n<label class=\"form-check-label\" for=\"remember_me\">\\n                            Remember Me\\n                          </label>\\n</div>\\n</div>\\n<div class=\"col-md-6\">\\n<a class=\"forgot-password-link float-right action-login-forgot\" href=\"#!\">Forgot password?</a>\\n</div>\\n</div>\\n<div class=\"form-group row\">\\n<div class=\"col-md-3\">\\n<button class=\"btn login-btn mb-4\" type=\"submit\">Login</button>\\n</div>\\n<div class=\"col-md-9\">\\n<!--<div class=\"d-flex justify-content-center social-buttons mt-1\">\\n                          or login with\\n                          <button type=\"button\" class=\"btn btn-secondary btn-round\" data-toggle=\"tooltip\" data-placement=\"top\" title=\"Twitter\">\\n                            <i class=\"fab fa-twitter fa-2x\"></i>\\n                          </button>\\n                          <button type=\"button\" class=\"btn btn-secondary btn-round\" data-toggle=\"tooltip\" data-placement=\"top\" title=\"Facebook\">\\n                            <i class=\"fab fa-facebook fa-2x\"></i>\\n                          </button>\\n                          <button type=\"button\" class=\"btn btn-secondary btn-round\" data-toggle=\"tooltip\" data-placement=\"top\" title=\"Linkedin\">\\n                            <i class=\"fab fa-linkedin fa-2x\"></i>\\n                          </button>\\n                          <button type=\"button\" class=\"btn btn-secondary btn-round\" data-toggle=\"tooltip\" data-placement=\"top\" title=\"google\">\\n                            <i class=\"fab fa-google-plus-square fa-2x\"></i>\\n                          </button>\\n                        </div>-->\\n</div>\\n</div>\\n</form>\\n<p class=\"login-card-footer-text mb-0\">Don\\'t have a ClinGen account?  <a class=\"text-reset action-login-register\" href=\"#!\"><strong><i>Register Here</i></strong></a></p>\\n<!--<nav class=\"login-card-footer-nav\">\\n                    <a href=\"#!\">Terms of use.</a>\\n                    <a href=\"#!\">Privacy policy</a>\\n                  </nav>-->\\n</div>\\n</div>\\n</div>\\n</div>\\n</div>\\n</div>\\n</div>\\n</div> <div aria-hidden=\"true\" aria-labelledby=\"modalRegisterTitle\" class=\"modal\" data-backdrop=\"static\" id=\"modalRegister\" role=\"dialog\" tabindex=\"-1\">\\n<div class=\"modal-dialog modal-dialog-centered modal-lg\" role=\"document\">\\n<div class=\"modal-content\">\\n<div class=\"modal-body p-0\">\\n<div class=\"card login-card\">\\n<div class=\"row no-gutters\">\\n<div class=\"col-md-4 hidden-sm hidden-xs\">\\n<img alt=\"login\" src=\"/assets/images/dna_spiral.jpg\" style=\"width:100%; height: 660px; object-fit: cover;\"/>\\n</div>\\n<div class=\"col-md-8\">\\n<button aria-label=\"Close\" class=\"close mr-4 mt-4\" data-dismiss=\"modal\" type=\"button\">\\n<span aria-hidden=\"true\"><i class=\"far fa-times-circle\"></i></span>\\n</button>\\n<div class=\"card-body pt-0\">\\n<div class=\"brand-wrapper\">\\n<img alt=\"logo\" src=\"/assets/images/clingen_logo.png\" style=\"height:140px\"/>\\n</div>\\n<p class=\"login-card-description\"><b>Create Acount</b></p>\\n<form action=\"/register\" class=\"form-horizontal\" id=\"register-form\" method=\"POST\">\\n<input name=\"_token\" type=\"hidden\" value=\"H9Q9EOmXK7E01IMfmKn952tPdVlJmhmyYnUT4RyB\"/> <input id=\"register-context-value\" name=\"context\" type=\"hidden\" value=\"\"/>\\n<div class=\"form-group row\">\\n<div class=\"col-sm-6\">\\n<label class=\"sr-only\" for=\"firstname\">First Name</label>\\n<input class=\"form-control\" name=\"firstname\" placeholder=\"First Name\" type=\"text\"/>\\n</div>\\n<div class=\"col-sm-6\">\\n<label class=\"sr-only\" for=\"lastname\">Last Name</label>\\n<input class=\"form-control\" name=\"lastname\" placeholder=\"Last Name\" type=\"text\"/>\\n</div>\\n</div>\\n<div class=\"form-group row\">\\n<div class=\"col-sm-12\">\\n<label class=\"sr-only\" for=\"organization\">Organization (Optional)</label>\\n<input class=\"form-control\" name=\"organization\" placeholder=\"Organization (optional)\" type=\"text\"/>\\n</div>\\n</div>\\n<div class=\"form-group row\">\\n<div class=\"col-sm-12\">\\n<label class=\"sr-only\" for=\"email\">Email</label>\\n<input class=\"form-control\" name=\"email\" placeholder=\"Email\" type=\"email\"/>\\n</div>\\n</div>\\n<div class=\"form-group row\">\\n<div class=\"col-sm-6\">\\n<label class=\"sr-only\" for=\"password\">Password</label>\\n<input class=\"form-control\" id=\"register-password\" name=\"password\" placeholder=\"Password\" type=\"password\"/>\\n</div>\\n<div class=\"col-sm-6\">\\n<label class=\"sr-only\" for=\"password_confirmation\">Confirm Password</label>\\n<input class=\"form-control\" name=\"password_confirmation\" placeholder=\"Confirm Password\" type=\"password\"/>\\n</div>\\n</div>\\n<div class=\"form-group row\">\\n<div class=\"col-md-6\">\\n<button class=\"btn login-btn mb-4\" type=\"submit\">Register</button>\\n</div>\\n</div>\\n</form>\\n<p class=\"login-card-footer-text mb-0\">Already have an account? <a class=\"text-reset action-register-login\" href=\"#!\"><strong><i>Login Here</i></strong></a></p>\\n<!--<nav class=\"register-card-footer-nav\">\\n                    <a href=\"#!\">Terms of use.</a>\\n                    <a href=\"#!\">Privacy policy</a>\\n                  </nav>-->\\n</div>\\n</div>\\n</div>\\n</div>\\n</div>\\n</div>\\n</div>\\n</div> <div aria-hidden=\"true\" aria-labelledby=\"modalForgotTitle\" class=\"modal\" data-backdrop=\"static\" id=\"modalForgot\" role=\"dialog\" tabindex=\"-1\">\\n<div class=\"modal-dialog modal-dialog-centered modal-lg\" role=\"document\">\\n<div class=\"modal-content\">\\n<div class=\"modal-body p-0\">\\n<div class=\"card login-card\">\\n<div class=\"row no-gutters\">\\n<div class=\"col-md-4 hidden-sm hidden-xs\">\\n<img alt=\"login\" src=\"/assets/images/dna_spiral.jpg\" style=\"width:100%; height: 520px; object-fit: cover;\"/>\\n</div>\\n<div class=\"col-md-8\">\\n<button aria-label=\"Close\" class=\"close mr-4 mt-4\" data-dismiss=\"modal\" type=\"button\">\\n<span aria-hidden=\"true\"><i class=\"far fa-times-circle\"></i></span>\\n</button>\\n<div class=\"card-body pt-0\">\\n<div class=\"brand-wrapper\">\\n<img alt=\"logo\" src=\"/assets/images/clingen_logo.png\" style=\"height:140px\"/>\\n</div>\\n<p class=\"login-card-description\"><b>Forgot Password</b></p>\\n<form action=\"/forgot\" id=\"forgot-form\" method=\"POST\">\\n<input name=\"_token\" type=\"hidden\" value=\"H9Q9EOmXK7E01IMfmKn952tPdVlJmhmyYnUT4RyB\"/> <div class=\"form-group row\">\\n<label class=\"sr-only\" for=\"email\">Email</label>\\n<input class=\"form-control\" id=\"email\" name=\"email\" placeholder=\"Email address\" type=\"email\"/>\\n</div>\\n<div class=\"form-group row\">\\n<div class=\"col-md-3\">\\n<button class=\"btn login-btn mb-4\" type=\"submit\">Send Reset Link</button>\\n</div>\\n<div class=\"col-md-9\">\\n</div>\\n</div>\\n</form>\\n<p class=\"login-card-footer-text mb-0\">Return to <a class=\"text-reset action-forgot-login\" href=\"#!\"><i>Login Page here</i></a></p>\\n</div>\\n</div>\\n</div>\\n</div>\\n</div>\\n</div>\\n</div>\\n</div> </div>\\n<div class=\"\" id=\"clingen_top\" style=\"display:none\">\\n<a href=\"#top\">\\n<i class=\"glyphicon glyphicon-circle-arrow-up clingen_top_icon\"></i>\\n<div class=\"\">Back To Top</div>\\n</a>\\n</div>\\n<div class=\"\" id=\"clingen_contact\">\\n<a href=\"https://www.clinicalgenome.org/contact/share-feedback/?title=Curation%20Activities&amp;page=https%3A%2F%2Fwww.clinicalgenome.org%2Fcuration-activities%2F&amp;ref=edwg\">\\n<i class=\"far fa-envelope clingen_contact_icon\"></i>\\n<div class=\"\">Send Feedback</div>\\n</a>\\n</div>\\n<footer class=\"text-muted\">\\n<div class=\"container\" id=\"section_footer\">\\n<div class=\"row small\">\\n<div class=\"col-12\">\\n<hr/>\\n<p><i class=\"fas fa-question-circle\"></i> <a href=\"https://clinicalgenome.org/tools/clingen-website-faq/how-to-cite/\" target=\"_blank\">Click here to lean about how to cite ClinGen</a> and to see a list of the <a href=\"https://clinicalgenome.org/tools/clingen-website-faq/attribution/\" target=\"_blank\">external resources utilized.</a></p>\\n<hr/>\\n<p>The information on this website is not intended for direct diagnostic use or medical decision-making without review by a genetics professional. Individuals should not change their health behavior solely on the basis of information contained on this website. If you have questions about the information contained on this website, please see a healthcare professional.</p>\\n<hr/>\\n</div>\\n<div class=\"col-sm-3\">\\n<div class=\"row\">\\n<div class=\"col-lg-6 col-sm-12 col-xs-6 text-center line-height-normal\">\\n<a href=\"https://twitter.com/ClinGenResource\" target=\"_blank\">\\n<i class=\"fab fa-twitter-square\" style=\"font-size: 2.5rem\"></i><small class=\"clearfix\">@ClinGenResource</small>\\n</a>\\n</div>\\n<div class=\"col-lg-6 col-sm-12 col-xs-6 text-center line-height-normal\">\\n<a class=\"text-danger\" href=\"https://www.youtube.com/channel/UCsn4nEVUTpVQz70rClgMMsQ\" target=\"_blank\">\\n<i class=\"fab fa-youtube-square\" style=\"font-size: 2.5rem\"></i><small class=\"clearfix text-muted\">youtube.com</small>\\n</a>\\n</div>\\n</div>\\n<hr/>\\n<a class=\"\" href=\"https://www.clinicalgenome.org/start/\"><h6>Get Started</h6></a>\\n<hr/>\\n<a class=\"\" href=\"https://www.clinicalgenome.org/curation-activities/\"><h6>Curation Activities</h6></a>\\n<ul class=\"list-unstyled row\">\\n<li class=\"col-md-12 text-truncate\">\\n<a class=\"text-dark small\" href=\"https://www.clinicalgenome.org/curation-activities/gene-disease-validity/\"><span class=\"d-inline-block text-truncate\">Gene-Disease Validity</span></a>\\n</li>\\n<li class=\"col-md-12 text-truncate\">\\n<a class=\"text-dark small\" href=\"https://www.clinicalgenome.org/curation-activities/variant-pathogenicity/\"><span class=\"d-inline-block text-truncate\">Variant Pathogenicity</span></a>\\n</li>\\n<li class=\"col-md-12 text-truncate\">\\n<a class=\"text-dark small\" href=\"https://www.clinicalgenome.org/curation-activities/clinical-actionability/\"><span class=\"d-inline-block text-truncate\">Clinical Actionability</span></a>\\n</li>\\n<li class=\"col-md-12 text-truncate\">\\n<a class=\"text-dark small\" href=\"https://www.clinicalgenome.org/curation-activities/dosage-sensitivity/\"><span class=\"d-inline-block text-truncate\">Dosage Sensitivity</span></a>\\n</li>\\n<li class=\"col-md-12 text-truncate\">\\n<a class=\"text-dark small\" href=\"https://www.clinicalgenome.org/curation-activities/results/\"><span class=\"d-inline-block text-truncate\">Browse All ClinGen\\'s Curated Genes</span></a>\\n</li>\\n</ul>\\n<hr/>\\n<a class=\"\" href=\"https://www.clinicalgenome.org/tools/\"><h6>Tools</h6></a>\\n<hr/>\\n<a class=\"\" href=\"https://www.clinicalgenome.org/about/\"><h6>About Us</h6></a>\\n<ul class=\"list-unstyled row\">\\n<li class=\"col-md-12 text-truncate\">\\n<a class=\"text-dark small\" href=\"https://www.clinicalgenome.org/about/clingen-clinvar-collaboration/\"><span class=\"d-inline-block text-truncate\">ClinGen &amp; ClinVar Collaboration</span></a>\\n</li>\\n<li class=\"col-md-12 text-truncate\">\\n<a class=\"text-dark small\" href=\"https://www.clinicalgenome.org/about/terms-of-use/\"><span class=\"d-inline-block text-truncate\">ClinGen Terms of Use</span></a>\\n</li>\\n<li class=\"col-md-12 text-truncate\">\\n<a class=\"text-dark small\" href=\"https://www.clinicalgenome.org/about/clingen-collaborations/\"><span class=\"d-inline-block text-truncate\">Collaborations</span></a>\\n</li>\\n<li class=\"col-md-12 text-truncate\">\\n<a class=\"text-dark small\" href=\"https://www.clinicalgenome.org/about/contact-clingen/\"><span class=\"d-inline-block text-truncate\">Contact ClinGen</span></a>\\n</li>\\n<li class=\"col-md-12 text-truncate\">\\n<a class=\"text-dark small\" href=\"https://www.clinicalgenome.org/about/events/\"><span class=\"d-inline-block text-truncate\">Events &amp; Conferences</span></a>\\n</li>\\n<li class=\"col-md-12 text-truncate\">\\n<a class=\"text-dark small\" href=\"https://www.clinicalgenome.org/about/clingen-leadership/\"><span class=\"d-inline-block text-truncate\">Leadership</span></a>\\n</li>\\n<li class=\"col-md-12 text-truncate\">\\n<a class=\"text-dark small\" href=\"https://www.clinicalgenome.org/about/people/\"><span class=\"d-inline-block text-truncate\">Member Directory</span></a>\\n</li>\\n<li class=\"col-md-12 text-truncate\">\\n<a class=\"text-dark small\" href=\"https://www.clinicalgenome.org/about/clingen-policies/\"><span class=\"d-inline-block text-truncate\">Policies</span></a>\\n</li>\\n<li class=\"col-md-12 text-truncate\">\\n<a class=\"text-dark small\" href=\"https://www.clinicalgenome.org/about/sitemap/\"><span class=\"d-inline-block text-truncate\">Website SiteMap</span></a>\\n</li>\\n</ul>\\n</div>\\n<div class=\"col-sm-9\">\\n<div class=\"row\">\\n<div class=\"col-12\">\\n<a class=\"\" href=\"https://www.clinicalgenome.org/working-groups/\"><h6>Working Groups</h6></a>\\n<ul class=\"list-unstyled row\">\\n<li class=\"col-md-6 text-truncate\">\\n<a class=\"text-dark small\" href=\"https://www.clinicalgenome.org/working-groups/actionability/\"><span class=\"d-inline-block text-truncate\">Actionability</span></a>\\n</li>\\n<li class=\"col-md-6 text-truncate\">\\n<a class=\"text-dark small\" href=\"https://www.clinicalgenome.org/working-groups/ancestry/\"><span class=\"d-inline-block text-truncate\">Ancestry and Diversity</span></a>\\n</li>\\n<li class=\"col-md-6 text-truncate\">\\n<a class=\"text-dark small\" href=\"https://www.clinicalgenome.org/working-groups/biocurators/\"><span class=\"d-inline-block text-truncate\">Biocurator</span></a>\\n</li>\\n<li class=\"col-md-6 text-truncate\">\\n<a class=\"text-dark small\" href=\"https://www.clinicalgenome.org/working-groups/elsi/\"><span class=\"d-inline-block text-truncate\">CADRe (Consent &amp; Disclosure Recommendations)</span></a>\\n</li>\\n<li class=\"col-md-6 text-truncate\">\\n<a class=\"text-dark small\" href=\"https://www.clinicalgenome.org/working-groups/clinical-domain/\"><span class=\"d-inline-block text-truncate\">Clinical Domain Working Groups</span></a>\\n</li>\\n<li class=\"col-md-6 text-truncate\">\\n<a class=\"text-dark small\" href=\"https://www.clinicalgenome.org/working-groups/c3/\"><span class=\"d-inline-block text-truncate\">Community Curation</span></a>\\n</li>\\n<li class=\"col-md-6 text-truncate\">\\n<a class=\"text-dark small\" href=\"https://www.clinicalgenome.org/working-groups/complex-disease/\"><span class=\"d-inline-block text-truncate\">Complex Disease</span></a>\\n</li>\\n<li class=\"col-md-6 text-truncate\">\\n<a class=\"text-dark small\" href=\"https://www.clinicalgenome.org/working-groups/copy-number-variant-interpretation-guidelines/\"><span class=\"d-inline-block text-truncate\">Copy Number Variant Interpretation Guidelines</span></a>\\n</li>\\n<li class=\"col-md-6 text-truncate\">\\n<a class=\"text-dark small\" href=\"https://www.clinicalgenome.org/working-groups/data-platform/\"><span class=\"d-inline-block text-truncate\">Data Platform</span></a>\\n</li>\\n<li class=\"col-md-6 text-truncate\">\\n<a class=\"text-dark small\" href=\"https://www.clinicalgenome.org/working-groups/dosage-sensitivity-curation/\"><span class=\"d-inline-block text-truncate\">Dosage Sensitivity Curation</span></a>\\n</li>\\n<li class=\"col-md-6 text-truncate\">\\n<a class=\"text-dark small\" href=\"https://www.clinicalgenome.org/working-groups/education-engagement-and-counseling/\"><span class=\"d-inline-block text-truncate\">Education, Coordination and Training</span></a>\\n</li>\\n<li class=\"col-md-6 text-truncate\">\\n<a class=\"text-dark small\" href=\"https://www.clinicalgenome.org/working-groups/ehr/\"><span class=\"d-inline-block text-truncate\">EHR</span></a>\\n</li>\\n<li class=\"col-md-6 text-truncate\">\\n<a class=\"text-dark small\" href=\"https://www.clinicalgenome.org/working-groups/external-scientific-panel/\"><span class=\"d-inline-block text-truncate\">External Scientific Panel</span></a>\\n</li>\\n<li class=\"col-md-6 text-truncate\">\\n<a class=\"text-dark small\" href=\"https://www.clinicalgenome.org/working-groups/gene-curation/\"><span class=\"d-inline-block text-truncate\">Gene Curation</span></a>\\n</li>\\n<li class=\"col-md-6 text-truncate\">\\n<a class=\"text-dark small\" href=\"https://www.clinicalgenome.org/working-groups/genomic-variant-workgroup/\"><span class=\"d-inline-block text-truncate\">Genomic Variant</span></a>\\n</li>\\n<li class=\"col-md-6 text-truncate\">\\n<a class=\"text-dark small\" href=\"https://www.clinicalgenome.org/working-groups/low-penetrance-risk-allele-working-group/\"><span class=\"d-inline-block text-truncate\">Low Penetrance/Risk Allele Working Group</span></a>\\n</li>\\n<li class=\"col-md-6 text-truncate\">\\n<a class=\"text-dark small\" href=\"https://www.clinicalgenome.org/working-groups/lumping-and-splitting/\"><span class=\"d-inline-block text-truncate\">Lumping and Splitting</span></a>\\n</li>\\n<li class=\"col-md-6 text-truncate\">\\n<a class=\"text-dark small\" href=\"https://www.clinicalgenome.org/working-groups/sequence-variant-inter-laboratory-discrepancy-resolution/\"><span class=\"d-inline-block text-truncate\">Sequence Variant Inter-Laboratory Discrepancy Resolution</span></a>\\n</li>\\n<li class=\"col-md-6 text-truncate\">\\n<a class=\"text-dark small\" href=\"https://www.clinicalgenome.org/working-groups/sequence-variant-interpretation/\"><span class=\"d-inline-block text-truncate\">Sequence Variant Interpretation</span></a>\\n</li>\\n<li class=\"col-md-6 text-truncate\">\\n<a class=\"text-dark small\" href=\"https://www.clinicalgenome.org/working-groups/somatic/\"><span class=\"d-inline-block text-truncate\">Somatic Cancer</span></a>\\n</li>\\n<li class=\"col-md-6 text-truncate\">\\n<a class=\"text-dark small\" href=\"https://www.clinicalgenome.org/working-groups/stakeholder-partnership/\"><span class=\"d-inline-block text-truncate\">Stakeholder Partnership</span></a>\\n</li>\\n<li class=\"col-md-6 text-truncate\">\\n<a class=\"text-dark small\" href=\"https://www.clinicalgenome.org/working-groups/steering-committee/\"><span class=\"d-inline-block text-truncate\">Steering Committee</span></a>\\n</li>\\n</ul>\\n<hr/>\\n</div>\\n<div class=\"col-12\">\\n<a class=\"\" href=\"https://clinicalgenome.org/affiliation/\"><h6>Expert Panels</h6></a>\\n<ul class=\"list-unstyled row\">\\n<li class=\"col-md-6 text-truncate\">\\n<a class=\"text-dark small\" href=\"https://clinicalgenome.org/affiliation/50048/\"><span class=\"d-inline-block\">ACADVL Variant Curation Expert Panel</span></a>\\n</li>\\n<li class=\"col-md-6 text-truncate\">\\n<a class=\"text-dark small\" href=\"https://clinicalgenome.org/affiliation/40011/\"><span class=\"d-inline-block\">Aminoacidopathy Gene Curation Expert Panel</span></a>\\n</li>\\n<li class=\"col-md-6 text-truncate\">\\n<a class=\"text-dark small\" href=\"https://clinicalgenome.org/affiliation/40003/\"><span class=\"d-inline-block\">Arrhythmogenic Right Ventricular Cardiomyopathy Gene Curation Expert Panel</span></a>\\n</li>\\n<li class=\"col-md-6 text-truncate\">\\n<a class=\"text-dark small\" href=\"https://clinicalgenome.org/affiliation/40020/\"><span class=\"d-inline-block\">Brain Malformations Gene Curation Expert Panel</span></a>\\n</li>\\n<li class=\"col-md-6 text-truncate\">\\n<a class=\"text-dark small\" href=\"https://clinicalgenome.org/affiliation/50020/\"><span class=\"d-inline-block\">Brain Malformations Variant Curation Expert Panel</span></a>\\n</li>\\n<li class=\"col-md-6 text-truncate\">\\n<a class=\"text-dark small\" href=\"https://clinicalgenome.org/affiliation/40042/\"><span class=\"d-inline-block\">Breast/Ovarian Cancer Gene Curation Expert Panel</span></a>\\n</li>\\n<li class=\"col-md-6 text-truncate\">\\n<a class=\"text-dark small\" href=\"https://clinicalgenome.org/affiliation/40045/\"><span class=\"d-inline-block\">Brugada Syndrome Gene Curation Expert Panel</span></a>\\n</li>\\n<li class=\"col-md-6 text-truncate\">\\n<a class=\"text-dark small\" href=\"https://clinicalgenome.org/affiliation/50002/\"><span class=\"d-inline-block\">Cardiomyopathy Variant Curation Expert Panel</span></a>\\n</li>\\n<li class=\"col-md-6 text-truncate\">\\n<a class=\"text-dark small\" href=\"https://clinicalgenome.org/affiliation/50014/\"><span class=\"d-inline-block\">CDH1 Variant Curation Expert Panel</span></a>\\n</li>\\n<li class=\"col-md-6 text-truncate\">\\n<a class=\"text-dark small\" href=\"https://clinicalgenome.org/affiliation/50047/\"><span class=\"d-inline-block\">Cerebral Creatine Deficiency Syndromes Variant Curation Expert Panel</span></a>\\n</li>\\n<li class=\"col-md-6 text-truncate\">\\n<a class=\"text-dark small\" href=\"https://clinicalgenome.org/affiliation/40063/\"><span class=\"d-inline-block\">Charcot-Marie-Tooth Disease Gene Curation Expert Panel</span></a>\\n</li>\\n<li class=\"col-md-6 text-truncate\">\\n<a class=\"text-dark small\" href=\"https://clinicalgenome.org/affiliation/50041/\"><span class=\"d-inline-block\">Coagulation Factor Deficiency Variant Curation Expert Panel</span></a>\\n</li>\\n<li class=\"col-md-6 text-truncate\">\\n<a class=\"text-dark small\" href=\"https://clinicalgenome.org/affiliation/40043/\"><span class=\"d-inline-block\">Colon Cancer Gene Curation Expert Panel</span></a>\\n</li>\\n<li class=\"col-md-6 text-truncate\">\\n<a class=\"text-dark small\" href=\"https://clinicalgenome.org/affiliation/40031/\"><span class=\"d-inline-block\">Congenital Myopathies Gene Curation Expert Panel</span></a>\\n</li>\\n<li class=\"col-md-6 text-truncate\">\\n<a class=\"text-dark small\" href=\"https://clinicalgenome.org/affiliation/50031/\"><span class=\"d-inline-block\">Congenital Myopathies Variant Curation Expert Panel</span></a>\\n</li>\\n<li class=\"col-md-6 text-truncate\">\\n<a class=\"text-dark small\" href=\"https://clinicalgenome.org/affiliation/40059/\"><span class=\"d-inline-block\">Craniofacial Malformations Gene Curation Expert Panel</span></a>\\n</li>\\n<li class=\"col-md-6 text-truncate\">\\n<a class=\"text-dark small\" href=\"https://clinicalgenome.org/affiliation/50050/\"><span class=\"d-inline-block\">DICER1 and miRNA-Processing Gene Variant Curation Expert Panel</span></a>\\n</li>\\n<li class=\"col-md-6 text-truncate\">\\n<a class=\"text-dark small\" href=\"https://clinicalgenome.org/affiliation/40035/\"><span class=\"d-inline-block\">Dilated Cardiomyopathy Gene Curation Expert Panel</span></a>\\n</li>\\n<li class=\"col-md-6 text-truncate\">\\n<a class=\"text-dark small\" href=\"https://clinicalgenome.org/affiliation/40005/\"><span class=\"d-inline-block\">Epilepsy Gene Curation Expert Panel</span></a>\\n</li>\\n<li class=\"col-md-6 text-truncate\">\\n<a class=\"text-dark small\" href=\"https://clinicalgenome.org/affiliation/50004/\"><span class=\"d-inline-block\">Familial Hypercholesterolemia Variant Curation Expert Panel</span></a>\\n</li>\\n<li class=\"col-md-6 text-truncate\">\\n<a class=\"text-dark small\" href=\"https://clinicalgenome.org/affiliation/40044/\"><span class=\"d-inline-block\">Familial Thoracic Aortic Aneurysm and Dissection Gene Curation Expert Panel</span></a>\\n</li>\\n<li class=\"col-md-6 text-truncate\">\\n<a class=\"text-dark small\" href=\"https://clinicalgenome.org/affiliation/40010/\"><span class=\"d-inline-block\">Fatty Acid Oxidation Disorders Gene Curation Expert Panel</span></a>\\n</li>\\n<li class=\"col-md-6 text-truncate\">\\n<a class=\"text-dark small\" href=\"https://clinicalgenome.org/affiliation/50046/\"><span class=\"d-inline-block\">FBN1 Variant Curation Expert Panel</span></a>\\n</li>\\n<li class=\"col-md-6 text-truncate\">\\n<a class=\"text-dark small\" href=\"https://clinicalgenome.org/affiliation/40026/\"><span class=\"d-inline-block\">General Gene Curation Expert Panel</span></a>\\n</li>\\n<li class=\"col-md-6 text-truncate\">\\n<a class=\"text-dark small\" href=\"https://clinicalgenome.org/affiliation/50053/\"><span class=\"d-inline-block\">Glaucoma Variant Curation Expert Panel</span></a>\\n</li>\\n<li class=\"col-md-6 text-truncate\">\\n<a class=\"text-dark small\" href=\"https://clinicalgenome.org/affiliation/50078/\"><span class=\"d-inline-block\">GRIN Disorders Variant Curation Expert Panel</span></a>\\n</li>\\n<li class=\"col-md-6 text-truncate\">\\n<a class=\"text-dark small\" href=\"https://clinicalgenome.org/affiliation/40007/\"><span class=\"d-inline-block\">Hearing Loss Gene Curation Expert Panel</span></a>\\n</li>\\n<li class=\"col-md-6 text-truncate\">\\n<a class=\"text-dark small\" href=\"https://clinicalgenome.org/affiliation/50007/\"><span class=\"d-inline-block\">Hearing Loss Variant Curation Expert Panel</span></a>\\n</li>\\n<li class=\"col-md-6 text-truncate\">\\n<a class=\"text-dark small\" href=\"https://clinicalgenome.org/affiliation/50052/\"><span class=\"d-inline-block\">Hemoglobinopathy Variant Curation Expert Panel</span></a>\\n</li>\\n<li class=\"col-md-6 text-truncate\">\\n<a class=\"text-dark small\" href=\"https://clinicalgenome.org/affiliation/40028/\"><span class=\"d-inline-block\">Hemostasis/Thrombosis Gene Curation Expert Panel</span></a>\\n</li>\\n<li class=\"col-md-6 text-truncate\">\\n<a class=\"text-dark small\" href=\"https://clinicalgenome.org/affiliation/50039/\"><span class=\"d-inline-block\">Hereditary Breast, Ovarian and Pancreatic Cancer Variant Curation Expert Panel</span></a>\\n</li>\\n<li class=\"col-md-6 text-truncate\">\\n<a class=\"text-dark small\" href=\"https://clinicalgenome.org/affiliation/40023/\"><span class=\"d-inline-block\">Hereditary Cancer Gene Curation Expert Panel</span></a>\\n</li>\\n<li class=\"col-md-6 text-truncate\">\\n<a class=\"text-dark small\" href=\"https://clinicalgenome.org/affiliation/50037/\"><span class=\"d-inline-block\">Hereditary Hemorrhagic Telangiectasia Variant Curation Expert Panel</span></a>\\n</li>\\n<li class=\"col-md-6 text-truncate\">\\n<a class=\"text-dark small\" href=\"https://clinicalgenome.org/affiliation/40080/\"><span class=\"d-inline-block\">Humoral Defects Gene Curation Expert Panel</span></a>\\n</li>\\n<li class=\"col-md-6 text-truncate\">\\n<a class=\"text-dark small\" href=\"https://clinicalgenome.org/affiliation/40008/\"><span class=\"d-inline-block\">Hypertrophic Cardiomyopathy Gene Curation Expert Panel</span></a>\\n</li>\\n<li class=\"col-md-6 text-truncate\">\\n<a class=\"text-dark small\" href=\"https://clinicalgenome.org/affiliation/40006/\"><span class=\"d-inline-block\">Intellectual Disability and Autism Gene Curation Expert Panel</span></a>\\n</li>\\n<li class=\"col-md-6 text-truncate\">\\n<a class=\"text-dark small\" href=\"https://clinicalgenome.org/affiliation/50001/\"><span class=\"d-inline-block\">KCNQ1 Variant Curation Expert Panel</span></a>\\n</li>\\n<li class=\"col-md-6 text-truncate\">\\n<a class=\"text-dark small\" href=\"https://clinicalgenome.org/affiliation/40066/\"><span class=\"d-inline-block\">Kidney Cystic and Ciliopathy Disorders Gene Curation Expert Panel</span></a>\\n</li>\\n<li class=\"col-md-6 text-truncate\">\\n<a class=\"text-dark small\" href=\"https://clinicalgenome.org/affiliation/50066/\"><span class=\"d-inline-block\">Kidney Cystic and Ciliopathy Disorders Variant Curation Expert Panel</span></a>\\n</li>\\n<li class=\"col-md-6 text-truncate\">\\n<a class=\"text-dark small\" href=\"https://clinicalgenome.org/affiliation/50082/\"><span class=\"d-inline-block\">Leber Congenital Amaurosis/early onset Retinal Dystrophy Variant Curation Expert Panel</span></a>\\n</li>\\n<li class=\"col-md-6 text-truncate\">\\n<a class=\"text-dark small\" href=\"https://clinicalgenome.org/affiliation/40061/\"><span class=\"d-inline-block\">Limb Girdle Muscular Dystrophy Gene Curation Expert Panel</span></a>\\n</li>\\n<li class=\"col-md-6 text-truncate\">\\n<a class=\"text-dark small\" href=\"https://clinicalgenome.org/affiliation/50061/\"><span class=\"d-inline-block\">Limb Girdle Muscular Dystrophy Variant Curation Expert Panel</span></a>\\n</li>\\n<li class=\"col-md-6 text-truncate\">\\n<a class=\"text-dark small\" href=\"https://clinicalgenome.org/affiliation/40025/\"><span class=\"d-inline-block\">Long QT Syndrome Gene Curation Expert Panel</span></a>\\n</li>\\n<li class=\"col-md-6 text-truncate\">\\n<a class=\"text-dark small\" href=\"https://clinicalgenome.org/affiliation/50009/\"><span class=\"d-inline-block\">Lysosomal Storage Disorders Variant Curation Expert Panel</span></a>\\n</li>\\n<li class=\"col-md-6 text-truncate\">\\n<a class=\"text-dark small\" href=\"https://clinicalgenome.org/affiliation/50038/\"><span class=\"d-inline-block\">Malignant Hyperthermia Susceptibility Variant Curation Expert Panel</span></a>\\n</li>\\n<li class=\"col-md-6 text-truncate\">\\n<a class=\"text-dark small\" href=\"https://clinicalgenome.org/affiliation/50027/\"><span class=\"d-inline-block\">Mitochondrial Disease Nuclear and Mitochondrial Variant Curation Expert Panel</span></a>\\n</li>\\n<li class=\"col-md-6 text-truncate\">\\n<a class=\"text-dark small\" href=\"https://clinicalgenome.org/affiliation/40027/\"><span class=\"d-inline-block\">Mitochondrial Diseases Gene Curation Expert Panel</span></a>\\n</li>\\n<li class=\"col-md-6 text-truncate\">\\n<a class=\"text-dark small\" href=\"https://clinicalgenome.org/affiliation/40016/\"><span class=\"d-inline-block\">Monogenic Diabetes Gene Curation Expert Panel</span></a>\\n</li>\\n<li class=\"col-md-6 text-truncate\">\\n<a class=\"text-dark small\" href=\"https://clinicalgenome.org/affiliation/50016/\"><span class=\"d-inline-block\">Monogenic Diabetes Variant Curation Expert Panel</span></a>\\n</li>\\n<li class=\"col-md-6 text-truncate\">\\n<a class=\"text-dark small\" href=\"https://clinicalgenome.org/affiliation/50034/\"><span class=\"d-inline-block\">Myeloid Malignancy Variant Curation Expert Panel</span></a>\\n</li>\\n<li class=\"col-md-6 text-truncate\">\\n<a class=\"text-dark small\" href=\"https://clinicalgenome.org/affiliation/50089/\"><span class=\"d-inline-block\">NTRK Fusions Somatic Cancer Variant Curation Expert Panel</span></a>\\n</li>\\n<li class=\"col-md-6 text-truncate\">\\n<a class=\"text-dark small\" href=\"https://clinicalgenome.org/affiliation/40079/\"><span class=\"d-inline-block\">Parkinson\\'s Disease Gene Curation Expert Panel</span></a>\\n</li>\\n<li class=\"col-md-6 text-truncate\">\\n<a class=\"text-dark small\" href=\"https://clinicalgenome.org/affiliation/40049/\"><span class=\"d-inline-block\">Peroxisomal Disorders Gene Curation Expert Panel</span></a>\\n</li>\\n<li class=\"col-md-6 text-truncate\">\\n<a class=\"text-dark small\" href=\"https://clinicalgenome.org/affiliation/50049/\"><span class=\"d-inline-block\">Peroxisomal Disorders Variant Curation Expert Panel</span></a>\\n</li>\\n<li class=\"col-md-6 text-truncate\">\\n<a class=\"text-dark small\" href=\"https://clinicalgenome.org/affiliation/50015/\"><span class=\"d-inline-block\">Phenylketonuria Variant Curation Expert Panel</span></a>\\n</li>\\n<li class=\"col-md-6 text-truncate\">\\n<a class=\"text-dark small\" href=\"https://clinicalgenome.org/affiliation/50040/\"><span class=\"d-inline-block\">Platelet Disorders Variant Curation Expert Panel</span></a>\\n</li>\\n<li class=\"col-md-6 text-truncate\">\\n<a class=\"text-dark small\" href=\"https://clinicalgenome.org/affiliation/50012/\"><span class=\"d-inline-block\">PTEN Variant Curation Expert Panel</span></a>\\n</li>\\n<li class=\"col-md-6 text-truncate\">\\n<a class=\"text-dark small\" href=\"https://clinicalgenome.org/affiliation/40071/\"><span class=\"d-inline-block\">Pulmonary Hypertension Gene Curation Expert Panel</span></a>\\n</li>\\n<li class=\"col-md-6 text-truncate\">\\n<a class=\"text-dark small\" href=\"https://clinicalgenome.org/affiliation/40021/\"><span class=\"d-inline-block\">RASopathy Gene Curation Expert Panel</span></a>\\n</li>\\n<li class=\"col-md-6 text-truncate\">\\n<a class=\"text-dark small\" href=\"https://clinicalgenome.org/affiliation/50021/\"><span class=\"d-inline-block\">RASopathy Variant Curation Expert Panel</span></a>\\n</li>\\n<li class=\"col-md-6 text-truncate\">\\n<a class=\"text-dark small\" href=\"https://clinicalgenome.org/affiliation/40072/\"><span class=\"d-inline-block\">Retina Gene Curation Expert Panel</span></a>\\n</li>\\n<li class=\"col-md-6 text-truncate\">\\n<a class=\"text-dark small\" href=\"https://clinicalgenome.org/affiliation/50022/\"><span class=\"d-inline-block\">Rett and Angelman-like Disorders Variant Curation Expert Panel</span></a>\\n</li>\\n<li class=\"col-md-6 text-truncate\">\\n<a class=\"text-dark small\" href=\"https://clinicalgenome.org/affiliation/40081/\"><span class=\"d-inline-block\">SCID-CID Gene Curation Expert Panel</span></a>\\n</li>\\n<li class=\"col-md-6 text-truncate\">\\n<a class=\"text-dark small\" href=\"https://clinicalgenome.org/affiliation/40065/\"><span class=\"d-inline-block\">Skeletal Disorders Gene Curation Expert Panel</span></a>\\n</li>\\n<li class=\"col-md-6 text-truncate\">\\n<a class=\"text-dark small\" href=\"https://clinicalgenome.org/affiliation/40060/\"><span class=\"d-inline-block\">Syndromic Disorders Gene Curation Expert Panel</span></a>\\n</li>\\n<li class=\"col-md-6 text-truncate\">\\n<a class=\"text-dark small\" href=\"https://clinicalgenome.org/affiliation/50064/\"><span class=\"d-inline-block\">Thrombosis Variant Curation Expert Panel</span></a>\\n</li>\\n<li class=\"col-md-6 text-truncate\">\\n<a class=\"text-dark small\" href=\"https://clinicalgenome.org/affiliation/50013/\"><span class=\"d-inline-block\">TP53 Variant Curation Expert Panel</span></a>\\n</li>\\n<li class=\"col-md-6 text-truncate\">\\n<a class=\"text-dark small\" href=\"https://clinicalgenome.org/affiliation/50036/\"><span class=\"d-inline-block\">VHL Variant Curation Expert Panel</span></a>\\n</li>\\n<li class=\"col-md-6 text-truncate\">\\n<a class=\"text-dark small\" href=\"https://clinicalgenome.org/affiliation/50051/\"><span class=\"d-inline-block\">von Willebrand Disease Variant Curation Expert Panel</span></a>\\n</li>\\n<li class=\"col-md-6 text-truncate\">\\n<a class=\"text-dark small\" href=\"https://clinicalgenome.org/affiliation/50086/\"><span class=\"d-inline-block\">X-linked Inherited Retinal Disease Variant Curation Expert Panel</span></a>\\n</li>\\n</ul>\\n<hr/>\\n</div>\\n<div class=\"col-12\">\\n<a class=\"\" href=\"https://www.clinicalgenome.org/docs/\"><h6>Documents &amp; Announcements</h6></a>\\n<ul class=\"list-unstyled row\">\\n<li class=\"col-md-6 text-truncate\">\\n<a class=\"text-dark small\" href=\"https://www.clinicalgenome.org/docs/?doc-type=announcement#list_documentation_table\"><span class=\"d-inline-block text-truncate\">Announcements</span></a>\\n</li>\\n<li class=\"col-md-6 text-truncate\">\\n<a class=\"text-dark small\" href=\"https://www.clinicalgenome.org/docs/?doc-type=clingen-exhibit-booth-materials#list_documentation_table\"><span class=\"d-inline-block text-truncate\">ClinGen Exhibit Booth Materials</span></a>\\n</li>\\n<li class=\"col-md-6 text-truncate\">\\n<a class=\"text-dark small\" href=\"https://www.clinicalgenome.org/docs/?doc-type=curation-activity-procedures#list_documentation_table\"><span class=\"d-inline-block text-truncate\">Curation Activity Procedures</span></a>\\n</li>\\n<li class=\"col-md-6 text-truncate\">\\n<a class=\"text-dark small\" href=\"https://www.clinicalgenome.org/docs/?doc-type=conflict-of-interest-coi#list_documentation_table\"><span class=\"d-inline-block text-truncate\">Conflict Of Interest (COI)</span></a>\\n</li>\\n<li class=\"col-md-6 text-truncate\">\\n<a class=\"text-dark small\" href=\"https://www.clinicalgenome.org/docs/?doc-type=data-sharing-resources#list_documentation_table\"><span class=\"d-inline-block text-truncate\">Data Sharing Resources</span></a>\\n</li>\\n<li class=\"col-md-6 text-truncate\">\\n<a class=\"text-dark small\" href=\"https://www.clinicalgenome.org/docs/?doc-type=expert-panel-status-steps#list_documentation_table\"><span class=\"d-inline-block text-truncate\">Expert Panel Applications</span></a>\\n</li>\\n<li class=\"col-md-6 text-truncate\">\\n<a class=\"text-dark small\" href=\"https://www.clinicalgenome.org/docs/?doc-type=in-the-news#list_documentation_table\"><span class=\"d-inline-block text-truncate\">News</span></a>\\n</li>\\n<li class=\"col-md-6 text-truncate\">\\n<a class=\"text-dark small\" href=\"https://www.clinicalgenome.org/docs/?doc-type=moc-cme-forms#list_documentation_table\"><span class=\"d-inline-block text-truncate\">MOC/CME Forms</span></a>\\n</li>\\n<li class=\"col-md-6 text-truncate\">\\n<a class=\"text-dark small\" href=\"https://www.clinicalgenome.org/docs/?doc-type=patient-data-sharing#list_documentation_table\"><span class=\"d-inline-block text-truncate\">Patient Data Sharing</span></a>\\n</li>\\n<li class=\"col-md-6 text-truncate\">\\n<a class=\"text-dark small\" href=\"https://www.clinicalgenome.org/docs/?doc-type=policies-position-statements#list_documentation_table\"><span class=\"d-inline-block text-truncate\">Policies/Position Statements</span></a>\\n</li>\\n<li class=\"col-md-6 text-truncate\">\\n<a class=\"text-dark small\" href=\"https://www.clinicalgenome.org/docs/?doc-type=presentations#list_documentation_table\"><span class=\"d-inline-block text-truncate\">Presentations</span></a>\\n</li>\\n<li class=\"col-md-6 text-truncate\">\\n<a class=\"text-dark small\" href=\"https://www.clinicalgenome.org/docs/?doc-type=publications#list_documentation_table\"><span class=\"d-inline-block text-truncate\">Publication</span></a>\\n</li>\\n<li class=\"col-md-6 text-truncate\">\\n<a class=\"text-dark small\" href=\"https://www.clinicalgenome.org/docs/?doc-type=supporting-documents#list_documentation_table\"><span class=\"d-inline-block text-truncate\">Supporting Documents</span></a>\\n</li>\\n<li class=\"col-md-6 text-truncate\">\\n<a class=\"text-dark small\" href=\"https://www.clinicalgenome.org/docs/?doc-type=training-materials#list_documentation_table\"><span class=\"d-inline-block text-truncate\">Training Materials</span></a>\\n</li>\\n</ul>\\n</div>\\n</div>\\n</div>\\n</div> <p class=\"float-right\">\\n<a href=\"#\">Back to top</a>\\n</p>\\n<p> © ClinGen</p>\\n</div>\\n</footer>\\n<script src=\"/js/jquery.validate.min.js\"></script>\\n<script src=\"/js/additional-methods.min.js\"></script>\\n<script src=\"/js/additional-methods.min.js\"></script>\\n<script src=\"/js/sweetalert.min.js\"></script>\\n<script src=\"/js/PassRequirements.js\"></script>\\n<script src=\"/js/main.js\"></script>\\n<script>\\n\\n    $(\\'#register-password\\').PassRequirements({\\n        popoverPlacement: \\'left\\',\\n        rules: {\\n          minlength: {\\n            text: \"be at least minLength characters long\",\\n            minLength: 8,\\n          },\\n          containSpecialChars: {\\n            text: \"Your input should contain at least minLength special character\",\\n            minLength: 1,\\n            regex: new RegExp(\\'([^!,%,&,@,#,$,^,*,?,_,~])\\', \\'g\\')\\n          },\\n          containLowercase: {\\n            text: \"Your input should contain at least minLength lower case character\",\\n            minLength: 1,\\n            regex: new RegExp(\\'[^a-z]\\', \\'g\\')\\n          },\\n          containUppercase: {\\n            text: \"Your input should contain at least minLength upper case character\",\\n          minLength: 1,\\n            regex: new RegExp(\\'[^A-Z]\\', \\'g\\')\\n          },\\n          containNumbers: {\\n            text: \"Your input should contain at least minLength number\",\\n            minLength: 1,\\n            regex: new RegExp(\\'[^0-9]\\', \\'g\\')\\n          }\\n        }\\n    });\\n\\n    </script>\\n<style>\\n  .popover {\\n    max-width: 65%;\\n  }\\n  .popover-title {\\n    font-weight: bold;\\n  }\\n  .data_pre { white-space: pre-line;}\\n</style>\\n<script>\\n\\n$(\\'[data-toggle=\"tooltip\"]\\').tooltip();\\n$(\\'[data-toggle=\"popover\"]\\').popover({\\n      html : true,\\n      content: function() {\\n        return $(\\'#popover_content_wrapper\\').html();\\n      }\\n    });\\n\\n</script>\\n<script src=\"https://www.ncbi.nlm.nih.gov/core/jig/1.14.8/js/jig.min.js\" type=\"text/javascript\"></script>\\n<script id=\"autoload\" src=\"https://www.ncbi.nlm.nih.gov/projects/sviewer/js/sviewer.js\" type=\"text/javascript\"></script>\\n<!--IDEOGRAM-->\\n<script src=\"/js/ideo.js\" type=\"text/javascript\"> </script>\\n<link href=\"https://www.ncbi.nlm.nih.gov/projects/ideogram/3.0/css/ideo.css\" rel=\"stylesheet\" type=\"text/css\"/>\\n<link href=\"/js/ncbiheader.css\" rel=\"stylesheet\" type=\"text/css\"/>\\n<!-- the below link collides hard with the rest of the site.  It is included so someone can merge later -->\\n<!-- <link href=\"/css/clingen.css\" rel=\"stylesheet\" type=\"text/css\" /> -->\\n<link href=\"/css/footnote.css\" rel=\"stylesheet\" type=\"text/css\"/>\\n<script type=\"text/javascript\">\\n$(document).ready(function() {\\n\\n  $(\"#tabs\").ncbitabs();\\n\\n  $(\"#loss_sc\").click(function(){\\n      $(\"#tabs\").ncbitabs(\"option\", \"active\", 1);\\n  });\\n\\n  $(\"#gain_sc\").click(function(){\\n      $(\"#tabs\").ncbitabs(\"option\", \"active\", 2);\\n  });\\n\\n  jQuery(\"#last_footnote\").load(\"footnote.html\", function() {\\n      jQuery.ui.jig.scan(this, {\\n                                \\'widgets\\': [\\'ncbihelpwindow\\']\\n      });\\n\\n      var dt = new Date();\\n      var time_str = dt.getFullYear() + \"-\" + (dt.getMonth()+1) + \"-\" + dt.getDate() +\\n                        \"T\" + dt.getHours() + \":\" + dt.getMinutes() + \":\" + dt.getSeconds() +\\n                        \"-04:00\";\\n\\n      var link_str = \"/sites/ehelp?&Ncbi_App=\" +\\n                        jQuery(\\'meta[name=ncbi_app]\\').attr(\\'content\\') +\\n                        \"&Page=\" +\\n                        jQuery(\\'meta[name=ncbi_pdid]\\').attr(\\'content\\') +\\n                        \"&Time=\" + time_str +\\n                        \"&Data=+PageURL:+\" +\\n                        window.location.href +\\n                        \";\";\\n      jQuery(\\'#help-desk-link\\').attr(\\'href\\',link_str);\\n  });\\n\\n  var appIndex=0;\\n  jQuery(\"#g_view_menu\").on(\\'change\\', function(eventObj) {\\n      var target = eventObj.currentTarget;\\n      if (target.selectedIndex != appIndex)  {\\n          var appIndex = target.selectedIndex;\\n          var accession = target.value;\\n          var svhref = accession.substring(1, accession.length)\\n          var svApp = SeqView.App.findAppByIndex(0);\\n          if (svApp) {\\n              svApp.reload(svhref);\\n          }\\n\\n          jQuery(\".seqviewer-comment > span\").each(function (index, el) {\\n              if ( index != appIndex) {\\n                  jQuery(el).addClass(\\'hide\\');\\n              }\\n              else {\\n                  jQuery(el).removeClass(\\'hide\\');\\n              }\\n          });\\n      }\\n  });\\n\\n\\n//{% if chrom|length > 0 %}\\n\\ttry{\\n\\tvar shapes = new IDEO.ShapeCollection({\\n\\t\\tdefaultFill: \"#0000EE\", //blue\\n\\t\\tdefaultBorder: \"#0000EE\", //blue\\n\\t\\tdefaultShape: \"triangle\"\\n\\t});\\n\\tvar annot = new IDEO.Annotation({\\n\\t\\tdata: [\\n\\t\\t\\t{chrom: \\'15\\', start:  75631787, stop: 75972909},\\n\\t\\t],\\n\\t\\twidth: 10\\n\\t});\\n\\tvar bandLabelConfig = {\\n\\t\\tmode:IDEO.LabelOrientation.Lengthwise,\\n\\t\\tcolor: \"#333333\",\\n\\t\\tmargin: 10,\\n\\t\\toffset: 10,\\n\\t\\tincludeChrom:true\\n\\t};\\n\\tvar ideo = new IDEO.Ideogram({\\n\\t\\ttaxid: 9606,\\n\\t\\trep: IDEO.CytoRep({\\n\\t\\t\\tassm: \"GRCh37\"\\n\\t\\t}),\\n\\t\\tchroms: [\\'15\\'],\\n\\t\\torientation: IDEO.IdeogramOrientation.Horizontal,\\n\\t\\tbandLabels: bandLabelConfig,\\n\\t\\tideowidth: 25,\\n\\t\\tideoheight: 450,\\n\\t\\tlabelPosition: IDEO.LabelPosition.None,\\n\\t\\tcontainer: \"#ideogram\",\\n\\t\\talign: \"top\",\\n\\t\\tannotations: [annot],\\n\\t\\tshapes: shapes\\n\\t});\\n\\n\\tif(ideo.getStatus() != IDEO.IdeogramStatus.OK && ideo.getStatus() != IDEO.IdeogramStatus.WARNING){\\n\\t\\tvar errors = ideo.getErrors();\\n\\t\\tvar div = jQuery(ideogram.container);\\n\\t\\tif(div[0]){\\n\\t\\t\\tdiv[0].innerHTML = \"IDEOGRAM ERRORS: <br />\";\\n\\t\\tfor(var n=0; n < errors.length; n++){\\n\\t\\t\\tdiv[0].innerHTML += errors[n] + \"<br/>\";\\n\\t\\t\\tdiv.css({\\n\\t\\t\\t\\tcolor: \"red\"\\n\\t\\t\\t});\\n\\t\\t}\\n\\t}\\n}\\n} catch(e){\\n\\talert(e + (e.lineNumber? \"\\\\nline: \" + e.lineNumber : \"\")+(e.fileName? \"\\\\nfile: \" + e.fileName : \" \"));\\n}\\n\\n});\\n\\n</script>\\n<script>\\n  var mybutton = document.getElementById(\"clingen_top\");\\n\\n  // When the user scrolls down 20px from the top of the document, show the button\\n  window.onscroll = function() {scrollFunction()};\\n\\n  function scrollFunction() {\\n    if (document.body.scrollTop > 20 || document.documentElement.scrollTop > 20) {\\n      mybutton.style.display = \"block\";\\n    } else {\\n      mybutton.style.display = \"none\";\\n    }\\n  }\\n\\n  // When the user clicks on the button, scroll to the top of the document\\n  function topFunction() {\\n    document.body.scrollTop = 0;\\n    document.documentElement.scrollTop = 0;\\n  }\\n</script>\\n<script>\\n      $(\".action-login\").click(function() {\\n\\n        $(\\'#modalLogin\\').modal(\\'show\\');\\n      });\\n\\n      window.auth = 0;\\n\\n\\n    </script>\\n<script src=\"/js/typeahead.js\"></script>\\n<script>\\n      $( \".typeQueryGene\" ).click(function() {\\n        $(\"#navSearchBar\").attr(\"action\", \"https://search.clinicalgenome.org/kb/genes\");\\n        $( \".inputQueryGene\" ).show();\\n        $( \".inputQueryGene .queryGene\" ).show();\\n        $( \".inputQueryDisease\" ).hide();\\n        $( \".inputQueryDisease .queryDisease\" ).hide();\\n        $( \".inputQueryDrug\" ).hide();\\n        $( \".inputQueryDrug .queryDrug\" ).hide();\\n        $( \".inputQueryRegion\" ).hide();\\n        $( \".inputQueryRegion .queryRegion\" ).hide();\\n        $( \".typeQueryLabel\").text(\"Gene\");\\n      });\\n      $( \".typeQueryDisease\" ).click(function() {\\n        $(\"#navSearchBar\").attr(\"action\", \"https://search.clinicalgenome.org/kb/conditions\");\\n        $( \".inputQueryGene\" ).hide();\\n        $( \".inputQueryGene .queryGene\" ).hide();\\n        $( \".inputQueryDisease\" ).show();\\n        $( \".inputQueryDisease .queryDisease\" ).show();\\n        $( \".inputQueryDrug\" ).hide();\\n        $( \".inputQueryDrug .queryDrug\" ).hide();\\n        $( \".inputQueryRegion\" ).hide();\\n        $( \".inputQueryRegion .queryRegion\" ).hide();\\n        $( \".typeQueryLabel\").text(\"Disease\");\\n      });\\n      $( \".typeQueryDrug\" ).click(function() {\\n        $(\"#navSearchBar\").attr(\"action\", \"https://search.clinicalgenome.org/kb/drugs\");\\n        $( \".inputQueryGene\" ).hide();\\n        $( \".inputQueryGene .queryGene\" ).hide();\\n        $( \".inputQueryDisease\" ).hide();\\n        $( \".inputQueryDisease .queryDisease\" ).hide();\\n        $( \".inputQueryDrug\" ).show();\\n        $( \".inputQueryDrug .queryDrug\" ).show();\\n        $( \".inputQueryRegion\" ).hide();\\n        $( \".inputQueryRegion .queryRegion\" ).hide();\\n        $( \".typeQueryLabel\").text(\"Drug\");\\n      });\\n      $( \".typeQueryRegionGRCh37\" ).click(function() {\\n        $(\"#navSearchBar\").attr(\"action\", \"https://search.clinicalgenome.org/kb/regions\");\\n        $( \".inputQueryGene\" ).hide();\\n        $( \".inputQueryGene .queryGene\" ).hide();\\n        $( \".inputQueryDisease\" ).hide();\\n        $( \".inputQueryDisease .queryDisease\" ).hide();\\n        $( \".inputQueryDrug\" ).hide();\\n        $( \".inputQueryDrug .queryDrug\" ).hide();\\n        $( \".inputQueryRegion\" ).show();\\n        $( \".inputQueryRegion .queryRegion\" ).show();\\n        $( \".typeQueryLabel\").text(\"GRCh37 Region\");\\n        $( \".buildtype\").val(\"GRCh37\");\\n      });\\n      $( \".typeQueryRegionGRCh38\" ).click(function() {\\n        $(\"#navSearchBar\").attr(\"action\", \"https://search.clinicalgenome.org/kb/regions\");\\n        $( \".inputQueryGene\" ).hide();\\n        $( \".inputQueryGene .queryGene\" ).hide();\\n        $( \".inputQueryDisease\" ).hide();\\n        $( \".inputQueryDisease .queryDisease\" ).hide();\\n        $( \".inputQueryDrug\" ).hide();\\n        $( \".inputQueryDrug .queryDrug\" ).hide();\\n        $( \".inputQueryRegion\" ).show();\\n        $( \".inputQueryRegion .queryRegion\" ).show();\\n        $( \".typeQueryLabel\").text(\"GRCh38 Region\");\\n        $( \".buildtype\").val(\"GRCh38\");\\n      });\\n\\n\\n      /*var term = new Bloodhound({\\n        datumTokenizer: Bloodhound.tokenizers.obj.whitespace(\\'label\\'),\\n        queryTokenizer: Bloodhound.tokenizers.whitespace,\\n        remote: {\\n          url: \\'https://search.clinicalgenome.org/kb/home.json?term=%QUERY\\',\\n          wildcard: \\'%QUERY\\'\\n        }\\n      });*/\\n\\n      var term = new Bloodhound({\\n        datumTokenizer: Bloodhound.tokenizers.obj.whitespace(\\'label\\'),\\n        queryTokenizer: Bloodhound.tokenizers.whitespace,\\n        remote: {\\n          url: \\'https://search.clinicalgenome.org/api/genes/look/%QUERY\\',\\n          wildcard: \\'%QUERY\\'\\n        }\\n      });\\n\\n      var termGene = new Bloodhound({\\n        datumTokenizer: Bloodhound.tokenizers.obj.whitespace(\\'label\\'),\\n        queryTokenizer: Bloodhound.tokenizers.whitespace,\\n        remote: {\\n          url: \\'https://search.clinicalgenome.org/api/genes/look/%QUERY\\',\\n          wildcard: \\'%QUERY\\'\\n        }\\n      });\\n\\n      var termDisease = new Bloodhound({\\n        datumTokenizer: Bloodhound.tokenizers.obj.whitespace(\\'label\\'),\\n        queryTokenizer: Bloodhound.tokenizers.whitespace,\\n        remote: {\\n          url: \\'https://search.clinicalgenome.org/api/conditions/look/%QUERY\\',\\n          wildcard: \\'%QUERY\\'\\n        }\\n      });\\n\\n      var termDrug = new Bloodhound({\\n        datumTokenizer: Bloodhound.tokenizers.obj.whitespace(\\'label\\'),\\n        queryTokenizer: Bloodhound.tokenizers.whitespace,\\n        remote: {\\n          url: \\'https://search.clinicalgenome.org/api/drugs/look/%QUERY\\',\\n          wildcard: \\'%QUERY\\'\\n        }\\n      });\\n\\n      $(\\'.queryDisease\\').typeahead(null,\\n      {\\n        name: \\'termDisease\\',\\n        display: \\'label\\',\\n        source: termDisease,\\n        templates: {\\n            //header: \\'<h3 class=\"league-name\">Header</h3>\\',\\n            //footer: \\'<div class=\"\"><i class=\"fas fa-check-circle\" style=\"color: green;\"></i><span class=\"mr-2 ml-2\">Disease has been curated by ClinGen</span></div>\\',\\n            empty: [\\n                \\'<div class=\"tt-suggestion tt-selectable\"><div class=\"list-group-item\">Nothing found.</div></div>\\'\\n            ],/*,\\n            header: [\\n                \\'<div class=\"list-group search-results-dropdown\">\\'\\n            ],*/\\n            suggestion: function (data) {\\n                return \\'<div class=\"ml-1 mr-1 row pl-2 tt-ui-row \\' + (data.curated ? \\'tt-ui-curated-on\\' : \\'\\') + \\'\" style=\" border-bottom:1px solid #ccc\"><span class=\"col-sm-7 col-xs-7 pl-0 tt-ui-label\">\\' + data.label +  \\'<span class=\"tt-ui-alias\"> \\' + data.alias + \\'</span></span><span class=\" col-sm-3 col-xs-5 tt-ui-curie\">  \\' + data.hgnc  + \\'</span>\\' + (data.curated ? \\'<span class=\"badge badge-success pull-right hidden-xs small mt-1 col-sm-2 tt-ui-curated\">Curated </span>\\' : \\'\\') + \\'</div>\\'\\n\\n            }\\n        },\\n        limit: 20,\\n        minLength: 3,\\n        highlight: true,\\n        hint: false,\\n        autoselect:true,\\n      }).bind(\\'typeahead:selected\\',function(evt,item){\\n        window.location = item.url;\\n      });\\n\\n      $(\\'.queryGene\\').typeahead(null,\\n      {\\n        name: \\'termGene\\',\\n        display: \\'label\\',\\n        source: termGene,\\n        templates: {\\n            //header: \\'<h3 class=\"league-name\">Header</h3>\\',\\n            //footer: \\'<div class=\"bg-light text-right text-dark\"><i class=\"fas fa-check-circle\" style=\"color: green;\"></i><span class=\"mr-2 ml-2\">Gene has been curated by ClinGen</span></div>\\',\\n            empty: [\\n                \\'<div class=\"tt-suggestion tt-selectable\"><div class=\"list-group-item\">Nothing found.</div></div>\\'\\n            ],/*,\\n            header: [\\n                \\'<div class=\"list-group search-results-dropdown\">\\'\\n            ],*/\\n            suggestion: function (data) {\\n                return \\'<div class=\"ml-1 mr-1 row pl-2 tt-ui-row \\' + (data.curated ? \\'tt-ui-curated-on\\' : \\'\\') + \\'\" style=\" border-bottom:1px solid #ccc\"><span class=\"col-sm-7 col-xs-7 pl-0 tt-ui-label\">\\' + data.label +  \\'<span class=\"tt-ui-alias\"> \\' + data.alias + \\'</span></span><span class=\" col-sm-3 col-xs-5 tt-ui-curie\">  \\' + data.hgnc  + \\'</span>\\' + (data.curated ? \\'<span class=\"badge badge-success pull-right hidden-xs small mt-1 col-sm-2 tt-ui-curated\">Curated </span>\\' : \\'\\') + \\'</div>\\'\\n            }\\n        },\\n        limit: 20,\\n        minLength: 3,\\n        highlight: true,\\n        hint: false,\\n        autoselect:true,\\n      }).bind(\\'typeahead:selected\\',function(evt,item){\\n        window.location = item.url;\\n      });\\n\\n      $(\\'.queryDrug\\').typeahead(null,\\n      {\\n        name: \\'termDrug\\',\\n        display: \\'label\\',\\n        source: termDrug,\\n        templates: {\\n            //header: \\'<h3 class=\"league-name\">Header</h3>\\',\\n            //footer: \\'<div class=\"\"><i class=\"fas fa-check-circle\" style=\"color: green;\"><i><span class=\"mr-2 ml-2\">Drug has been curated by ClinGen</span></div>\\',\\n            empty: [\\n                \\'<div class=\"tt-suggestion tt-selectable\"><div class=\"list-group-item\">Nothing found.</div></div>\\'\\n            ],/*,\\n            header: [\\n                \\'<div class=\"list-group search-results-dropdown\">\\'\\n            ],*/\\n            suggestion: function (data) {\\n                return \\'<div class=\"ml-1 mr-1 row pl-2 tt-ui-row \\' + (data.curated ? \\'tt-ui-curated-on\\' : \\'\\') + \\'\" style=\" border-bottom:1px solid #ccc\"><span class=\"col-sm-7 col-xs-7 pl-0 tt-ui-label\">\\' + data.label +  \\'<span class=\"tt-ui-alias\"> \\' + data.alias + \\'</span></span><span class=\" col-sm-3 col-xs-5 tt-ui-curie\">  \\' + data.hgnc  + \\'</span>\\' + (data.curated ? \\'<span class=\"badge badge-success pull-right hidden-xs small mt-1 col-sm-2 tt-ui-curated\">Curated </span>\\' : \\'\\') + \\'</div>\\'\\n\\n            }\\n        },\\n        limit: 20,\\n        minLength: 3,\\n        highlight: true,\\n        hint: false,\\n        autoselect:true,\\n      }).bind(\\'typeahead:selected\\',function(evt,item){\\n        window.location = item.url;\\n      });\\n\\n    </script>\\n<script type=\"text/javascript\">\\n\\n      // Tracking for google of the onclicks\\n      $( \".externallink\" ).on( \"click\", function() {\\n          var title = $(this).attr(\"title\");\\n          //console.log( \"externallink\" );\\n          //console.log( title );\\n          ga(\\'send\\', \\'event\\', \\'external_link\\', \\'click\\', title );\\n      });\\n\\n      $( \".externalresource\" ).on( \"click\", function() {\\n          var title = $(this).attr(\"title\");\\n          //console.log( \"externallink\" );\\n          //console.log( title );\\n          ga(\\'send\\', \\'event\\', \\'external_resource\\', \\'click\\', title );\\n      });\\n      $( \".watchreportclick\" ).on( \"click\", function() {\\n          var title = $(this).attr(\"title\");\\n          //console.log( \"watchreportclick\" );\\n          //console.log( title );\\n          ga(\\'send\\', \\'event\\', \\'track_report_click\\', \\'click\\', title );\\n      });\\n      $( \".watchdownloadclick\" ).on( \"click\", function() {\\n          var title = $(this).attr(\"title\");\\n          //console.log( \"watchdownloadclick\" );\\n          //console.log( title );\\n          ga(\\'send\\', \\'event\\', \\'track_download_click\\', \\'click\\', title );\\n      });\\n\\n    </script>\\n</div></section></main></div></body>\\n</html>\\n'"
      ]
     },
     "execution_count": 43,
     "metadata": {},
     "output_type": "execute_result"
    }
   ],
   "source": [
    "data"
   ]
  },
  {
   "cell_type": "code",
   "execution_count": 38,
   "id": "73f4eb7c",
   "metadata": {},
   "outputs": [
    {
     "data": {
      "text/plain": [
       "bs4.element.Tag"
      ]
     },
     "execution_count": 38,
     "metadata": {},
     "output_type": "execute_result"
    }
   ],
   "source": [
    "type(data)"
   ]
  },
  {
   "cell_type": "code",
   "execution_count": 36,
   "id": "1379b188",
   "metadata": {},
   "outputs": [
    {
     "data": {
      "text/plain": [
       "<HTMLParser chars=104259>"
      ]
     },
     "execution_count": 36,
     "metadata": {},
     "output_type": "execute_result"
    }
   ],
   "source": []
  },
  {
   "cell_type": "code",
   "execution_count": null,
   "id": "91ed6f80",
   "metadata": {},
   "outputs": [],
   "source": []
  },
  {
   "cell_type": "code",
   "execution_count": null,
   "id": "b7fb8023",
   "metadata": {},
   "outputs": [],
   "source": []
  },
  {
   "cell_type": "code",
   "execution_count": null,
   "id": "01e8c975",
   "metadata": {},
   "outputs": [],
   "source": []
  },
  {
   "cell_type": "code",
   "execution_count": null,
   "id": "e9deab04",
   "metadata": {},
   "outputs": [],
   "source": []
  },
  {
   "cell_type": "code",
   "execution_count": null,
   "id": "ae022633",
   "metadata": {},
   "outputs": [],
   "source": []
  },
  {
   "cell_type": "code",
   "execution_count": null,
   "id": "23e5766c",
   "metadata": {},
   "outputs": [],
   "source": []
  },
  {
   "cell_type": "code",
   "execution_count": null,
   "id": "990b612b",
   "metadata": {},
   "outputs": [],
   "source": []
  },
  {
   "cell_type": "code",
   "execution_count": null,
   "id": "3948b2c1",
   "metadata": {},
   "outputs": [],
   "source": []
  },
  {
   "cell_type": "code",
   "execution_count": null,
   "id": "99a0c9e7",
   "metadata": {},
   "outputs": [],
   "source": []
  },
  {
   "cell_type": "code",
   "execution_count": null,
   "id": "d1f369de",
   "metadata": {},
   "outputs": [],
   "source": []
  },
  {
   "cell_type": "code",
   "execution_count": null,
   "id": "892b3970",
   "metadata": {},
   "outputs": [],
   "source": []
  },
  {
   "cell_type": "code",
   "execution_count": null,
   "id": "923eedbb",
   "metadata": {},
   "outputs": [],
   "source": []
  },
  {
   "cell_type": "code",
   "execution_count": null,
   "id": "2af45db1",
   "metadata": {},
   "outputs": [],
   "source": []
  },
  {
   "cell_type": "code",
   "execution_count": null,
   "id": "18cec9ca",
   "metadata": {},
   "outputs": [],
   "source": []
  },
  {
   "cell_type": "code",
   "execution_count": null,
   "id": "358326b8",
   "metadata": {},
   "outputs": [],
   "source": []
  },
  {
   "cell_type": "code",
   "execution_count": null,
   "id": "b7f44184",
   "metadata": {},
   "outputs": [],
   "source": []
  },
  {
   "cell_type": "code",
   "execution_count": null,
   "id": "e346b11b",
   "metadata": {},
   "outputs": [],
   "source": []
  },
  {
   "cell_type": "code",
   "execution_count": null,
   "id": "93e170f6",
   "metadata": {},
   "outputs": [],
   "source": []
  },
  {
   "cell_type": "code",
   "execution_count": null,
   "id": "feba9deb",
   "metadata": {},
   "outputs": [],
   "source": []
  },
  {
   "cell_type": "code",
   "execution_count": null,
   "id": "9ba29628",
   "metadata": {},
   "outputs": [],
   "source": []
  },
  {
   "cell_type": "code",
   "execution_count": null,
   "id": "14f1fd88",
   "metadata": {},
   "outputs": [],
   "source": []
  },
  {
   "cell_type": "code",
   "execution_count": null,
   "id": "b5fa6fd2",
   "metadata": {},
   "outputs": [],
   "source": []
  },
  {
   "cell_type": "code",
   "execution_count": null,
   "id": "b366d228",
   "metadata": {},
   "outputs": [],
   "source": []
  },
  {
   "cell_type": "code",
   "execution_count": null,
   "id": "e27b029f",
   "metadata": {},
   "outputs": [],
   "source": []
  },
  {
   "cell_type": "code",
   "execution_count": null,
   "id": "f6c8414b",
   "metadata": {},
   "outputs": [],
   "source": []
  },
  {
   "cell_type": "code",
   "execution_count": null,
   "id": "1f0bde10",
   "metadata": {},
   "outputs": [],
   "source": []
  },
  {
   "cell_type": "code",
   "execution_count": null,
   "id": "a98b2a70",
   "metadata": {},
   "outputs": [],
   "source": []
  },
  {
   "cell_type": "code",
   "execution_count": null,
   "id": "fa98bd12",
   "metadata": {},
   "outputs": [],
   "source": []
  },
  {
   "cell_type": "code",
   "execution_count": null,
   "id": "51d6e46f",
   "metadata": {},
   "outputs": [],
   "source": []
  },
  {
   "cell_type": "code",
   "execution_count": null,
   "id": "da49a369",
   "metadata": {},
   "outputs": [],
   "source": []
  },
  {
   "cell_type": "code",
   "execution_count": null,
   "id": "55bb8f92",
   "metadata": {},
   "outputs": [],
   "source": []
  },
  {
   "cell_type": "code",
   "execution_count": null,
   "id": "b1f12926",
   "metadata": {},
   "outputs": [],
   "source": []
  },
  {
   "cell_type": "code",
   "execution_count": null,
   "id": "3dbf6fa5",
   "metadata": {},
   "outputs": [],
   "source": []
  },
  {
   "cell_type": "code",
   "execution_count": null,
   "id": "4a340ff5",
   "metadata": {},
   "outputs": [],
   "source": []
  },
  {
   "cell_type": "code",
   "execution_count": null,
   "id": "769a5727",
   "metadata": {},
   "outputs": [],
   "source": []
  },
  {
   "cell_type": "code",
   "execution_count": null,
   "id": "d99a58b9",
   "metadata": {},
   "outputs": [],
   "source": []
  },
  {
   "cell_type": "code",
   "execution_count": null,
   "id": "dadf1456",
   "metadata": {},
   "outputs": [],
   "source": []
  },
  {
   "cell_type": "code",
   "execution_count": null,
   "id": "176fab96",
   "metadata": {},
   "outputs": [],
   "source": []
  },
  {
   "cell_type": "code",
   "execution_count": null,
   "id": "94e87afd",
   "metadata": {},
   "outputs": [],
   "source": []
  },
  {
   "cell_type": "code",
   "execution_count": null,
   "id": "276c54ee",
   "metadata": {},
   "outputs": [],
   "source": []
  },
  {
   "cell_type": "code",
   "execution_count": null,
   "id": "0ca6cbd1",
   "metadata": {},
   "outputs": [],
   "source": []
  },
  {
   "cell_type": "code",
   "execution_count": null,
   "id": "45c92f21",
   "metadata": {},
   "outputs": [],
   "source": []
  },
  {
   "cell_type": "code",
   "execution_count": null,
   "id": "af94d616",
   "metadata": {},
   "outputs": [],
   "source": []
  },
  {
   "cell_type": "code",
   "execution_count": null,
   "id": "d02e84ed",
   "metadata": {},
   "outputs": [],
   "source": []
  },
  {
   "cell_type": "code",
   "execution_count": null,
   "id": "01ab8834",
   "metadata": {},
   "outputs": [],
   "source": []
  },
  {
   "cell_type": "code",
   "execution_count": null,
   "id": "69327b8f",
   "metadata": {},
   "outputs": [],
   "source": []
  },
  {
   "cell_type": "code",
   "execution_count": null,
   "id": "47436584",
   "metadata": {},
   "outputs": [],
   "source": []
  },
  {
   "cell_type": "code",
   "execution_count": null,
   "id": "5e5bd6df",
   "metadata": {},
   "outputs": [],
   "source": []
  },
  {
   "cell_type": "code",
   "execution_count": null,
   "id": "a06821e0",
   "metadata": {},
   "outputs": [],
   "source": []
  },
  {
   "cell_type": "code",
   "execution_count": null,
   "id": "38b9babd",
   "metadata": {},
   "outputs": [],
   "source": []
  },
  {
   "cell_type": "code",
   "execution_count": null,
   "id": "13a54e92",
   "metadata": {},
   "outputs": [],
   "source": []
  },
  {
   "cell_type": "code",
   "execution_count": null,
   "id": "7fea266c",
   "metadata": {},
   "outputs": [],
   "source": []
  },
  {
   "cell_type": "code",
   "execution_count": null,
   "id": "4de29f81",
   "metadata": {},
   "outputs": [],
   "source": []
  },
  {
   "cell_type": "code",
   "execution_count": null,
   "id": "2cf50839",
   "metadata": {},
   "outputs": [],
   "source": []
  },
  {
   "cell_type": "code",
   "execution_count": 8,
   "id": "b4e1a13a",
   "metadata": {},
   "outputs": [],
   "source": [
    "import json"
   ]
  },
  {
   "cell_type": "code",
   "execution_count": 4,
   "id": "ea4ddb41",
   "metadata": {},
   "outputs": [],
   "source": [
    "import requests as aqs"
   ]
  },
  {
   "cell_type": "code",
   "execution_count": 5,
   "id": "4bcdbaf8",
   "metadata": {},
   "outputs": [],
   "source": [
    "params = {\n",
    "    \n",
    "}"
   ]
  },
  {
   "cell_type": "code",
   "execution_count": 6,
   "id": "b1321a8a",
   "metadata": {},
   "outputs": [],
   "source": [
    "request = aqs.get(url=\"https://www.deciphergenomics.org/data/gene/ENSG00000092054/patient-overlap\",params=params)"
   ]
  },
  {
   "cell_type": "code",
   "execution_count": 24,
   "id": "2170e261",
   "metadata": {},
   "outputs": [],
   "source": [
    "data_str = request.text"
   ]
  },
  {
   "cell_type": "code",
   "execution_count": 27,
   "id": "85d6d9e0",
   "metadata": {},
   "outputs": [],
   "source": [
    "data_by = request.content"
   ]
  },
  {
   "cell_type": "code",
   "execution_count": 14,
   "id": "405777ab",
   "metadata": {
    "scrolled": false
   },
   "outputs": [],
   "source": [
    "data_dict = json.loads(request.content)"
   ]
  },
  {
   "cell_type": "code",
   "execution_count": 28,
   "id": "ba614982",
   "metadata": {},
   "outputs": [],
   "source": [
    "with open(\"./data.josn\",\"wb\") as f:\n",
    "    f.write(data_by)"
   ]
  },
  {
   "cell_type": "code",
   "execution_count": 18,
   "id": "0d106391",
   "metadata": {
    "scrolled": false
   },
   "outputs": [],
   "source": [
    "df = pd.DataFrame.from_dict(data_dict)"
   ]
  },
  {
   "cell_type": "code",
   "execution_count": 32,
   "id": "3301bee7",
   "metadata": {},
   "outputs": [],
   "source": [
    "df.to_json('./data_json.json')"
   ]
  },
  {
   "cell_type": "code",
   "execution_count": 30,
   "id": "0b61e09c",
   "metadata": {},
   "outputs": [],
   "source": [
    "import sys"
   ]
  },
  {
   "cell_type": "code",
   "execution_count": 31,
   "id": "34ea73c3",
   "metadata": {},
   "outputs": [
    {
     "data": {
      "text/plain": [
       "['F:\\\\project\\\\pandas',\n",
       " 'C:\\\\Users\\\\chen\\\\.conda\\\\envs\\\\autoreport\\\\python38.zip',\n",
       " 'C:\\\\Users\\\\chen\\\\.conda\\\\envs\\\\autoreport\\\\DLLs',\n",
       " 'C:\\\\Users\\\\chen\\\\.conda\\\\envs\\\\autoreport\\\\lib',\n",
       " 'C:\\\\Users\\\\chen\\\\.conda\\\\envs\\\\autoreport',\n",
       " '',\n",
       " 'C:\\\\Users\\\\chen\\\\.conda\\\\envs\\\\autoreport\\\\lib\\\\site-packages',\n",
       " 'C:\\\\Users\\\\chen\\\\.conda\\\\envs\\\\autoreport\\\\lib\\\\site-packages\\\\win32',\n",
       " 'C:\\\\Users\\\\chen\\\\.conda\\\\envs\\\\autoreport\\\\lib\\\\site-packages\\\\win32\\\\lib',\n",
       " 'C:\\\\Users\\\\chen\\\\.conda\\\\envs\\\\autoreport\\\\lib\\\\site-packages\\\\Pythonwin']"
      ]
     },
     "execution_count": 31,
     "metadata": {},
     "output_type": "execute_result"
    }
   ],
   "source": [
    "sys.path"
   ]
  },
  {
   "cell_type": "code",
   "execution_count": null,
   "id": "ad4a0fcb",
   "metadata": {},
   "outputs": [],
   "source": []
  },
  {
   "cell_type": "code",
   "execution_count": null,
   "id": "10cc4837",
   "metadata": {},
   "outputs": [],
   "source": []
  },
  {
   "cell_type": "code",
   "execution_count": null,
   "id": "74ae255a",
   "metadata": {},
   "outputs": [],
   "source": []
  },
  {
   "cell_type": "code",
   "execution_count": null,
   "id": "65d14271",
   "metadata": {},
   "outputs": [],
   "source": []
  }
 ],
 "metadata": {
  "kernelspec": {
   "display_name": "Python 3 (ipykernel)",
   "language": "python",
   "name": "python3"
  },
  "language_info": {
   "codemirror_mode": {
    "name": "ipython",
    "version": 3
   },
   "file_extension": ".py",
   "mimetype": "text/x-python",
   "name": "python",
   "nbconvert_exporter": "python",
   "pygments_lexer": "ipython3",
   "version": "3.8.12"
  }
 },
 "nbformat": 4,
 "nbformat_minor": 5
}
