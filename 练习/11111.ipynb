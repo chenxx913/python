{
 "cells": [
  {
   "cell_type": "code",
   "execution_count": 5,
   "id": "91c40ae0",
   "metadata": {},
   "outputs": [],
   "source": [
    "import xlwt"
   ]
  },
  {
   "cell_type": "code",
   "execution_count": 6,
   "id": "02c9c8d0",
   "metadata": {},
   "outputs": [],
   "source": [
    "xlsx = xlwt.Workbook( encoding=\"utf-8\" )"
   ]
  },
  {
   "cell_type": "code",
   "execution_count": 7,
   "id": "b6b2d71e",
   "metadata": {},
   "outputs": [],
   "source": [
    "sheet = xlsx.add_sheet( \"sheet1\", True )"
   ]
  },
  {
   "cell_type": "code",
   "execution_count": 8,
   "id": "83a32cb0",
   "metadata": {},
   "outputs": [],
   "source": [
    "xlsx.save(\"test1.xls\")"
   ]
  },
  {
   "cell_type": "code",
   "execution_count": null,
   "id": "bb613565",
   "metadata": {},
   "outputs": [],
   "source": []
  }
 ],
 "metadata": {
  "kernelspec": {
   "display_name": "Python 3 (ipykernel)",
   "language": "python",
   "name": "python3"
  },
  "language_info": {
   "codemirror_mode": {
    "name": "ipython",
    "version": 3
   },
   "file_extension": ".py",
   "mimetype": "text/x-python",
   "name": "python",
   "nbconvert_exporter": "python",
   "pygments_lexer": "ipython3",
   "version": "3.8.12"
  }
 },
 "nbformat": 4,
 "nbformat_minor": 5
}
