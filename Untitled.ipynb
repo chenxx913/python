{
 "cells": [
  {
   "cell_type": "code",
   "execution_count": 1,
   "id": "c813b7d9",
   "metadata": {},
   "outputs": [],
   "source": [
    "import requests as req"
   ]
  },
  {
   "cell_type": "code",
   "execution_count": null,
   "id": "f41c9ebf",
   "metadata": {},
   "outputs": [],
   "source": [
    "headers = {\n",
    "    \n",
    "    \"Accept\":\"text/html,application/xhtml+xml,application/xml;q=0.9,image/avif,image/webp,*/*;q=0.8\"\n",
    "}"
   ]
  },
  {
   "cell_type": "code",
   "execution_count": null,
   "id": "e5589a1e",
   "metadata": {},
   "outputs": [],
   "source": [
    "proxy = \"127.0.0.1:8080\""
   ]
  },
  {
   "cell_type": "code",
   "execution_count": null,
   "id": "b73a860a",
   "metadata": {},
   "outputs": [],
   "source": [
    "parameter = {}"
   ]
  },
  {
   "cell_type": "code",
   "execution_count": null,
   "id": "595b9348",
   "metadata": {},
   "outputs": [],
   "source": [
    "res = req.get(url=url,data=parameter,headers=headers,proxy=proxy)"
   ]
  },
  {
   "cell_type": "code",
   "execution_count": null,
   "id": "4c7fe986",
   "metadata": {},
   "outputs": [],
   "source": []
  },
  {
   "cell_type": "code",
   "execution_count": null,
   "id": "e7870508",
   "metadata": {},
   "outputs": [],
   "source": []
  },
  {
   "cell_type": "code",
   "execution_count": null,
   "id": "849ca52c",
   "metadata": {},
   "outputs": [],
   "source": []
  },
  {
   "cell_type": "code",
   "execution_count": null,
   "id": "e2faea37",
   "metadata": {},
   "outputs": [],
   "source": []
  },
  {
   "cell_type": "code",
   "execution_count": null,
   "id": "938b0b5a",
   "metadata": {},
   "outputs": [],
   "source": []
  },
  {
   "cell_type": "code",
   "execution_count": null,
   "id": "0e96bdbc",
   "metadata": {},
   "outputs": [],
   "source": []
  }
 ],
 "metadata": {
  "kernelspec": {
   "display_name": "Python 3 (ipykernel)",
   "language": "python",
   "name": "python3"
  },
  "language_info": {
   "codemirror_mode": {
    "name": "ipython",
    "version": 3
   },
   "file_extension": ".py",
   "mimetype": "text/x-python",
   "name": "python",
   "nbconvert_exporter": "python",
   "pygments_lexer": "ipython3",
   "version": "3.8.12"
  }
 },
 "nbformat": 4,
 "nbformat_minor": 5
}
